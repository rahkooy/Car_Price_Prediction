{
 "cells": [
  {
   "cell_type": "markdown",
   "id": "55ea7329",
   "metadata": {},
   "source": [
    "# JSON Validator \n",
    "for corrupted notebooks as a result of merging conflicts..."
   ]
  },
  {
   "cell_type": "code",
   "execution_count": 16,
   "id": "8be633b7",
   "metadata": {},
   "outputs": [
    {
     "name": "stdout",
     "output_type": "stream",
     "text": [
      "The file /home/rahkooy/Car_Price_Prediction/Decision_Tree.ipynb is a valid JSON file.\n"
     ]
    }
   ],
   "source": [
    "import json\n",
    "\n",
    "def validate_json(file_path):\n",
    "    try:\n",
    "        with open(file_path, 'r', encoding='utf-8') as f:\n",
    "            json.load(f)\n",
    "        print(f\"The file {file_path} is a valid JSON file.\")\n",
    "    except json.JSONDecodeError as e:\n",
    "        print(f\"JSONDecodeError: {e}\")\n",
    "    except Exception as e:\n",
    "        print(f\"Error: {e}\")\n",
    "\n",
    "# Replace this path with the path to your notebook file\n",
    "notebook_path = '/home/rahkooy/Car_Price_Prediction/Decision_Tree.ipynb'\n",
    "validate_json(notebook_path)"
   ]
  },
  {
   "cell_type": "code",
   "execution_count": null,
   "id": "9afb7472",
   "metadata": {},
   "outputs": [],
   "source": []
  }
 ],
 "metadata": {
  "kernelspec": {
   "display_name": "Python 3 (ipykernel)",
   "language": "python",
   "name": "python3"
  },
  "language_info": {
   "codemirror_mode": {
    "name": "ipython",
    "version": 3
   },
   "file_extension": ".py",
   "mimetype": "text/x-python",
   "name": "python",
   "nbconvert_exporter": "python",
   "pygments_lexer": "ipython3",
   "version": "3.10.12"
  }
 },
 "nbformat": 4,
 "nbformat_minor": 5
}
