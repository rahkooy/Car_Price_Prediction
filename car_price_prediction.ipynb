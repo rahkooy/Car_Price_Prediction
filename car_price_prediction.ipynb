{
 "cells": [
  {
   "cell_type": "markdown",
   "id": "f399943f",
   "metadata": {},
   "source": [
    "# Price Prediction for second hand cars in Germant"
   ]
  },
  {
   "cell_type": "markdown",
   "id": "b947c6d5",
   "metadata": {},
   "source": [
    "## Steps of the Project:\n",
    "1-EDA (Exploratory Data Analysis)\n",
    "\n",
    "2-Feature Engineering\n",
    "\n",
    "3-Data Preprocessing\n",
    "\n",
    "4-Modeling \n",
    "\n",
    "  4-1-Model Selection\n",
    "  \n",
    "  4-2-Model Evaluation\n",
    "  \n",
    "  4-3-Model Tuning\n",
    "\n",
    "5-Visualization \n",
    "\n",
    "4- Results "
   ]
  },
  {
   "cell_type": "code",
   "execution_count": 363,
   "id": "6fbca6a3",
   "metadata": {},
   "outputs": [],
   "source": [
    "# Importing Libraries\n",
    "\n",
    "import pandas as pd\n",
    "import numpy as np\n",
    "import seaborn as sns\n",
    "import matplotlib.pyplot as plt\n",
    "import mpl_toolkits\n",
    "%matplotlib inline\n",
    "from sklearn.model_selection import train_test_split\n",
    "from sklearn.linear_model import LinearRegression\n",
    "from sklearn.metrics import mean_squared_error"
   ]
  },
  {
   "cell_type": "markdown",
   "id": "cb8c9531",
   "metadata": {},
   "source": [
    "## 1-EDA (Exploratory Data Analysis)"
   ]
  },
  {
   "cell_type": "code",
   "execution_count": 364,
   "id": "b9d31ae4",
   "metadata": {},
   "outputs": [],
   "source": [
    "# Loading Dataset\n",
    "df = pd.read_csv('car_data.csv')\n",
    "orignal_df = df\n",
    "index = df.columns[0]"
   ]
  },
  {
   "cell_type": "code",
   "execution_count": 365,
   "id": "f2dbe517",
   "metadata": {},
   "outputs": [
    {
     "data": {
      "text/html": [
       "<div>\n",
       "<style scoped>\n",
       "    .dataframe tbody tr th:only-of-type {\n",
       "        vertical-align: middle;\n",
       "    }\n",
       "\n",
       "    .dataframe tbody tr th {\n",
       "        vertical-align: top;\n",
       "    }\n",
       "\n",
       "    .dataframe thead th {\n",
       "        text-align: right;\n",
       "    }\n",
       "</style>\n",
       "<table border=\"1\" class=\"dataframe\">\n",
       "  <thead>\n",
       "    <tr style=\"text-align: right;\">\n",
       "      <th></th>\n",
       "      <th>Unnamed: 0</th>\n",
       "      <th>brand</th>\n",
       "      <th>model</th>\n",
       "      <th>color</th>\n",
       "      <th>registration_date</th>\n",
       "      <th>year</th>\n",
       "      <th>price_in_euro</th>\n",
       "      <th>power_kw</th>\n",
       "      <th>power_ps</th>\n",
       "      <th>transmission_type</th>\n",
       "      <th>fuel_type</th>\n",
       "      <th>fuel_consumption_l_100km</th>\n",
       "      <th>fuel_consumption_g_km</th>\n",
       "      <th>mileage_in_km</th>\n",
       "      <th>offer_description</th>\n",
       "    </tr>\n",
       "  </thead>\n",
       "  <tbody>\n",
       "    <tr>\n",
       "      <th>0</th>\n",
       "      <td>0</td>\n",
       "      <td>alfa-romeo</td>\n",
       "      <td>Alfa Romeo GTV</td>\n",
       "      <td>red</td>\n",
       "      <td>10/1995</td>\n",
       "      <td>1995</td>\n",
       "      <td>1300</td>\n",
       "      <td>148</td>\n",
       "      <td>201</td>\n",
       "      <td>Manual</td>\n",
       "      <td>Petrol</td>\n",
       "      <td>10,9 l/100 km</td>\n",
       "      <td>260 g/km</td>\n",
       "      <td>160500.0</td>\n",
       "      <td>2.0 V6 TB</td>\n",
       "    </tr>\n",
       "    <tr>\n",
       "      <th>1</th>\n",
       "      <td>1</td>\n",
       "      <td>alfa-romeo</td>\n",
       "      <td>Alfa Romeo 164</td>\n",
       "      <td>black</td>\n",
       "      <td>02/1995</td>\n",
       "      <td>1995</td>\n",
       "      <td>24900</td>\n",
       "      <td>191</td>\n",
       "      <td>260</td>\n",
       "      <td>Manual</td>\n",
       "      <td>Petrol</td>\n",
       "      <td>NaN</td>\n",
       "      <td>- (g/km)</td>\n",
       "      <td>190000.0</td>\n",
       "      <td>Q4 Allrad, 3.2L GTA</td>\n",
       "    </tr>\n",
       "    <tr>\n",
       "      <th>2</th>\n",
       "      <td>2</td>\n",
       "      <td>alfa-romeo</td>\n",
       "      <td>Alfa Romeo Spider</td>\n",
       "      <td>black</td>\n",
       "      <td>02/1995</td>\n",
       "      <td>1995</td>\n",
       "      <td>5900</td>\n",
       "      <td>110</td>\n",
       "      <td>150</td>\n",
       "      <td>Unknown</td>\n",
       "      <td>Petrol</td>\n",
       "      <td>NaN</td>\n",
       "      <td>- (g/km)</td>\n",
       "      <td>129000.0</td>\n",
       "      <td>ALFA ROME 916</td>\n",
       "    </tr>\n",
       "    <tr>\n",
       "      <th>3</th>\n",
       "      <td>3</td>\n",
       "      <td>alfa-romeo</td>\n",
       "      <td>Alfa Romeo Spider</td>\n",
       "      <td>black</td>\n",
       "      <td>07/1995</td>\n",
       "      <td>1995</td>\n",
       "      <td>4900</td>\n",
       "      <td>110</td>\n",
       "      <td>150</td>\n",
       "      <td>Manual</td>\n",
       "      <td>Petrol</td>\n",
       "      <td>9,5 l/100 km</td>\n",
       "      <td>225 g/km</td>\n",
       "      <td>189500.0</td>\n",
       "      <td>2.0 16V Twin Spark L</td>\n",
       "    </tr>\n",
       "    <tr>\n",
       "      <th>4</th>\n",
       "      <td>4</td>\n",
       "      <td>alfa-romeo</td>\n",
       "      <td>Alfa Romeo 164</td>\n",
       "      <td>red</td>\n",
       "      <td>11/1996</td>\n",
       "      <td>1996</td>\n",
       "      <td>17950</td>\n",
       "      <td>132</td>\n",
       "      <td>179</td>\n",
       "      <td>Manual</td>\n",
       "      <td>Petrol</td>\n",
       "      <td>7,2 l/100 km</td>\n",
       "      <td>- (g/km)</td>\n",
       "      <td>96127.0</td>\n",
       "      <td>3.0i Super V6, absoluter Topzustand !</td>\n",
       "    </tr>\n",
       "    <tr>\n",
       "      <th>...</th>\n",
       "      <td>...</td>\n",
       "      <td>...</td>\n",
       "      <td>...</td>\n",
       "      <td>...</td>\n",
       "      <td>...</td>\n",
       "      <td>...</td>\n",
       "      <td>...</td>\n",
       "      <td>...</td>\n",
       "      <td>...</td>\n",
       "      <td>...</td>\n",
       "      <td>...</td>\n",
       "      <td>...</td>\n",
       "      <td>...</td>\n",
       "      <td>...</td>\n",
       "      <td>...</td>\n",
       "    </tr>\n",
       "    <tr>\n",
       "      <th>251074</th>\n",
       "      <td>251074</td>\n",
       "      <td>volvo</td>\n",
       "      <td>Volvo XC40</td>\n",
       "      <td>white</td>\n",
       "      <td>04/2023</td>\n",
       "      <td>2023</td>\n",
       "      <td>57990</td>\n",
       "      <td>192</td>\n",
       "      <td>261</td>\n",
       "      <td>Automatic</td>\n",
       "      <td>Hybrid</td>\n",
       "      <td>NaN</td>\n",
       "      <td>43 km Reichweite</td>\n",
       "      <td>1229.0</td>\n",
       "      <td>Plus Bright T5 Recharge Intellisafe*Surround+P...</td>\n",
       "    </tr>\n",
       "    <tr>\n",
       "      <th>251075</th>\n",
       "      <td>251075</td>\n",
       "      <td>volvo</td>\n",
       "      <td>Volvo XC90</td>\n",
       "      <td>white</td>\n",
       "      <td>03/2023</td>\n",
       "      <td>2023</td>\n",
       "      <td>89690</td>\n",
       "      <td>173</td>\n",
       "      <td>235</td>\n",
       "      <td>Automatic</td>\n",
       "      <td>Diesel</td>\n",
       "      <td>7,6 l/100 km</td>\n",
       "      <td>202 g/km</td>\n",
       "      <td>4900.0</td>\n",
       "      <td>B5 AWD Diesel Ultimate Dark 7-Sitzer Massage F...</td>\n",
       "    </tr>\n",
       "    <tr>\n",
       "      <th>251076</th>\n",
       "      <td>251076</td>\n",
       "      <td>volvo</td>\n",
       "      <td>Volvo V60</td>\n",
       "      <td>white</td>\n",
       "      <td>05/2023</td>\n",
       "      <td>2023</td>\n",
       "      <td>61521</td>\n",
       "      <td>145</td>\n",
       "      <td>197</td>\n",
       "      <td>Automatic</td>\n",
       "      <td>Diesel</td>\n",
       "      <td>4,7 l/100 km</td>\n",
       "      <td>125 g/km</td>\n",
       "      <td>1531.0</td>\n",
       "      <td>B4 D Plus Dark 145 kW, 5-türig (Diesel)</td>\n",
       "    </tr>\n",
       "    <tr>\n",
       "      <th>251077</th>\n",
       "      <td>251077</td>\n",
       "      <td>volvo</td>\n",
       "      <td>Volvo XC40</td>\n",
       "      <td>white</td>\n",
       "      <td>05/2023</td>\n",
       "      <td>2023</td>\n",
       "      <td>57890</td>\n",
       "      <td>132</td>\n",
       "      <td>179</td>\n",
       "      <td>Automatic</td>\n",
       "      <td>Hybrid</td>\n",
       "      <td>NaN</td>\n",
       "      <td>45 km Reichweite</td>\n",
       "      <td>1500.0</td>\n",
       "      <td>T5 Recharge Plus Dark *Standh*360°*beh.Lenk</td>\n",
       "    </tr>\n",
       "    <tr>\n",
       "      <th>251078</th>\n",
       "      <td>251078</td>\n",
       "      <td>volvo</td>\n",
       "      <td>Volvo XC40</td>\n",
       "      <td>gold</td>\n",
       "      <td>03/2023</td>\n",
       "      <td>2023</td>\n",
       "      <td>52900</td>\n",
       "      <td>160</td>\n",
       "      <td>218</td>\n",
       "      <td>Automatic</td>\n",
       "      <td>Electric</td>\n",
       "      <td>NaN</td>\n",
       "      <td>438 km Reichweite</td>\n",
       "      <td>50.0</td>\n",
       "      <td>Ultimate Recharge Twin Motor AHK GJR</td>\n",
       "    </tr>\n",
       "  </tbody>\n",
       "</table>\n",
       "<p>251079 rows × 15 columns</p>\n",
       "</div>"
      ],
      "text/plain": [
       "        Unnamed: 0       brand              model  color registration_date  \\\n",
       "0                0  alfa-romeo     Alfa Romeo GTV    red           10/1995   \n",
       "1                1  alfa-romeo     Alfa Romeo 164  black           02/1995   \n",
       "2                2  alfa-romeo  Alfa Romeo Spider  black           02/1995   \n",
       "3                3  alfa-romeo  Alfa Romeo Spider  black           07/1995   \n",
       "4                4  alfa-romeo     Alfa Romeo 164    red           11/1996   \n",
       "...            ...         ...                ...    ...               ...   \n",
       "251074      251074       volvo         Volvo XC40  white           04/2023   \n",
       "251075      251075       volvo         Volvo XC90  white           03/2023   \n",
       "251076      251076       volvo          Volvo V60  white           05/2023   \n",
       "251077      251077       volvo         Volvo XC40  white           05/2023   \n",
       "251078      251078       volvo         Volvo XC40   gold           03/2023   \n",
       "\n",
       "        year price_in_euro power_kw power_ps transmission_type fuel_type  \\\n",
       "0       1995          1300      148      201            Manual    Petrol   \n",
       "1       1995         24900      191      260            Manual    Petrol   \n",
       "2       1995          5900      110      150           Unknown    Petrol   \n",
       "3       1995          4900      110      150            Manual    Petrol   \n",
       "4       1996         17950      132      179            Manual    Petrol   \n",
       "...      ...           ...      ...      ...               ...       ...   \n",
       "251074  2023         57990      192      261         Automatic    Hybrid   \n",
       "251075  2023         89690      173      235         Automatic    Diesel   \n",
       "251076  2023         61521      145      197         Automatic    Diesel   \n",
       "251077  2023         57890      132      179         Automatic    Hybrid   \n",
       "251078  2023         52900      160      218         Automatic  Electric   \n",
       "\n",
       "       fuel_consumption_l_100km fuel_consumption_g_km  mileage_in_km  \\\n",
       "0                 10,9 l/100 km              260 g/km       160500.0   \n",
       "1                           NaN              - (g/km)       190000.0   \n",
       "2                           NaN              - (g/km)       129000.0   \n",
       "3                  9,5 l/100 km              225 g/km       189500.0   \n",
       "4                  7,2 l/100 km              - (g/km)        96127.0   \n",
       "...                         ...                   ...            ...   \n",
       "251074                      NaN      43 km Reichweite         1229.0   \n",
       "251075             7,6 l/100 km              202 g/km         4900.0   \n",
       "251076             4,7 l/100 km              125 g/km         1531.0   \n",
       "251077                      NaN      45 km Reichweite         1500.0   \n",
       "251078                      NaN     438 km Reichweite           50.0   \n",
       "\n",
       "                                        offer_description  \n",
       "0                                               2.0 V6 TB  \n",
       "1                                     Q4 Allrad, 3.2L GTA  \n",
       "2                                           ALFA ROME 916  \n",
       "3                                    2.0 16V Twin Spark L  \n",
       "4                   3.0i Super V6, absoluter Topzustand !  \n",
       "...                                                   ...  \n",
       "251074  Plus Bright T5 Recharge Intellisafe*Surround+P...  \n",
       "251075  B5 AWD Diesel Ultimate Dark 7-Sitzer Massage F...  \n",
       "251076            B4 D Plus Dark 145 kW, 5-türig (Diesel)  \n",
       "251077        T5 Recharge Plus Dark *Standh*360°*beh.Lenk  \n",
       "251078               Ultimate Recharge Twin Motor AHK GJR  \n",
       "\n",
       "[251079 rows x 15 columns]"
      ]
     },
     "execution_count": 365,
     "metadata": {},
     "output_type": "execute_result"
    }
   ],
   "source": [
    "df"
   ]
  },
  {
   "cell_type": "code",
   "execution_count": 366,
   "id": "8416de6d",
   "metadata": {},
   "outputs": [
    {
     "data": {
      "text/plain": [
       "<bound method DataFrame.info of         Unnamed: 0       brand              model  color registration_date  \\\n",
       "0                0  alfa-romeo     Alfa Romeo GTV    red           10/1995   \n",
       "1                1  alfa-romeo     Alfa Romeo 164  black           02/1995   \n",
       "2                2  alfa-romeo  Alfa Romeo Spider  black           02/1995   \n",
       "3                3  alfa-romeo  Alfa Romeo Spider  black           07/1995   \n",
       "4                4  alfa-romeo     Alfa Romeo 164    red           11/1996   \n",
       "...            ...         ...                ...    ...               ...   \n",
       "251074      251074       volvo         Volvo XC40  white           04/2023   \n",
       "251075      251075       volvo         Volvo XC90  white           03/2023   \n",
       "251076      251076       volvo          Volvo V60  white           05/2023   \n",
       "251077      251077       volvo         Volvo XC40  white           05/2023   \n",
       "251078      251078       volvo         Volvo XC40   gold           03/2023   \n",
       "\n",
       "        year price_in_euro power_kw power_ps transmission_type fuel_type  \\\n",
       "0       1995          1300      148      201            Manual    Petrol   \n",
       "1       1995         24900      191      260            Manual    Petrol   \n",
       "2       1995          5900      110      150           Unknown    Petrol   \n",
       "3       1995          4900      110      150            Manual    Petrol   \n",
       "4       1996         17950      132      179            Manual    Petrol   \n",
       "...      ...           ...      ...      ...               ...       ...   \n",
       "251074  2023         57990      192      261         Automatic    Hybrid   \n",
       "251075  2023         89690      173      235         Automatic    Diesel   \n",
       "251076  2023         61521      145      197         Automatic    Diesel   \n",
       "251077  2023         57890      132      179         Automatic    Hybrid   \n",
       "251078  2023         52900      160      218         Automatic  Electric   \n",
       "\n",
       "       fuel_consumption_l_100km fuel_consumption_g_km  mileage_in_km  \\\n",
       "0                 10,9 l/100 km              260 g/km       160500.0   \n",
       "1                           NaN              - (g/km)       190000.0   \n",
       "2                           NaN              - (g/km)       129000.0   \n",
       "3                  9,5 l/100 km              225 g/km       189500.0   \n",
       "4                  7,2 l/100 km              - (g/km)        96127.0   \n",
       "...                         ...                   ...            ...   \n",
       "251074                      NaN      43 km Reichweite         1229.0   \n",
       "251075             7,6 l/100 km              202 g/km         4900.0   \n",
       "251076             4,7 l/100 km              125 g/km         1531.0   \n",
       "251077                      NaN      45 km Reichweite         1500.0   \n",
       "251078                      NaN     438 km Reichweite           50.0   \n",
       "\n",
       "                                        offer_description  \n",
       "0                                               2.0 V6 TB  \n",
       "1                                     Q4 Allrad, 3.2L GTA  \n",
       "2                                           ALFA ROME 916  \n",
       "3                                    2.0 16V Twin Spark L  \n",
       "4                   3.0i Super V6, absoluter Topzustand !  \n",
       "...                                                   ...  \n",
       "251074  Plus Bright T5 Recharge Intellisafe*Surround+P...  \n",
       "251075  B5 AWD Diesel Ultimate Dark 7-Sitzer Massage F...  \n",
       "251076            B4 D Plus Dark 145 kW, 5-türig (Diesel)  \n",
       "251077        T5 Recharge Plus Dark *Standh*360°*beh.Lenk  \n",
       "251078               Ultimate Recharge Twin Motor AHK GJR  \n",
       "\n",
       "[251079 rows x 15 columns]>"
      ]
     },
     "execution_count": 366,
     "metadata": {},
     "output_type": "execute_result"
    }
   ],
   "source": [
    "df.info"
   ]
  },
  {
   "cell_type": "code",
   "execution_count": 367,
   "id": "75b78829",
   "metadata": {},
   "outputs": [
    {
     "data": {
      "text/plain": [
       "<bound method NDFrame.describe of         Unnamed: 0       brand              model  color registration_date  \\\n",
       "0                0  alfa-romeo     Alfa Romeo GTV    red           10/1995   \n",
       "1                1  alfa-romeo     Alfa Romeo 164  black           02/1995   \n",
       "2                2  alfa-romeo  Alfa Romeo Spider  black           02/1995   \n",
       "3                3  alfa-romeo  Alfa Romeo Spider  black           07/1995   \n",
       "4                4  alfa-romeo     Alfa Romeo 164    red           11/1996   \n",
       "...            ...         ...                ...    ...               ...   \n",
       "251074      251074       volvo         Volvo XC40  white           04/2023   \n",
       "251075      251075       volvo         Volvo XC90  white           03/2023   \n",
       "251076      251076       volvo          Volvo V60  white           05/2023   \n",
       "251077      251077       volvo         Volvo XC40  white           05/2023   \n",
       "251078      251078       volvo         Volvo XC40   gold           03/2023   \n",
       "\n",
       "        year price_in_euro power_kw power_ps transmission_type fuel_type  \\\n",
       "0       1995          1300      148      201            Manual    Petrol   \n",
       "1       1995         24900      191      260            Manual    Petrol   \n",
       "2       1995          5900      110      150           Unknown    Petrol   \n",
       "3       1995          4900      110      150            Manual    Petrol   \n",
       "4       1996         17950      132      179            Manual    Petrol   \n",
       "...      ...           ...      ...      ...               ...       ...   \n",
       "251074  2023         57990      192      261         Automatic    Hybrid   \n",
       "251075  2023         89690      173      235         Automatic    Diesel   \n",
       "251076  2023         61521      145      197         Automatic    Diesel   \n",
       "251077  2023         57890      132      179         Automatic    Hybrid   \n",
       "251078  2023         52900      160      218         Automatic  Electric   \n",
       "\n",
       "       fuel_consumption_l_100km fuel_consumption_g_km  mileage_in_km  \\\n",
       "0                 10,9 l/100 km              260 g/km       160500.0   \n",
       "1                           NaN              - (g/km)       190000.0   \n",
       "2                           NaN              - (g/km)       129000.0   \n",
       "3                  9,5 l/100 km              225 g/km       189500.0   \n",
       "4                  7,2 l/100 km              - (g/km)        96127.0   \n",
       "...                         ...                   ...            ...   \n",
       "251074                      NaN      43 km Reichweite         1229.0   \n",
       "251075             7,6 l/100 km              202 g/km         4900.0   \n",
       "251076             4,7 l/100 km              125 g/km         1531.0   \n",
       "251077                      NaN      45 km Reichweite         1500.0   \n",
       "251078                      NaN     438 km Reichweite           50.0   \n",
       "\n",
       "                                        offer_description  \n",
       "0                                               2.0 V6 TB  \n",
       "1                                     Q4 Allrad, 3.2L GTA  \n",
       "2                                           ALFA ROME 916  \n",
       "3                                    2.0 16V Twin Spark L  \n",
       "4                   3.0i Super V6, absoluter Topzustand !  \n",
       "...                                                   ...  \n",
       "251074  Plus Bright T5 Recharge Intellisafe*Surround+P...  \n",
       "251075  B5 AWD Diesel Ultimate Dark 7-Sitzer Massage F...  \n",
       "251076            B4 D Plus Dark 145 kW, 5-türig (Diesel)  \n",
       "251077        T5 Recharge Plus Dark *Standh*360°*beh.Lenk  \n",
       "251078               Ultimate Recharge Twin Motor AHK GJR  \n",
       "\n",
       "[251079 rows x 15 columns]>"
      ]
     },
     "execution_count": 367,
     "metadata": {},
     "output_type": "execute_result"
    }
   ],
   "source": [
    "df.describe"
   ]
  },
  {
   "cell_type": "code",
   "execution_count": 368,
   "id": "ce73601a",
   "metadata": {},
   "outputs": [
    {
     "name": "stdout",
     "output_type": "stream",
     "text": [
      "there are 47 unique brands in the dataset.\n",
      "the brands are: \n",
      "alfa-romeo\n",
      "aston-martin\n",
      "audi\n",
      "bentley\n",
      "bmw\n",
      "cadillac\n",
      "chevrolet\n",
      "chrysler\n",
      "citroen\n",
      "dacia\n",
      "daewoo\n",
      "daihatsu\n",
      "dodge\n",
      "ferrari\n",
      "fiat\n",
      "ford\n",
      "honda\n",
      "hyundai\n",
      "infiniti\n",
      "isuzu\n",
      "jaguar\n",
      "jeep\n",
      "kia\n",
      "lada\n",
      "lamborghini\n",
      "lancia\n",
      "land-rover\n",
      "maserati\n",
      "mazda\n",
      "mercedes-benz\n",
      "mini\n",
      "mitsubishi\n",
      "nissan\n",
      "opel\n",
      "peugeot\n",
      "porsche\n",
      "proton\n",
      "renault\n",
      "rover\n",
      "saab\n",
      "seat\n",
      "skoda\n",
      "smart\n",
      "ssangyong\n",
      "toyota\n",
      "volkswagen\n",
      "volvo\n",
      "\n",
      "Number of rows for each brand:\n",
      "volkswagen       33281\n",
      "mercedes-benz    27226\n",
      "audi             21161\n",
      "opel             20388\n",
      "bmw              19810\n",
      "ford             18790\n",
      "skoda            14039\n",
      "seat             11949\n",
      "renault           8694\n",
      "toyota            8228\n",
      "hyundai           6989\n",
      "peugeot           5848\n",
      "kia               5734\n",
      "fiat              5039\n",
      "mini              4295\n",
      "mazda             4211\n",
      "volvo             4164\n",
      "citroen           4083\n",
      "porsche           3958\n",
      "nissan            3784\n",
      "dacia             3367\n",
      "land-rover        3073\n",
      "jeep              1749\n",
      "smart             1643\n",
      "alfa-romeo        1437\n",
      "jaguar            1398\n",
      "mitsubishi         934\n",
      "honda              785\n",
      "maserati           698\n",
      "dodge              669\n",
      "ferrari            590\n",
      "bentley            541\n",
      "lamborghini        361\n",
      "ssangyong          342\n",
      "aston-martin       277\n",
      "saab               233\n",
      "isuzu              206\n",
      "daihatsu           204\n",
      "chevrolet          191\n",
      "lada               191\n",
      "cadillac           157\n",
      "infiniti           112\n",
      "lancia             105\n",
      "daewoo              61\n",
      "rover               51\n",
      "chrysler            32\n",
      "proton               1\n",
      "Name: brand, dtype: int64\n"
     ]
    }
   ],
   "source": [
    "# As an example, we extract the unique values from brand column and counting rows for each brand\n",
    "unique_brands = df['brand'].unique()\n",
    "num_unique_brands = len(unique_brands)\n",
    "print(f'there are {num_unique_brands} unique brands in the dataset.')\n",
    "print('the brands are: ')\n",
    "for brand in unique_brands:\n",
    "    print(brand)\n",
    "print('\\nNumber of rows for each brand:')\n",
    "brand_counts = df['brand'].value_counts()\n",
    "print(brand_counts)"
   ]
  },
  {
   "cell_type": "code",
   "execution_count": 369,
   "id": "ea963e1d",
   "metadata": {},
   "outputs": [
    {
     "data": {
      "text/plain": [
       "Index(['Unnamed: 0', 'brand', 'model', 'color', 'registration_date', 'year',\n",
       "       'price_in_euro', 'power_kw', 'power_ps', 'transmission_type',\n",
       "       'fuel_type', 'fuel_consumption_l_100km', 'fuel_consumption_g_km',\n",
       "       'mileage_in_km', 'offer_description'],\n",
       "      dtype='object')"
      ]
     },
     "execution_count": 369,
     "metadata": {},
     "output_type": "execute_result"
    }
   ],
   "source": [
    "# listing features\n",
    "df.columns"
   ]
  },
  {
   "cell_type": "code",
   "execution_count": 370,
   "id": "7c5948f1",
   "metadata": {},
   "outputs": [
    {
     "data": {
      "text/plain": [
       "Index(['brand', 'model', 'color', 'registration_date', 'year', 'price',\n",
       "       'power_kw', 'power_ps', 'transmission_type', 'fuel_type',\n",
       "       'fuel_consumption_l_100km', 'fuel_consumption_g_km', 'mileage_in_km',\n",
       "       'offer_description'],\n",
       "      dtype='object')"
      ]
     },
     "execution_count": 370,
     "metadata": {},
     "output_type": "execute_result"
    }
   ],
   "source": [
    "# renaming and dropping some columns \n",
    "df.rename(columns={\"price_in_euro\": \"price\"}, inplace=True)\n",
    "df.drop(columns=['Unnamed: 0'], inplace=True)\n",
    "df.columns"
   ]
  },
  {
   "cell_type": "code",
   "execution_count": 371,
   "id": "6a46f907",
   "metadata": {
    "scrolled": true
   },
   "outputs": [
    {
     "name": "stdout",
     "output_type": "stream",
     "text": [
      "['year', 'price', 'power_kw', 'fuel_consumption_g_km', 'mileage_in_km'] <class 'list'>\n"
     ]
    }
   ],
   "source": [
    "\"\"\"we select the following features w numerical values\n",
    "to be considered against the price\"\"\"\n",
    "numerical_cols = ['year','price','power_kw', 'fuel_consumption_g_km',\n",
    "       'mileage_in_km'] \n",
    "print(numerical_cols, type(numerical_cols))"
   ]
  },
  {
   "cell_type": "code",
   "execution_count": 372,
   "id": "6b95d39c",
   "metadata": {},
   "outputs": [],
   "source": [
    "\"\"\"Defining list of categorical features\"\"\"\n",
    "categorical_cols = ['brand', 'model']"
   ]
  },
  {
   "cell_type": "code",
   "execution_count": 373,
   "id": "d29ce692",
   "metadata": {},
   "outputs": [
    {
     "name": "stdout",
     "output_type": "stream",
     "text": [
      "['year', 'price', 'power_kw', 'fuel_consumption_g_km', 'mileage_in_km', 'brand', 'model'] <class 'list'>\n"
     ]
    }
   ],
   "source": [
    "selected_cols = numerical_cols + categorical_cols\n",
    "print(selected_cols, type(selected_cols))"
   ]
  },
  {
   "cell_type": "code",
   "execution_count": 374,
   "id": "dec99eb6",
   "metadata": {},
   "outputs": [
    {
     "name": "stdout",
     "output_type": "stream",
     "text": [
      "\n",
      "Missing values:\n",
      "year 0 object 0.0\n",
      "price 0 object 0.0\n",
      "power_kw 134 object 0.0005336965656227721\n",
      "fuel_consumption_g_km 0 object 0.0\n",
      "mileage_in_km 152 float64 0.000605387149064637\n",
      "brand 0 object 0.0\n",
      "model 0 object 0.0\n"
     ]
    }
   ],
   "source": [
    "# Check for missing values in selected features and their ratio to total number of cars\n",
    "def check_missing(df):\n",
    "    print(\"\\nMissing values:\")\n",
    "    for x in selected_cols:\n",
    "        miss_count = df[x].isnull().sum()\n",
    "        print(x, miss_count, df[x].dtype, miss_count/len(df[x]))\n",
    "        \n",
    "check_missing(df)"
   ]
  },
  {
   "cell_type": "code",
   "execution_count": 375,
   "id": "cf8b2117",
   "metadata": {},
   "outputs": [
    {
     "name": "stdout",
     "output_type": "stream",
     "text": [
      "total number of listed cars after droppping missing values:  251079\n",
      "\n",
      "Missing values:\n",
      "year 0 object 0.0\n",
      "price 0 object 0.0\n",
      "power_kw 0 object 0.0\n",
      "fuel_consumption_g_km 0 object 0.0\n",
      "mileage_in_km 0 float64 0.0\n",
      "brand 0 object 0.0\n",
      "model 0 object 0.0\n",
      "total number of listed cars after droppping missing values:  223836\n"
     ]
    }
   ],
   "source": [
    "# since there are only very few missing values, we just drop them\n",
    "print('total number of listed cars after droppping missing values: ', len(df))\n",
    "\n",
    "df.dropna(inplace=True)\n",
    "check_missing(df)\n",
    "\n",
    "print('total number of listed cars after droppping missing values: ', len(df))"
   ]
  },
  {
   "cell_type": "code",
   "execution_count": 376,
   "id": "cfc92ee3",
   "metadata": {},
   "outputs": [
    {
     "name": "stdout",
     "output_type": "stream",
     "text": [
      "Year column values:\n",
      "['1995' '1996' '1997' '1998' '1999' '2000' '2001' '2002' '2003' '2004'\n",
      " '2005' '2006' '2007' '2008' '2009' '2010' '2011' '2012' '2013' '2014'\n",
      " '2015' '2016' '2017' '2018' '2019' '2020' '2021' '2022' '2023' 'Petrol'\n",
      " 'Diesel' 'Manual' '04/2006' 'LPG' 'Hybrid' '03/2015' '39.900 km'\n",
      " '18.990 km' '05/2021' 'Automatic' '11/2013' 'CNG']\n"
     ]
    }
   ],
   "source": [
    "# cleaning column year as it has irrelated values\n",
    "print('Year column values:')\n",
    "print(df['year'].unique())"
   ]
  },
  {
   "cell_type": "code",
   "execution_count": 377,
   "id": "9a3d2b8c",
   "metadata": {},
   "outputs": [
    {
     "name": "stdout",
     "output_type": "stream",
     "text": [
      "['1995' '1996' '1997' '1998' '1999' '2000' '2001' '2002' '2003' '2004'\n",
      " '2005' '2006' '2007' '2008' '2009' '2010' '2011' '2012' '2013' '2014'\n",
      " '2015' '2016' '2017' '2018' '2019' '2020' '2021' '2022' '2023']\n"
     ]
    }
   ],
   "source": [
    "\"\"\"Based on above, one has to filter years out of the first 29 \n",
    "enetries coveriing 1995-2023:\n",
    "\"\"\"\n",
    "tobefiltered = df['year'].unique()[:29]\n",
    "newfilter = []\n",
    "for i in range(df.shape[0]):\n",
    "    newfilter.append(df['year'].iloc[i] in tobefiltered)\n",
    "    \n",
    "df = df[newfilter]\n",
    "print(df['year'].unique())"
   ]
  },
  {
   "cell_type": "code",
   "execution_count": 378,
   "id": "829f4f8b",
   "metadata": {},
   "outputs": [
    {
     "name": "stdout",
     "output_type": "stream",
     "text": [
      "223733\n",
      "29\n",
      "ratio of remaining cars after dropping redundant year value:  0.9995398416697939\n"
     ]
    }
   ],
   "source": [
    "print(len(df['year']))\n",
    "print(len(df['year'].unique()))\n",
    "print('ratio of remaining cars after dropping redundant year value: ', len(df)/len(orignal_df))"
   ]
  },
  {
   "cell_type": "markdown",
   "id": "a275685d",
   "metadata": {},
   "source": [
    "The above ratio shows that there were few cars with redundant year value, so dropping them has minor affect on the number of the database. "
   ]
  },
  {
   "cell_type": "code",
   "execution_count": 379,
   "id": "14f3890d",
   "metadata": {
    "scrolled": true
   },
   "outputs": [
    {
     "name": "stderr",
     "output_type": "stream",
     "text": [
      "/tmp/ipykernel_15125/97314634.py:2: SettingWithCopyWarning: \n",
      "A value is trying to be set on a copy of a slice from a DataFrame.\n",
      "Try using .loc[row_indexer,col_indexer] = value instead\n",
      "\n",
      "See the caveats in the documentation: https://pandas.pydata.org/pandas-docs/stable/user_guide/indexing.html#returning-a-view-versus-a-copy\n",
      "  df['price'] = df['price'].astype(int)\n",
      "/tmp/ipykernel_15125/97314634.py:3: SettingWithCopyWarning: \n",
      "A value is trying to be set on a copy of a slice from a DataFrame.\n",
      "Try using .loc[row_indexer,col_indexer] = value instead\n",
      "\n",
      "See the caveats in the documentation: https://pandas.pydata.org/pandas-docs/stable/user_guide/indexing.html#returning-a-view-versus-a-copy\n",
      "  df['power_kw'] = df['power_kw'].astype(float)\n",
      "/tmp/ipykernel_15125/97314634.py:4: SettingWithCopyWarning: \n",
      "A value is trying to be set on a copy of a slice from a DataFrame.\n",
      "Try using .loc[row_indexer,col_indexer] = value instead\n",
      "\n",
      "See the caveats in the documentation: https://pandas.pydata.org/pandas-docs/stable/user_guide/indexing.html#returning-a-view-versus-a-copy\n",
      "  df['mileage_in_km'] = df['mileage_in_km'].astype(float)\n",
      "/tmp/ipykernel_15125/97314634.py:5: SettingWithCopyWarning: \n",
      "A value is trying to be set on a copy of a slice from a DataFrame.\n",
      "Try using .loc[row_indexer,col_indexer] = value instead\n",
      "\n",
      "See the caveats in the documentation: https://pandas.pydata.org/pandas-docs/stable/user_guide/indexing.html#returning-a-view-versus-a-copy\n",
      "  df['year'] = df['year'].astype(int)\n"
     ]
    }
   ],
   "source": [
    "# converting types of several columns into numerical\n",
    "df['price'] = df['price'].astype(int)\n",
    "df['power_kw'] = df['power_kw'].astype(float)\n",
    "df['mileage_in_km'] = df['mileage_in_km'].astype(float)\n",
    "df['year'] = df['year'].astype(int)"
   ]
  },
  {
   "cell_type": "code",
   "execution_count": 382,
   "id": "59b2a773",
   "metadata": {},
   "outputs": [
    {
     "name": "stdout",
     "output_type": "stream",
     "text": [
      "0         1995\n",
      "3         1995\n",
      "4         1996\n",
      "5         1996\n",
      "6         1996\n",
      "          ... \n",
      "251071    2023\n",
      "251072    2023\n",
      "251073    2023\n",
      "251075    2023\n",
      "251076    2023\n",
      "Name: year, Length: 223733, dtype: int64 int64\n",
      "0          1300\n",
      "3          4900\n",
      "4         17950\n",
      "5          7900\n",
      "6          3500\n",
      "          ...  \n",
      "251071    81350\n",
      "251072    55400\n",
      "251073    54500\n",
      "251075    89690\n",
      "251076    61521\n",
      "Name: price, Length: 223733, dtype: int64 int64\n",
      "0         148.0\n",
      "3         110.0\n",
      "4         132.0\n",
      "5         110.0\n",
      "6         110.0\n",
      "          ...  \n",
      "251071    228.0\n",
      "251072    145.0\n",
      "251073    145.0\n",
      "251075    173.0\n",
      "251076    145.0\n",
      "Name: power_kw, Length: 223733, dtype: float64 float64\n",
      "0         260 g/km\n",
      "3         225 g/km\n",
      "4         - (g/km)\n",
      "5         225 g/km\n",
      "6         210 g/km\n",
      "            ...   \n",
      "251071    167 g/km\n",
      "251072    142 g/km\n",
      "251073    142 g/km\n",
      "251075    202 g/km\n",
      "251076    125 g/km\n",
      "Name: fuel_consumption_g_km, Length: 223733, dtype: object object\n",
      "0         160500.0\n",
      "3         189500.0\n",
      "4          96127.0\n",
      "5          47307.0\n",
      "6         230000.0\n",
      "            ...   \n",
      "251071        60.0\n",
      "251072      5000.0\n",
      "251073      5900.0\n",
      "251075      4900.0\n",
      "251076      1531.0\n",
      "Name: mileage_in_km, Length: 223733, dtype: float64 float64\n",
      "0         alfa-romeo\n",
      "3         alfa-romeo\n",
      "4         alfa-romeo\n",
      "5         alfa-romeo\n",
      "6         alfa-romeo\n",
      "             ...    \n",
      "251071         volvo\n",
      "251072         volvo\n",
      "251073         volvo\n",
      "251075         volvo\n",
      "251076         volvo\n",
      "Name: brand, Length: 223733, dtype: object object\n",
      "0            Alfa Romeo GTV\n",
      "3         Alfa Romeo Spider\n",
      "4            Alfa Romeo 164\n",
      "5         Alfa Romeo Spider\n",
      "6            Alfa Romeo 145\n",
      "                ...        \n",
      "251071           Volvo XC60\n",
      "251072           Volvo XC60\n",
      "251073           Volvo XC60\n",
      "251075           Volvo XC90\n",
      "251076            Volvo V60\n",
      "Name: model, Length: 223733, dtype: object object\n"
     ]
    }
   ],
   "source": [
    "for i in selected_cols:\n",
    "    print(df[i],df[i].dtype)"
   ]
  },
  {
   "cell_type": "code",
   "execution_count": 383,
   "id": "1da653b8",
   "metadata": {},
   "outputs": [
    {
     "ename": "ValueError",
     "evalue": "could not convert string to float: '260 g/km'",
     "output_type": "error",
     "traceback": [
      "\u001b[0;31m---------------------------------------------------------------------------\u001b[0m",
      "\u001b[0;31mValueError\u001b[0m                                Traceback (most recent call last)",
      "\u001b[0;32m/tmp/ipykernel_15125/598016745.py\u001b[0m in \u001b[0;36m<module>\u001b[0;34m\u001b[0m\n\u001b[0;32m----> 1\u001b[0;31m \u001b[0mdf\u001b[0m\u001b[0;34m[\u001b[0m\u001b[0;34m'fuel_consumption_g_km'\u001b[0m\u001b[0;34m]\u001b[0m \u001b[0;34m=\u001b[0m \u001b[0mdf\u001b[0m\u001b[0;34m[\u001b[0m\u001b[0;34m'fuel_consumption_g_km'\u001b[0m\u001b[0;34m]\u001b[0m\u001b[0;34m.\u001b[0m\u001b[0mastype\u001b[0m\u001b[0;34m(\u001b[0m\u001b[0mfloat\u001b[0m\u001b[0;34m)\u001b[0m\u001b[0;34m\u001b[0m\u001b[0;34m\u001b[0m\u001b[0m\n\u001b[0m",
      "\u001b[0;32m/usr/lib/python3/dist-packages/pandas/core/generic.py\u001b[0m in \u001b[0;36mastype\u001b[0;34m(self, dtype, copy, errors)\u001b[0m\n\u001b[1;32m   5813\u001b[0m         \u001b[0;32melse\u001b[0m\u001b[0;34m:\u001b[0m\u001b[0;34m\u001b[0m\u001b[0;34m\u001b[0m\u001b[0m\n\u001b[1;32m   5814\u001b[0m             \u001b[0;31m# else, only a single dtype is given\u001b[0m\u001b[0;34m\u001b[0m\u001b[0;34m\u001b[0m\u001b[0m\n\u001b[0;32m-> 5815\u001b[0;31m             \u001b[0mnew_data\u001b[0m \u001b[0;34m=\u001b[0m \u001b[0mself\u001b[0m\u001b[0;34m.\u001b[0m\u001b[0m_mgr\u001b[0m\u001b[0;34m.\u001b[0m\u001b[0mastype\u001b[0m\u001b[0;34m(\u001b[0m\u001b[0mdtype\u001b[0m\u001b[0;34m=\u001b[0m\u001b[0mdtype\u001b[0m\u001b[0;34m,\u001b[0m \u001b[0mcopy\u001b[0m\u001b[0;34m=\u001b[0m\u001b[0mcopy\u001b[0m\u001b[0;34m,\u001b[0m \u001b[0merrors\u001b[0m\u001b[0;34m=\u001b[0m\u001b[0merrors\u001b[0m\u001b[0;34m)\u001b[0m\u001b[0;34m\u001b[0m\u001b[0;34m\u001b[0m\u001b[0m\n\u001b[0m\u001b[1;32m   5816\u001b[0m             \u001b[0;32mreturn\u001b[0m \u001b[0mself\u001b[0m\u001b[0;34m.\u001b[0m\u001b[0m_constructor\u001b[0m\u001b[0;34m(\u001b[0m\u001b[0mnew_data\u001b[0m\u001b[0;34m)\u001b[0m\u001b[0;34m.\u001b[0m\u001b[0m__finalize__\u001b[0m\u001b[0;34m(\u001b[0m\u001b[0mself\u001b[0m\u001b[0;34m,\u001b[0m \u001b[0mmethod\u001b[0m\u001b[0;34m=\u001b[0m\u001b[0;34m\"astype\"\u001b[0m\u001b[0;34m)\u001b[0m\u001b[0;34m\u001b[0m\u001b[0;34m\u001b[0m\u001b[0m\n\u001b[1;32m   5817\u001b[0m \u001b[0;34m\u001b[0m\u001b[0m\n",
      "\u001b[0;32m/usr/lib/python3/dist-packages/pandas/core/internals/managers.py\u001b[0m in \u001b[0;36mastype\u001b[0;34m(self, dtype, copy, errors)\u001b[0m\n\u001b[1;32m    416\u001b[0m \u001b[0;34m\u001b[0m\u001b[0m\n\u001b[1;32m    417\u001b[0m     \u001b[0;32mdef\u001b[0m \u001b[0mastype\u001b[0m\u001b[0;34m(\u001b[0m\u001b[0mself\u001b[0m\u001b[0;34m:\u001b[0m \u001b[0mT\u001b[0m\u001b[0;34m,\u001b[0m \u001b[0mdtype\u001b[0m\u001b[0;34m,\u001b[0m \u001b[0mcopy\u001b[0m\u001b[0;34m:\u001b[0m \u001b[0mbool\u001b[0m \u001b[0;34m=\u001b[0m \u001b[0;32mFalse\u001b[0m\u001b[0;34m,\u001b[0m \u001b[0merrors\u001b[0m\u001b[0;34m:\u001b[0m \u001b[0mstr\u001b[0m \u001b[0;34m=\u001b[0m \u001b[0;34m\"raise\"\u001b[0m\u001b[0;34m)\u001b[0m \u001b[0;34m->\u001b[0m \u001b[0mT\u001b[0m\u001b[0;34m:\u001b[0m\u001b[0;34m\u001b[0m\u001b[0;34m\u001b[0m\u001b[0m\n\u001b[0;32m--> 418\u001b[0;31m         \u001b[0;32mreturn\u001b[0m \u001b[0mself\u001b[0m\u001b[0;34m.\u001b[0m\u001b[0mapply\u001b[0m\u001b[0;34m(\u001b[0m\u001b[0;34m\"astype\"\u001b[0m\u001b[0;34m,\u001b[0m \u001b[0mdtype\u001b[0m\u001b[0;34m=\u001b[0m\u001b[0mdtype\u001b[0m\u001b[0;34m,\u001b[0m \u001b[0mcopy\u001b[0m\u001b[0;34m=\u001b[0m\u001b[0mcopy\u001b[0m\u001b[0;34m,\u001b[0m \u001b[0merrors\u001b[0m\u001b[0;34m=\u001b[0m\u001b[0merrors\u001b[0m\u001b[0;34m)\u001b[0m\u001b[0;34m\u001b[0m\u001b[0;34m\u001b[0m\u001b[0m\n\u001b[0m\u001b[1;32m    419\u001b[0m \u001b[0;34m\u001b[0m\u001b[0m\n\u001b[1;32m    420\u001b[0m     def convert(\n",
      "\u001b[0;32m/usr/lib/python3/dist-packages/pandas/core/internals/managers.py\u001b[0m in \u001b[0;36mapply\u001b[0;34m(self, f, align_keys, ignore_failures, **kwargs)\u001b[0m\n\u001b[1;32m    325\u001b[0m                     \u001b[0mapplied\u001b[0m \u001b[0;34m=\u001b[0m \u001b[0mb\u001b[0m\u001b[0;34m.\u001b[0m\u001b[0mapply\u001b[0m\u001b[0;34m(\u001b[0m\u001b[0mf\u001b[0m\u001b[0;34m,\u001b[0m \u001b[0;34m**\u001b[0m\u001b[0mkwargs\u001b[0m\u001b[0;34m)\u001b[0m\u001b[0;34m\u001b[0m\u001b[0;34m\u001b[0m\u001b[0m\n\u001b[1;32m    326\u001b[0m                 \u001b[0;32melse\u001b[0m\u001b[0;34m:\u001b[0m\u001b[0;34m\u001b[0m\u001b[0;34m\u001b[0m\u001b[0m\n\u001b[0;32m--> 327\u001b[0;31m                     \u001b[0mapplied\u001b[0m \u001b[0;34m=\u001b[0m \u001b[0mgetattr\u001b[0m\u001b[0;34m(\u001b[0m\u001b[0mb\u001b[0m\u001b[0;34m,\u001b[0m \u001b[0mf\u001b[0m\u001b[0;34m)\u001b[0m\u001b[0;34m(\u001b[0m\u001b[0;34m**\u001b[0m\u001b[0mkwargs\u001b[0m\u001b[0;34m)\u001b[0m\u001b[0;34m\u001b[0m\u001b[0;34m\u001b[0m\u001b[0m\n\u001b[0m\u001b[1;32m    328\u001b[0m             \u001b[0;32mexcept\u001b[0m \u001b[0;34m(\u001b[0m\u001b[0mTypeError\u001b[0m\u001b[0;34m,\u001b[0m \u001b[0mNotImplementedError\u001b[0m\u001b[0;34m)\u001b[0m\u001b[0;34m:\u001b[0m\u001b[0;34m\u001b[0m\u001b[0;34m\u001b[0m\u001b[0m\n\u001b[1;32m    329\u001b[0m                 \u001b[0;32mif\u001b[0m \u001b[0;32mnot\u001b[0m \u001b[0mignore_failures\u001b[0m\u001b[0;34m:\u001b[0m\u001b[0;34m\u001b[0m\u001b[0;34m\u001b[0m\u001b[0m\n",
      "\u001b[0;32m/usr/lib/python3/dist-packages/pandas/core/internals/blocks.py\u001b[0m in \u001b[0;36mastype\u001b[0;34m(self, dtype, copy, errors)\u001b[0m\n\u001b[1;32m    589\u001b[0m         \u001b[0mvalues\u001b[0m \u001b[0;34m=\u001b[0m \u001b[0mself\u001b[0m\u001b[0;34m.\u001b[0m\u001b[0mvalues\u001b[0m\u001b[0;34m\u001b[0m\u001b[0;34m\u001b[0m\u001b[0m\n\u001b[1;32m    590\u001b[0m \u001b[0;34m\u001b[0m\u001b[0m\n\u001b[0;32m--> 591\u001b[0;31m         \u001b[0mnew_values\u001b[0m \u001b[0;34m=\u001b[0m \u001b[0mastype_array_safe\u001b[0m\u001b[0;34m(\u001b[0m\u001b[0mvalues\u001b[0m\u001b[0;34m,\u001b[0m \u001b[0mdtype\u001b[0m\u001b[0;34m,\u001b[0m \u001b[0mcopy\u001b[0m\u001b[0;34m=\u001b[0m\u001b[0mcopy\u001b[0m\u001b[0;34m,\u001b[0m \u001b[0merrors\u001b[0m\u001b[0;34m=\u001b[0m\u001b[0merrors\u001b[0m\u001b[0;34m)\u001b[0m\u001b[0;34m\u001b[0m\u001b[0;34m\u001b[0m\u001b[0m\n\u001b[0m\u001b[1;32m    592\u001b[0m \u001b[0;34m\u001b[0m\u001b[0m\n\u001b[1;32m    593\u001b[0m         \u001b[0mnew_values\u001b[0m \u001b[0;34m=\u001b[0m \u001b[0mmaybe_coerce_values\u001b[0m\u001b[0;34m(\u001b[0m\u001b[0mnew_values\u001b[0m\u001b[0;34m)\u001b[0m\u001b[0;34m\u001b[0m\u001b[0;34m\u001b[0m\u001b[0m\n",
      "\u001b[0;32m/usr/lib/python3/dist-packages/pandas/core/dtypes/cast.py\u001b[0m in \u001b[0;36mastype_array_safe\u001b[0;34m(values, dtype, copy, errors)\u001b[0m\n\u001b[1;32m   1312\u001b[0m \u001b[0;34m\u001b[0m\u001b[0m\n\u001b[1;32m   1313\u001b[0m     \u001b[0;32mtry\u001b[0m\u001b[0;34m:\u001b[0m\u001b[0;34m\u001b[0m\u001b[0;34m\u001b[0m\u001b[0m\n\u001b[0;32m-> 1314\u001b[0;31m         \u001b[0mnew_values\u001b[0m \u001b[0;34m=\u001b[0m \u001b[0mastype_array\u001b[0m\u001b[0;34m(\u001b[0m\u001b[0mvalues\u001b[0m\u001b[0;34m,\u001b[0m \u001b[0mdtype\u001b[0m\u001b[0;34m,\u001b[0m \u001b[0mcopy\u001b[0m\u001b[0;34m=\u001b[0m\u001b[0mcopy\u001b[0m\u001b[0;34m)\u001b[0m\u001b[0;34m\u001b[0m\u001b[0;34m\u001b[0m\u001b[0m\n\u001b[0m\u001b[1;32m   1315\u001b[0m     \u001b[0;32mexcept\u001b[0m \u001b[0;34m(\u001b[0m\u001b[0mValueError\u001b[0m\u001b[0;34m,\u001b[0m \u001b[0mTypeError\u001b[0m\u001b[0;34m)\u001b[0m\u001b[0;34m:\u001b[0m\u001b[0;34m\u001b[0m\u001b[0;34m\u001b[0m\u001b[0m\n\u001b[1;32m   1316\u001b[0m         \u001b[0;31m# e.g. astype_nansafe can fail on object-dtype of strings\u001b[0m\u001b[0;34m\u001b[0m\u001b[0;34m\u001b[0m\u001b[0m\n",
      "\u001b[0;32m/usr/lib/python3/dist-packages/pandas/core/dtypes/cast.py\u001b[0m in \u001b[0;36mastype_array\u001b[0;34m(values, dtype, copy)\u001b[0m\n\u001b[1;32m   1260\u001b[0m \u001b[0;34m\u001b[0m\u001b[0m\n\u001b[1;32m   1261\u001b[0m     \u001b[0;32melse\u001b[0m\u001b[0;34m:\u001b[0m\u001b[0;34m\u001b[0m\u001b[0;34m\u001b[0m\u001b[0m\n\u001b[0;32m-> 1262\u001b[0;31m         \u001b[0mvalues\u001b[0m \u001b[0;34m=\u001b[0m \u001b[0mastype_nansafe\u001b[0m\u001b[0;34m(\u001b[0m\u001b[0mvalues\u001b[0m\u001b[0;34m,\u001b[0m \u001b[0mdtype\u001b[0m\u001b[0;34m,\u001b[0m \u001b[0mcopy\u001b[0m\u001b[0;34m=\u001b[0m\u001b[0mcopy\u001b[0m\u001b[0;34m)\u001b[0m\u001b[0;34m\u001b[0m\u001b[0;34m\u001b[0m\u001b[0m\n\u001b[0m\u001b[1;32m   1263\u001b[0m \u001b[0;34m\u001b[0m\u001b[0m\n\u001b[1;32m   1264\u001b[0m     \u001b[0;31m# in pandas we don't store numpy str dtypes, so convert to object\u001b[0m\u001b[0;34m\u001b[0m\u001b[0;34m\u001b[0m\u001b[0m\n",
      "\u001b[0;32m/usr/lib/python3/dist-packages/pandas/core/dtypes/cast.py\u001b[0m in \u001b[0;36mastype_nansafe\u001b[0;34m(arr, dtype, copy, skipna)\u001b[0m\n\u001b[1;32m   1204\u001b[0m     \u001b[0;32mif\u001b[0m \u001b[0mcopy\u001b[0m \u001b[0;32mor\u001b[0m \u001b[0mis_object_dtype\u001b[0m\u001b[0;34m(\u001b[0m\u001b[0marr\u001b[0m\u001b[0;34m.\u001b[0m\u001b[0mdtype\u001b[0m\u001b[0;34m)\u001b[0m \u001b[0;32mor\u001b[0m \u001b[0mis_object_dtype\u001b[0m\u001b[0;34m(\u001b[0m\u001b[0mdtype\u001b[0m\u001b[0;34m)\u001b[0m\u001b[0;34m:\u001b[0m\u001b[0;34m\u001b[0m\u001b[0;34m\u001b[0m\u001b[0m\n\u001b[1;32m   1205\u001b[0m         \u001b[0;31m# Explicit copy, or required since NumPy can't view from / to object.\u001b[0m\u001b[0;34m\u001b[0m\u001b[0;34m\u001b[0m\u001b[0m\n\u001b[0;32m-> 1206\u001b[0;31m         \u001b[0;32mreturn\u001b[0m \u001b[0marr\u001b[0m\u001b[0;34m.\u001b[0m\u001b[0mastype\u001b[0m\u001b[0;34m(\u001b[0m\u001b[0mdtype\u001b[0m\u001b[0;34m,\u001b[0m \u001b[0mcopy\u001b[0m\u001b[0;34m=\u001b[0m\u001b[0;32mTrue\u001b[0m\u001b[0;34m)\u001b[0m\u001b[0;34m\u001b[0m\u001b[0;34m\u001b[0m\u001b[0m\n\u001b[0m\u001b[1;32m   1207\u001b[0m \u001b[0;34m\u001b[0m\u001b[0m\n\u001b[1;32m   1208\u001b[0m     \u001b[0;32mreturn\u001b[0m \u001b[0marr\u001b[0m\u001b[0;34m.\u001b[0m\u001b[0mastype\u001b[0m\u001b[0;34m(\u001b[0m\u001b[0mdtype\u001b[0m\u001b[0;34m,\u001b[0m \u001b[0mcopy\u001b[0m\u001b[0;34m=\u001b[0m\u001b[0mcopy\u001b[0m\u001b[0;34m)\u001b[0m\u001b[0;34m\u001b[0m\u001b[0;34m\u001b[0m\u001b[0m\n",
      "\u001b[0;31mValueError\u001b[0m: could not convert string to float: '260 g/km'"
     ]
    }
   ],
   "source": [
    "df['fuel_consumption_g_km'] = df['fuel_consumption_g_km'].astype(float)"
   ]
  },
  {
   "cell_type": "code",
   "execution_count": 384,
   "id": "e9cadd36",
   "metadata": {},
   "outputs": [
    {
     "name": "stdout",
     "output_type": "stream",
     "text": [
      "['260 g/km' '225 g/km' '- (g/km)' ... '410 km Reichweite'\n",
      " '424 km Reichweite' '77 km Reichweite']\n",
      "223733\n",
      "1180\n"
     ]
    }
   ],
   "source": [
    "print(df['fuel_consumption_g_km'].unique())\n",
    "print(len(df['fuel_consumption_g_km']))\n",
    "print(len(df['fuel_consumption_g_km'].unique()))"
   ]
  },
  {
   "cell_type": "markdown",
   "id": "e5b48e31",
   "metadata": {},
   "source": [
    "So fuel_consumption_g_km has redundant values that must be cleaned"
   ]
  },
  {
   "cell_type": "code",
   "execution_count": 385,
   "id": "4b12f9b1",
   "metadata": {},
   "outputs": [
    {
     "name": "stdout",
     "output_type": "stream",
     "text": [
      "Original unique values in 'fuel_consumption_g_km':\n",
      "['260 g/km' '225 g/km' '- (g/km)' ... '410 km Reichweite'\n",
      " '424 km Reichweite' '77 km Reichweite']\n",
      "Cleaned unique values in 'fuel_consumption_g_km':\n",
      "[391.  46. 327. 484. 100. 247. 304. 303. 279. 306. 280. 283. 282. 288.\n",
      " 307. 300. 281. 284. 308.  51. 289. 359. 453. 570. 458.  56. 499. 574.\n",
      " 502. 592. 545. 399. 417. 398. 533.  91. 598. 425. 547. 433. 406. 348.\n",
      " 346. 354.  63. 230. 321. 312. 260. 298. 245. 190. 320.  60.  40. 400.\n",
      "  50. 540.  42. 500.  57. 440. 610. 490. 210. 460. 240. 305. 310. 451.\n",
      "  74.  62.  55.  52. 519. 454.  44.  49.  47.  48.  58. 464. 450. 504.\n",
      " 394.  59. 506.  68. 200. 409. 615. 411. 480. 467. 524. 465.  32. 233.\n",
      " 231. 226. 229. 228. 270. 234. 242. 203. 232. 227.  54.  61.  45. 120.\n",
      " 389. 250. 385. 285. 396. 531. 301. 337. 330.  67. 338.  66.  64.  65.\n",
      " 350. 331. 341. 362. 443. 405. 110. 352. 429. 254.  35. 514. 492. 375.\n",
      " 145. 130. 123. 127. 126. 150. 155. 135. 339. 315.  75. 415. 442. 436.\n",
      " 513. 215. 302. 256. 258. 535. 340. 470.  33.  41. 412. 410. 424.  77.]\n",
      "counts after dropping redundant fuel consumtion values\n",
      "489\n",
      "168\n",
      "count before dropping redundant fuel consumtion values\n",
      "223733\n",
      "169\n",
      "ration of irredundant fuel consumption data:  0.0021856409202039933\n"
     ]
    },
    {
     "name": "stderr",
     "output_type": "stream",
     "text": [
      "/usr/lib/python3/dist-packages/pandas/core/indexing.py:1773: SettingWithCopyWarning: \n",
      "A value is trying to be set on a copy of a slice from a DataFrame.\n",
      "Try using .loc[row_indexer,col_indexer] = value instead\n",
      "\n",
      "See the caveats in the documentation: https://pandas.pydata.org/pandas-docs/stable/user_guide/indexing.html#returning-a-view-versus-a-copy\n",
      "  self._setitem_single_column(ilocs[0], value, pi)\n"
     ]
    }
   ],
   "source": [
    "# Displaying original unique values in 'fuel_consumption_g_km' column\n",
    "print(\"Original unique values in 'fuel_consumption_g_km':\")\n",
    "print(df['fuel_consumption_g_km'].unique())\n",
    "\n",
    "# Defining a function to clean the 'fuel_consumption_g_km' column\n",
    "def clean_fuel_consumption(value):\n",
    "    try:\n",
    "        if isinstance(value, str) and 'Reichweite' in value and 'k' not in value[:3]:\n",
    "            return float(value[:3])\n",
    "        return float(value)\n",
    "    except ValueError:\n",
    "        return None\n",
    "\n",
    "# Applying the cleaning function to the column using .loc to avoid SettingWithCopyWarning\n",
    "df.loc[:, 'fuel_consumption_g_km'] = df['fuel_consumption_g_km'].apply(clean_fuel_consumption)\n",
    "\n",
    "# Dropping rows where 'fuel_consumption_g_km' could not be converted (optional)\n",
    "df_no_fuel = df.dropna(subset=['fuel_consumption_g_km'])\n",
    "\n",
    "# Displaying cleaned unique values in 'fuel_consumption_g_km' column\n",
    "print(\"Cleaned unique values in 'fuel_consumption_g_km':\")\n",
    "print(df_no_fuel['fuel_consumption_g_km'].unique())\n",
    "\n",
    "print('counts after dropping redundant fuel consumtion values')\n",
    "print(len(df_no_fuel['fuel_consumption_g_km']))\n",
    "print(len(df_no_fuel['fuel_consumption_g_km'].unique()))\n",
    "print('count before dropping redundant fuel consumtion values')\n",
    "print(len(df['fuel_consumption_g_km']))\n",
    "print(len(df['fuel_consumption_g_km'].unique()))\n",
    "print('ration of irredundant fuel consumption data: ', len(df_no_fuel['fuel_consumption_g_km'])/len(df['fuel_consumption_g_km']))"
   ]
  },
  {
   "cell_type": "markdown",
   "id": "bf1c66f4",
   "metadata": {},
   "source": [
    "#### NOTE.\n",
    "Since more than 99% of the entries for fuel_consumption_g_km has been redundant, we conclude not to consider this feature for our investigations. So we update our selected features:"
   ]
  },
  {
   "cell_type": "code",
   "execution_count": 386,
   "id": "c379e4c6",
   "metadata": {},
   "outputs": [
    {
     "name": "stdout",
     "output_type": "stream",
     "text": [
      "['year', 'price', 'power_kw', 'mileage_in_km']\n",
      "['year', 'price', 'power_kw', 'mileage_in_km', 'brand', 'model']\n"
     ]
    }
   ],
   "source": [
    "numerical_cols.remove('fuel_consumption_g_km')\n",
    "print(numerical_cols)\n",
    "selected_cols = numerical_cols + categorical_cols\n",
    "print(selected_cols)"
   ]
  },
  {
   "cell_type": "code",
   "execution_count": 388,
   "id": "52cc32e7",
   "metadata": {
    "scrolled": true
   },
   "outputs": [
    {
     "name": "stdout",
     "output_type": "stream",
     "text": [
      "year 0 int64\n",
      "price 0 int64\n",
      "power_kw 0 float64\n",
      "mileage_in_km 0 float64\n",
      "brand 0 object\n",
      "model 0 object\n"
     ]
    }
   ],
   "source": [
    "for x in selected_cols:\n",
    "    print(x, df[x].isna().sum(), df[x].dtype)"
   ]
  },
  {
   "cell_type": "code",
   "execution_count": 389,
   "id": "39d58506",
   "metadata": {},
   "outputs": [],
   "source": [
    "#optionally one could write the cleaned fata into a new file\n",
    "#df.to_csv =('clean_car_data.csv')"
   ]
  },
  {
   "cell_type": "code",
   "execution_count": 390,
   "id": "9c907711",
   "metadata": {},
   "outputs": [],
   "source": [
    "#df"
   ]
  },
  {
   "cell_type": "markdown",
   "id": "9b82b0bd",
   "metadata": {},
   "source": [
    "### Anomolies and Outliars detection via matplotlib visualization\n",
    "For visual inspections, we plot digrams for the selected features"
   ]
  },
  {
   "cell_type": "code",
   "execution_count": 391,
   "id": "10fcd16a",
   "metadata": {},
   "outputs": [
    {
     "data": {
      "text/plain": [
       "Text(0.5, 1.0, 'Number Per Brand')"
      ]
     },
     "execution_count": 391,
     "metadata": {},
     "output_type": "execute_result"
    },
    {
     "data": {
      "image/png": "[encoded data removed]",
      "text/plain": [
       "<Figure size 1080x1080 with 1 Axes>"
      ]
     },
     "metadata": {},
     "output_type": "display_data"
    }
   ],
   "source": [
    "import matplotlib.pyplot as plt\n",
    "import seaborn as sns \n",
    "\n",
    "sns.set_style('ticks')\n",
    "#colors = sns.color_palette('pastel')\n",
    "plt.figure(figsize=(15,15))\n",
    "\n",
    "plt.barh(df['brand'].value_counts().index, df['brand'].value_counts().values)\n",
    "plt.xlabel('Number of Cars')\n",
    "plt.ylabel('brand')\n",
    "plt.title('Number Per Brand')"
   ]
  },
  {
   "cell_type": "code",
   "execution_count": 392,
   "id": "53e3fe22",
   "metadata": {},
   "outputs": [
    {
     "name": "stdout",
     "output_type": "stream",
     "text": [
      "volkswagen       30258\n",
      "mercedes-benz    24521\n",
      "audi             19475\n",
      "opel             18350\n",
      "bmw              17850\n",
      "ford             16774\n",
      "skoda            12734\n",
      "seat             10986\n",
      "toyota            7405\n",
      "renault           7193\n",
      "hyundai           5859\n",
      "peugeot           5166\n",
      "kia               5074\n",
      "fiat              4362\n",
      "mazda             3897\n",
      "mini              3758\n",
      "volvo             3685\n",
      "porsche           3502\n",
      "citroen           3454\n",
      "nissan            3308\n",
      "dacia             3022\n",
      "land-rover        2759\n",
      "jeep              1579\n",
      "alfa-romeo        1341\n",
      "jaguar            1205\n",
      "smart             1175\n",
      "mitsubishi         763\n",
      "honda              675\n",
      "maserati           581\n",
      "bentley            400\n",
      "ferrari            326\n",
      "ssangyong          296\n",
      "dodge              282\n",
      "lamborghini        278\n",
      "aston-martin       221\n",
      "saab               199\n",
      "daihatsu           180\n",
      "lada               163\n",
      "isuzu              156\n",
      "cadillac           119\n",
      "chevrolet          113\n",
      "lancia              96\n",
      "infiniti            86\n",
      "daewoo              52\n",
      "rover               36\n",
      "chrysler            18\n",
      "proton               1\n",
      "Name: brand, dtype: int64\n",
      "0         alfa-romeo\n",
      "3         alfa-romeo\n",
      "4         alfa-romeo\n",
      "5         alfa-romeo\n",
      "6         alfa-romeo\n",
      "             ...    \n",
      "251071         volvo\n",
      "251072         volvo\n",
      "251073         volvo\n",
      "251075         volvo\n",
      "251076         volvo\n",
      "Name: brand, Length: 223733, dtype: object\n"
     ]
    }
   ],
   "source": [
    "print(df['brand'].value_counts())\n",
    "print(df['brand'])"
   ]
  },
  {
   "cell_type": "markdown",
   "id": "f8244465",
   "metadata": {},
   "source": [
    "#### Note.\n",
    "From the above diagram we would like to consider brands whose count is more than 10000"
   ]
  },
  {
   "cell_type": "code",
   "execution_count": 393,
   "id": "64643cdb",
   "metadata": {},
   "outputs": [
    {
     "name": "stdout",
     "output_type": "stream",
     "text": [
      "<class 'pandas.core.series.Series'>\n",
      "volkswagen       30258\n",
      "mercedes-benz    24521\n",
      "audi             19475\n",
      "opel             18350\n",
      "bmw              17850\n",
      "ford             16774\n",
      "skoda            12734\n",
      "seat             10986\n",
      "Name: brand, dtype: int64\n",
      "150948\n",
      "223733\n",
      "0.67467919350297\n"
     ]
    }
   ],
   "source": [
    "brand_count = df['brand'].value_counts()\n",
    "print(type(bcount))\n",
    "main_brands = bcount[bcount > 10000]\n",
    "new_df = df[df['brand'].isin(main_brands.index)]\n",
    "print(main_brands)\n",
    "print(len(new_df))\n",
    "print(len(df['brand']))\n",
    "print(len(new_df['brand'])/len(df['brand']))"
   ]
  },
  {
   "cell_type": "code",
   "execution_count": 394,
   "id": "99b69352",
   "metadata": {},
   "outputs": [
    {
     "name": "stderr",
     "output_type": "stream",
     "text": [
      "/tmp/ipykernel_15125/1646886099.py:2: SettingWithCopyWarning: \n",
      "A value is trying to be set on a copy of a slice from a DataFrame.\n",
      "Try using .loc[row_indexer,col_indexer] = value instead\n",
      "\n",
      "See the caveats in the documentation: https://pandas.pydata.org/pandas-docs/stable/user_guide/indexing.html#returning-a-view-versus-a-copy\n",
      "  new_df['brand'] = new_df['brand'].map({'volkswagen':0, 'mercedes-benz':1, 'audi':2, 'opel':3,\n"
     ]
    }
   ],
   "source": [
    "# Convert brand values from string into numerical\n",
    "new_df['brand'] = new_df['brand'].map({'volkswagen':0, 'mercedes-benz':1, 'audi':2, 'opel':3, \n",
    "                               'opel':4, 'bmw':5, 'ford':6, 'skoda':7, 'seat':8 })"
   ]
  },
  {
   "cell_type": "code",
   "execution_count": 395,
   "id": "9cf1832a",
   "metadata": {},
   "outputs": [
    {
     "data": {
      "text/plain": [
       "1714      2\n",
       "1715      2\n",
       "1716      2\n",
       "1717      2\n",
       "1718      2\n",
       "         ..\n",
       "246905    0\n",
       "246907    0\n",
       "246908    0\n",
       "246911    0\n",
       "246912    0\n",
       "Name: brand, Length: 150948, dtype: int64"
      ]
     },
     "execution_count": 395,
     "metadata": {},
     "output_type": "execute_result"
    }
   ],
   "source": [
    "new_df['brand']"
   ]
  },
  {
   "cell_type": "code",
   "execution_count": 398,
   "id": "6164fd30",
   "metadata": {},
   "outputs": [
    {
     "name": "stdout",
     "output_type": "stream",
     "text": [
      "year int64\n",
      "price int64\n",
      "power_kw float64\n",
      "mileage_in_km float64\n",
      "brand int64\n",
      "model object\n"
     ]
    }
   ],
   "source": [
    "for x in selected_cols:\n",
    "    print(x, new_df[x].dtype)"
   ]
  },
  {
   "cell_type": "markdown",
   "id": "e933baac",
   "metadata": {},
   "source": [
    "So our new data frame covers more than 67% of the cars listed."
   ]
  },
  {
   "cell_type": "code",
   "execution_count": 399,
   "id": "1802c4f4",
   "metadata": {},
   "outputs": [
    {
     "data": {
      "text/plain": [
       "Text(0.5, 1.0, 'Number Per Year')"
      ]
     },
     "execution_count": 399,
     "metadata": {},
     "output_type": "execute_result"
    },
    {
     "data": {
      "image/png": "[encoded data removed]",
      "text/plain": [
       "<Figure size 1080x1080 with 1 Axes>"
      ]
     },
     "metadata": {},
     "output_type": "display_data"
    }
   ],
   "source": [
    "import matplotlib.pyplot as plt\n",
    "import seaborn as sns \n",
    "\n",
    "sns.set_style('ticks')\n",
    "plt.figure(figsize=(15,15))\n",
    "\n",
    "year_counts = new_df['year'].value_counts().sort_index()\n",
    "plt.barh(year_counts.index, year_counts.values, color='skyblue')\n",
    "plt.xlabel('Number of Cars')\n",
    "plt.ylabel('year')\n",
    "plt.title('Number Per Year')\n",
    "\n"
   ]
  },
  {
   "cell_type": "code",
   "execution_count": 400,
   "id": "34bafe88",
   "metadata": {},
   "outputs": [
    {
     "name": "stdout",
     "output_type": "stream",
     "text": [
      "2019    14984\n",
      "2018    13813\n",
      "2017    11540\n",
      "2016     9863\n",
      "2023     9645\n",
      "2020     9581\n",
      "2015     9066\n",
      "2022     8216\n",
      "2014     7776\n",
      "2021     7584\n",
      "2013     7091\n",
      "2012     6107\n",
      "2011     5530\n",
      "Name: year, dtype: int64\n",
      "150948\n",
      "120796\n",
      "0.8002490924026817\n"
     ]
    }
   ],
   "source": [
    "# the digram suggets that there are not enough listings for old cars. \n",
    "# So we update our listing to years with more than 5000 listings\n",
    "ycount = new_df['year'].value_counts()\n",
    "#print(ycount)\n",
    "\n",
    "main_years = ycount[ycount > 5000]\n",
    "print(main_years)\n",
    "new_ydf = new_df[new_df['year'].isin(main_years.index)]\n",
    "#print(new_ydf)\n",
    "\n",
    "print(len(new_df['year']))\n",
    "print(len(new_ydf['year']))\n",
    "print(len(new_ydf['year'])/len(new_df['year']))"
   ]
  },
  {
   "cell_type": "markdown",
   "id": "8e8325dc",
   "metadata": {},
   "source": [
    "So a big majority of the previous data (80%) is extracted  "
   ]
  },
  {
   "cell_type": "code",
   "execution_count": 401,
   "id": "d3f56564",
   "metadata": {},
   "outputs": [
    {
     "data": {
      "text/plain": [
       "Text(0.5, 1.0, 'Average Price Per Year')"
      ]
     },
     "execution_count": 401,
     "metadata": {},
     "output_type": "execute_result"
    },
    {
     "data": {
      "image/png": "[encoded data removed]",
      "text/plain": [
       "<Figure size 1080x360 with 1 Axes>"
      ]
     },
     "metadata": {},
     "output_type": "display_data"
    }
   ],
   "source": [
    "#plotting a diagram for price per brands\n",
    "YearPrice = new_ydf[['year', 'price']].groupby('year').mean().sort_index()\n",
    "\n",
    "plt.figure(figsize=(15,5))\n",
    "plt.barh(YearPrice.index, YearPrice['price'], color='skyblue')\n",
    "plt.xlabel('Average Price (EUR)')\n",
    "plt.ylabel('Year')\n",
    "plt.title('Average Price Per Year')"
   ]
  },
  {
   "cell_type": "code",
   "execution_count": 402,
   "id": "5ec57716",
   "metadata": {},
   "outputs": [
    {
     "data": {
      "text/plain": [
       "Text(0.5, 1.0, 'Average Price Per Brand')"
      ]
     },
     "execution_count": 402,
     "metadata": {},
     "output_type": "execute_result"
    },
    {
     "data": {
      "image/png": "[encoded data removed]",
      "text/plain": [
       "<Figure size 720x1440 with 1 Axes>"
      ]
     },
     "metadata": {},
     "output_type": "display_data"
    }
   ],
   "source": [
    "# Digram for price per brand\n",
    "brand_price = new_ydf[['brand', 'price']].groupby('brand').mean()\n",
    "\n",
    "plt.figure(figsize=(10,20))\n",
    "plt.barh(brand_price.index, brand_price['price'], color = 'skyblue')\n",
    "plt.xlabel('Average Price (EUR)')\n",
    "plt.ylabel('Brand')\n",
    "plt.title('Average Price Per Brand')"
   ]
  },
  {
   "cell_type": "markdown",
   "id": "40060693",
   "metadata": {},
   "source": [
    "#### TODO: Let's delete below percentages because at each step I have checked percentages"
   ]
  },
  {
   "cell_type": "code",
   "execution_count": 403,
   "id": "831e3e46",
   "metadata": {},
   "outputs": [
    {
     "data": {
      "text/html": [
       "<div>\n",
       "<style scoped>\n",
       "    .dataframe tbody tr th:only-of-type {\n",
       "        vertical-align: middle;\n",
       "    }\n",
       "\n",
       "    .dataframe tbody tr th {\n",
       "        vertical-align: top;\n",
       "    }\n",
       "\n",
       "    .dataframe thead th {\n",
       "        text-align: right;\n",
       "    }\n",
       "</style>\n",
       "<table border=\"1\" class=\"dataframe\">\n",
       "  <thead>\n",
       "    <tr style=\"text-align: right;\">\n",
       "      <th></th>\n",
       "      <th>Percent Remaining</th>\n",
       "      <th>Original Count</th>\n",
       "      <th>New Count</th>\n",
       "    </tr>\n",
       "  </thead>\n",
       "  <tbody>\n",
       "    <tr>\n",
       "      <th>volkswagen</th>\n",
       "      <td>99.97%</td>\n",
       "      <td>30268</td>\n",
       "      <td>30258</td>\n",
       "    </tr>\n",
       "    <tr>\n",
       "      <th>mercedes-benz</th>\n",
       "      <td>99.97%</td>\n",
       "      <td>24528</td>\n",
       "      <td>24521</td>\n",
       "    </tr>\n",
       "    <tr>\n",
       "      <th>audi</th>\n",
       "      <td>99.98%</td>\n",
       "      <td>19479</td>\n",
       "      <td>19475</td>\n",
       "    </tr>\n",
       "    <tr>\n",
       "      <th>opel</th>\n",
       "      <td>99.93%</td>\n",
       "      <td>18362</td>\n",
       "      <td>18350</td>\n",
       "    </tr>\n",
       "    <tr>\n",
       "      <th>bmw</th>\n",
       "      <td>99.96%</td>\n",
       "      <td>17858</td>\n",
       "      <td>17850</td>\n",
       "    </tr>\n",
       "    <tr>\n",
       "      <th>ford</th>\n",
       "      <td>99.96%</td>\n",
       "      <td>16781</td>\n",
       "      <td>16774</td>\n",
       "    </tr>\n",
       "    <tr>\n",
       "      <th>skoda</th>\n",
       "      <td>99.95%</td>\n",
       "      <td>12741</td>\n",
       "      <td>12734</td>\n",
       "    </tr>\n",
       "    <tr>\n",
       "      <th>seat</th>\n",
       "      <td>99.97%</td>\n",
       "      <td>10989</td>\n",
       "      <td>10986</td>\n",
       "    </tr>\n",
       "    <tr>\n",
       "      <th>toyota</th>\n",
       "      <td>99.66%</td>\n",
       "      <td>7430</td>\n",
       "      <td>7405</td>\n",
       "    </tr>\n",
       "    <tr>\n",
       "      <th>renault</th>\n",
       "      <td>99.99%</td>\n",
       "      <td>7194</td>\n",
       "      <td>7193</td>\n",
       "    </tr>\n",
       "  </tbody>\n",
       "</table>\n",
       "</div>"
      ],
      "text/plain": [
       "              Percent Remaining  Original Count  New Count\n",
       "volkswagen               99.97%           30268      30258\n",
       "mercedes-benz            99.97%           24528      24521\n",
       "audi                     99.98%           19479      19475\n",
       "opel                     99.93%           18362      18350\n",
       "bmw                      99.96%           17858      17850\n",
       "ford                     99.96%           16781      16774\n",
       "skoda                    99.95%           12741      12734\n",
       "seat                     99.97%           10989      10986\n",
       "toyota                   99.66%            7430       7405\n",
       "renault                  99.99%            7194       7193"
      ]
     },
     "execution_count": 403,
     "metadata": {},
     "output_type": "execute_result"
    }
   ],
   "source": [
    "# \n",
    "\n",
    "newCounts = df['brand'].value_counts()\n",
    "oriCounts = orignal_df['brand'].value_counts()\n",
    "percents = pd.Series(newCounts)\n",
    "for brand in df['brand'].value_counts().index:\n",
    "    percents[brand] = str(round((newCounts[brand]/oriCounts[brand])*100, 2)) + '%'\n",
    "\n",
    "counts_df = pd.DataFrame(percents)\n",
    "counts_df.columns = ['Percent Remaining']\n",
    "counts_df['Original Count'] = oriCounts.values\n",
    "counts_df['New Count'] = newCounts.values\n",
    "counts_df = counts_df.sort_values(by = 'Original Count', ascending = False)\n",
    "counts_df[:10]"
   ]
  },
  {
   "cell_type": "code",
   "execution_count": null,
   "id": "6637d615",
   "metadata": {},
   "outputs": [],
   "source": []
  },
  {
   "cell_type": "code",
   "execution_count": null,
   "id": "0eb5a9c1",
   "metadata": {},
   "outputs": [],
   "source": []
  },
  {
   "cell_type": "markdown",
   "id": "195da790",
   "metadata": {},
   "source": [
    "### Featuer Engineering"
   ]
  },
  {
   "cell_type": "code",
   "execution_count": 404,
   "id": "6776d970",
   "metadata": {},
   "outputs": [
    {
     "name": "stdout",
     "output_type": "stream",
     "text": [
      "['year', 'price', 'power_kw', 'mileage_in_km']\n",
      "['brand', 'model']\n"
     ]
    }
   ],
   "source": [
    "print(numerical_cols)\n",
    "print(categorical_cols)"
   ]
  },
  {
   "cell_type": "code",
   "execution_count": 405,
   "id": "da85cba3",
   "metadata": {},
   "outputs": [
    {
     "name": "stdout",
     "output_type": "stream",
     "text": [
      "484\n",
      "29\n"
     ]
    }
   ],
   "source": [
    "# we check how the data is distributed per model:\n",
    "model_count = new_ydf['model'].value_counts()\n",
    "print(len(model_count))\n",
    "major_models = model_count[model_count > 1000]\n",
    "print(len(major_models))"
   ]
  },
  {
   "cell_type": "markdown",
   "id": "8c633ae7",
   "metadata": {},
   "source": [
    "Since only 29 out of 484 models have more than 1000 listing. \n",
    "Therefore we drop model from our feature list"
   ]
  },
  {
   "cell_type": "code",
   "execution_count": 406,
   "id": "1728ee13",
   "metadata": {
    "scrolled": true
   },
   "outputs": [
    {
     "name": "stdout",
     "output_type": "stream",
     "text": [
      "['year', 'price', 'power_kw', 'mileage_in_km', 'brand']\n"
     ]
    }
   ],
   "source": [
    "categorical_cols = ['brand']\n",
    "selected_cols = numerical_cols + categorical_cols\n",
    "print(selected_cols)"
   ]
  },
  {
   "cell_type": "code",
   "execution_count": 407,
   "id": "3f0275ee",
   "metadata": {},
   "outputs": [
    {
     "name": "stdout",
     "output_type": "stream",
     "text": [
      "        year  price  power_kw  mileage_in_km  brand\n",
      "5296    2011   9900     103.0       119000.0      2\n",
      "5298    2011   9290     118.0       184574.0      2\n",
      "5299    2011   9499      77.0       114860.0      2\n",
      "5300    2011  11990     103.0       205013.0      2\n",
      "5301    2011  10900     150.0       192350.0      2\n",
      "...      ...    ...       ...            ...    ...\n",
      "246905  2023  28788      81.0            5.0      0\n",
      "246907  2023  28420      81.0         4900.0      0\n",
      "246908  2023  59990     110.0        10500.0      0\n",
      "246911  2023  30370     152.0           10.0      0\n",
      "246912  2023  69990     110.0          501.0      0\n",
      "\n",
      "[120796 rows x 5 columns]\n"
     ]
    }
   ],
   "source": [
    "# Finally we extract our new data frame out of the selected features\n",
    "selected_df = new_ydf[selected_cols]\n",
    "print(selected_df)"
   ]
  },
  {
   "cell_type": "code",
   "execution_count": 408,
   "id": "a45e8d15",
   "metadata": {},
   "outputs": [
    {
     "name": "stderr",
     "output_type": "stream",
     "text": [
      "/tmp/ipykernel_15125/4197392231.py:2: SettingWithCopyWarning: \n",
      "A value is trying to be set on a copy of a slice from a DataFrame.\n",
      "Try using .loc[row_indexer,col_indexer] = value instead\n",
      "\n",
      "See the caveats in the documentation: https://pandas.pydata.org/pandas-docs/stable/user_guide/indexing.html#returning-a-view-versus-a-copy\n",
      "  selected_df['price'] = pd.to_numeric(selected_df['price'], errors='coerce')\n"
     ]
    }
   ],
   "source": [
    "# Convert 'price' column to numeric\n",
    "selected_df['price'] = pd.to_numeric(selected_df['price'], errors='coerce')"
   ]
  },
  {
   "cell_type": "markdown",
   "id": "340ad500",
   "metadata": {},
   "source": [
    "## 2-Modeling "
   ]
  },
  {
   "cell_type": "markdown",
   "id": "27d8aac9",
   "metadata": {},
   "source": [
    "## Splitting the Data Set"
   ]
  },
  {
   "cell_type": "code",
   "execution_count": 409,
   "id": "a3076daa",
   "metadata": {},
   "outputs": [
    {
     "name": "stdout",
     "output_type": "stream",
     "text": [
      "[[2.0180e+03 2.0000e+02 4.9485e+04 2.0000e+00]\n",
      " [2.0130e+03 1.2500e+02 2.0100e+05 1.0000e+00]\n",
      " [2.0180e+03 4.1000e+02 2.3000e+04 1.0000e+00]\n",
      " ...\n",
      " [2.0140e+03 8.1000e+01 2.6200e+04 0.0000e+00]\n",
      " [2.0110e+03 2.6000e+02 9.4000e+04 2.0000e+00]\n",
      " [2.0230e+03 1.1000e+02 1.0000e+01 2.0000e+00]]\n",
      "[[2.0180e+03 1.1000e+02 7.7374e+04 0.0000e+00]\n",
      " [2.0160e+03 1.3500e+02 7.0000e+04 5.0000e+00]\n",
      " [2.0190e+03 7.4000e+01 2.5601e+04 6.0000e+00]\n",
      " ...\n",
      " [2.0190e+03 2.1000e+02 1.0840e+05 2.0000e+00]\n",
      " [2.0190e+03 1.1000e+02 3.1317e+04 7.0000e+00]\n",
      " [2.0150e+03 1.5000e+02 1.3500e+05 0.0000e+00]]\n",
      "[ 34950  14985 126941 ...  14999  29900  46778]\n",
      "[18888 19500 19290 ... 60000 28950  8499]\n"
     ]
    }
   ],
   "source": [
    "# Splitting the data into training and testing datasets\n",
    "from sklearn.model_selection import train_test_split\n",
    "\n",
    "# Separate features (X) and target variable (y)\n",
    "X = selected_df.drop(columns='price').values  # Assuming 'price' is the target variable\n",
    "y = selected_df['price'].values\n",
    "\n",
    "# Split the data into training and testing sets (80% train, 20% test)\n",
    "X_train, X_test, y_train, y_test = train_test_split(X, y, test_size=0.2, random_state=42)\n",
    "print(X_train)\n",
    "print(X_test)\n",
    "print(y_train)\n",
    "print(y_test)"
   ]
  },
  {
   "cell_type": "code",
   "execution_count": null,
   "id": "f3d02b00",
   "metadata": {},
   "outputs": [],
   "source": []
  },
  {
   "cell_type": "markdown",
   "id": "67c391cd",
   "metadata": {},
   "source": [
    "## Linear Regression"
   ]
  },
  {
   "cell_type": "code",
   "execution_count": 420,
   "id": "9a4ba8da",
   "metadata": {},
   "outputs": [
    {
     "name": "stdout",
     "output_type": "stream",
     "text": [
      "Intercept:  -3770872.9153364063\n",
      "Coefficients:\n",
      "Prediction for test set: [26618.85938753 23387.3452551  18298.62730394 ... 44637.62856326\n",
      " 24112.07831979 26009.50072206]\n",
      "R squared: 56.56\n",
      "Mean Absolute Error: 6665.609184281656\n",
      "Mean Square Error: 180326357.23593357\n",
      "Root Mean Square Error: 13428.564973068924\n"
     ]
    }
   ],
   "source": [
    "# This is how to use functions from another jupyter notebook:\n",
    "from sklearn.linear_model import LinearRegression\n",
    "from sklearn import metrics\n",
    "\n",
    "regr = LinearRegression()\n",
    "regr.fit(X_train, y_train)\n",
    "print(\"Intercept: \", regr.intercept_)\n",
    "print(\"Coefficients:\")\n",
    "list(zip(X, regr.coef_))\n",
    "y_pred= regr.predict(X_test)\n",
    "print(\"Prediction for test set: {}\".format(y_pred))\n",
    "\n",
    "meanAbErr = metrics.mean_absolute_error(y_test, y_pred)\n",
    "meanSqErr = metrics.mean_squared_error(y_test, y_pred)\n",
    "rootMeanSqErr = np.sqrt(metrics.mean_squared_error(y_test, y_pred))\n",
    "print('R squared: {:.2f}'.format(regr.score(X_train,y_train)*100))\n",
    "print('Mean Absolute Error:', meanAbErr)\n",
    "print('Mean Square Error:', meanSqErr)\n",
    "print('Root Mean Square Error:', rootMeanSqErr)\n",
    "\n"
   ]
  },
  {
   "cell_type": "code",
   "execution_count": 425,
   "id": "e13109ca",
   "metadata": {},
   "outputs": [
    {
     "name": "stdout",
     "output_type": "stream",
     "text": [
      "Intercept:  -3770872.9153364063\n",
      "Coefficients:\n",
      "Prediction for test set: [26618.85938753 23387.3452551  18298.62730394 ... 44637.62856326\n",
      " 24112.07831979 26009.50072206]\n",
      "R squared: 56.56\n",
      "Mean Absolute Error: 6665.609184281656\n",
      "Mean Square Error: 180326357.23593357\n",
      "Root Mean Square Error: 13428.564973068924\n"
     ]
    },
    {
     "data": {
      "text/plain": [
       "(None, None, None, None, None, None, None)"
      ]
     },
     "execution_count": 425,
     "metadata": {},
     "output_type": "execute_result"
    }
   ],
   "source": [
    "%run regression.ipynb\n",
    "linear_reg(X_train, y_train, X_test,y_test)"
   ]
  },
  {
   "cell_type": "markdown",
   "id": "2a64bf48",
   "metadata": {},
   "source": [
    "## Boosting"
   ]
  },
  {
   "cell_type": "markdown",
   "id": "caf9a88b",
   "metadata": {},
   "source": [
    "## KNN"
   ]
  },
  {
   "cell_type": "code",
   "execution_count": 410,
   "id": "52538875",
   "metadata": {},
   "outputs": [],
   "source": [
    "# Training the KNN model\n",
    "from sklearn.neighbors import KNeighborsClassifier\n",
    "\n",
    "# Initialize the KNN classifier\n",
    "knn = KNeighborsClassifier(n_neighbors=5)  # You can adjust the number of neighbors as needed"
   ]
  },
  {
   "cell_type": "code",
   "execution_count": 412,
   "id": "572b48be",
   "metadata": {},
   "outputs": [
    {
     "data": {
      "text/plain": [
       "KNeighborsClassifier()"
      ]
     },
     "execution_count": 412,
     "metadata": {},
     "output_type": "execute_result"
    }
   ],
   "source": [
    "knn.fit(X_train,y_train)"
   ]
  },
  {
   "cell_type": "code",
   "execution_count": 413,
   "id": "6743862a",
   "metadata": {},
   "outputs": [],
   "source": [
    "#Testing the KNN model\n",
    "# Predictions on the testing set\n",
    "knn_predictions = knn.predict(X_test)"
   ]
  },
  {
   "cell_type": "code",
   "execution_count": 414,
   "id": "bfe33a2c",
   "metadata": {},
   "outputs": [],
   "source": [
    "# Evaluating the KNN model\n",
    "from sklearn.metrics import accuracy_score, classification_report, confusion_matrix"
   ]
  },
  {
   "cell_type": "code",
   "execution_count": 415,
   "id": "b475aabb",
   "metadata": {},
   "outputs": [
    {
     "ename": "TypeError",
     "evalue": "accuracy_score() missing 1 required positional argument: 'y_pred'",
     "output_type": "error",
     "traceback": [
      "\u001b[0;31m---------------------------------------------------------------------------\u001b[0m",
      "\u001b[0;31mTypeError\u001b[0m                                 Traceback (most recent call last)",
      "\u001b[0;32m/tmp/ipykernel_15125/1979484932.py\u001b[0m in \u001b[0;36m<module>\u001b[0;34m\u001b[0m\n\u001b[1;32m      1\u001b[0m \u001b[0;31m# Accuracy score\u001b[0m\u001b[0;34m\u001b[0m\u001b[0;34m\u001b[0m\u001b[0m\n\u001b[0;32m----> 2\u001b[0;31m \u001b[0mknn_accuracy\u001b[0m \u001b[0;34m=\u001b[0m \u001b[0maccuracy_score\u001b[0m\u001b[0;34m(\u001b[0m\u001b[0my_test\u001b[0m\u001b[0;34m)\u001b[0m\u001b[0;34m\u001b[0m\u001b[0;34m\u001b[0m\u001b[0m\n\u001b[0m",
      "\u001b[0;32m/usr/lib/python3/dist-packages/sklearn/utils/validation.py\u001b[0m in \u001b[0;36minner_f\u001b[0;34m(*args, **kwargs)\u001b[0m\n\u001b[1;32m     70\u001b[0m                           FutureWarning)\n\u001b[1;32m     71\u001b[0m         \u001b[0mkwargs\u001b[0m\u001b[0;34m.\u001b[0m\u001b[0mupdate\u001b[0m\u001b[0;34m(\u001b[0m\u001b[0;34m{\u001b[0m\u001b[0mk\u001b[0m\u001b[0;34m:\u001b[0m \u001b[0marg\u001b[0m \u001b[0;32mfor\u001b[0m \u001b[0mk\u001b[0m\u001b[0;34m,\u001b[0m \u001b[0marg\u001b[0m \u001b[0;32min\u001b[0m \u001b[0mzip\u001b[0m\u001b[0;34m(\u001b[0m\u001b[0msig\u001b[0m\u001b[0;34m.\u001b[0m\u001b[0mparameters\u001b[0m\u001b[0;34m,\u001b[0m \u001b[0margs\u001b[0m\u001b[0;34m)\u001b[0m\u001b[0;34m}\u001b[0m\u001b[0;34m)\u001b[0m\u001b[0;34m\u001b[0m\u001b[0;34m\u001b[0m\u001b[0m\n\u001b[0;32m---> 72\u001b[0;31m         \u001b[0;32mreturn\u001b[0m \u001b[0mf\u001b[0m\u001b[0;34m(\u001b[0m\u001b[0;34m**\u001b[0m\u001b[0mkwargs\u001b[0m\u001b[0;34m)\u001b[0m\u001b[0;34m\u001b[0m\u001b[0;34m\u001b[0m\u001b[0m\n\u001b[0m\u001b[1;32m     73\u001b[0m     \u001b[0;32mreturn\u001b[0m \u001b[0minner_f\u001b[0m\u001b[0;34m\u001b[0m\u001b[0;34m\u001b[0m\u001b[0m\n\u001b[1;32m     74\u001b[0m \u001b[0;34m\u001b[0m\u001b[0m\n",
      "\u001b[0;31mTypeError\u001b[0m: accuracy_score() missing 1 required positional argument: 'y_pred'"
     ]
    }
   ],
   "source": [
    "# Accuracy score\n",
    "knn_accuracy = accuracy_score(y_test)"
   ]
  },
  {
   "cell_type": "code",
   "execution_count": null,
   "id": "6506ceb2",
   "metadata": {
    "scrolled": true
   },
   "outputs": [],
   "source": [
    "_test, knn_predictions)\n",
    "print(\"KNN Accuracy:\", knn_accuracy)\n",
    "\n",
    "# Classification report\n",
    "print(\"\\nClassification Report:\")\n",
    "print(classification_report(Y_test, knn_predictions))\n",
    "\n",
    "# Confusion matrix\n",
    "print(\"\\nConfusion Matrix:\")\n",
    "print(confusion_matrix(Y_test, knn_predictions))"
   ]
  },
  {
   "cell_type": "markdown",
   "id": "f202cf5a",
   "metadata": {},
   "source": [
    "  \n",
    "  ##  Random Forest\n",
    "  "
   ]
  },
  {
   "cell_type": "code",
   "execution_count": null,
   "id": "a3200723",
   "metadata": {},
   "outputs": [],
   "source": [
    "# Training the random forest model\n",
    "from sklearn.ensemble import RandomForestClassifier\n",
    "\n",
    "# Initialize the Random Forest classifier\n",
    "rf = RandomForestClassifier(n_estimators=100, random_state=42)  # You can adjust the number of estimators as needed\n",
    "\n",
    "# Train the model on the training data\n",
    "rf.fit(X_train, y_train)\n",
    "\n",
    "\n",
    "# Testing the Random Forest model\n",
    "# Predictions on the testing set\n",
    "rf_predictions = rf.predict(X_test)\n",
    "\n",
    "# Evaluating the Random Forest model\n",
    "# Accuracy score\n",
    "rf_accuracy = accuracy_score(y_test, rf_predictions)\n",
    "print(\"Random Forest Accuracy:\", rf_accuracy)\n",
    "\n",
    "# Classification report\n",
    "print(\"\\nClassification Report:\")\n",
    "print(classification_report(y_test, rf_predictions))\n",
    "\n",
    "# Confusion matrix\n",
    "print(\"\\nConfusion Matrix:\")\n",
    "print(confusion_matrix(y_test, rf_predictions))"
   ]
  },
  {
   "cell_type": "markdown",
   "id": "a6ac7913",
   "metadata": {},
   "source": [
    " ##    Decision Tree"
   ]
  },
  {
   "cell_type": "markdown",
   "id": "1af46196",
   "metadata": {},
   "source": [
    "  ## Train/Test"
   ]
  },
  {
   "cell_type": "markdown",
   "id": "79d54808",
   "metadata": {},
   "source": [
    "## Cross-Validation"
   ]
  },
  {
   "cell_type": "code",
   "execution_count": null,
   "id": "1e5ab82c",
   "metadata": {},
   "outputs": [],
   "source": [
    "# K-Fold cross-validation with KNN modeling\n",
    "from sklearn.model_selection import cross_val_score, KFold\n",
    "from sklearn.neighbors import KNeighborsClassifier\n",
    "\n",
    "# Initialize the KNN classifier\n",
    "knn = KNeighborsClassifier(n_neighbors=5)  # You can adjust the number of neighbors as needed\n",
    "\n",
    "# Define the number of folds for cross-validation\n",
    "kfold = KFold(n_splits=5, shuffle=True, random_state=42)\n",
    "\n",
    "# Perform K-Fold cross-validation\n",
    "knn_cv_scores = cross_val_score(knn, X, y, cv=kfold)\n",
    "\n",
    "# Print the cross-validation scores\n",
    "print(\"KNN Cross-Validation Scores:\", knn_cv_scores)\n",
    "\n",
    "# Calculate and print the mean accuracy score\n",
    "print(\"Mean Accuracy:\", knn_cv_scores.mean())\n",
    "\n",
    "# K-Fold Cross-Validation with Random Forest modeling\n",
    "from sklearn.model_selection import cross_val_score, KFold\n",
    "from sklearn.ensemble import RandomForestClassifier\n",
    "\n",
    "# Initialize the Random Forest classifier\n",
    "rf = RandomForestClassifier(n_estimators=100, random_state=42)  # You can adjust the number of estimators as needed\n",
    "\n",
    "# Define the number of folds for cross-validation\n",
    "kfold = KFold(n_splits=5, shuffle=True, random_state=42)\n",
    "\n",
    "# Perform K-Fold cross-validation\n",
    "rf_cv_scores = cross_val_score(rf, X, y, cv=kfold)\n",
    "\n",
    "# Print the cross-validation scores\n",
    "print(\"Random Forest Cross-Validation Scores:\", rf_cv_scores)\n",
    "\n",
    "# Calculate and print the mean accuracy score\n",
    "print(\"Mean Accuracy:\", rf_cv_scores.mean())"
   ]
  },
  {
   "cell_type": "markdown",
   "id": "e53482e1",
   "metadata": {},
   "source": [
    "## Error Metrics"
   ]
  },
  {
   "cell_type": "code",
   "execution_count": null,
   "id": "d5daa867",
   "metadata": {},
   "outputs": [],
   "source": [
    "# Error Metrics\n",
    "from sklearn.metrics import mean_absolute_error, mean_squared_error, median_absolute_error, r2_score\n",
    "\n",
    "# Assuming you have predictions and true labels for regression\n",
    "# For example, let's say you have predictions from a regression model stored in 'y_pred'\n",
    "# And the true labels are stored in 'y_true'\n",
    "\n",
    "# Calculate Mean Absolute Error (MAE)\n",
    "mae = mean_absolute_error(y_true, y_pred)\n",
    "print(\"Mean Absolute Error (MAE):\", mae)\n",
    "\n",
    "# Calculate Mean Squared Error (MSE)\n",
    "mse = mean_squared_error(y_true, y_pred)\n",
    "print(\"Mean Squared Error (MSE):\", mse)\n",
    "\n",
    "# Calculate Median Absolute Error (medAE)\n",
    "medae = median_absolute_error(y_true, y_pred)\n",
    "print(\"Median Absolute Error (medAE):\", medae)\n",
    "\n",
    "# Calculate R-squared (R2) score\n",
    "r2 = r2_score(y_true, y_pred)\n",
    "print(\"R-squared (R2) Score:\", r2)"
   ]
  },
  {
   "cell_type": "markdown",
   "id": "d97e0dbb",
   "metadata": {},
   "source": [
    "## 3-Visualization \n",
    "-Matplotlib (i,e), -Seaborn (i,e), -Folium (i,e) "
   ]
  },
  {
   "cell_type": "code",
   "execution_count": null,
   "id": "d435c10d",
   "metadata": {},
   "outputs": [],
   "source": [
    "# Visualization with Folium\n",
    "import folium\n",
    "\n",
    "# Create a map centered around a specific location\n",
    "m = folium.Map(location=[37.7749, -122.4194], zoom_start=12)  # Coordinates for San Francisco\n",
    "\n",
    "# Add a marker to the map\n",
    "folium.Marker(location=[37.7749, -122.4194], popup=\"San Francisco\").add_to(m)\n",
    "\n",
    "# Save the map to an HTML file\n",
    "m.save(\"map.html\")"
   ]
  },
  {
   "cell_type": "markdown",
   "id": "e330f480",
   "metadata": {},
   "source": [
    "## 4- Results \n",
    "Cross Validation"
   ]
  },
  {
   "cell_type": "code",
   "execution_count": null,
   "id": "0c70233d",
   "metadata": {},
   "outputs": [],
   "source": []
  }
 ],
 "metadata": {
  "kernelspec": {
   "display_name": "Python 3 (ipykernel)",
   "language": "python",
   "name": "python3"
  },
  "language_info": {
   "codemirror_mode": {
    "name": "ipython",
    "version": 3
   },
   "file_extension": ".py",
   "mimetype": "text/x-python",
   "name": "python",
   "nbconvert_exporter": "python",
   "pygments_lexer": "ipython3",
   "version": "3.10.12"
  }
 },
 "nbformat": 4,
 "nbformat_minor": 5
}
