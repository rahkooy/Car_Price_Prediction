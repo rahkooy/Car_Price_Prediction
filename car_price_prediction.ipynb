{
 "cells": [
  {
   "cell_type": "markdown",
   "id": "f399943f",
   "metadata": {},
   "source": [
    "# Price Prediction for second hand cars in Germant"
   ]
  },
  {
   "cell_type": "markdown",
   "id": "b947c6d5",
   "metadata": {},
   "source": [
    "## Steps of the Project:\n",
    "1-EDA (Exploratory Data Analysis)\n",
    "\n",
    "2-Feature Engineering\n",
    "\n",
    "3-Data Preprocessing\n",
    "\n",
    "4-Modeling \n",
    "\n",
    "  4-1-Model Selection\n",
    "  \n",
    "  4-2-Model Evaluation\n",
    "  \n",
    "  4-3-Model Tuning\n",
    "\n",
    "5-Visualization \n",
    "\n",
    "4- Results "
   ]
  },
  {
   "cell_type": "code",
   "execution_count": 77,
   "id": "6fbca6a3",
   "metadata": {},
   "outputs": [],
   "source": [
    "# Importing Libraries\n",
    "\n",
    "import pandas as pd\n",
    "import numpy as np\n",
    "import seaborn as sns\n",
    "import matplotlib.pyplot as plt\n",
    "import mpl_toolkits\n",
    "%matplotlib inline\n",
    "from sklearn.model_selection import train_test_split\n",
    "from sklearn.linear_model import LinearRegression\n",
    "from sklearn.metrics import mean_squared_error"
   ]
  },
  {
   "cell_type": "markdown",
   "id": "cb8c9531",
   "metadata": {},
   "source": [
    "## 1-EDA (Exploratory Data Analysis)"
   ]
  },
  {
   "cell_type": "code",
   "execution_count": 78,
   "id": "b9d31ae4",
   "metadata": {},
   "outputs": [],
   "source": [
    "# Loading Dataset\n",
    "df = pd.read_csv('car_data.csv')"
   ]
  },
  {
   "cell_type": "code",
   "execution_count": 79,
   "id": "b553d4c9",
   "metadata": {},
   "outputs": [
    {
     "data": {
      "text/html": [
       "<div>\n",
       "<style scoped>\n",
       "    .dataframe tbody tr th:only-of-type {\n",
       "        vertical-align: middle;\n",
       "    }\n",
       "\n",
       "    .dataframe tbody tr th {\n",
       "        vertical-align: top;\n",
       "    }\n",
       "\n",
       "    .dataframe thead th {\n",
       "        text-align: right;\n",
       "    }\n",
       "</style>\n",
       "<table border=\"1\" class=\"dataframe\">\n",
       "  <thead>\n",
       "    <tr style=\"text-align: right;\">\n",
       "      <th></th>\n",
       "      <th>Unnamed: 0</th>\n",
       "      <th>brand</th>\n",
       "      <th>model</th>\n",
       "      <th>color</th>\n",
       "      <th>registration_date</th>\n",
       "      <th>year</th>\n",
       "      <th>price_in_euro</th>\n",
       "      <th>power_kw</th>\n",
       "      <th>power_ps</th>\n",
       "      <th>transmission_type</th>\n",
       "      <th>fuel_type</th>\n",
       "      <th>fuel_consumption_l_100km</th>\n",
       "      <th>fuel_consumption_g_km</th>\n",
       "      <th>mileage_in_km</th>\n",
       "      <th>offer_description</th>\n",
       "    </tr>\n",
       "  </thead>\n",
       "  <tbody>\n",
       "    <tr>\n",
       "      <th>0</th>\n",
       "      <td>0</td>\n",
       "      <td>alfa-romeo</td>\n",
       "      <td>Alfa Romeo GTV</td>\n",
       "      <td>red</td>\n",
       "      <td>10/1995</td>\n",
       "      <td>1995</td>\n",
       "      <td>1300</td>\n",
       "      <td>148</td>\n",
       "      <td>201</td>\n",
       "      <td>Manual</td>\n",
       "      <td>Petrol</td>\n",
       "      <td>10,9 l/100 km</td>\n",
       "      <td>260 g/km</td>\n",
       "      <td>160500.0</td>\n",
       "      <td>2.0 V6 TB</td>\n",
       "    </tr>\n",
       "    <tr>\n",
       "      <th>1</th>\n",
       "      <td>1</td>\n",
       "      <td>alfa-romeo</td>\n",
       "      <td>Alfa Romeo 164</td>\n",
       "      <td>black</td>\n",
       "      <td>02/1995</td>\n",
       "      <td>1995</td>\n",
       "      <td>24900</td>\n",
       "      <td>191</td>\n",
       "      <td>260</td>\n",
       "      <td>Manual</td>\n",
       "      <td>Petrol</td>\n",
       "      <td>NaN</td>\n",
       "      <td>- (g/km)</td>\n",
       "      <td>190000.0</td>\n",
       "      <td>Q4 Allrad, 3.2L GTA</td>\n",
       "    </tr>\n",
       "    <tr>\n",
       "      <th>2</th>\n",
       "      <td>2</td>\n",
       "      <td>alfa-romeo</td>\n",
       "      <td>Alfa Romeo Spider</td>\n",
       "      <td>black</td>\n",
       "      <td>02/1995</td>\n",
       "      <td>1995</td>\n",
       "      <td>5900</td>\n",
       "      <td>110</td>\n",
       "      <td>150</td>\n",
       "      <td>Unknown</td>\n",
       "      <td>Petrol</td>\n",
       "      <td>NaN</td>\n",
       "      <td>- (g/km)</td>\n",
       "      <td>129000.0</td>\n",
       "      <td>ALFA ROME 916</td>\n",
       "    </tr>\n",
       "  </tbody>\n",
       "</table>\n",
       "</div>"
      ],
      "text/plain": [
       "   Unnamed: 0       brand              model  color registration_date  year  \\\n",
       "0           0  alfa-romeo     Alfa Romeo GTV    red           10/1995  1995   \n",
       "1           1  alfa-romeo     Alfa Romeo 164  black           02/1995  1995   \n",
       "2           2  alfa-romeo  Alfa Romeo Spider  black           02/1995  1995   \n",
       "\n",
       "  price_in_euro power_kw power_ps transmission_type fuel_type  \\\n",
       "0          1300      148      201            Manual    Petrol   \n",
       "1         24900      191      260            Manual    Petrol   \n",
       "2          5900      110      150           Unknown    Petrol   \n",
       "\n",
       "  fuel_consumption_l_100km fuel_consumption_g_km  mileage_in_km  \\\n",
       "0            10,9 l/100 km              260 g/km       160500.0   \n",
       "1                      NaN              - (g/km)       190000.0   \n",
       "2                      NaN              - (g/km)       129000.0   \n",
       "\n",
       "     offer_description  \n",
       "0            2.0 V6 TB  \n",
       "1  Q4 Allrad, 3.2L GTA  \n",
       "2        ALFA ROME 916  "
      ]
     },
     "execution_count": 79,
     "metadata": {},
     "output_type": "execute_result"
    }
   ],
   "source": [
    "df.head(3)"
   ]
  },
  {
   "cell_type": "code",
   "execution_count": null,
   "id": "ef7e3ded",
   "metadata": {},
   "outputs": [],
   "source": []
  },
  {
   "cell_type": "code",
   "execution_count": 80,
   "id": "f2dbe517",
   "metadata": {},
   "outputs": [
    {
     "data": {
      "text/html": [
       "<div>\n",
       "<style scoped>\n",
       "    .dataframe tbody tr th:only-of-type {\n",
       "        vertical-align: middle;\n",
       "    }\n",
       "\n",
       "    .dataframe tbody tr th {\n",
       "        vertical-align: top;\n",
       "    }\n",
       "\n",
       "    .dataframe thead th {\n",
       "        text-align: right;\n",
       "    }\n",
       "</style>\n",
       "<table border=\"1\" class=\"dataframe\">\n",
       "  <thead>\n",
       "    <tr style=\"text-align: right;\">\n",
       "      <th></th>\n",
       "      <th>Unnamed: 0</th>\n",
       "      <th>brand</th>\n",
       "      <th>model</th>\n",
       "      <th>color</th>\n",
       "      <th>registration_date</th>\n",
       "      <th>year</th>\n",
       "      <th>price_in_euro</th>\n",
       "      <th>power_kw</th>\n",
       "      <th>power_ps</th>\n",
       "      <th>transmission_type</th>\n",
       "      <th>fuel_type</th>\n",
       "      <th>fuel_consumption_l_100km</th>\n",
       "      <th>fuel_consumption_g_km</th>\n",
       "      <th>mileage_in_km</th>\n",
       "      <th>offer_description</th>\n",
       "    </tr>\n",
       "  </thead>\n",
       "  <tbody>\n",
       "    <tr>\n",
       "      <th>0</th>\n",
       "      <td>0</td>\n",
       "      <td>alfa-romeo</td>\n",
       "      <td>Alfa Romeo GTV</td>\n",
       "      <td>red</td>\n",
       "      <td>10/1995</td>\n",
       "      <td>1995</td>\n",
       "      <td>1300</td>\n",
       "      <td>148</td>\n",
       "      <td>201</td>\n",
       "      <td>Manual</td>\n",
       "      <td>Petrol</td>\n",
       "      <td>10,9 l/100 km</td>\n",
       "      <td>260 g/km</td>\n",
       "      <td>160500.0</td>\n",
       "      <td>2.0 V6 TB</td>\n",
       "    </tr>\n",
       "    <tr>\n",
       "      <th>1</th>\n",
       "      <td>1</td>\n",
       "      <td>alfa-romeo</td>\n",
       "      <td>Alfa Romeo 164</td>\n",
       "      <td>black</td>\n",
       "      <td>02/1995</td>\n",
       "      <td>1995</td>\n",
       "      <td>24900</td>\n",
       "      <td>191</td>\n",
       "      <td>260</td>\n",
       "      <td>Manual</td>\n",
       "      <td>Petrol</td>\n",
       "      <td>NaN</td>\n",
       "      <td>- (g/km)</td>\n",
       "      <td>190000.0</td>\n",
       "      <td>Q4 Allrad, 3.2L GTA</td>\n",
       "    </tr>\n",
       "    <tr>\n",
       "      <th>2</th>\n",
       "      <td>2</td>\n",
       "      <td>alfa-romeo</td>\n",
       "      <td>Alfa Romeo Spider</td>\n",
       "      <td>black</td>\n",
       "      <td>02/1995</td>\n",
       "      <td>1995</td>\n",
       "      <td>5900</td>\n",
       "      <td>110</td>\n",
       "      <td>150</td>\n",
       "      <td>Unknown</td>\n",
       "      <td>Petrol</td>\n",
       "      <td>NaN</td>\n",
       "      <td>- (g/km)</td>\n",
       "      <td>129000.0</td>\n",
       "      <td>ALFA ROME 916</td>\n",
       "    </tr>\n",
       "    <tr>\n",
       "      <th>3</th>\n",
       "      <td>3</td>\n",
       "      <td>alfa-romeo</td>\n",
       "      <td>Alfa Romeo Spider</td>\n",
       "      <td>black</td>\n",
       "      <td>07/1995</td>\n",
       "      <td>1995</td>\n",
       "      <td>4900</td>\n",
       "      <td>110</td>\n",
       "      <td>150</td>\n",
       "      <td>Manual</td>\n",
       "      <td>Petrol</td>\n",
       "      <td>9,5 l/100 km</td>\n",
       "      <td>225 g/km</td>\n",
       "      <td>189500.0</td>\n",
       "      <td>2.0 16V Twin Spark L</td>\n",
       "    </tr>\n",
       "    <tr>\n",
       "      <th>4</th>\n",
       "      <td>4</td>\n",
       "      <td>alfa-romeo</td>\n",
       "      <td>Alfa Romeo 164</td>\n",
       "      <td>red</td>\n",
       "      <td>11/1996</td>\n",
       "      <td>1996</td>\n",
       "      <td>17950</td>\n",
       "      <td>132</td>\n",
       "      <td>179</td>\n",
       "      <td>Manual</td>\n",
       "      <td>Petrol</td>\n",
       "      <td>7,2 l/100 km</td>\n",
       "      <td>- (g/km)</td>\n",
       "      <td>96127.0</td>\n",
       "      <td>3.0i Super V6, absoluter Topzustand !</td>\n",
       "    </tr>\n",
       "    <tr>\n",
       "      <th>...</th>\n",
       "      <td>...</td>\n",
       "      <td>...</td>\n",
       "      <td>...</td>\n",
       "      <td>...</td>\n",
       "      <td>...</td>\n",
       "      <td>...</td>\n",
       "      <td>...</td>\n",
       "      <td>...</td>\n",
       "      <td>...</td>\n",
       "      <td>...</td>\n",
       "      <td>...</td>\n",
       "      <td>...</td>\n",
       "      <td>...</td>\n",
       "      <td>...</td>\n",
       "      <td>...</td>\n",
       "    </tr>\n",
       "    <tr>\n",
       "      <th>251074</th>\n",
       "      <td>251074</td>\n",
       "      <td>volvo</td>\n",
       "      <td>Volvo XC40</td>\n",
       "      <td>white</td>\n",
       "      <td>04/2023</td>\n",
       "      <td>2023</td>\n",
       "      <td>57990</td>\n",
       "      <td>192</td>\n",
       "      <td>261</td>\n",
       "      <td>Automatic</td>\n",
       "      <td>Hybrid</td>\n",
       "      <td>NaN</td>\n",
       "      <td>43 km Reichweite</td>\n",
       "      <td>1229.0</td>\n",
       "      <td>Plus Bright T5 Recharge Intellisafe*Surround+P...</td>\n",
       "    </tr>\n",
       "    <tr>\n",
       "      <th>251075</th>\n",
       "      <td>251075</td>\n",
       "      <td>volvo</td>\n",
       "      <td>Volvo XC90</td>\n",
       "      <td>white</td>\n",
       "      <td>03/2023</td>\n",
       "      <td>2023</td>\n",
       "      <td>89690</td>\n",
       "      <td>173</td>\n",
       "      <td>235</td>\n",
       "      <td>Automatic</td>\n",
       "      <td>Diesel</td>\n",
       "      <td>7,6 l/100 km</td>\n",
       "      <td>202 g/km</td>\n",
       "      <td>4900.0</td>\n",
       "      <td>B5 AWD Diesel Ultimate Dark 7-Sitzer Massage F...</td>\n",
       "    </tr>\n",
       "    <tr>\n",
       "      <th>251076</th>\n",
       "      <td>251076</td>\n",
       "      <td>volvo</td>\n",
       "      <td>Volvo V60</td>\n",
       "      <td>white</td>\n",
       "      <td>05/2023</td>\n",
       "      <td>2023</td>\n",
       "      <td>61521</td>\n",
       "      <td>145</td>\n",
       "      <td>197</td>\n",
       "      <td>Automatic</td>\n",
       "      <td>Diesel</td>\n",
       "      <td>4,7 l/100 km</td>\n",
       "      <td>125 g/km</td>\n",
       "      <td>1531.0</td>\n",
       "      <td>B4 D Plus Dark 145 kW, 5-türig (Diesel)</td>\n",
       "    </tr>\n",
       "    <tr>\n",
       "      <th>251077</th>\n",
       "      <td>251077</td>\n",
       "      <td>volvo</td>\n",
       "      <td>Volvo XC40</td>\n",
       "      <td>white</td>\n",
       "      <td>05/2023</td>\n",
       "      <td>2023</td>\n",
       "      <td>57890</td>\n",
       "      <td>132</td>\n",
       "      <td>179</td>\n",
       "      <td>Automatic</td>\n",
       "      <td>Hybrid</td>\n",
       "      <td>NaN</td>\n",
       "      <td>45 km Reichweite</td>\n",
       "      <td>1500.0</td>\n",
       "      <td>T5 Recharge Plus Dark *Standh*360°*beh.Lenk</td>\n",
       "    </tr>\n",
       "    <tr>\n",
       "      <th>251078</th>\n",
       "      <td>251078</td>\n",
       "      <td>volvo</td>\n",
       "      <td>Volvo XC40</td>\n",
       "      <td>gold</td>\n",
       "      <td>03/2023</td>\n",
       "      <td>2023</td>\n",
       "      <td>52900</td>\n",
       "      <td>160</td>\n",
       "      <td>218</td>\n",
       "      <td>Automatic</td>\n",
       "      <td>Electric</td>\n",
       "      <td>NaN</td>\n",
       "      <td>438 km Reichweite</td>\n",
       "      <td>50.0</td>\n",
       "      <td>Ultimate Recharge Twin Motor AHK GJR</td>\n",
       "    </tr>\n",
       "  </tbody>\n",
       "</table>\n",
       "<p>251079 rows × 15 columns</p>\n",
       "</div>"
      ],
      "text/plain": [
       "        Unnamed: 0       brand              model  color registration_date  \\\n",
       "0                0  alfa-romeo     Alfa Romeo GTV    red           10/1995   \n",
       "1                1  alfa-romeo     Alfa Romeo 164  black           02/1995   \n",
       "2                2  alfa-romeo  Alfa Romeo Spider  black           02/1995   \n",
       "3                3  alfa-romeo  Alfa Romeo Spider  black           07/1995   \n",
       "4                4  alfa-romeo     Alfa Romeo 164    red           11/1996   \n",
       "...            ...         ...                ...    ...               ...   \n",
       "251074      251074       volvo         Volvo XC40  white           04/2023   \n",
       "251075      251075       volvo         Volvo XC90  white           03/2023   \n",
       "251076      251076       volvo          Volvo V60  white           05/2023   \n",
       "251077      251077       volvo         Volvo XC40  white           05/2023   \n",
       "251078      251078       volvo         Volvo XC40   gold           03/2023   \n",
       "\n",
       "        year price_in_euro power_kw power_ps transmission_type fuel_type  \\\n",
       "0       1995          1300      148      201            Manual    Petrol   \n",
       "1       1995         24900      191      260            Manual    Petrol   \n",
       "2       1995          5900      110      150           Unknown    Petrol   \n",
       "3       1995          4900      110      150            Manual    Petrol   \n",
       "4       1996         17950      132      179            Manual    Petrol   \n",
       "...      ...           ...      ...      ...               ...       ...   \n",
       "251074  2023         57990      192      261         Automatic    Hybrid   \n",
       "251075  2023         89690      173      235         Automatic    Diesel   \n",
       "251076  2023         61521      145      197         Automatic    Diesel   \n",
       "251077  2023         57890      132      179         Automatic    Hybrid   \n",
       "251078  2023         52900      160      218         Automatic  Electric   \n",
       "\n",
       "       fuel_consumption_l_100km fuel_consumption_g_km  mileage_in_km  \\\n",
       "0                 10,9 l/100 km              260 g/km       160500.0   \n",
       "1                           NaN              - (g/km)       190000.0   \n",
       "2                           NaN              - (g/km)       129000.0   \n",
       "3                  9,5 l/100 km              225 g/km       189500.0   \n",
       "4                  7,2 l/100 km              - (g/km)        96127.0   \n",
       "...                         ...                   ...            ...   \n",
       "251074                      NaN      43 km Reichweite         1229.0   \n",
       "251075             7,6 l/100 km              202 g/km         4900.0   \n",
       "251076             4,7 l/100 km              125 g/km         1531.0   \n",
       "251077                      NaN      45 km Reichweite         1500.0   \n",
       "251078                      NaN     438 km Reichweite           50.0   \n",
       "\n",
       "                                        offer_description  \n",
       "0                                               2.0 V6 TB  \n",
       "1                                     Q4 Allrad, 3.2L GTA  \n",
       "2                                           ALFA ROME 916  \n",
       "3                                    2.0 16V Twin Spark L  \n",
       "4                   3.0i Super V6, absoluter Topzustand !  \n",
       "...                                                   ...  \n",
       "251074  Plus Bright T5 Recharge Intellisafe*Surround+P...  \n",
       "251075  B5 AWD Diesel Ultimate Dark 7-Sitzer Massage F...  \n",
       "251076            B4 D Plus Dark 145 kW, 5-türig (Diesel)  \n",
       "251077        T5 Recharge Plus Dark *Standh*360°*beh.Lenk  \n",
       "251078               Ultimate Recharge Twin Motor AHK GJR  \n",
       "\n",
       "[251079 rows x 15 columns]"
      ]
     },
     "execution_count": 80,
     "metadata": {},
     "output_type": "execute_result"
    }
   ],
   "source": [
    "df"
   ]
  },
  {
   "cell_type": "code",
   "execution_count": 82,
   "id": "8416de6d",
   "metadata": {},
   "outputs": [
    {
     "data": {
      "text/plain": [
       "<bound method DataFrame.info of         Unnamed: 0       brand              model  color registration_date  \\\n",
       "0                0  alfa-romeo     Alfa Romeo GTV    red           10/1995   \n",
       "1                1  alfa-romeo     Alfa Romeo 164  black           02/1995   \n",
       "2                2  alfa-romeo  Alfa Romeo Spider  black           02/1995   \n",
       "3                3  alfa-romeo  Alfa Romeo Spider  black           07/1995   \n",
       "4                4  alfa-romeo     Alfa Romeo 164    red           11/1996   \n",
       "...            ...         ...                ...    ...               ...   \n",
       "251074      251074       volvo         Volvo XC40  white           04/2023   \n",
       "251075      251075       volvo         Volvo XC90  white           03/2023   \n",
       "251076      251076       volvo          Volvo V60  white           05/2023   \n",
       "251077      251077       volvo         Volvo XC40  white           05/2023   \n",
       "251078      251078       volvo         Volvo XC40   gold           03/2023   \n",
       "\n",
       "        year price_in_euro power_kw power_ps transmission_type fuel_type  \\\n",
       "0       1995          1300      148      201            Manual    Petrol   \n",
       "1       1995         24900      191      260            Manual    Petrol   \n",
       "2       1995          5900      110      150           Unknown    Petrol   \n",
       "3       1995          4900      110      150            Manual    Petrol   \n",
       "4       1996         17950      132      179            Manual    Petrol   \n",
       "...      ...           ...      ...      ...               ...       ...   \n",
       "251074  2023         57990      192      261         Automatic    Hybrid   \n",
       "251075  2023         89690      173      235         Automatic    Diesel   \n",
       "251076  2023         61521      145      197         Automatic    Diesel   \n",
       "251077  2023         57890      132      179         Automatic    Hybrid   \n",
       "251078  2023         52900      160      218         Automatic  Electric   \n",
       "\n",
       "       fuel_consumption_l_100km fuel_consumption_g_km  mileage_in_km  \\\n",
       "0                 10,9 l/100 km              260 g/km       160500.0   \n",
       "1                           NaN              - (g/km)       190000.0   \n",
       "2                           NaN              - (g/km)       129000.0   \n",
       "3                  9,5 l/100 km              225 g/km       189500.0   \n",
       "4                  7,2 l/100 km              - (g/km)        96127.0   \n",
       "...                         ...                   ...            ...   \n",
       "251074                      NaN      43 km Reichweite         1229.0   \n",
       "251075             7,6 l/100 km              202 g/km         4900.0   \n",
       "251076             4,7 l/100 km              125 g/km         1531.0   \n",
       "251077                      NaN      45 km Reichweite         1500.0   \n",
       "251078                      NaN     438 km Reichweite           50.0   \n",
       "\n",
       "                                        offer_description  \n",
       "0                                               2.0 V6 TB  \n",
       "1                                     Q4 Allrad, 3.2L GTA  \n",
       "2                                           ALFA ROME 916  \n",
       "3                                    2.0 16V Twin Spark L  \n",
       "4                   3.0i Super V6, absoluter Topzustand !  \n",
       "...                                                   ...  \n",
       "251074  Plus Bright T5 Recharge Intellisafe*Surround+P...  \n",
       "251075  B5 AWD Diesel Ultimate Dark 7-Sitzer Massage F...  \n",
       "251076            B4 D Plus Dark 145 kW, 5-türig (Diesel)  \n",
       "251077        T5 Recharge Plus Dark *Standh*360°*beh.Lenk  \n",
       "251078               Ultimate Recharge Twin Motor AHK GJR  \n",
       "\n",
       "[251079 rows x 15 columns]>"
      ]
     },
     "execution_count": 82,
     "metadata": {},
     "output_type": "execute_result"
    }
   ],
   "source": [
    "df.info"
   ]
  },
  {
   "cell_type": "code",
   "execution_count": 81,
   "id": "75b78829",
   "metadata": {},
   "outputs": [
    {
     "data": {
      "text/plain": [
       "<bound method NDFrame.describe of         Unnamed: 0       brand              model  color registration_date  \\\n",
       "0                0  alfa-romeo     Alfa Romeo GTV    red           10/1995   \n",
       "1                1  alfa-romeo     Alfa Romeo 164  black           02/1995   \n",
       "2                2  alfa-romeo  Alfa Romeo Spider  black           02/1995   \n",
       "3                3  alfa-romeo  Alfa Romeo Spider  black           07/1995   \n",
       "4                4  alfa-romeo     Alfa Romeo 164    red           11/1996   \n",
       "...            ...         ...                ...    ...               ...   \n",
       "251074      251074       volvo         Volvo XC40  white           04/2023   \n",
       "251075      251075       volvo         Volvo XC90  white           03/2023   \n",
       "251076      251076       volvo          Volvo V60  white           05/2023   \n",
       "251077      251077       volvo         Volvo XC40  white           05/2023   \n",
       "251078      251078       volvo         Volvo XC40   gold           03/2023   \n",
       "\n",
       "        year price_in_euro power_kw power_ps transmission_type fuel_type  \\\n",
       "0       1995          1300      148      201            Manual    Petrol   \n",
       "1       1995         24900      191      260            Manual    Petrol   \n",
       "2       1995          5900      110      150           Unknown    Petrol   \n",
       "3       1995          4900      110      150            Manual    Petrol   \n",
       "4       1996         17950      132      179            Manual    Petrol   \n",
       "...      ...           ...      ...      ...               ...       ...   \n",
       "251074  2023         57990      192      261         Automatic    Hybrid   \n",
       "251075  2023         89690      173      235         Automatic    Diesel   \n",
       "251076  2023         61521      145      197         Automatic    Diesel   \n",
       "251077  2023         57890      132      179         Automatic    Hybrid   \n",
       "251078  2023         52900      160      218         Automatic  Electric   \n",
       "\n",
       "       fuel_consumption_l_100km fuel_consumption_g_km  mileage_in_km  \\\n",
       "0                 10,9 l/100 km              260 g/km       160500.0   \n",
       "1                           NaN              - (g/km)       190000.0   \n",
       "2                           NaN              - (g/km)       129000.0   \n",
       "3                  9,5 l/100 km              225 g/km       189500.0   \n",
       "4                  7,2 l/100 km              - (g/km)        96127.0   \n",
       "...                         ...                   ...            ...   \n",
       "251074                      NaN      43 km Reichweite         1229.0   \n",
       "251075             7,6 l/100 km              202 g/km         4900.0   \n",
       "251076             4,7 l/100 km              125 g/km         1531.0   \n",
       "251077                      NaN      45 km Reichweite         1500.0   \n",
       "251078                      NaN     438 km Reichweite           50.0   \n",
       "\n",
       "                                        offer_description  \n",
       "0                                               2.0 V6 TB  \n",
       "1                                     Q4 Allrad, 3.2L GTA  \n",
       "2                                           ALFA ROME 916  \n",
       "3                                    2.0 16V Twin Spark L  \n",
       "4                   3.0i Super V6, absoluter Topzustand !  \n",
       "...                                                   ...  \n",
       "251074  Plus Bright T5 Recharge Intellisafe*Surround+P...  \n",
       "251075  B5 AWD Diesel Ultimate Dark 7-Sitzer Massage F...  \n",
       "251076            B4 D Plus Dark 145 kW, 5-türig (Diesel)  \n",
       "251077        T5 Recharge Plus Dark *Standh*360°*beh.Lenk  \n",
       "251078               Ultimate Recharge Twin Motor AHK GJR  \n",
       "\n",
       "[251079 rows x 15 columns]>"
      ]
     },
     "execution_count": 81,
     "metadata": {},
     "output_type": "execute_result"
    }
   ],
   "source": [
    "df.describe"
   ]
  },
  {
   "cell_type": "markdown",
   "id": "3938aedd",
   "metadata": {},
   "source": [
    "#### TODO:\n",
    "Check how data is cleaned here:\n",
    "https://www.kaggle.com/code/scarfsman/german-used-cars-data-cleaning-eda"
   ]
  },
  {
   "cell_type": "code",
   "execution_count": 88,
   "id": "dec99eb6",
   "metadata": {},
   "outputs": [
    {
     "name": "stdout",
     "output_type": "stream",
     "text": [
      "\n",
      "Missing values:\n",
      "Unnamed: 0                      0\n",
      "brand                           0\n",
      "model                           0\n",
      "color                         166\n",
      "registration_date               4\n",
      "year                            0\n",
      "price_in_euro                   0\n",
      "power_kw                      134\n",
      "power_ps                      129\n",
      "transmission_type               0\n",
      "fuel_type                       0\n",
      "fuel_consumption_l_100km    26873\n",
      "fuel_consumption_g_km           0\n",
      "mileage_in_km                 152\n",
      "offer_description               1\n",
      "dtype: int64\n"
     ]
    }
   ],
   "source": [
    "# Check for missing values\n",
    "print(\"\\nMissing values:\")\n",
    "print(data.isnull().sum())\n",
    "\n",
    "# Drop rows with missing values\n",
    "data.dropna(inplace=True)"
   ]
  },
  {
   "cell_type": "code",
   "execution_count": 89,
   "id": "ea963e1d",
   "metadata": {},
   "outputs": [
    {
     "data": {
      "text/plain": [
       "Index(['Unnamed: 0', 'brand', 'model', 'color', 'registration_date', 'year',\n",
       "       'price_in_euro', 'power_kw', 'power_ps', 'transmission_type',\n",
       "       'fuel_type', 'fuel_consumption_l_100km', 'fuel_consumption_g_km',\n",
       "       'mileage_in_km', 'offer_description'],\n",
       "      dtype='object')"
      ]
     },
     "execution_count": 89,
     "metadata": {},
     "output_type": "execute_result"
    }
   ],
   "source": [
    "# listing features\n",
    "df.columns"
   ]
  },
  {
   "cell_type": "code",
   "execution_count": 94,
   "id": "7c5948f1",
   "metadata": {},
   "outputs": [],
   "source": [
    "# renaming and dropping some columns \n",
    "df.rename(columns={\"price_in_euro\": \"price\"}, inplace=True)\n",
    "df.drop(columns=['Unnamed: 0'], inplace=True)"
   ]
  },
  {
   "cell_type": "code",
   "execution_count": 98,
   "id": "3e0f3f5c",
   "metadata": {},
   "outputs": [
    {
     "data": {
      "text/plain": [
       "Index(['brand', 'model', 'color', 'registration_date', 'year', 'price',\n",
       "       'power_kw', 'power_ps', 'transmission_type', 'fuel_type',\n",
       "       'fuel_consumption_l_100km', 'fuel_consumption_g_km', 'mileage_in_km',\n",
       "       'offer_description'],\n",
       "      dtype='object')"
      ]
     },
     "execution_count": 98,
     "metadata": {},
     "output_type": "execute_result"
    }
   ],
   "source": [
    "df.columns"
   ]
  },
  {
   "cell_type": "code",
   "execution_count": 99,
   "id": "5ab2f73c",
   "metadata": {},
   "outputs": [
    {
     "name": "stdout",
     "output_type": "stream",
     "text": [
      "object\n",
      "object\n",
      "object\n",
      "object\n",
      "object\n",
      "object\n",
      "object\n",
      "object\n",
      "object\n",
      "object\n",
      "object\n",
      "object\n",
      "float64\n",
      "object\n"
     ]
    }
   ],
   "source": [
    "#checking data type of the columns\n",
    "for col in ['brand', 'model', 'color', 'registration_date', 'year', 'price',\n",
    "       'power_kw', 'power_ps', 'transmission_type', 'fuel_type',\n",
    "       'fuel_consumption_l_100km', 'fuel_consumption_g_km', 'mileage_in_km',\n",
    "       'offer_description']:\n",
    "    print(df[col].dtype)"
   ]
  },
  {
   "cell_type": "code",
   "execution_count": 101,
   "id": "6a46f907",
   "metadata": {
    "scrolled": true
   },
   "outputs": [
    {
     "name": "stdout",
     "output_type": "stream",
     "text": [
      "['year', 'price', 'power_kw', 'fuel_consumption_g_km', 'mileage_in_km']\n"
     ]
    }
   ],
   "source": [
    "\"\"\"we select the following features w numerical values\n",
    "to be considered against the price\"\"\"\n",
    "numerical_cols = ['year','price','power_kw', 'fuel_consumption_g_km',\n",
    "       'mileage_in_km'] \n",
    "print(numerical_cols)"
   ]
  },
  {
   "cell_type": "code",
   "execution_count": 102,
   "id": "6b95d39c",
   "metadata": {},
   "outputs": [],
   "source": [
    "\"\"\"Defining list of categorical features\"\"\"\n",
    "categorical_cols = ['brand', 'model', 'fuel_type']"
   ]
  },
  {
   "cell_type": "markdown",
   "id": "9b82b0bd",
   "metadata": {},
   "source": [
    "### Anomolies and Outliars detection via matplotlib visualization\n",
    "For visual inspections, we plot histograms for numerical features and bar plots for categorical features"
   ]
  },
  {
   "cell_type": "markdown",
   "id": "5b9bc689",
   "metadata": {},
   "source": [
    "#### TODO:\n",
    "How to plot bar categorical columns? Below doesn't work..."
   ]
  },
  {
   "cell_type": "code",
   "execution_count": 105,
   "id": "ebc39bb8",
   "metadata": {},
   "outputs": [
    {
     "data": {
      "text/plain": [
       "\"\\nplt.figure(figsize=(10,6))\\nplt.bar(df['brand'],df[''])\\nplt.title('Number of Cars per Model')\\nplt.xlabel('model')\\nplt.ylabel('Number of Cars')\\nplt.show()\\n\""
      ]
     },
     "execution_count": 105,
     "metadata": {},
     "output_type": "execute_result"
    }
   ],
   "source": [
    "\"\"\"\n",
    "plt.figure(figsize=(10,6))\n",
    "plt.bar(df['brand'],df[''])\n",
    "plt.title('Number of Cars per Model')\n",
    "plt.xlabel('model')\n",
    "plt.ylabel('Number of Cars')\n",
    "plt.show()\n",
    "\"\"\""
   ]
  },
  {
   "cell_type": "markdown",
   "id": "76816c12",
   "metadata": {},
   "source": [
    "#### TODO:\n",
    "Fix below!"
   ]
  },
  {
   "cell_type": "code",
   "execution_count": 122,
   "id": "773ca6c6",
   "metadata": {},
   "outputs": [
    {
     "data": {
      "image/png": "[encoded data removed]",
      "text/plain": [
       "<Figure size 1000x600 with 1 Axes>"
      ]
     },
     "metadata": {},
     "output_type": "display_data"
    }
   ],
   "source": [
    "plt.figure(figsize=(10, 6))\n",
    "plt.hist(df['year'], bins=np.arange(1980, 2026, 5), alpha=0.7)\n",
    "years = np.arange(1980, 2026, 5)\n",
    "plt.xticks(years, rotation=45)\n",
    "plt.tight_layout()\n",
    "plt.show()"
   ]
  },
  {
   "cell_type": "code",
   "execution_count": 121,
   "id": "bd10a17a",
   "metadata": {},
   "outputs": [
    {
     "data": {
      "text/plain": [
       "(array([0., 0., 0., 0., 0., 0., 0., 0., 0., 0., 0., 0., 0., 0., 0., 0., 0.,\n",
       "        0., 0., 0., 0., 0., 0., 0., 0., 0., 0., 0., 0., 0., 0., 0., 0., 0.,\n",
       "        0., 0., 0., 0., 0., 0., 0., 0., 0., 0., 0., 0., 0., 0., 0., 0., 0.,\n",
       "        0., 0., 0., 0., 0., 0., 0., 0., 0., 0., 0., 0., 0., 0., 0., 0., 0.,\n",
       "        0., 0., 0., 0., 0., 0., 0., 0., 0., 0., 0., 0., 0., 0., 0., 0., 0.,\n",
       "        0., 0., 0., 0., 0., 0., 0., 0., 0., 0., 0., 0., 0., 0., 0.]),\n",
       " array([1980.  , 1980.42, 1980.84, 1981.26, 1981.68, 1982.1 , 1982.52,\n",
       "        1982.94, 1983.36, 1983.78, 1984.2 , 1984.62, 1985.04, 1985.46,\n",
       "        1985.88, 1986.3 , 1986.72, 1987.14, 1987.56, 1987.98, 1988.4 ,\n",
       "        1988.82, 1989.24, 1989.66, 1990.08, 1990.5 , 1990.92, 1991.34,\n",
       "        1991.76, 1992.18, 1992.6 , 1993.02, 1993.44, 1993.86, 1994.28,\n",
       "        1994.7 , 1995.12, 1995.54, 1995.96, 1996.38, 1996.8 , 1997.22,\n",
       "        1997.64, 1998.06, 1998.48, 1998.9 , 1999.32, 1999.74, 2000.16,\n",
       "        2000.58, 2001.  , 2001.42, 2001.84, 2002.26, 2002.68, 2003.1 ,\n",
       "        2003.52, 2003.94, 2004.36, 2004.78, 2005.2 , 2005.62, 2006.04,\n",
       "        2006.46, 2006.88, 2007.3 , 2007.72, 2008.14, 2008.56, 2008.98,\n",
       "        2009.4 , 2009.82, 2010.24, 2010.66, 2011.08, 2011.5 , 2011.92,\n",
       "        2012.34, 2012.76, 2013.18, 2013.6 , 2014.02, 2014.44, 2014.86,\n",
       "        2015.28, 2015.7 , 2016.12, 2016.54, 2016.96, 2017.38, 2017.8 ,\n",
       "        2018.22, 2018.64, 2019.06, 2019.48, 2019.9 , 2020.32, 2020.74,\n",
       "        2021.16, 2021.58, 2022.  ]),\n",
       " <BarContainer object of 100 artists>)"
      ]
     },
     "execution_count": 121,
     "metadata": {},
     "output_type": "execute_result"
    },
    {
     "data": {
      "image/png": "[encoded data removed]",
      "text/plain": [
       "<Figure size 1000x600 with 1 Axes>"
      ]
     },
     "metadata": {},
     "output_type": "display_data"
    }
   ],
   "source": [
    "plt.figure(figsize=(10,6))\n",
    "plt.hist(df['year'], 100, range=[1980, 2022])\n",
    "#plt.title(\"Number of Cars per Selected Features\")\n",
    "#plt.xlabel('year')\n",
    "#plt.ylabel(\"Number of Cars\")"
   ]
  },
  {
   "cell_type": "markdown",
   "id": "f37540be",
   "metadata": {},
   "source": [
    "#### TODO\n",
    "The above diagram shows that there are very few data for cars older than certain age. So perhaps we can delete them?"
   ]
  },
  {
   "cell_type": "code",
   "execution_count": 50,
   "id": "23df37ad",
   "metadata": {},
   "outputs": [
    {
     "data": {
      "text/plain": [
       "Text(0, 0.5, 'Number of Cars')"
      ]
     },
     "execution_count": 50,
     "metadata": {},
     "output_type": "execute_result"
    },
    {
     "name": "stderr",
     "output_type": "stream",
     "text": [
      "/usr/lib/python3/dist-packages/IPython/core/pylabtools.py:151: UserWarning: Glyph 128 (\\x80) missing from current font.\n",
      "  fig.canvas.print_figure(bytes_io, **kw)\n"
     ]
    },
    {
     "data": {
      "image/png": "[encoded data removed]",
      "text/plain": [
       "<Figure size 720x432 with 1 Axes>"
      ]
     },
     "metadata": {
      "needs_background": "light"
     },
     "output_type": "display_data"
    }
   ],
   "source": [
    "plt.figure(figsize=(10,6))\n",
    "plt.hist(df['price'],bins=20)\n",
    "plt.title(\"Number of Cars per Selected Features\")\n",
    "plt.xlabel('price')\n",
    "plt.ylabel(\"Number of Cars\")"
   ]
  },
  {
   "cell_type": "code",
   "execution_count": 123,
   "id": "d85a38a2",
   "metadata": {},
   "outputs": [
    {
     "ename": "TypeError",
     "evalue": "'value' must be an instance of str or bytes, not a float",
     "output_type": "error",
     "traceback": [
      "\u001b[0;31m---------------------------------------------------------------------------\u001b[0m",
      "\u001b[0;31mTypeError\u001b[0m                                 Traceback (most recent call last)",
      "Cell \u001b[0;32mIn[123], line 2\u001b[0m\n\u001b[1;32m      1\u001b[0m plt\u001b[38;5;241m.\u001b[39mfigure(figsize\u001b[38;5;241m=\u001b[39m(\u001b[38;5;241m10\u001b[39m,\u001b[38;5;241m6\u001b[39m))\n\u001b[0;32m----> 2\u001b[0m \u001b[43mplt\u001b[49m\u001b[38;5;241;43m.\u001b[39;49m\u001b[43mhist\u001b[49m\u001b[43m(\u001b[49m\u001b[43mdf\u001b[49m\u001b[43m[\u001b[49m\u001b[38;5;124;43m'\u001b[39;49m\u001b[38;5;124;43mpower_kw\u001b[39;49m\u001b[38;5;124;43m'\u001b[39;49m\u001b[43m]\u001b[49m\u001b[43m,\u001b[49m\u001b[43mbins\u001b[49m\u001b[38;5;241;43m=\u001b[39;49m\u001b[38;5;241;43m20\u001b[39;49m\u001b[43m)\u001b[49m\n\u001b[1;32m      3\u001b[0m plt\u001b[38;5;241m.\u001b[39mtitle(\u001b[38;5;124m\"\u001b[39m\u001b[38;5;124mNumber of Cars per Selected Features\u001b[39m\u001b[38;5;124m\"\u001b[39m)\n\u001b[1;32m      4\u001b[0m plt\u001b[38;5;241m.\u001b[39mxlabel(\u001b[38;5;124m'\u001b[39m\u001b[38;5;124mpower_kw\u001b[39m\u001b[38;5;124m'\u001b[39m)\n",
      "File \u001b[0;32m~/opt/anaconda3/lib/python3.8/site-packages/matplotlib/pyplot.py:2645\u001b[0m, in \u001b[0;36mhist\u001b[0;34m(x, bins, range, density, weights, cumulative, bottom, histtype, align, orientation, rwidth, log, color, label, stacked, data, **kwargs)\u001b[0m\n\u001b[1;32m   2639\u001b[0m \u001b[38;5;129m@_copy_docstring_and_deprecators\u001b[39m(Axes\u001b[38;5;241m.\u001b[39mhist)\n\u001b[1;32m   2640\u001b[0m \u001b[38;5;28;01mdef\u001b[39;00m \u001b[38;5;21mhist\u001b[39m(\n\u001b[1;32m   2641\u001b[0m         x, bins\u001b[38;5;241m=\u001b[39m\u001b[38;5;28;01mNone\u001b[39;00m, \u001b[38;5;28mrange\u001b[39m\u001b[38;5;241m=\u001b[39m\u001b[38;5;28;01mNone\u001b[39;00m, density\u001b[38;5;241m=\u001b[39m\u001b[38;5;28;01mFalse\u001b[39;00m, weights\u001b[38;5;241m=\u001b[39m\u001b[38;5;28;01mNone\u001b[39;00m,\n\u001b[1;32m   2642\u001b[0m         cumulative\u001b[38;5;241m=\u001b[39m\u001b[38;5;28;01mFalse\u001b[39;00m, bottom\u001b[38;5;241m=\u001b[39m\u001b[38;5;28;01mNone\u001b[39;00m, histtype\u001b[38;5;241m=\u001b[39m\u001b[38;5;124m'\u001b[39m\u001b[38;5;124mbar\u001b[39m\u001b[38;5;124m'\u001b[39m, align\u001b[38;5;241m=\u001b[39m\u001b[38;5;124m'\u001b[39m\u001b[38;5;124mmid\u001b[39m\u001b[38;5;124m'\u001b[39m,\n\u001b[1;32m   2643\u001b[0m         orientation\u001b[38;5;241m=\u001b[39m\u001b[38;5;124m'\u001b[39m\u001b[38;5;124mvertical\u001b[39m\u001b[38;5;124m'\u001b[39m, rwidth\u001b[38;5;241m=\u001b[39m\u001b[38;5;28;01mNone\u001b[39;00m, log\u001b[38;5;241m=\u001b[39m\u001b[38;5;28;01mFalse\u001b[39;00m, color\u001b[38;5;241m=\u001b[39m\u001b[38;5;28;01mNone\u001b[39;00m,\n\u001b[1;32m   2644\u001b[0m         label\u001b[38;5;241m=\u001b[39m\u001b[38;5;28;01mNone\u001b[39;00m, stacked\u001b[38;5;241m=\u001b[39m\u001b[38;5;28;01mFalse\u001b[39;00m, \u001b[38;5;241m*\u001b[39m, data\u001b[38;5;241m=\u001b[39m\u001b[38;5;28;01mNone\u001b[39;00m, \u001b[38;5;241m*\u001b[39m\u001b[38;5;241m*\u001b[39mkwargs):\n\u001b[0;32m-> 2645\u001b[0m     \u001b[38;5;28;01mreturn\u001b[39;00m \u001b[43mgca\u001b[49m\u001b[43m(\u001b[49m\u001b[43m)\u001b[49m\u001b[38;5;241;43m.\u001b[39;49m\u001b[43mhist\u001b[49m\u001b[43m(\u001b[49m\n\u001b[1;32m   2646\u001b[0m \u001b[43m        \u001b[49m\u001b[43mx\u001b[49m\u001b[43m,\u001b[49m\u001b[43m \u001b[49m\u001b[43mbins\u001b[49m\u001b[38;5;241;43m=\u001b[39;49m\u001b[43mbins\u001b[49m\u001b[43m,\u001b[49m\u001b[43m \u001b[49m\u001b[38;5;28;43mrange\u001b[39;49m\u001b[38;5;241;43m=\u001b[39;49m\u001b[38;5;28;43mrange\u001b[39;49m\u001b[43m,\u001b[49m\u001b[43m \u001b[49m\u001b[43mdensity\u001b[49m\u001b[38;5;241;43m=\u001b[39;49m\u001b[43mdensity\u001b[49m\u001b[43m,\u001b[49m\u001b[43m \u001b[49m\u001b[43mweights\u001b[49m\u001b[38;5;241;43m=\u001b[39;49m\u001b[43mweights\u001b[49m\u001b[43m,\u001b[49m\n\u001b[1;32m   2647\u001b[0m \u001b[43m        \u001b[49m\u001b[43mcumulative\u001b[49m\u001b[38;5;241;43m=\u001b[39;49m\u001b[43mcumulative\u001b[49m\u001b[43m,\u001b[49m\u001b[43m \u001b[49m\u001b[43mbottom\u001b[49m\u001b[38;5;241;43m=\u001b[39;49m\u001b[43mbottom\u001b[49m\u001b[43m,\u001b[49m\u001b[43m \u001b[49m\u001b[43mhisttype\u001b[49m\u001b[38;5;241;43m=\u001b[39;49m\u001b[43mhisttype\u001b[49m\u001b[43m,\u001b[49m\n\u001b[1;32m   2648\u001b[0m \u001b[43m        \u001b[49m\u001b[43malign\u001b[49m\u001b[38;5;241;43m=\u001b[39;49m\u001b[43malign\u001b[49m\u001b[43m,\u001b[49m\u001b[43m \u001b[49m\u001b[43morientation\u001b[49m\u001b[38;5;241;43m=\u001b[39;49m\u001b[43morientation\u001b[49m\u001b[43m,\u001b[49m\u001b[43m \u001b[49m\u001b[43mrwidth\u001b[49m\u001b[38;5;241;43m=\u001b[39;49m\u001b[43mrwidth\u001b[49m\u001b[43m,\u001b[49m\u001b[43m \u001b[49m\u001b[43mlog\u001b[49m\u001b[38;5;241;43m=\u001b[39;49m\u001b[43mlog\u001b[49m\u001b[43m,\u001b[49m\n\u001b[1;32m   2649\u001b[0m \u001b[43m        \u001b[49m\u001b[43mcolor\u001b[49m\u001b[38;5;241;43m=\u001b[39;49m\u001b[43mcolor\u001b[49m\u001b[43m,\u001b[49m\u001b[43m \u001b[49m\u001b[43mlabel\u001b[49m\u001b[38;5;241;43m=\u001b[39;49m\u001b[43mlabel\u001b[49m\u001b[43m,\u001b[49m\u001b[43m \u001b[49m\u001b[43mstacked\u001b[49m\u001b[38;5;241;43m=\u001b[39;49m\u001b[43mstacked\u001b[49m\u001b[43m,\u001b[49m\n\u001b[1;32m   2650\u001b[0m \u001b[43m        \u001b[49m\u001b[38;5;241;43m*\u001b[39;49m\u001b[38;5;241;43m*\u001b[39;49m\u001b[43m(\u001b[49m\u001b[43m{\u001b[49m\u001b[38;5;124;43m\"\u001b[39;49m\u001b[38;5;124;43mdata\u001b[39;49m\u001b[38;5;124;43m\"\u001b[39;49m\u001b[43m:\u001b[49m\u001b[43m \u001b[49m\u001b[43mdata\u001b[49m\u001b[43m}\u001b[49m\u001b[43m \u001b[49m\u001b[38;5;28;43;01mif\u001b[39;49;00m\u001b[43m \u001b[49m\u001b[43mdata\u001b[49m\u001b[43m \u001b[49m\u001b[38;5;129;43;01mis\u001b[39;49;00m\u001b[43m \u001b[49m\u001b[38;5;129;43;01mnot\u001b[39;49;00m\u001b[43m \u001b[49m\u001b[38;5;28;43;01mNone\u001b[39;49;00m\u001b[43m \u001b[49m\u001b[38;5;28;43;01melse\u001b[39;49;00m\u001b[43m \u001b[49m\u001b[43m{\u001b[49m\u001b[43m}\u001b[49m\u001b[43m)\u001b[49m\u001b[43m,\u001b[49m\u001b[43m \u001b[49m\u001b[38;5;241;43m*\u001b[39;49m\u001b[38;5;241;43m*\u001b[39;49m\u001b[43mkwargs\u001b[49m\u001b[43m)\u001b[49m\n",
      "File \u001b[0;32m~/opt/anaconda3/lib/python3.8/site-packages/matplotlib/__init__.py:1446\u001b[0m, in \u001b[0;36m_preprocess_data.<locals>.inner\u001b[0;34m(ax, data, *args, **kwargs)\u001b[0m\n\u001b[1;32m   1443\u001b[0m \u001b[38;5;129m@functools\u001b[39m\u001b[38;5;241m.\u001b[39mwraps(func)\n\u001b[1;32m   1444\u001b[0m \u001b[38;5;28;01mdef\u001b[39;00m \u001b[38;5;21minner\u001b[39m(ax, \u001b[38;5;241m*\u001b[39margs, data\u001b[38;5;241m=\u001b[39m\u001b[38;5;28;01mNone\u001b[39;00m, \u001b[38;5;241m*\u001b[39m\u001b[38;5;241m*\u001b[39mkwargs):\n\u001b[1;32m   1445\u001b[0m     \u001b[38;5;28;01mif\u001b[39;00m data \u001b[38;5;129;01mis\u001b[39;00m \u001b[38;5;28;01mNone\u001b[39;00m:\n\u001b[0;32m-> 1446\u001b[0m         \u001b[38;5;28;01mreturn\u001b[39;00m \u001b[43mfunc\u001b[49m\u001b[43m(\u001b[49m\u001b[43max\u001b[49m\u001b[43m,\u001b[49m\u001b[43m \u001b[49m\u001b[38;5;241;43m*\u001b[39;49m\u001b[38;5;28;43mmap\u001b[39;49m\u001b[43m(\u001b[49m\u001b[43msanitize_sequence\u001b[49m\u001b[43m,\u001b[49m\u001b[43m \u001b[49m\u001b[43margs\u001b[49m\u001b[43m)\u001b[49m\u001b[43m,\u001b[49m\u001b[43m \u001b[49m\u001b[38;5;241;43m*\u001b[39;49m\u001b[38;5;241;43m*\u001b[39;49m\u001b[43mkwargs\u001b[49m\u001b[43m)\u001b[49m\n\u001b[1;32m   1448\u001b[0m     bound \u001b[38;5;241m=\u001b[39m new_sig\u001b[38;5;241m.\u001b[39mbind(ax, \u001b[38;5;241m*\u001b[39margs, \u001b[38;5;241m*\u001b[39m\u001b[38;5;241m*\u001b[39mkwargs)\n\u001b[1;32m   1449\u001b[0m     auto_label \u001b[38;5;241m=\u001b[39m (bound\u001b[38;5;241m.\u001b[39marguments\u001b[38;5;241m.\u001b[39mget(label_namer)\n\u001b[1;32m   1450\u001b[0m                   \u001b[38;5;129;01mor\u001b[39;00m bound\u001b[38;5;241m.\u001b[39mkwargs\u001b[38;5;241m.\u001b[39mget(label_namer))\n",
      "File \u001b[0;32m~/opt/anaconda3/lib/python3.8/site-packages/matplotlib/axes/_axes.py:6712\u001b[0m, in \u001b[0;36mAxes.hist\u001b[0;34m(self, x, bins, range, density, weights, cumulative, bottom, histtype, align, orientation, rwidth, log, color, label, stacked, **kwargs)\u001b[0m\n\u001b[1;32m   6710\u001b[0m \u001b[38;5;28;01mif\u001b[39;00m orientation \u001b[38;5;241m==\u001b[39m \u001b[38;5;124m\"\u001b[39m\u001b[38;5;124mvertical\u001b[39m\u001b[38;5;124m\"\u001b[39m:\n\u001b[1;32m   6711\u001b[0m     convert_units \u001b[38;5;241m=\u001b[39m \u001b[38;5;28mself\u001b[39m\u001b[38;5;241m.\u001b[39mconvert_xunits\n\u001b[0;32m-> 6712\u001b[0m     x \u001b[38;5;241m=\u001b[39m [\u001b[38;5;241m*\u001b[39m\u001b[38;5;28;43mself\u001b[39;49m\u001b[38;5;241;43m.\u001b[39;49m\u001b[43m_process_unit_info\u001b[49m\u001b[43m(\u001b[49m\u001b[43m[\u001b[49m\u001b[43m(\u001b[49m\u001b[38;5;124;43m\"\u001b[39;49m\u001b[38;5;124;43mx\u001b[39;49m\u001b[38;5;124;43m\"\u001b[39;49m\u001b[43m,\u001b[49m\u001b[43m \u001b[49m\u001b[43mx\u001b[49m\u001b[43m[\u001b[49m\u001b[38;5;241;43m0\u001b[39;49m\u001b[43m]\u001b[49m\u001b[43m)\u001b[49m\u001b[43m]\u001b[49m\u001b[43m,\u001b[49m\u001b[43m \u001b[49m\u001b[43mkwargs\u001b[49m\u001b[43m)\u001b[49m,\n\u001b[1;32m   6713\u001b[0m          \u001b[38;5;241m*\u001b[39m\u001b[38;5;28mmap\u001b[39m(convert_units, x[\u001b[38;5;241m1\u001b[39m:])]\n\u001b[1;32m   6714\u001b[0m \u001b[38;5;28;01melse\u001b[39;00m:  \u001b[38;5;66;03m# horizontal\u001b[39;00m\n\u001b[1;32m   6715\u001b[0m     convert_units \u001b[38;5;241m=\u001b[39m \u001b[38;5;28mself\u001b[39m\u001b[38;5;241m.\u001b[39mconvert_yunits\n",
      "File \u001b[0;32m~/opt/anaconda3/lib/python3.8/site-packages/matplotlib/axes/_base.py:2549\u001b[0m, in \u001b[0;36m_AxesBase._process_unit_info\u001b[0;34m(self, datasets, kwargs, convert)\u001b[0m\n\u001b[1;32m   2547\u001b[0m     \u001b[38;5;66;03m# Update from data if axis is already set but no unit is set yet.\u001b[39;00m\n\u001b[1;32m   2548\u001b[0m     \u001b[38;5;28;01mif\u001b[39;00m axis \u001b[38;5;129;01mis\u001b[39;00m \u001b[38;5;129;01mnot\u001b[39;00m \u001b[38;5;28;01mNone\u001b[39;00m \u001b[38;5;129;01mand\u001b[39;00m data \u001b[38;5;129;01mis\u001b[39;00m \u001b[38;5;129;01mnot\u001b[39;00m \u001b[38;5;28;01mNone\u001b[39;00m \u001b[38;5;129;01mand\u001b[39;00m \u001b[38;5;129;01mnot\u001b[39;00m axis\u001b[38;5;241m.\u001b[39mhave_units():\n\u001b[0;32m-> 2549\u001b[0m         \u001b[43maxis\u001b[49m\u001b[38;5;241;43m.\u001b[39;49m\u001b[43mupdate_units\u001b[49m\u001b[43m(\u001b[49m\u001b[43mdata\u001b[49m\u001b[43m)\u001b[49m\n\u001b[1;32m   2550\u001b[0m \u001b[38;5;28;01mfor\u001b[39;00m axis_name, axis \u001b[38;5;129;01min\u001b[39;00m axis_map\u001b[38;5;241m.\u001b[39mitems():\n\u001b[1;32m   2551\u001b[0m     \u001b[38;5;66;03m# Return if no axis is set.\u001b[39;00m\n\u001b[1;32m   2552\u001b[0m     \u001b[38;5;28;01mif\u001b[39;00m axis \u001b[38;5;129;01mis\u001b[39;00m \u001b[38;5;28;01mNone\u001b[39;00m:\n",
      "File \u001b[0;32m~/opt/anaconda3/lib/python3.8/site-packages/matplotlib/axis.py:1675\u001b[0m, in \u001b[0;36mAxis.update_units\u001b[0;34m(self, data)\u001b[0m\n\u001b[1;32m   1673\u001b[0m neednew \u001b[38;5;241m=\u001b[39m \u001b[38;5;28mself\u001b[39m\u001b[38;5;241m.\u001b[39mconverter \u001b[38;5;241m!=\u001b[39m converter\n\u001b[1;32m   1674\u001b[0m \u001b[38;5;28mself\u001b[39m\u001b[38;5;241m.\u001b[39mconverter \u001b[38;5;241m=\u001b[39m converter\n\u001b[0;32m-> 1675\u001b[0m default \u001b[38;5;241m=\u001b[39m \u001b[38;5;28;43mself\u001b[39;49m\u001b[38;5;241;43m.\u001b[39;49m\u001b[43mconverter\u001b[49m\u001b[38;5;241;43m.\u001b[39;49m\u001b[43mdefault_units\u001b[49m\u001b[43m(\u001b[49m\u001b[43mdata\u001b[49m\u001b[43m,\u001b[49m\u001b[43m \u001b[49m\u001b[38;5;28;43mself\u001b[39;49m\u001b[43m)\u001b[49m\n\u001b[1;32m   1676\u001b[0m \u001b[38;5;28;01mif\u001b[39;00m default \u001b[38;5;129;01mis\u001b[39;00m \u001b[38;5;129;01mnot\u001b[39;00m \u001b[38;5;28;01mNone\u001b[39;00m \u001b[38;5;129;01mand\u001b[39;00m \u001b[38;5;28mself\u001b[39m\u001b[38;5;241m.\u001b[39munits \u001b[38;5;129;01mis\u001b[39;00m \u001b[38;5;28;01mNone\u001b[39;00m:\n\u001b[1;32m   1677\u001b[0m     \u001b[38;5;28mself\u001b[39m\u001b[38;5;241m.\u001b[39mset_units(default)\n",
      "File \u001b[0;32m~/opt/anaconda3/lib/python3.8/site-packages/matplotlib/category.py:105\u001b[0m, in \u001b[0;36mStrCategoryConverter.default_units\u001b[0;34m(data, axis)\u001b[0m\n\u001b[1;32m    103\u001b[0m \u001b[38;5;66;03m# the conversion call stack is default_units -> axis_info -> convert\u001b[39;00m\n\u001b[1;32m    104\u001b[0m \u001b[38;5;28;01mif\u001b[39;00m axis\u001b[38;5;241m.\u001b[39munits \u001b[38;5;129;01mis\u001b[39;00m \u001b[38;5;28;01mNone\u001b[39;00m:\n\u001b[0;32m--> 105\u001b[0m     axis\u001b[38;5;241m.\u001b[39mset_units(\u001b[43mUnitData\u001b[49m\u001b[43m(\u001b[49m\u001b[43mdata\u001b[49m\u001b[43m)\u001b[49m)\n\u001b[1;32m    106\u001b[0m \u001b[38;5;28;01melse\u001b[39;00m:\n\u001b[1;32m    107\u001b[0m     axis\u001b[38;5;241m.\u001b[39munits\u001b[38;5;241m.\u001b[39mupdate(data)\n",
      "File \u001b[0;32m~/opt/anaconda3/lib/python3.8/site-packages/matplotlib/category.py:181\u001b[0m, in \u001b[0;36mUnitData.__init__\u001b[0;34m(self, data)\u001b[0m\n\u001b[1;32m    179\u001b[0m \u001b[38;5;28mself\u001b[39m\u001b[38;5;241m.\u001b[39m_counter \u001b[38;5;241m=\u001b[39m itertools\u001b[38;5;241m.\u001b[39mcount()\n\u001b[1;32m    180\u001b[0m \u001b[38;5;28;01mif\u001b[39;00m data \u001b[38;5;129;01mis\u001b[39;00m \u001b[38;5;129;01mnot\u001b[39;00m \u001b[38;5;28;01mNone\u001b[39;00m:\n\u001b[0;32m--> 181\u001b[0m     \u001b[38;5;28;43mself\u001b[39;49m\u001b[38;5;241;43m.\u001b[39;49m\u001b[43mupdate\u001b[49m\u001b[43m(\u001b[49m\u001b[43mdata\u001b[49m\u001b[43m)\u001b[49m\n",
      "File \u001b[0;32m~/opt/anaconda3/lib/python3.8/site-packages/matplotlib/category.py:216\u001b[0m, in \u001b[0;36mUnitData.update\u001b[0;34m(self, data)\u001b[0m\n\u001b[1;32m    213\u001b[0m convertible \u001b[38;5;241m=\u001b[39m \u001b[38;5;28;01mTrue\u001b[39;00m\n\u001b[1;32m    214\u001b[0m \u001b[38;5;28;01mfor\u001b[39;00m val \u001b[38;5;129;01min\u001b[39;00m OrderedDict\u001b[38;5;241m.\u001b[39mfromkeys(data):\n\u001b[1;32m    215\u001b[0m     \u001b[38;5;66;03m# OrderedDict just iterates over unique values in data.\u001b[39;00m\n\u001b[0;32m--> 216\u001b[0m     \u001b[43m_api\u001b[49m\u001b[38;5;241;43m.\u001b[39;49m\u001b[43mcheck_isinstance\u001b[49m\u001b[43m(\u001b[49m\u001b[43m(\u001b[49m\u001b[38;5;28;43mstr\u001b[39;49m\u001b[43m,\u001b[49m\u001b[43m \u001b[49m\u001b[38;5;28;43mbytes\u001b[39;49m\u001b[43m)\u001b[49m\u001b[43m,\u001b[49m\u001b[43m \u001b[49m\u001b[43mvalue\u001b[49m\u001b[38;5;241;43m=\u001b[39;49m\u001b[43mval\u001b[49m\u001b[43m)\u001b[49m\n\u001b[1;32m    217\u001b[0m     \u001b[38;5;28;01mif\u001b[39;00m convertible:\n\u001b[1;32m    218\u001b[0m         \u001b[38;5;66;03m# this will only be called so long as convertible is True.\u001b[39;00m\n\u001b[1;32m    219\u001b[0m         convertible \u001b[38;5;241m=\u001b[39m \u001b[38;5;28mself\u001b[39m\u001b[38;5;241m.\u001b[39m_str_is_convertible(val)\n",
      "File \u001b[0;32m~/opt/anaconda3/lib/python3.8/site-packages/matplotlib/_api/__init__.py:93\u001b[0m, in \u001b[0;36mcheck_isinstance\u001b[0;34m(_types, **kwargs)\u001b[0m\n\u001b[1;32m     91\u001b[0m     names\u001b[38;5;241m.\u001b[39mremove(\u001b[38;5;124m\"\u001b[39m\u001b[38;5;124mNone\u001b[39m\u001b[38;5;124m\"\u001b[39m)\n\u001b[1;32m     92\u001b[0m     names\u001b[38;5;241m.\u001b[39mappend(\u001b[38;5;124m\"\u001b[39m\u001b[38;5;124mNone\u001b[39m\u001b[38;5;124m\"\u001b[39m)\n\u001b[0;32m---> 93\u001b[0m \u001b[38;5;28;01mraise\u001b[39;00m \u001b[38;5;167;01mTypeError\u001b[39;00m(\n\u001b[1;32m     94\u001b[0m     \u001b[38;5;124m\"\u001b[39m\u001b[38;5;132;01m{!r}\u001b[39;00m\u001b[38;5;124m must be an instance of \u001b[39m\u001b[38;5;132;01m{}\u001b[39;00m\u001b[38;5;124m, not a \u001b[39m\u001b[38;5;132;01m{}\u001b[39;00m\u001b[38;5;124m\"\u001b[39m\u001b[38;5;241m.\u001b[39mformat(\n\u001b[1;32m     95\u001b[0m         k,\n\u001b[1;32m     96\u001b[0m         \u001b[38;5;124m\"\u001b[39m\u001b[38;5;124m, \u001b[39m\u001b[38;5;124m\"\u001b[39m\u001b[38;5;241m.\u001b[39mjoin(names[:\u001b[38;5;241m-\u001b[39m\u001b[38;5;241m1\u001b[39m]) \u001b[38;5;241m+\u001b[39m \u001b[38;5;124m\"\u001b[39m\u001b[38;5;124m or \u001b[39m\u001b[38;5;124m\"\u001b[39m \u001b[38;5;241m+\u001b[39m names[\u001b[38;5;241m-\u001b[39m\u001b[38;5;241m1\u001b[39m]\n\u001b[1;32m     97\u001b[0m         \u001b[38;5;28;01mif\u001b[39;00m \u001b[38;5;28mlen\u001b[39m(names) \u001b[38;5;241m>\u001b[39m \u001b[38;5;241m1\u001b[39m \u001b[38;5;28;01melse\u001b[39;00m names[\u001b[38;5;241m0\u001b[39m],\n\u001b[1;32m     98\u001b[0m         type_name(\u001b[38;5;28mtype\u001b[39m(v))))\n",
      "\u001b[0;31mTypeError\u001b[0m: 'value' must be an instance of str or bytes, not a float"
     ]
    },
    {
     "data": {
      "image/png": "[encoded data removed]",
      "text/plain": [
       "<Figure size 1000x600 with 1 Axes>"
      ]
     },
     "metadata": {},
     "output_type": "display_data"
    }
   ],
   "source": [
    "plt.figure(figsize=(10,6))\n",
    "plt.hist(df['power_kw'],bins=20)\n",
    "plt.title(\"Number of Cars per Selected Features\")\n",
    "plt.xlabel('power_kw')\n",
    "plt.ylabel(\"Number of Cars\")"
   ]
  },
  {
   "cell_type": "code",
   "execution_count": null,
   "id": "729f9c43",
   "metadata": {},
   "outputs": [],
   "source": []
  },
  {
   "cell_type": "markdown",
   "id": "a79f8b8d",
   "metadata": {},
   "source": [
    "#### TODO\n",
    "Above error happend because some elements in the power_kw column were of type float. One solution is to change the type into string as follows. Is this a good idea? \n",
    "##### NO: later str type produces problem; suggestion: First clean the file with dropna, etc. and then plot again"
   ]
  },
  {
   "cell_type": "code",
   "execution_count": 105,
   "id": "722723c7",
   "metadata": {},
   "outputs": [
    {
     "data": {
      "text/plain": [
       "Text(0, 0.5, 'Number of Cars')"
      ]
     },
     "execution_count": 105,
     "metadata": {},
     "output_type": "execute_result"
    },
    {
     "data": {
      "image/png": "[encoded data removed]",
      "text/plain": [
       "<Figure size 720x432 with 1 Axes>"
      ]
     },
     "metadata": {
      "needs_background": "light"
     },
     "output_type": "display_data"
    }
   ],
   "source": [
    "data['power_kw'] = data['power_kw'].astype(str)\n",
    "plt.figure(figsize=(10,6))\n",
    "plt.hist(d,bins=20)\n",
    "plt.xlabel('power_kw')\n",
    "plt.ylabel('Number of Cars')"
   ]
  },
  {
   "cell_type": "code",
   "execution_count": 134,
   "id": "337715e9",
   "metadata": {},
   "outputs": [
    {
     "data": {
      "text/plain": [
       "Text(0, 0.5, 'Number of Cars')"
      ]
     },
     "execution_count": 134,
     "metadata": {},
     "output_type": "execute_result"
    },
    {
     "data": {
      "image/png": "[encoded data removed]",
      "text/plain": [
       "<Figure size 1000x600 with 1 Axes>"
      ]
     },
     "metadata": {},
     "output_type": "display_data"
    }
   ],
   "source": [
    "plt.figure(figsize=(10,6))\n",
    "plt.hist(df['fuel_consumption_g_km'],bins=20)\n",
    "plt.title(\"Number of Cars per Selected Features\")\n",
    "plt.xlabel('fuel_consumption_l_100km')\n",
    "plt.ylabel(\"Number of Cars\")"
   ]
  },
  {
   "cell_type": "code",
   "execution_count": 132,
   "id": "f686529e",
   "metadata": {},
   "outputs": [
    {
     "data": {
      "text/plain": [
       "['year', 'price', 'power_kw', 'fuel_consumption_g_km', 'mileage_in_km']"
      ]
     },
     "execution_count": 132,
     "metadata": {},
     "output_type": "execute_result"
    }
   ],
   "source": [
    "numerical_cols"
   ]
  },
  {
   "cell_type": "code",
   "execution_count": 135,
   "id": "7589bd17",
   "metadata": {},
   "outputs": [
    {
     "data": {
      "text/plain": [
       "Text(0, 0.5, 'Number of Cars')"
      ]
     },
     "execution_count": 135,
     "metadata": {},
     "output_type": "execute_result"
    },
    {
     "data": {
      "image/png": "[encoded data removed]",
      "text/plain": [
       "<Figure size 1000x600 with 1 Axes>"
      ]
     },
     "metadata": {},
     "output_type": "display_data"
    }
   ],
   "source": [
    "plt.figure(figsize=(10,6))\n",
    "plt.hist(df['mileage_in_km'],bins=20)\n",
    "plt.title(\"Number of Cars per Selected Features\")\n",
    "plt.xlabel('mileage_in_km')\n",
    "plt.ylabel(\"Number of Cars\")"
   ]
  },
  {
   "cell_type": "code",
   "execution_count": 136,
   "id": "49249fb5",
   "metadata": {},
   "outputs": [
    {
     "name": "stdout",
     "output_type": "stream",
     "text": [
      "['year', 'price', 'power_kw', 'fuel_consumption_g_km', 'mileage_in_km'] ['brand', 'model', 'fuel_type']\n"
     ]
    }
   ],
   "source": [
    "print(numerical_cols,categorical_cols)"
   ]
  },
  {
   "cell_type": "code",
   "execution_count": 138,
   "id": "550c9dfd",
   "metadata": {},
   "outputs": [
    {
     "ename": "KeyError",
     "evalue": "'price'",
     "output_type": "error",
     "traceback": [
      "\u001b[0;31m---------------------------------------------------------------------------\u001b[0m",
      "\u001b[0;31mKeyError\u001b[0m                                  Traceback (most recent call last)",
      "File \u001b[0;32m~/opt/anaconda3/lib/python3.8/site-packages/pandas/core/indexes/base.py:3653\u001b[0m, in \u001b[0;36mIndex.get_loc\u001b[0;34m(self, key)\u001b[0m\n\u001b[1;32m   3652\u001b[0m \u001b[38;5;28;01mtry\u001b[39;00m:\n\u001b[0;32m-> 3653\u001b[0m     \u001b[38;5;28;01mreturn\u001b[39;00m \u001b[38;5;28;43mself\u001b[39;49m\u001b[38;5;241;43m.\u001b[39;49m\u001b[43m_engine\u001b[49m\u001b[38;5;241;43m.\u001b[39;49m\u001b[43mget_loc\u001b[49m\u001b[43m(\u001b[49m\u001b[43mcasted_key\u001b[49m\u001b[43m)\u001b[49m\n\u001b[1;32m   3654\u001b[0m \u001b[38;5;28;01mexcept\u001b[39;00m \u001b[38;5;167;01mKeyError\u001b[39;00m \u001b[38;5;28;01mas\u001b[39;00m err:\n",
      "File \u001b[0;32m~/opt/anaconda3/lib/python3.8/site-packages/pandas/_libs/index.pyx:147\u001b[0m, in \u001b[0;36mpandas._libs.index.IndexEngine.get_loc\u001b[0;34m()\u001b[0m\n",
      "File \u001b[0;32m~/opt/anaconda3/lib/python3.8/site-packages/pandas/_libs/index.pyx:176\u001b[0m, in \u001b[0;36mpandas._libs.index.IndexEngine.get_loc\u001b[0;34m()\u001b[0m\n",
      "File \u001b[0;32mpandas/_libs/hashtable_class_helper.pxi:7080\u001b[0m, in \u001b[0;36mpandas._libs.hashtable.PyObjectHashTable.get_item\u001b[0;34m()\u001b[0m\n",
      "File \u001b[0;32mpandas/_libs/hashtable_class_helper.pxi:7088\u001b[0m, in \u001b[0;36mpandas._libs.hashtable.PyObjectHashTable.get_item\u001b[0;34m()\u001b[0m\n",
      "\u001b[0;31mKeyError\u001b[0m: 'price'",
      "\nThe above exception was the direct cause of the following exception:\n",
      "\u001b[0;31mKeyError\u001b[0m                                  Traceback (most recent call last)",
      "Cell \u001b[0;32mIn[138], line 4\u001b[0m\n\u001b[1;32m      1\u001b[0m \u001b[38;5;66;03m#trying scattered plot of price vs other selected features does not give much info because of huge amoung of points\u001b[39;00m\n\u001b[1;32m      3\u001b[0m plt\u001b[38;5;241m.\u001b[39mfigure(figsize\u001b[38;5;241m=\u001b[39m(\u001b[38;5;241m10\u001b[39m,\u001b[38;5;241m6\u001b[39m))\n\u001b[0;32m----> 4\u001b[0m plt\u001b[38;5;241m.\u001b[39mscatter(\u001b[43mdata\u001b[49m\u001b[43m[\u001b[49m\u001b[38;5;124;43m'\u001b[39;49m\u001b[38;5;124;43mprice\u001b[39;49m\u001b[38;5;124;43m'\u001b[39;49m\u001b[43m]\u001b[49m, data[\u001b[38;5;124m'\u001b[39m\u001b[38;5;124myear\u001b[39m\u001b[38;5;124m'\u001b[39m])\n\u001b[1;32m      5\u001b[0m plt\u001b[38;5;241m.\u001b[39mtitle(\u001b[38;5;124m\"\u001b[39m\u001b[38;5;124mPrice vs year\u001b[39m\u001b[38;5;124m\"\u001b[39m)\n\u001b[1;32m      6\u001b[0m plt\u001b[38;5;241m.\u001b[39mxlabel(\u001b[38;5;124m'\u001b[39m\u001b[38;5;124mprice\u001b[39m\u001b[38;5;124m'\u001b[39m)\n",
      "File \u001b[0;32m~/opt/anaconda3/lib/python3.8/site-packages/pandas/core/frame.py:3761\u001b[0m, in \u001b[0;36mDataFrame.__getitem__\u001b[0;34m(self, key)\u001b[0m\n\u001b[1;32m   3759\u001b[0m \u001b[38;5;28;01mif\u001b[39;00m \u001b[38;5;28mself\u001b[39m\u001b[38;5;241m.\u001b[39mcolumns\u001b[38;5;241m.\u001b[39mnlevels \u001b[38;5;241m>\u001b[39m \u001b[38;5;241m1\u001b[39m:\n\u001b[1;32m   3760\u001b[0m     \u001b[38;5;28;01mreturn\u001b[39;00m \u001b[38;5;28mself\u001b[39m\u001b[38;5;241m.\u001b[39m_getitem_multilevel(key)\n\u001b[0;32m-> 3761\u001b[0m indexer \u001b[38;5;241m=\u001b[39m \u001b[38;5;28;43mself\u001b[39;49m\u001b[38;5;241;43m.\u001b[39;49m\u001b[43mcolumns\u001b[49m\u001b[38;5;241;43m.\u001b[39;49m\u001b[43mget_loc\u001b[49m\u001b[43m(\u001b[49m\u001b[43mkey\u001b[49m\u001b[43m)\u001b[49m\n\u001b[1;32m   3762\u001b[0m \u001b[38;5;28;01mif\u001b[39;00m is_integer(indexer):\n\u001b[1;32m   3763\u001b[0m     indexer \u001b[38;5;241m=\u001b[39m [indexer]\n",
      "File \u001b[0;32m~/opt/anaconda3/lib/python3.8/site-packages/pandas/core/indexes/base.py:3655\u001b[0m, in \u001b[0;36mIndex.get_loc\u001b[0;34m(self, key)\u001b[0m\n\u001b[1;32m   3653\u001b[0m     \u001b[38;5;28;01mreturn\u001b[39;00m \u001b[38;5;28mself\u001b[39m\u001b[38;5;241m.\u001b[39m_engine\u001b[38;5;241m.\u001b[39mget_loc(casted_key)\n\u001b[1;32m   3654\u001b[0m \u001b[38;5;28;01mexcept\u001b[39;00m \u001b[38;5;167;01mKeyError\u001b[39;00m \u001b[38;5;28;01mas\u001b[39;00m err:\n\u001b[0;32m-> 3655\u001b[0m     \u001b[38;5;28;01mraise\u001b[39;00m \u001b[38;5;167;01mKeyError\u001b[39;00m(key) \u001b[38;5;28;01mfrom\u001b[39;00m \u001b[38;5;21;01merr\u001b[39;00m\n\u001b[1;32m   3656\u001b[0m \u001b[38;5;28;01mexcept\u001b[39;00m \u001b[38;5;167;01mTypeError\u001b[39;00m:\n\u001b[1;32m   3657\u001b[0m     \u001b[38;5;66;03m# If we have a listlike key, _check_indexing_error will raise\u001b[39;00m\n\u001b[1;32m   3658\u001b[0m     \u001b[38;5;66;03m#  InvalidIndexError. Otherwise we fall through and re-raise\u001b[39;00m\n\u001b[1;32m   3659\u001b[0m     \u001b[38;5;66;03m#  the TypeError.\u001b[39;00m\n\u001b[1;32m   3660\u001b[0m     \u001b[38;5;28mself\u001b[39m\u001b[38;5;241m.\u001b[39m_check_indexing_error(key)\n",
      "\u001b[0;31mKeyError\u001b[0m: 'price'"
     ]
    },
    {
     "data": {
      "text/plain": [
       "<Figure size 1000x600 with 0 Axes>"
      ]
     },
     "metadata": {},
     "output_type": "display_data"
    }
   ],
   "source": [
    "#trying scattered plot of price vs other selected features does not give much info because of huge amoung of points\n",
    "\n",
    "plt.figure(figsize=(10,6))\n",
    "plt.scatter(data['price'], data['year'])\n",
    "plt.title(\"Price vs year\")\n",
    "plt.xlabel('price')\n",
    "plt.ylabel('year')\n",
    "plt.show()"
   ]
  },
  {
   "cell_type": "markdown",
   "id": "195da790",
   "metadata": {},
   "source": [
    "### Featuer Engineering"
   ]
  },
  {
   "cell_type": "code",
   "execution_count": 62,
   "id": "92ac6f81",
   "metadata": {},
   "outputs": [],
   "source": [
    "# since we changed type of some columns, let's reread the dataset\n",
    "data = pd.read_csv('car_data.csv')"
   ]
  },
  {
   "cell_type": "code",
   "execution_count": 63,
   "id": "1728ee13",
   "metadata": {},
   "outputs": [
    {
     "name": "stdout",
     "output_type": "stream",
     "text": [
      "<class 'list'> ['model', 'year', 'price_in_euro', 'power_kw', 'fuel_consumption_g_km', 'mileage_in_km']\n"
     ]
    }
   ],
   "source": [
    "\"\"\"we select the following features w numerical calues\n",
    "to be considered against price\"\"\"\n",
    "numerical_cols = ['model', 'year','price','power_kw', 'fuel_consumption_g_km',\n",
    "       'mileage_in_km'] \n",
    "print(type(numerical_cols),numerical_cols)"
   ]
  },
  {
   "cell_type": "code",
   "execution_count": 64,
   "id": "77976070",
   "metadata": {},
   "outputs": [
    {
     "name": "stdout",
     "output_type": "stream",
     "text": [
      "<class 'NoneType'> None\n"
     ]
    }
   ],
   "source": [
    "numerical_cols = numerical_cols.remove('price_in_euro')\n",
    "print(type(numerical_cols),numerical_cols)"
   ]
  },
  {
   "cell_type": "code",
   "execution_count": null,
   "id": "3f0275ee",
   "metadata": {},
   "outputs": [],
   "source": []
  },
  {
   "cell_type": "code",
   "execution_count": 58,
   "id": "a45e8d15",
   "metadata": {},
   "outputs": [
    {
     "name": "stdout",
     "output_type": "stream",
     "text": [
      "\n",
      "Summary statistics:\n",
      "          Unnamed: 0  price_in_euro  mileage_in_km\n",
      "count  223836.000000   2.237330e+05   2.238360e+05\n",
      "mean   125630.622130   2.515345e+04   8.749976e+04\n",
      "std     72797.661024   3.491210e+04   7.913192e+04\n",
      "min         0.000000   1.200000e+02   0.000000e+00\n",
      "25%     62734.500000   1.169000e+04   2.668000e+04\n",
      "50%    125453.500000   1.930000e+04   7.020000e+04\n",
      "75%    189012.250000   2.899900e+04   1.300000e+05\n",
      "max    251076.000000   5.890500e+06   3.800000e+06\n"
     ]
    }
   ],
   "source": [
    "# Convert 'price' column to numeric\n",
    "data['price_in_euro'] = pd.to_numeric(data['price_in_euro'], errors='coerce')\n",
    "\n",
    "# Remove duplicate rows\n",
    "data.drop_duplicates(inplace=True)\n",
    "\n",
    "# Summary statistics\n",
    "print(\"\\nSummary statistics:\")\n",
    "print(data.describe())"
   ]
  },
  {
   "cell_type": "code",
   "execution_count": 59,
   "id": "73d8ddfe",
   "metadata": {},
   "outputs": [
    {
     "data": {
      "image/png": "[encoded data removed]",
      "text/plain": [
       "<Figure size 1000x600 with 1 Axes>"
      ]
     },
     "metadata": {},
     "output_type": "display_data"
    }
   ],
   "source": [
    "# Histogram of 'price' column\n",
    "plt.figure(figsize=(10, 6))\n",
    "sns.histplot(data['price_in_euro'], bins=2, kde=True)\n",
    "plt.title('Distribution of Price')\n",
    "plt.xlabel('Price')\n",
    "plt.ylabel('Frequency')\n",
    "plt.show()"
   ]
  },
  {
   "cell_type": "code",
   "execution_count": 61,
   "id": "76fde9e9",
   "metadata": {},
   "outputs": [],
   "source": [
    "#print(type(numerical_cols))\n",
    "# print(numerical_cols)\n",
    "numerical_cols"
   ]
  },
  {
   "cell_type": "code",
   "execution_count": 42,
   "id": "96618fed",
   "metadata": {},
   "outputs": [
    {
     "ename": "TypeError",
     "evalue": "'NoneType' object is not iterable",
     "output_type": "error",
     "traceback": [
      "\u001b[0;31m---------------------------------------------------------------------------\u001b[0m",
      "\u001b[0;31mTypeError\u001b[0m                                 Traceback (most recent call last)",
      "Cell \u001b[0;32mIn[42], line 1\u001b[0m\n\u001b[0;32m----> 1\u001b[0m \u001b[38;5;28;01mfor\u001b[39;00m col \u001b[38;5;129;01min\u001b[39;00m numerical_cols:\n\u001b[1;32m      2\u001b[0m     plt\u001b[38;5;241m.\u001b[39mfigure(figsize\u001b[38;5;241m=\u001b[39m(\u001b[38;5;241m10\u001b[39m,\u001b[38;5;241m6\u001b[39m))\n\u001b[1;32m      3\u001b[0m     plt\u001b[38;5;241m.\u001b[39mscatter(data[\u001b[38;5;124m'\u001b[39m\u001b[38;5;124mprice_in_euro\u001b[39m\u001b[38;5;124m'\u001b[39m], data[col])\n",
      "\u001b[0;31mTypeError\u001b[0m: 'NoneType' object is not iterable"
     ]
    }
   ],
   "source": [
    "for col in numerical_cols:\n",
    "    plt.figure(figsize=(10,6))\n",
    "    plt.scatter(data['price_in_euro'], data[col])\n",
    "    plt.title(\"Number of Cars per Selected Features\")\n",
    "    plt.xlabel('price')\n",
    "    plt.ylabel(numerical_cols[col])"
   ]
  },
  {
   "cell_type": "markdown",
   "id": "340ad500",
   "metadata": {},
   "source": [
    "## 2-Modeling "
   ]
  },
  {
   "cell_type": "markdown",
   "id": "27d8aac9",
   "metadata": {},
   "source": [
    "## Splitting the Data Set"
   ]
  },
  {
   "cell_type": "markdown",
   "id": "e8ca31b8",
   "metadata": {},
   "source": [
    "#### TODO:\n",
    "What is the target feature?"
   ]
  },
  {
   "cell_type": "code",
   "execution_count": 16,
   "id": "a3076daa",
   "metadata": {},
   "outputs": [
    {
     "ename": "KeyError",
     "evalue": "'city'",
     "output_type": "error",
     "traceback": [
      "\u001b[1;31m---------------------------------------------------------------------------\u001b[0m",
      "\u001b[1;31mKeyError\u001b[0m                                  Traceback (most recent call last)",
      "File \u001b[1;32mC:\\ProgramData\\anaconda3\\Lib\\site-packages\\pandas\\core\\indexes\\base.py:3653\u001b[0m, in \u001b[0;36mIndex.get_loc\u001b[1;34m(self, key)\u001b[0m\n\u001b[0;32m   3652\u001b[0m \u001b[38;5;28;01mtry\u001b[39;00m:\n\u001b[1;32m-> 3653\u001b[0m     \u001b[38;5;28;01mreturn\u001b[39;00m \u001b[38;5;28mself\u001b[39m\u001b[38;5;241m.\u001b[39m_engine\u001b[38;5;241m.\u001b[39mget_loc(casted_key)\n\u001b[0;32m   3654\u001b[0m \u001b[38;5;28;01mexcept\u001b[39;00m \u001b[38;5;167;01mKeyError\u001b[39;00m \u001b[38;5;28;01mas\u001b[39;00m err:\n",
      "File \u001b[1;32mC:\\ProgramData\\anaconda3\\Lib\\site-packages\\pandas\\_libs\\index.pyx:147\u001b[0m, in \u001b[0;36mpandas._libs.index.IndexEngine.get_loc\u001b[1;34m()\u001b[0m\n",
      "File \u001b[1;32mC:\\ProgramData\\anaconda3\\Lib\\site-packages\\pandas\\_libs\\index.pyx:176\u001b[0m, in \u001b[0;36mpandas._libs.index.IndexEngine.get_loc\u001b[1;34m()\u001b[0m\n",
      "File \u001b[1;32mpandas\\_libs\\hashtable_class_helper.pxi:7080\u001b[0m, in \u001b[0;36mpandas._libs.hashtable.PyObjectHashTable.get_item\u001b[1;34m()\u001b[0m\n",
      "File \u001b[1;32mpandas\\_libs\\hashtable_class_helper.pxi:7088\u001b[0m, in \u001b[0;36mpandas._libs.hashtable.PyObjectHashTable.get_item\u001b[1;34m()\u001b[0m\n",
      "\u001b[1;31mKeyError\u001b[0m: 'city'",
      "\nThe above exception was the direct cause of the following exception:\n",
      "\u001b[1;31mKeyError\u001b[0m                                  Traceback (most recent call last)",
      "Cell \u001b[1;32mIn[16], line 7\u001b[0m\n\u001b[0;32m      5\u001b[0m X \u001b[38;5;241m=\u001b[39m data\u001b[38;5;241m.\u001b[39mdrop(columns\u001b[38;5;241m=\u001b[39m[\u001b[38;5;124m'\u001b[39m\u001b[38;5;124mcity\u001b[39m\u001b[38;5;124m'\u001b[39m])  \u001b[38;5;66;03m# Assuming 'city' is the target variable\u001b[39;00m\n\u001b[0;32m      6\u001b[0m Y \u001b[38;5;241m=\u001b[39m data[\u001b[38;5;124m'\u001b[39m\u001b[38;5;124mcity\u001b[39m\u001b[38;5;124m'\u001b[39m]\n\u001b[1;32m----> 7\u001b[0m \u001b[38;5;28mprint\u001b[39m(X[\u001b[38;5;124m\"\u001b[39m\u001b[38;5;124mcity\u001b[39m\u001b[38;5;124m\"\u001b[39m])\n\u001b[0;32m      8\u001b[0m \u001b[38;5;66;03m# Split the data into training and testing sets (80% train, 20% test)\u001b[39;00m\n\u001b[0;32m      9\u001b[0m X_train, X_test, Y_train, Y_test \u001b[38;5;241m=\u001b[39m train_test_split(X, Y, test_size\u001b[38;5;241m=\u001b[39m\u001b[38;5;241m0.2\u001b[39m, random_state\u001b[38;5;241m=\u001b[39m\u001b[38;5;241m42\u001b[39m)\n",
      "File \u001b[1;32mC:\\ProgramData\\anaconda3\\Lib\\site-packages\\pandas\\core\\frame.py:3761\u001b[0m, in \u001b[0;36mDataFrame.__getitem__\u001b[1;34m(self, key)\u001b[0m\n\u001b[0;32m   3759\u001b[0m \u001b[38;5;28;01mif\u001b[39;00m \u001b[38;5;28mself\u001b[39m\u001b[38;5;241m.\u001b[39mcolumns\u001b[38;5;241m.\u001b[39mnlevels \u001b[38;5;241m>\u001b[39m \u001b[38;5;241m1\u001b[39m:\n\u001b[0;32m   3760\u001b[0m     \u001b[38;5;28;01mreturn\u001b[39;00m \u001b[38;5;28mself\u001b[39m\u001b[38;5;241m.\u001b[39m_getitem_multilevel(key)\n\u001b[1;32m-> 3761\u001b[0m indexer \u001b[38;5;241m=\u001b[39m \u001b[38;5;28mself\u001b[39m\u001b[38;5;241m.\u001b[39mcolumns\u001b[38;5;241m.\u001b[39mget_loc(key)\n\u001b[0;32m   3762\u001b[0m \u001b[38;5;28;01mif\u001b[39;00m is_integer(indexer):\n\u001b[0;32m   3763\u001b[0m     indexer \u001b[38;5;241m=\u001b[39m [indexer]\n",
      "File \u001b[1;32mC:\\ProgramData\\anaconda3\\Lib\\site-packages\\pandas\\core\\indexes\\base.py:3655\u001b[0m, in \u001b[0;36mIndex.get_loc\u001b[1;34m(self, key)\u001b[0m\n\u001b[0;32m   3653\u001b[0m     \u001b[38;5;28;01mreturn\u001b[39;00m \u001b[38;5;28mself\u001b[39m\u001b[38;5;241m.\u001b[39m_engine\u001b[38;5;241m.\u001b[39mget_loc(casted_key)\n\u001b[0;32m   3654\u001b[0m \u001b[38;5;28;01mexcept\u001b[39;00m \u001b[38;5;167;01mKeyError\u001b[39;00m \u001b[38;5;28;01mas\u001b[39;00m err:\n\u001b[1;32m-> 3655\u001b[0m     \u001b[38;5;28;01mraise\u001b[39;00m \u001b[38;5;167;01mKeyError\u001b[39;00m(key) \u001b[38;5;28;01mfrom\u001b[39;00m \u001b[38;5;21;01merr\u001b[39;00m\n\u001b[0;32m   3656\u001b[0m \u001b[38;5;28;01mexcept\u001b[39;00m \u001b[38;5;167;01mTypeError\u001b[39;00m:\n\u001b[0;32m   3657\u001b[0m     \u001b[38;5;66;03m# If we have a listlike key, _check_indexing_error will raise\u001b[39;00m\n\u001b[0;32m   3658\u001b[0m     \u001b[38;5;66;03m#  InvalidIndexError. Otherwise we fall through and re-raise\u001b[39;00m\n\u001b[0;32m   3659\u001b[0m     \u001b[38;5;66;03m#  the TypeError.\u001b[39;00m\n\u001b[0;32m   3660\u001b[0m     \u001b[38;5;28mself\u001b[39m\u001b[38;5;241m.\u001b[39m_check_indexing_error(key)\n",
      "\u001b[1;31mKeyError\u001b[0m: 'city'"
     ]
    }
   ],
   "source": [
    "# Splitting the data into training and testing datasets\n",
    "from sklearn.model_selection import train_test_split\n",
    "\n",
    "# Separate features (X) and target variable (y)\n",
    "X = data.drop(columns=['city'])  # Assuming 'city' is the target variable\n",
    "y = data['city']\n",
    "print(X[\"city\"])\n",
    "# Split the data into training and testing sets (80% train, 20% test)\n",
    "X_train, X_test, y_train, y_test = train_test_split(X, y, test_size=0.2, random_state=42)"
   ]
  },
  {
   "cell_type": "code",
   "execution_count": 15,
   "id": "f3d02b00",
   "metadata": {},
   "outputs": [],
   "source": []
  },
  {
   "cell_type": "markdown",
   "id": "67c391cd",
   "metadata": {},
   "source": [
    "## Linear Regression"
   ]
  },
  {
   "cell_type": "code",
   "execution_count": 1,
   "id": "9a4ba8da",
   "metadata": {},
   "outputs": [
    {
     "name": "stdout",
     "output_type": "stream",
     "text": [
      "successful ran test function from the regression notebook\n"
     ]
    }
   ],
   "source": [
    "# This is how to use functions from another jupyter notebook:\n",
    "%run regression.ipynb\n",
    "test()"
   ]
  },
  {
   "cell_type": "markdown",
   "id": "2a64bf48",
   "metadata": {},
   "source": [
    "## Boosting"
   ]
  },
  {
   "cell_type": "markdown",
   "id": "caf9a88b",
   "metadata": {},
   "source": [
    "## KNN"
   ]
  },
  {
   "cell_type": "code",
   "execution_count": null,
   "id": "52538875",
   "metadata": {},
   "outputs": [],
   "source": [
    "# Training the KNN model\n",
    "from sklearn.neighbors import KNeighborsClassifier\n",
    "\n",
    "# Initialize the KNN classifier\n",
    "knn = KNeighborsClassifier(n_neighbors=5)  # You can adjust the number of neighbors as needed"
   ]
  },
  {
   "cell_type": "code",
   "execution_count": null,
   "id": "cebbe892",
   "metadata": {},
   "outputs": [],
   "source": [
    "# Training the KNN model\n",
    "from sklearn.neighbors import KNeighborsClassifier"
   ]
  },
  {
   "cell_type": "code",
   "execution_count": null,
   "id": "6743862a",
   "metadata": {},
   "outputs": [],
   "source": [
    "#Testing the KNN model\n",
    "# Predictions on the testing set\n",
    "knn_predictions = knn.predict(X_test)"
   ]
  },
  {
   "cell_type": "code",
   "execution_count": null,
   "id": "bfe33a2c",
   "metadata": {},
   "outputs": [],
   "source": [
    "# Evaluating the KNN model\n",
    "from sklearn.metrics import accuracy_score, classification_report, confusion_matrix"
   ]
  },
  {
   "cell_type": "code",
   "execution_count": null,
   "id": "b475aabb",
   "metadata": {},
   "outputs": [],
   "source": [
    "# Accuracy score\n",
    "knn_accuracy = accuracy_score(y_test)"
   ]
  },
  {
   "cell_type": "code",
   "execution_count": 17,
   "id": "6506ceb2",
   "metadata": {
    "scrolled": true
   },
   "outputs": [
    {
     "ename": "NameError",
     "evalue": "name 'y_train' is not defined",
     "output_type": "error",
     "traceback": [
      "\u001b[1;31m---------------------------------------------------------------------------\u001b[0m",
      "\u001b[1;31mNameError\u001b[0m                                 Traceback (most recent call last)",
      "Cell \u001b[1;32mIn[17], line 8\u001b[0m\n\u001b[0;32m      5\u001b[0m knn \u001b[38;5;241m=\u001b[39m KNeighborsClassifier(n_neighbors\u001b[38;5;241m=\u001b[39m\u001b[38;5;241m5\u001b[39m)  \u001b[38;5;66;03m# You can adjust the number of neighbors as needed\u001b[39;00m\n\u001b[0;32m      7\u001b[0m \u001b[38;5;66;03m# Train the model on the training data\u001b[39;00m\n\u001b[1;32m----> 8\u001b[0m knn\u001b[38;5;241m.\u001b[39mfit(X_train, y_train)\n\u001b[0;32m     10\u001b[0m \u001b[38;5;66;03m#Testing the KNN model\u001b[39;00m\n\u001b[0;32m     11\u001b[0m \u001b[38;5;66;03m# Predictions on the testing set\u001b[39;00m\n\u001b[0;32m     12\u001b[0m knn_predictions \u001b[38;5;241m=\u001b[39m knn\u001b[38;5;241m.\u001b[39mpredict(X_test)\n",
      "\u001b[1;31mNameError\u001b[0m: name 'y_train' is not defined"
     ]
    }
   ],
   "source": [
    "_test, knn_predictions)\n",
    "print(\"KNN Accuracy:\", knn_accuracy)\n",
    "\n",
    "# Classification report\n",
    "print(\"\\nClassification Report:\")\n",
    "print(classification_report(Y_test, knn_predictions))\n",
    "\n",
    "# Confusion matrix\n",
    "print(\"\\nConfusion Matrix:\")\n",
    "print(confusion_matrix(Y_test, knn_predictions))"
   ]
  },
  {
   "cell_type": "markdown",
   "id": "f202cf5a",
   "metadata": {},
   "source": [
    "  \n",
    "  ##  Random Forest\n",
    "  "
   ]
  },
  {
   "cell_type": "code",
   "execution_count": null,
   "id": "a3200723",
   "metadata": {},
   "outputs": [],
   "source": [
    "# Training the random forest model\n",
    "from sklearn.ensemble import RandomForestClassifier\n",
    "\n",
    "# Initialize the Random Forest classifier\n",
    "rf = RandomForestClassifier(n_estimators=100, random_state=42)  # You can adjust the number of estimators as needed\n",
    "\n",
    "# Train the model on the training data\n",
    "rf.fit(X_train, y_train)\n",
    "\n",
    "\n",
    "# Testing the Random Forest model\n",
    "# Predictions on the testing set\n",
    "rf_predictions = rf.predict(X_test)\n",
    "\n",
    "# Evaluating the Random Forest model\n",
    "# Accuracy score\n",
    "rf_accuracy = accuracy_score(y_test, rf_predictions)\n",
    "print(\"Random Forest Accuracy:\", rf_accuracy)\n",
    "\n",
    "# Classification report\n",
    "print(\"\\nClassification Report:\")\n",
    "print(classification_report(y_test, rf_predictions))\n",
    "\n",
    "# Confusion matrix\n",
    "print(\"\\nConfusion Matrix:\")\n",
    "print(confusion_matrix(y_test, rf_predictions))"
   ]
  },
  {
   "cell_type": "markdown",
   "id": "a6ac7913",
   "metadata": {},
   "source": [
    " ##    Decision Tree"
   ]
  },
  {
   "cell_type": "markdown",
   "id": "1af46196",
   "metadata": {},
   "source": [
    "  ## Train/Test"
   ]
  },
  {
   "cell_type": "markdown",
   "id": "79d54808",
   "metadata": {},
   "source": [
    "## Cross-Validation"
   ]
  },
  {
   "cell_type": "code",
   "execution_count": null,
   "id": "1e5ab82c",
   "metadata": {},
   "outputs": [],
   "source": [
    "# K-Fold cross-validation with KNN modeling\n",
    "from sklearn.model_selection import cross_val_score, KFold\n",
    "from sklearn.neighbors import KNeighborsClassifier\n",
    "\n",
    "# Initialize the KNN classifier\n",
    "knn = KNeighborsClassifier(n_neighbors=5)  # You can adjust the number of neighbors as needed\n",
    "\n",
    "# Define the number of folds for cross-validation\n",
    "kfold = KFold(n_splits=5, shuffle=True, random_state=42)\n",
    "\n",
    "# Perform K-Fold cross-validation\n",
    "knn_cv_scores = cross_val_score(knn, X, y, cv=kfold)\n",
    "\n",
    "# Print the cross-validation scores\n",
    "print(\"KNN Cross-Validation Scores:\", knn_cv_scores)\n",
    "\n",
    "# Calculate and print the mean accuracy score\n",
    "print(\"Mean Accuracy:\", knn_cv_scores.mean())\n",
    "\n",
    "# K-Fold Cross-Validation with Random Forest modeling\n",
    "from sklearn.model_selection import cross_val_score, KFold\n",
    "from sklearn.ensemble import RandomForestClassifier\n",
    "\n",
    "# Initialize the Random Forest classifier\n",
    "rf = RandomForestClassifier(n_estimators=100, random_state=42)  # You can adjust the number of estimators as needed\n",
    "\n",
    "# Define the number of folds for cross-validation\n",
    "kfold = KFold(n_splits=5, shuffle=True, random_state=42)\n",
    "\n",
    "# Perform K-Fold cross-validation\n",
    "rf_cv_scores = cross_val_score(rf, X, y, cv=kfold)\n",
    "\n",
    "# Print the cross-validation scores\n",
    "print(\"Random Forest Cross-Validation Scores:\", rf_cv_scores)\n",
    "\n",
    "# Calculate and print the mean accuracy score\n",
    "print(\"Mean Accuracy:\", rf_cv_scores.mean())"
   ]
  },
  {
   "cell_type": "markdown",
   "id": "e53482e1",
   "metadata": {},
   "source": [
    "## Error Metrics"
   ]
  },
  {
   "cell_type": "code",
   "execution_count": null,
   "id": "d5daa867",
   "metadata": {},
   "outputs": [],
   "source": [
    "# Error Metrics\n",
    "from sklearn.metrics import mean_absolute_error, mean_squared_error, median_absolute_error, r2_score\n",
    "\n",
    "# Assuming you have predictions and true labels for regression\n",
    "# For example, let's say you have predictions from a regression model stored in 'y_pred'\n",
    "# And the true labels are stored in 'y_true'\n",
    "\n",
    "# Calculate Mean Absolute Error (MAE)\n",
    "mae = mean_absolute_error(y_true, y_pred)\n",
    "print(\"Mean Absolute Error (MAE):\", mae)\n",
    "\n",
    "# Calculate Mean Squared Error (MSE)\n",
    "mse = mean_squared_error(y_true, y_pred)\n",
    "print(\"Mean Squared Error (MSE):\", mse)\n",
    "\n",
    "# Calculate Median Absolute Error (medAE)\n",
    "medae = median_absolute_error(y_true, y_pred)\n",
    "print(\"Median Absolute Error (medAE):\", medae)\n",
    "\n",
    "# Calculate R-squared (R2) score\n",
    "r2 = r2_score(y_true, y_pred)\n",
    "print(\"R-squared (R2) Score:\", r2)"
   ]
  },
  {
   "cell_type": "markdown",
   "id": "d97e0dbb",
   "metadata": {},
   "source": [
    "## 3-Visualization \n",
    "-Matplotlib (i,e), -Seaborn (i,e), -Folium (i,e) "
   ]
  },
  {
   "cell_type": "code",
   "execution_count": 1,
   "id": "d435c10d",
   "metadata": {},
   "outputs": [
    {
     "ename": "ModuleNotFoundError",
     "evalue": "No module named 'folium'",
     "output_type": "error",
     "traceback": [
      "\u001b[1;31m---------------------------------------------------------------------------\u001b[0m",
      "\u001b[1;31mModuleNotFoundError\u001b[0m                       Traceback (most recent call last)",
      "Cell \u001b[1;32mIn[1], line 2\u001b[0m\n\u001b[0;32m      1\u001b[0m \u001b[38;5;66;03m# Visualization with Folium\u001b[39;00m\n\u001b[1;32m----> 2\u001b[0m \u001b[38;5;28;01mimport\u001b[39;00m \u001b[38;5;21;01mfolium\u001b[39;00m\n\u001b[0;32m      4\u001b[0m \u001b[38;5;66;03m# Create a map centered around a specific location\u001b[39;00m\n\u001b[0;32m      5\u001b[0m m \u001b[38;5;241m=\u001b[39m folium\u001b[38;5;241m.\u001b[39mMap(location\u001b[38;5;241m=\u001b[39m[\u001b[38;5;241m37.7749\u001b[39m, \u001b[38;5;241m-\u001b[39m\u001b[38;5;241m122.4194\u001b[39m], zoom_start\u001b[38;5;241m=\u001b[39m\u001b[38;5;241m12\u001b[39m)  \u001b[38;5;66;03m# Coordinates for San Francisco\u001b[39;00m\n",
      "\u001b[1;31mModuleNotFoundError\u001b[0m: No module named 'folium'"
     ]
    }
   ],
   "source": [
    "# Visualization with Folium\n",
    "import folium\n",
    "\n",
    "# Create a map centered around a specific location\n",
    "m = folium.Map(location=[37.7749, -122.4194], zoom_start=12)  # Coordinates for San Francisco\n",
    "\n",
    "# Add a marker to the map\n",
    "folium.Marker(location=[37.7749, -122.4194], popup=\"San Francisco\").add_to(m)\n",
    "\n",
    "# Save the map to an HTML file\n",
    "m.save(\"map.html\")"
   ]
  },
  {
   "cell_type": "markdown",
   "id": "e330f480",
   "metadata": {},
   "source": [
    "## 4- Results \n",
    "Cross Validation"
   ]
  }
 ],
 "metadata": {
  "kernelspec": {
   "display_name": "Python 3 (ipykernel)",
   "language": "python",
   "name": "python3"
  },
  "language_info": {
   "codemirror_mode": {
    "name": "ipython",
    "version": 3
   },
   "file_extension": ".py",
   "mimetype": "text/x-python",
   "name": "python",
   "nbconvert_exporter": "python",
   "pygments_lexer": "ipython3",
   "version": "3.8.18"
  }
 },
 "nbformat": 4,
 "nbformat_minor": 5
}
