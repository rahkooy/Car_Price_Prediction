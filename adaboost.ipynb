{
 "cells": [
  {
   "cell_type": "markdown",
   "id": "049537e3",
   "metadata": {},
   "source": [
    "# AdaBoost"
   ]
  },
  {
   "cell_type": "code",
   "execution_count": 10,
   "id": "d990c334",
   "metadata": {},
   "outputs": [],
   "source": [
    "from sklearn.model_selection import cross_val_score, KFold, cross_val_predict\n",
    "from sklearn import metrics\n",
    "from sklearn.ensemble import AdaBoostRegressor\n",
    "import numpy as np\n",
    "import pandas as pd"
   ]
  },
  {
   "cell_type": "code",
   "execution_count": 11,
   "id": "057dc60c",
   "metadata": {},
   "outputs": [],
   "source": [
    "def adaboost(X_train, X_test, y_train, y_test, estimator_range, decimal_places=2):\n",
    "    results = []\n",
    "    \n",
    "    for n_estimators in estimator_range:\n",
    "        # Create regressor\n",
    "        reg = AdaBoostRegressor(n_estimators=n_estimators, algorithm=\"SAMME\", random_state=62)\n",
    "        \n",
    "        # 5-fold cross-validation score & predict\n",
    "        kf = KFold(n_splits=5, shuffle=True, random_state=42)\n",
    "        \n",
    "        mae_scores = -cross_val_score(reg, X_train, y_train, cv=kf, scoring='neg_mean_absolute_error')\n",
    "        medae_scores = -cross_val_score(reg, X_train, y_train, cv=kf, scoring='neg_median_absolute_error')\n",
    "        r2_scores = cross_val_score(reg, X_train, y_train, cv=kf, scoring='r2')\n",
    "\n",
    "        # prediction via cross validation\n",
    "        y_pred_cv = cross_val_predict(reg, X_train, y_train, cv=kf)\n",
    "\n",
    "        # Cross Validation errors on training set\n",
    "        mae_cv = mean_absolute_error(y_train, y_pred_cv)\n",
    "        medAE_cv = median_absolute_error(y_train,y_pred_cv)\n",
    "        \n",
    "        # fitting model on all data\n",
    "        reg.fit(X_train,y_train)\n",
    "        y_pred_test = reg.predict(X_test)\n",
    "\n",
    "        # Print predictions for debugging\n",
    "        # print(f'n_estimators: {n_estimators}, Predictions: {y_pred_test[:10]}')\n",
    "\n",
    "        # Erros on the test set\n",
    "        mae_test = mean_absolute_error(y_test,y_pred_test)\n",
    "        medae_test = median_absolute_error(y_test, y_pred_test)\n",
    "        r2_test = r2_score(y_test,y_pred_test)\n",
    "        \n",
    "        #(mean value of) the errors; ignoring each fold\n",
    "        results.append({\n",
    "            'n_estimators': n_estimators,\n",
    "            # 'Fold': fold_idx + 1,\n",
    "            'MAE CV': mae_cv,\n",
    "            'medAE CV': medAE_cv,\n",
    "            'R2 CV': r2_scores.mean(),\n",
    "            'MAE Train (mean)': mae_scores.mean(),\n",
    "            'medAE Train (mean)': medae_scores.mean(),\n",
    "            'MAE Test': mae_test,\n",
    "            'medAE Test': medae_test,\n",
    "            'R2 Test': r2_test\n",
    "        })\n",
    "        \n",
    "\n",
    "    # Convert the results list to a pandas DataFrame\n",
    "    df_errors = pd.DataFrame(results).round(decimal_places)\n",
    "    \n",
    "    return y_pred_test, df_errors"
   ]
  },
  {
   "cell_type": "code",
   "execution_count": null,
   "id": "5211c04f",
   "metadata": {},
   "outputs": [],
   "source": []
  }
 ],
 "metadata": {
  "kernelspec": {
   "display_name": "Python 3 (ipykernel)",
   "language": "python",
   "name": "python3"
  },
  "language_info": {
   "codemirror_mode": {
    "name": "ipython",
    "version": 3
   },
   "file_extension": ".py",
   "mimetype": "text/x-python",
   "name": "python",
   "nbconvert_exporter": "python",
   "pygments_lexer": "ipython3",
   "version": "3.10.12"
  }
 },
 "nbformat": 4,
 "nbformat_minor": 5
}
