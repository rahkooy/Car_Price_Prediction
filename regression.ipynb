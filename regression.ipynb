{
 "cells": [
  {
   "cell_type": "markdown",
   "id": "cae26621",
   "metadata": {},
   "source": [
    "# Linear Regression"
   ]
  },
  {
   "cell_type": "code",
   "execution_count": 3,
   "id": "100dc69a",
   "metadata": {},
   "outputs": [],
   "source": [
    "from sklearn.linear_model import LinearRegression\n",
    "from sklearn import metrics\n",
    "import numpy as np\n",
    "\n",
    "def linear_reg(X_train, y_train, X_test, y_test):\n",
    "    regr = LinearRegression()\n",
    "    regr.fit(X_train, y_train)\n",
    "    # list(zip(X, regr.coef_))  # This line is not used, so it can be commented out or removed.\n",
    "    y_pred = regr.predict(X_test)\n",
    "    # print(\"Prediction for test set: {}\".format(y_pred))\n",
    "    \n",
    "    # MAE \n",
    "    mae = metrics.mean_absolute_error(y_test, y_pred)\n",
    "    # MSE\n",
    "    mse = metrics.mean_squared_error(y_test, y_pred)\n",
    "    # mdAE\n",
    "    medae = metrics.median_absolute_error(y_test, y_pred)\n",
    "    # R2\n",
    "    r2 = metrics.r2_score(y_test, y_pred)\n",
    "    # Root MSE\n",
    "    rootMeanSqErr = np.sqrt(metrics.mean_squared_error(y_test, y_pred))\n",
    "    #regressor score\n",
    "    reg_score = regr.score(X_train, y_train) * 100\n",
    "    \n",
    "    #print(\"Intercept: \", regr.intercept_)\n",
    "    #print(\"Coefficients: \", regr.coef_)\n",
    "    #print('R squared: {:.2f}'.format(regr.score(X_train, y_train) * 100))\n",
    "    #print('Mean Absolute Error:', meanAbErr)\n",
    "    #print('Mean Square Error:', meanSqErr)\n",
    "    #print('Root Mean Square Error:', rootMeanSqErr)\n",
    "    \n",
    "    return y_pred, mae, mse, medae, r2,  rootMeanSqErr, regr.intercept_, regr.coef_, reg_score"
   ]
  },
  {
   "cell_type": "code",
   "execution_count": null,
   "id": "b8d61849",
   "metadata": {},
   "outputs": [],
   "source": []
  },
  {
   "cell_type": "code",
   "execution_count": null,
   "id": "1584b758",
   "metadata": {},
   "outputs": [],
   "source": []
  }
 ],
 "metadata": {
  "kernelspec": {
   "display_name": "Python 3 (ipykernel)",
   "language": "python",
   "name": "python3"
  },
  "language_info": {
   "codemirror_mode": {
    "name": "ipython",
    "version": 3
   },
   "file_extension": ".py",
   "mimetype": "text/x-python",
   "name": "python",
   "nbconvert_exporter": "python",
   "pygments_lexer": "ipython3",
   "version": "3.10.12"
  }
 },
 "nbformat": 4,
 "nbformat_minor": 5
}
