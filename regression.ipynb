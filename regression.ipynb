{
 "cells": [
  {
   "cell_type": "markdown",
   "id": "cae26621",
   "metadata": {},
   "source": [
    "# Linear Regression"
   ]
  },
  {
   "cell_type": "code",
   "execution_count": 6,
   "id": "100dc69a",
   "metadata": {},
   "outputs": [],
   "source": [
    "from sklearn.linear_model import LinearRegression\n",
    "from sklearn import metrics\n",
    "import numpy as np\n",
    "from sklearn.preprocessing import StandardScaler"
   ]
  },
  {
   "cell_type": "code",
   "execution_count": 7,
   "id": "f8a15fc4-9db9-422b-b958-ff4b035f6613",
   "metadata": {},
   "outputs": [],
   "source": [
    "def linear_reg(X_train, X_test, y_train, y_test):    \n",
    "    regr = LinearRegression()\n",
    "    regr.fit(X_train, y_train)\n",
    "    # list(zip(X, regr.coef_))  # This line is not used, so it can be commented out or removed.\n",
    "    y_pred = regr.predict(X_test)\n",
    "    # print(\"Prediction for test set: {}\".format(y_pred))\n",
    "    \n",
    "    # MAE \n",
    "    mae = metrics.mean_absolute_error(y_test, y_pred)\n",
    "    # MSE\n",
    "    mse = metrics.mean_squared_error(y_test, y_pred)\n",
    "    # mdAE\n",
    "    medae = metrics.median_absolute_error(y_test, y_pred)\n",
    "    # R2\n",
    "    r2 = metrics.r2_score(y_test, y_pred)\n",
    "    # Root MSE\n",
    "    rootMeanSqErr = np.sqrt(metrics.mean_squared_error(y_test, y_pred))\n",
    "    #regressor score\n",
    "    reg_score = regr.score(X_train, y_train) * 100\n",
    "    return y_pred, mae, mse, medae, r2,  rootMeanSqErr, regr.intercept_, regr.coef_, reg_score"
   ]
  },
  {
   "cell_type": "code",
   "execution_count": 8,
   "id": "b8d61849",
   "metadata": {},
   "outputs": [],
   "source": [
    "def linear_reg_scaled(X_train, X_test, y_train, y_test):\n",
    "    \n",
    "    # Scaling Data\n",
    "    scale = StandardScaler()\n",
    "    # Scaling Data\n",
    "    scale_X = StandardScaler()\n",
    "    scale_y = StandardScaler()\n",
    "\n",
    "    # Fit the scaler on the training data and transform the training data\n",
    "    X_train_scaled = scale_X.fit_transform(X_train)\n",
    "    y_train_scaled = scale_y.fit_transform(y_train.reshape(-1, 1)).flatten()\n",
    "\n",
    "    # Transform the test data using the scaler fitted on the training data\n",
    "    X_test_scaled = scale_X.transform(X_test)\n",
    "    y_test_scaled = scale_y.transform(y_test.reshape(-1, 1)).flatten()\n",
    "\n",
    "    regr = LinearRegression()\n",
    "    regr.fit(X_train_scaled, y_train_scaled)\n",
    "    # list(zip(X, regr.coef_))  # This line is not used, so it can be commented out or removed.\n",
    "    y_pred = regr.predict(X_test_scaled)\n",
    "    # print(\"Prediction for test set: {}\".format(y_pred))\n",
    "    \n",
    "    # MAE \n",
    "    mae = metrics.mean_absolute_error(y_test_scaled, y_pred)\n",
    "    # MSE\n",
    "    mse = metrics.mean_squared_error(y_test_scaled, y_pred)\n",
    "    # mdAE\n",
    "    medae = metrics.median_absolute_error(y_test_scaled, y_pred)\n",
    "    # R2\n",
    "    r2 = metrics.r2_score(y_test_scaled, y_pred)\n",
    "    # Root MSE\n",
    "    rootMeanSqErr = np.sqrt(metrics.mean_squared_error(y_test, y_pred))\n",
    "    #regressor score\n",
    "    reg_score = regr.score(X_train_scaled, y_train_scaled) * 100\n",
    "    return y_pred, mae, mse, medae, r2,  rootMeanSqErr, regr.intercept_, regr.coef_, reg_score"
   ]
  },
  {
   "cell_type": "code",
   "execution_count": null,
   "id": "243f7950",
   "metadata": {},
   "outputs": [],
   "source": []
  }
 ],
 "metadata": {
  "kernelspec": {
   "display_name": "Python 3 (ipykernel)",
   "language": "python",
   "name": "python3"
  },
  "language_info": {
   "codemirror_mode": {
    "name": "ipython",
    "version": 3
   },
   "file_extension": ".py",
   "mimetype": "text/x-python",
   "name": "python",
   "nbconvert_exporter": "python",
   "pygments_lexer": "ipython3",
   "version": "3.8.18"
  }
 },
 "nbformat": 4,
 "nbformat_minor": 5
}
