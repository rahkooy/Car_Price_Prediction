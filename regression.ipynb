{
 "cells": [
  {
   "cell_type": "markdown",
   "id": "cae26621",
   "metadata": {},
   "source": [
    "# Linear Regression"
   ]
  },
  {
   "cell_type": "code",
   "execution_count": 2,
   "id": "100dc69a",
   "metadata": {},
   "outputs": [],
   "source": [
    "from sklearn.linear_model import LinearRegression\n",
    "from sklearn import metrics\n",
    "import numpy as np\n",
    "from sklearn.preprocessing import StandardScaler\n",
    "from sklearn.model_selection import cross_val_score, KFold, cross_val_predict\n",
    "import matplotlib.pyplot as plt"
   ]
  },
  {
   "cell_type": "code",
   "execution_count": 3,
   "id": "f8a15fc4-9db9-422b-b958-ff4b035f6613",
   "metadata": {},
   "outputs": [],
   "source": [
    "def linear_reg(X_train, y_train, cv_folds=5, decimal_places=2):\n",
    "    regr = LinearRegression()\n",
    "    kf = KFold(n_splits=cv_folds, shuffle=True, random_state=42)\n",
    "    \n",
    "    # Cross-validation\n",
    "    mae_scores = -cross_val_score(regr, X_train, y_train, cv=kf, scoring='neg_mean_absolute_error')\n",
    "    medae_scores = -cross_val_score(regr, X_train, y_train, cv=kf, scoring='neg_median_absolute_error')\n",
    "    r2_scores = cross_val_score(regr, X_train, y_train, cv=kf, scoring='r2')\n",
    "   \n",
    "    # Dictionary of errors then convert to dataframe\n",
    "    error_metrics = {\n",
    "        'MAE': mae_scores,\n",
    "        #'MAE': [np.mean(mae_scores)],\n",
    "        'medAE': medae_scores,\n",
    "        #'medAE': [np.mean(medae_scores)],\n",
    "        'R2': r2_scores\n",
    "        #'R2': [np.mean(r2_scores)]\n",
    "    }\n",
    "    \n",
    "    # Convert the dictionary to a pandas DataFrame and round the values\n",
    "    df_errors = pd.DataFrame(error_metrics).round(decimal_places)\n",
    "    \n",
    "    # prediction via cross validation\n",
    "    y_pred = cross_val_predict(regr, X_train, y_train, cv=kf)\n",
    "    \n",
    "    return y_pred, df_errors"
   ]
  },
  {
   "cell_type": "code",
   "execution_count": 1,
   "id": "b8d61849",
   "metadata": {},
   "outputs": [],
   "source": [
    "def linear_reg_scaled(X_train, y_train, cv_folds=5, decimal_places=2):\n",
    "    # Scaling Data\n",
    "    scale_X = StandardScaler()\n",
    "    scale_y = StandardScaler()\n",
    "\n",
    "    # Fit the scaler on the training data and transform the training data\n",
    "    X_train_scaled = scale_X.fit_transform(X_train)\n",
    "    y_train_scaled = scale_y.fit_transform(y_train.reshape(-1, 1)).flatten()\n",
    "    \n",
    "    regr = LinearRegression()\n",
    "    kf = KFold(n_splits=cv_folds, shuffle=True, random_state=42)\n",
    "    \n",
    "    # Cross-validation\n",
    "    mae_scores = -cross_val_score(regr, X_train_scaled, y_train_scaled, cv=kf, scoring='neg_mean_absolute_error')\n",
    "    medae_scores = -cross_val_score(regr, X_train_scaled, y_train_scaled, cv=kf, scoring='neg_median_absolute_error')\n",
    "    r2_scores = cross_val_score(regr, X_train_scaled, y_train_scaled, cv=kf, scoring='r2')\n",
    "    \n",
    "    # Dictionary of errors then convert to dataframe\n",
    "    error_metrics = {\n",
    "        'MAE': mae_scores,\n",
    "        #'MAE': [np.mean(mae_scores)],\n",
    "        'medAE': medae_scores,\n",
    "        #'medAE': medae_scores,\n",
    "        'R2': r2_scores\n",
    "        #'R2': [np.mean(r2_scores)]\n",
    "    }\n",
    "    \n",
    "    # Convert the dictionary to a pandas DataFrame and round the values\n",
    "    df_errors = pd.DataFrame(error_metrics).round(decimal_places)\n",
    "    \n",
    "    # prediction via cross validation\n",
    "    y_pred_scaled = cross_val_predict(regr, X_train_scaled, y_train_scaled, cv=kf)\n",
    "\n",
    "    #TODO: y_pred to be scaled or not????\n",
    "    \n",
    "    # Inverse transform the predictions to the original scale  \n",
    "    y_pred = scale_y.inverse_transform(y_pred_scaled.reshape(-1, 1)).flatten()\n",
    "    \n",
    "    return y_pred, df_errors, scale_X, scale_y\n",
    "\n"
   ]
  },
  {
   "cell_type": "code",
   "execution_count": 1,
   "id": "93ab7ed6",
   "metadata": {},
   "outputs": [
    {
     "ename": "NameError",
     "evalue": "name 'train_test_split' is not defined",
     "output_type": "error",
     "traceback": [
      "\u001b[1;31m---------------------------------------------------------------------------\u001b[0m",
      "\u001b[1;31mNameError\u001b[0m                                 Traceback (most recent call last)",
      "Cell \u001b[1;32mIn[1], line 1\u001b[0m\n\u001b[1;32m----> 1\u001b[0m X_train, X_test, y_train, y_test \u001b[38;5;241m=\u001b[39m train_test_split(X, y, test_size\u001b[38;5;241m=\u001b[39m\u001b[38;5;241m0.2\u001b[39m, random_state\u001b[38;5;241m=\u001b[39m\u001b[38;5;241m42\u001b[39m)\n\u001b[0;32m      3\u001b[0m \u001b[38;5;66;03m# Get the predictions and error metrics\u001b[39;00m\n\u001b[0;32m      4\u001b[0m y_pred, df_errors, scale_X, scale_y \u001b[38;5;241m=\u001b[39m linear_reg_scaled(X_train, y_train)\n",
      "\u001b[1;31mNameError\u001b[0m: name 'train_test_split' is not defined"
     ]
    }
   ],
   "source": []
  },
  {
   "cell_type": "code",
   "execution_count": null,
   "id": "6791650a",
   "metadata": {},
   "outputs": [],
   "source": []
  }
 ],
 "metadata": {
  "kernelspec": {
   "display_name": "Python 3 (ipykernel)",
   "language": "python",
   "name": "python3"
  },
  "language_info": {
   "codemirror_mode": {
    "name": "ipython",
    "version": 3
   },
   "file_extension": ".py",
   "mimetype": "text/x-python",
   "name": "python",
   "nbconvert_exporter": "python",
   "pygments_lexer": "ipython3",
   "version": "3.11.5"
  }
 },
 "nbformat": 4,
 "nbformat_minor": 5
}
