{
 "cells": [
  {
   "cell_type": "markdown",
   "id": "07a61279",
   "metadata": {},
   "source": [
    "# Decision Tree for Car Price Prediction"
   ]
  },
  {
   "cell_type": "code",
   "execution_count": 1,
   "id": "021e3928",
   "metadata": {},
   "outputs": [],
   "source": [
    "import numpy as np\n",
    "from sklearn import tree\n",
    "from sklearn import metrics\n",
    "import pandas as pd\n",
    "from sklearn.preprocessing import StandardScaler\n",
    "from sklearn.model_selection import cross_val_score, KFold, cross_val_predict"
   ]
  },
  {
   "cell_type": "code",
   "execution_count": 3,
   "id": "2a90f0da",
   "metadata": {},
   "outputs": [],
   "source": [
    "def decision_tree(X_train, X_test, y_train, y_test, cv_folds=5, decimal_places=2):\n",
    "    # Standardizing the features\n",
    "    scale_X = StandardScaler()\n",
    "    scale_y = StandardScaler()\n",
    "    \n",
    "    # Fit the scaler on the training data and transform the training data\n",
    "    X_train_scaled = scale_X.fit_transform(X_train)\n",
    "    y_train_scaled = scale_y.fit_transform(y_train.reshape(-1, 1)).flatten()\n",
    "    X_test_scaled = scale_X.transform(X_test)\n",
    "    y_test_scaled = scale_y.transform(y_test.reshape(-1, 1)).flatten()\n",
    "\n",
    "    dtree = tree.DecisionTreeRegressor()\n",
    "    kf = KFold(n_splits=cv_folds, shuffle=True, random_state=42)\n",
    "    \n",
    "    # Cross-validation scores on training data\n",
    "    mae_scores = -cross_val_score(dtree, X_train_scaled, y_train_scaled, cv=kf, scoring='neg_mean_absolute_error')\n",
    "    medae_scores = -cross_val_score(dtree, X_train_scaled, y_train_scaled, cv=kf, scoring='neg_median_absolute_error')\n",
    "    r2_scores = cross_val_score(dtree, X_train_scaled, y_train_scaled, cv=kf, scoring='r2')\n",
    "    \n",
    "    # prediction via cross validation\n",
    "    y_pred_scaled_cv = cross_val_predict(dtree, X_train_scaled, y_train_scaled, cv=kf)\n",
    "    y_pred_cv = scale_y.inverse_transform(y_pred_scaled_cv.reshape(-1, 1)).flatten()\n",
    "    \n",
    "    # Cross Validation errors on training set\n",
    "    mae_cv = metrics.mean_absolute_error(y_train, y_pred_cv)\n",
    "    medAE_cv = metrics.median_absolute_error(y_train, y_pred_cv)\n",
    "    \n",
    "    # fitting model on all data\n",
    "    dtree.fit(X_train_scaled, y_train_scaled)\n",
    "    y_pred_scaled_test = dtree.predict(X_test_scaled)\n",
    "    y_pred_test = scale_y.inverse_transform(y_pred_scaled_test.reshape(-1, 1)).flatten()\n",
    "\n",
    "    # Errors on the test set\n",
    "    mae_test = metrics.mean_absolute_error(y_test, y_pred_test)\n",
    "    medae_test = metrics.median_absolute_error(y_test, y_pred_test)\n",
    "    dtree_score = dtree.score(X_test_scaled, y_test_scaled)\n",
    "    \n",
    "    # Dictionary of errors then convert to dataframe\n",
    "    error_metrics = {\n",
    "        'MAE CV': mae_cv,\n",
    "        'medAE CV': medAE_cv,\n",
    "        'R2 CV': r2_scores.mean(),\n",
    "        'MAE CV (mean)': mae_scores.mean(),\n",
    "        'medAE Train (mean)': medae_scores.mean(),\n",
    "        'MAE Test': mae_test,\n",
    "        'medAE Test': medae_test,\n",
    "        'Dec. Tree Score': dtree_score\n",
    "    }\n",
    "    \n",
    "    # Convert the dictionary to a pandas DataFrame and round the values\n",
    "    df_errors = pd.DataFrame([error_metrics]).round(decimal_places)\n",
    "    \n",
    "    return y_pred_test, df_errors, scale_X, scale_y"
   ]
  },
  {
   "cell_type": "code",
   "execution_count": 3,
   "id": "338df4c3",
   "metadata": {},
   "outputs": [],
   "source": [
    "# tree_plot = tree.plot_tree(dtree, feature_names=features)"
   ]
  },
  {
   "cell_type": "markdown",
   "id": "d976b1d6",
   "metadata": {},
   "source": [
    "### Visualising"
   ]
  },
  {
   "cell_type": "code",
   "execution_count": 4,
   "id": "d0213792",
   "metadata": {},
   "outputs": [
    {
     "data": {
      "text/plain": [
       "'\\n# graphviz converts the decision tree classifier into a dot file\\nfrom sklearn.tree import export_graphviz\\nfrom six import StringIO\\nfrom IPython.display import Image\\n# pydotplus converts this dot file to png or displayable form\\nimport pydotplus\\n'"
      ]
     },
     "execution_count": 4,
     "metadata": {},
     "output_type": "execute_result"
    }
   ],
   "source": [
    "\"\"\"\n",
    "# graphviz converts the decision tree classifier into a dot file\n",
    "from sklearn.tree import export_graphviz\n",
    "from six import StringIO\n",
    "from IPython.display import Image\n",
    "# pydotplus converts this dot file to png or displayable form\n",
    "import pydotplus\n",
    "\"\"\""
   ]
  },
  {
   "cell_type": "code",
   "execution_count": 5,
   "id": "3a53c545",
   "metadata": {},
   "outputs": [
    {
     "data": {
      "text/plain": [
       "\"\\nimport pandas as pd\\nfrom sklearn.model_selection import train_test_split\\n\\nselected_df = pd.read_csv('final_car_data.csv')\\nX = selected_df.drop(columns='price').values  # Assuming 'price' is the target variable\\ny = selected_df['price'].values\\nfeatures = ['year', 'power_kw', 'mileage_in_km', 'brand']\\nX_train, X_test, y_train, y_test = train_test_split(X,y)\\ndtree = tree.DecisionTreeClassifier()\\ndtree = dtree.fit(X_train,y_train)\\n#print(selected_df.drop(columns='price').columns)\\n\""
      ]
     },
     "execution_count": 5,
     "metadata": {},
     "output_type": "execute_result"
    }
   ],
   "source": [
    "\"\"\"\n",
    "import pandas as pd\n",
    "from sklearn.model_selection import train_test_split\n",
    "\n",
    "selected_df = pd.read_csv('final_car_data.csv')\n",
    "X = selected_df.drop(columns='price').values  # Assuming 'price' is the target variable\n",
    "y = selected_df['price'].values\n",
    "features = ['year', 'power_kw', 'mileage_in_km', 'brand']\n",
    "X_train, X_test, y_train, y_test = train_test_split(X,y)\n",
    "dtree = tree.DecisionTreeClassifier()\n",
    "dtree = dtree.fit(X_train,y_train)\n",
    "#print(selected_df.drop(columns='price').columns)\n",
    "\"\"\""
   ]
  },
  {
   "cell_type": "code",
   "execution_count": 6,
   "id": "41198372",
   "metadata": {},
   "outputs": [
    {
     "data": {
      "text/plain": [
       "\"\\ndot_data = StringIO()\\nexport_graphviz(dtree, out_file=dot_data,\\n               filled=True, rounded=True,\\n               special_characters=True,\\n               feature_names=X,\\n               class_names=['0','1'])\\ngraph = pydotplus.graph_from_dot_data(dot_data.getvalue())\\ngraph.write_png('test.png')\\nImage(graph.create_png())\\n\""
      ]
     },
     "execution_count": 6,
     "metadata": {},
     "output_type": "execute_result"
    }
   ],
   "source": [
    "\"\"\"\n",
    "dot_data = StringIO()\n",
    "export_graphviz(dtree, out_file=dot_data,\n",
    "               filled=True, rounded=True,\n",
    "               special_characters=True,\n",
    "               feature_names=X,\n",
    "               class_names=['0','1'])\n",
    "graph = pydotplus.graph_from_dot_data(dot_data.getvalue())\n",
    "graph.write_png('test.png')\n",
    "Image(graph.create_png())\n",
    "\"\"\""
   ]
  },
  {
   "cell_type": "code",
   "execution_count": null,
   "id": "6ad9d4e5",
   "metadata": {},
   "outputs": [],
   "source": []
  },
  {
   "cell_type": "code",
   "execution_count": null,
   "id": "ed961f7a",
   "metadata": {},
   "outputs": [],
   "source": []
  }
 ],
 "metadata": {
  "kernelspec": {
   "display_name": "Python 3 (ipykernel)",
   "language": "python",
   "name": "python3"
  },
  "language_info": {
   "codemirror_mode": {
    "name": "ipython",
    "version": 3
   },
   "file_extension": ".py",
   "mimetype": "text/x-python",
   "name": "python",
   "nbconvert_exporter": "python",
   "pygments_lexer": "ipython3",
   "version": "3.8.18"
  }
 },
 "nbformat": 4,
 "nbformat_minor": 5
}
