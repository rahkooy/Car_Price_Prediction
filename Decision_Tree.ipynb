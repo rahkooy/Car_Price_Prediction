{
 "cells": [
  {
   "cell_type": "markdown",
   "id": "07a61279",
   "metadata": {},
   "source": [
    "# Decision Tree for Car Price Prediction"
   ]
  },
  {
   "cell_type": "code",
   "execution_count": 1,
   "id": "021e3928",
   "metadata": {},
   "outputs": [],
   "source": [
    "from sklearn import tree\n",
    "import matplotlib.pyplot as plt"
   ]
  },
  {
   "cell_type": "markdown",
   "id": "54a788d7",
   "metadata": {},
   "source": [
    "## Note. \n",
    "\"\"\" In a decision tree, all values must be numerical, \n",
    " so we change last two non-numerical columns.\n",
    " For this we define one dictionary per column: \"\"\"\n",
    "#d = {'UK':0, 'USA':1, 'N':2}\n",
    "#\"map method replaces a dictionary with a column:\"\n",
    "#df['Nationality'] = df['Nationality'].map(d)"
   ]
  },
  {
   "cell_type": "code",
   "execution_count": 2,
   "id": "2a90f0da",
   "metadata": {},
   "outputs": [],
   "source": [
    "\n",
    "def decision_tree(X_train, y_train, X_test,y_test):\n",
    "    dtree = tree.DecisionTreeClassifier()\n",
    "    dtree = dtree.fit(X_train,y_train)\n",
    "    y_pred= dtree.predict(X_test)\n",
    "    # compare y_pred w y_test and produce some errors\n",
    "    return  y_pred #also return some errors computer"
   ]
  },
  {
   "cell_type": "code",
   "execution_count": 3,
   "id": "338df4c3",
   "metadata": {},
   "outputs": [],
   "source": [
    "# tree_plot = tree.plot_tree(dtree, feature_names=features)"
   ]
  },
  {
   "cell_type": "code",
   "execution_count": null,
   "id": "e7026239",
   "metadata": {},
   "outputs": [],
   "source": []
  },
  {
   "cell_type": "code",
   "execution_count": null,
   "id": "71eaa7e4",
   "metadata": {},
   "outputs": [],
   "source": []
  }
 ],
 "metadata": {
  "kernelspec": {
   "display_name": "Python 3 (ipykernel)",
   "language": "python",
   "name": "python3"
  },
  "language_info": {
   "codemirror_mode": {
    "name": "ipython",
    "version": 3
   },
   "file_extension": ".py",
   "mimetype": "text/x-python",
   "name": "python",
   "nbconvert_exporter": "python",
   "pygments_lexer": "ipython3",
   "version": "3.10.12"
  }
 },
 "nbformat": 4,
 "nbformat_minor": 5
}
