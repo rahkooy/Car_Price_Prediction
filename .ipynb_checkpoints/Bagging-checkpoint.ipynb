{
 "cells": [
  {
   "cell_type": "markdown",
   "id": "15111ea1",
   "metadata": {},
   "source": [
    "# Bagging for car price prediction"
   ]
  },
  {
   "cell_type": "code",
   "execution_count": 1,
   "id": "6b74f6bc",
   "metadata": {},
   "outputs": [],
   "source": [
    "from sklearn.ensemble import BaggingClassifier\n",
    "from sklearn.metrics import accuracy_score"
   ]
  },
  {
   "cell_type": "code",
   "execution_count": 2,
   "id": "752c1122",
   "metadata": {},
   "outputs": [
    {
     "ename": "SyntaxError",
     "evalue": "invalid syntax (1691506526.py, line 23)",
     "output_type": "error",
     "traceback": [
      "\u001b[0;36m  Cell \u001b[0;32mIn[2], line 23\u001b[0;36m\u001b[0m\n\u001b[0;31m    return scores, y_pred, mae, mse, ,edae, r2\u001b[0m\n\u001b[0m                                     ^\u001b[0m\n\u001b[0;31mSyntaxError\u001b[0m\u001b[0;31m:\u001b[0m invalid syntax\n"
     ]
    }
   ],
   "source": [
    "#bagging classifier iterated over a list of estimators\n",
    "def bagging(X_train,X_test,y_train,y_test,estimator_range): #estimator_rang is a list of estimators\n",
    "    scores =[]\n",
    "    for n_estimators in estimator_range:\n",
    "        #create bagging classifier\n",
    "        clf = BaggingClassifier(n_estimators=n_estimators, \n",
    "                               random_state=22)\n",
    "        #fit data and predict\n",
    "        clf.fit(X_train,y_train)\n",
    "        y_pred = clf.predict(X_test)\n",
    "        \n",
    "        #Accuracy\n",
    "        acc = accuracy_score(y_test,y_pred)\n",
    "        scores.append(acc)\n",
    "        # MAE\n",
    "        mae = metrics.mean_absolute_error(y_test, y_pred)\n",
    "        # MSE\n",
    "        mse = metrics.mean_squared_error(y_test, y_pred)\n",
    "        # mdAE\n",
    "        medae = metrics.median_absolute_error(y_test, y_pred)\n",
    "        # R2\n",
    "\n",
    "    return scores, y_pred, mae, mse, ,edae, r2"
   ]
  },
  {
   "cell_type": "code",
   "execution_count": null,
   "id": "1b5bd74c",
   "metadata": {},
   "outputs": [],
   "source": [
    "# bagging classifier with oob and a given estimator\n",
    "def baggin_w_oob(X_train, X_test, y_train, y_test, n_estimators):\n",
    "    oob_model = BaggingClassifier(\n",
    "        n_estimators=n_estimators, \n",
    "        oob_score=True, \n",
    "        random_state=22\n",
    "    )\n",
    "    oob_model.fit(X_train, y_train)\n",
    "    y_pred = oob_model.predict(X_test)\n",
    "    score = oob_model.oob_score_\n",
    "    # MAE\n",
    "    mae = metrics.mean_absolute_error(y_test, y_pred)\n",
    "    # MSE\n",
    "    mse = metrics.mean_squared_error(y_test, y_pred)\n",
    "    # mdAE\n",
    "    medae = metrics.median_absolute_error(y_test, y_pred)\n",
    "    # R2\n",
    "    return score, y_pred, mae, mse, ,edae, r2"
   ]
  },
  {
   "cell_type": "code",
   "execution_count": null,
   "id": "60b12996",
   "metadata": {},
   "outputs": [],
   "source": []
  }
 ],
 "metadata": {
  "kernelspec": {
   "display_name": "Python 3 (ipykernel)",
   "language": "python",
   "name": "python3"
  },
  "language_info": {
   "codemirror_mode": {
    "name": "ipython",
    "version": 3
   },
   "file_extension": ".py",
   "mimetype": "text/x-python",
   "name": "python",
   "nbconvert_exporter": "python",
   "pygments_lexer": "ipython3",
   "version": "3.8.18"
  }
 },
 "nbformat": 4,
 "nbformat_minor": 5
}
