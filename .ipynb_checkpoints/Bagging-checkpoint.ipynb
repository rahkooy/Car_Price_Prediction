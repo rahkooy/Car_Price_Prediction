{
 "cells": [
  {
   "cell_type": "markdown",
   "id": "15111ea1",
   "metadata": {},
   "source": [
    "# Bagging for car price prediction"
   ]
  },
  {
   "cell_type": "code",
   "execution_count": 9,
   "id": "6b74f6bc",
   "metadata": {},
   "outputs": [],
   "source": [
    "from sklearn.ensemble import BaggingRegressor\n",
    "from sklearn.metrics import mean_absolute_error, mean_squared_error, median_absolute_error, r2_score\n",
    "from sklearn.model_selection import KFold, cross_val_score\n",
    "import pandas as pd\n",
    "import numpy as np"
   ]
  },
  {
   "cell_type": "code",
   "execution_count": 12,
   "id": "752c1122",
   "metadata": {},
   "outputs": [],
   "source": [
    "def bagging(X_train, y_train, estimator_range, cv_folds=5, decimal_places=2):\n",
    "    results = []\n",
    "\n",
    "    for n_estimators in estimator_range:\n",
    "        # Create bagging regressor\n",
    "        clf = BaggingRegressor(n_estimators=n_estimators, random_state=22)\n",
    "\n",
    "        # Perform 5-fold cross-validation\n",
    "        kf = KFold(n_splits=cv_folds, shuffle=True, random_state=42)\n",
    "        \n",
    "        mae_scores = -cross_val_score(clf, X_train, y_train, cv=kf, scoring='neg_mean_absolute_error')\n",
    "        medae_scores = -cross_val_score(clf, X_train, y_train, cv=kf, scoring='neg_median_absolute_error')\n",
    "        r2_scores = cross_val_score(clf, X_train, y_train, cv=kf, scoring='r2')\n",
    "\n",
    "        # Calculate mean and round the values\n",
    "        mae = round(np.mean(mae_scores), decimal_places)\n",
    "        medae = round(np.mean(medae_scores), decimal_places)\n",
    "        r2 = round(np.mean(r2_scores), decimal_places)\n",
    "\n",
    "        # Store results\n",
    "        results.append({\n",
    "            'n_estimators': n_estimators,\n",
    "            'MAE': mae,\n",
    "            'medAE': medae,\n",
    "            'R2': r2\n",
    "        })\n",
    "\n",
    "    # Convert the results list to a pandas DataFrame\n",
    "    df_errors = pd.DataFrame(results)\n",
    "    \n",
    "    return df_errors"
   ]
  },
  {
   "cell_type": "code",
   "execution_count": null,
   "id": "f71ee4b1",
   "metadata": {},
   "outputs": [],
   "source": [
    "def visualize_predictions(y_test, y_pred):\n",
    "    fig = plt.figure(figsize=(10, 6))\n",
    "    plt.scatter(y_test, y_pred, alpha=0.5)\n",
    "    plt.plot([y_test.min(), y_test.max()], [y_test.min(), y_test.max()], 'k--', lw=2)\n",
    "    plt.xlabel('Actual Price')\n",
    "    plt.ylabel('Predicted Price')\n",
    "    plt.title('Bagging Regressor: Actual vs. Predicted Prices')\n",
    "    plt.show()"
   ]
  }
 ],
 "metadata": {
  "kernelspec": {
   "display_name": "Python 3 (ipykernel)",
   "language": "python",
   "name": "python3"
  },
  "language_info": {
   "codemirror_mode": {
    "name": "ipython",
    "version": 3
   },
   "file_extension": ".py",
   "mimetype": "text/x-python",
   "name": "python",
   "nbconvert_exporter": "python",
   "pygments_lexer": "ipython3",
   "version": "3.11.5"
  }
 },
 "nbformat": 4,
 "nbformat_minor": 5
}
