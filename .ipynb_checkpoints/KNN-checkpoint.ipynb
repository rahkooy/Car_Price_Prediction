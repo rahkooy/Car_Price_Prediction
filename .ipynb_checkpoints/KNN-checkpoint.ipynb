{
 "cells": [
  {
   "cell_type": "markdown",
   "id": "a6e45ff2",
   "metadata": {},
   "source": [
    "#### TODO (E): Have a look at regression.ipynb and adapt that. "
   ]
  },
  {
   "cell_type": "code",
   "execution_count": 3,
   "id": "ddb82217",
   "metadata": {},
   "outputs": [],
   "source": [
    "# Importing necessary libraries\n",
    "import pandas as pd\n",
    "import numpy as np\n",
    "from sklearn.model_selection import KFold, cross_val_score\n",
    "from sklearn.preprocessing import StandardScaler\n",
    "from sklearn.neighbors import KNeighborsRegressor\n",
    "from sklearn.metrics import mean_squared_error\n",
    "import matplotlib.pyplot as plt\n",
    "import seaborn as sns\n",
    "from sklearn.model_selection import cross_val_predict\n",
    "from sklearn.metrics import mean_absolute_error, median_absolute_error, r2_score, accuracy_score, classification_report, confusion_matrix"
   ]
  },
  {
   "cell_type": "code",
   "execution_count": null,
   "id": "ae94690e",
   "metadata": {},
   "outputs": [],
   "source": []
  },
  {
   "cell_type": "code",
   "execution_count": 4,
   "id": "35ae8f65",
   "metadata": {},
   "outputs": [],
   "source": [
    "def knn_model(X_train, y_train, X_test,y_test):\n",
    "    # Standardizing the features\n",
    "    scaler = StandardScaler()\n",
    "    X_scaled = scaler.fit_transform(X_test)  #TODO: Correct Syntax?\n",
    "    # Defining the KNN model\n",
    "    knn = KNeighborsRegressor(n_neighbors=5)\n",
    "    #TODO: fit data below or not needed?\n",
    "    #knn = knn.fit(X_train,y_train)\n",
    "    # Setting up 5-fold cross-validation\n",
    "    kf = KFold(n_splits=5, shuffle=True, random_state=42)\n",
    "    # Performing cross-validation and evaluating the model\n",
    "    cv_results = cross_val_score(knn, X_scaled, y_test, cv=kf, scoring='neg_mean_squared_error')\n",
    "    rmse_scores = np.sqrt(-cv_results)\n",
    "    rmse_mean = rmse_scores.mean()\n",
    "    # Calculating predictions using cross-validation\n",
    "    y_pred = cross_val_predict(knn, X_scaled, y_test, cv=kf)\n",
    "    knn_accuracy = accuracy_score(y_test,y_pred)\n",
    "    # MAE\n",
    "    mae = mean_absolute_error(y_test, y_pred)\n",
    "    # MSE\n",
    "    mse = mean_squared_error(y_test, y_pred)\n",
    "    # mdAE\n",
    "    medae = median_absolute_error(y_test, y_pred)\n",
    "    # R2\n",
    "    r2 = r2_score(y_test, y_pred)\n",
    "    # Printing the additional error measures\n",
    "    #print(f'Mean Absolute Error (MAE): {mae}')\n",
    "    #print(f'Mean Squared Error (MSE): {mse}')\n",
    "    #print(f'Median Absolute Error (medAE): {medae}')\n",
    "    #print(f'R-squared (R2): {r2}')    \n",
    "    # Classification report\n",
    "    class_report = classification_report(y_test, y_pred)\n",
    "    # print(\"\\nClassification Report:\", classification_report(y_test, y_pred))\n",
    "    # Confusion matrix\n",
    "    conf_matrix = confusion_matrix(y_test, y_pred)\n",
    "    # print(\"\\nConfusion Matrix:\", confusion_matrix(y_test, y_pred))\n",
    "    return y_pred, rmse_scores, rmse_mean, rmse_scores.std(), knn_accuracy.std(), class_report, conf_matrix"
   ]
  },
  {
   "cell_type": "code",
   "execution_count": null,
   "id": "c61cd29e",
   "metadata": {},
   "outputs": [],
   "source": []
  }
 ],
 "metadata": {
  "kernelspec": {
   "display_name": "Python 3 (ipykernel)",
   "language": "python",
   "name": "python3"
  },
  "language_info": {
   "codemirror_mode": {
    "name": "ipython",
    "version": 3
   },
   "file_extension": ".py",
   "mimetype": "text/x-python",
   "name": "python",
   "nbconvert_exporter": "python",
   "pygments_lexer": "ipython3",
   "version": "3.8.18"
  }
 },
 "nbformat": 4,
 "nbformat_minor": 5
}
