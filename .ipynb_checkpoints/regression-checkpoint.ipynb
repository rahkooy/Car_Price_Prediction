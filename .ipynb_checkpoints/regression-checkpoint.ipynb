{
 "cells": [
  {
   "cell_type": "markdown",
   "id": "cae26621",
   "metadata": {},
   "source": [
    "# Linear Regression"
   ]
  },
  {
   "cell_type": "code",
   "execution_count": 2,
   "id": "f6b30238",
   "metadata": {},
   "outputs": [],
   "source": [
    "def test():\n",
    "    print(\"successful ran test function from the regression notebook\")"
   ]
  },
  {
   "cell_type": "code",
   "execution_count": 6,
   "id": "100dc69a",
   "metadata": {},
   "outputs": [],
   "source": [
    "def linear_reg(X_train, y_train, X_test,y_test):\n",
    "    regr = LinearRegression()\n",
    "    regr.fit(X_train, y_train)\n",
    "    #print(\"Intercept: \", regr.intercept_)\n",
    "    #print(\"Coefficients:\")\n",
    "    list(zip(X, regr.coef_))\n",
    "    y_pred= regr.predict(X_test)\n",
    "    #print(\"Prediction for test set: {}\".format(y_pred))\n",
    "\n",
    "    meanAbErr = metrics.mean_absolute_error(y_test, y_pred)\n",
    "    meanSqErr = metrics.mean_squared_error(y_test, y_pred)\n",
    "    rootMeanSqErr = np.sqrt(metrics.mean_squared_error(y_test, y_pred))\n",
    "    #print('R squared: {:.2f}'.format(regr.score(X_train,y_train)*100))\n",
    "    #print('Mean Absolute Error:', meanAbErr)\n",
    "    #print('Mean Square Error:', meanSqErr)\n",
    "    #print('Root Mean Square Error:', rootMeanSqErr)\n",
    "    return print(\"Intercept: \", regr.intercept_), print(\"Coefficients:\"), print(\"Prediction for test set: {}\".format(y_pred)), print('R squared: {:.2f}'.format(regr.score(X_train,y_train)*100)), print('Mean Absolute Error:', meanAbErr), print('Mean Square Error:', meanSqErr), print('Root Mean Square Error:', rootMeanSqErr)\n",
    "#regr.intercept_, y_pred, meanAbErr, meanSqErr"
   ]
  },
  {
   "cell_type": "code",
   "execution_count": null,
   "id": "b8d61849",
   "metadata": {},
   "outputs": [],
   "source": []
  }
 ],
 "metadata": {
  "kernelspec": {
   "display_name": "Python 3 (ipykernel)",
   "language": "python",
   "name": "python3"
  },
  "language_info": {
   "codemirror_mode": {
    "name": "ipython",
    "version": 3
   },
   "file_extension": ".py",
   "mimetype": "text/x-python",
   "name": "python",
   "nbconvert_exporter": "python",
   "pygments_lexer": "ipython3",
   "version": "3.10.12"
  }
 },
 "nbformat": 4,
 "nbformat_minor": 5
}
