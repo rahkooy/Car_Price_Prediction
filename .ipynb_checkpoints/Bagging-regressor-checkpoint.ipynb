{
 "cells": [
  {
   "cell_type": "markdown",
   "id": "15111ea1",
   "metadata": {},
   "source": [
    "# Bagging Regressor for car price prediction"
   ]
  },
  {
   "cell_type": "code",
   "execution_count": 25,
   "id": "6b74f6bc",
   "metadata": {},
   "outputs": [],
   "source": [
    "from sklearn.ensemble import BaggingRegressor\n",
    "from sklearn.metrics import mean_absolute_error, mean_squared_error, median_absolute_error, r2_score\n",
    "from sklearn.model_selection import KFold, cross_val_score, cross_val_predict\n",
    "import pandas as pd\n",
    "import numpy as np"
   ]
  },
  {
   "cell_type": "code",
   "execution_count": 26,
   "id": "752c1122",
   "metadata": {},
   "outputs": [],
   "source": [
    "def bagging(X_train, X_test, y_train, y_test, estimator_range, cv_folds=5, decimal_places=2):\n",
    "    results = []\n",
    "\n",
    "    for n_estimators in estimator_range:\n",
    "        # Create bagging regressor\n",
    "        clf = BaggingRegressor(n_estimators=n_estimators, random_state=22)\n",
    "\n",
    "        # Perform 5-fold cross-validation\n",
    "        kf = KFold(n_splits=cv_folds, shuffle=True, random_state=42)\n",
    "        \n",
    "        mae_scores = -cross_val_score(clf, X_train, y_train, cv=kf, scoring='neg_mean_absolute_error')\n",
    "        medae_scores = -cross_val_score(clf, X_train, y_train, cv=kf, scoring='neg_median_absolute_error')\n",
    "        r2_scores = cross_val_score(clf, X_train, y_train, cv=kf, scoring='r2')\n",
    "\n",
    "        # prediction via cross validation\n",
    "        y_pred_cv = cross_val_predict(clf, X_train, y_train, cv=kf)\n",
    "\n",
    "        # Cross Validation errors on training set\n",
    "        mae_cv = mean_absolute_error(y_train, y_pred_cv)\n",
    "        medAE_cv = median_absolute_error(y_train,y_pred_cv)\n",
    "        \n",
    "        # fitting model on all data\n",
    "        clf.fit(X_train,y_train)\n",
    "        y_pred_test = clf.predict(X_test)\n",
    "\n",
    "        # Erros on the test set\n",
    "        mae_test = mean_absolute_error(y_test,y_pred_test)\n",
    "        medae_test = median_absolute_error(y_test, y_pred_test)\n",
    "        r2_test = r2_score(y_test,y_pred_test)\n",
    "        \n",
    "        \"\"\"\n",
    "        # Store results for each fold        \n",
    "        for fold_idx, (mae_scores, medae_scores, r2_scores) in enumerate(zip(mae_scores, medae_scores, r2_scores)):\n",
    "            results.append({\n",
    "                'n_estimators': n_estimators,\n",
    "                # 'Fold': fold_idx + 1,\n",
    "                'MAE CV': mae_cv,\n",
    "                'medAE CV': medAE_cv,\n",
    "                'R2 CV': r2_scores.mean(),\n",
    "                'MAE Train (mean)': mae_scores.mean(),\n",
    "                'medAE Train (mean)': medae_scores.mean(),\n",
    "                'MAE Test': mae_test,\n",
    "                'medAE Test': medae_test,\n",
    "                'R2 Test': r2_test\n",
    "            })\n",
    "            \"\"\"\n",
    "\n",
    "        #instead of looping and showing errors for each fold, we take the mean value of the errors\n",
    "        results.append({\n",
    "            'n_estimators': n_estimators,\n",
    "            # 'Fold': fold_idx + 1,\n",
    "            'MAE CV': mae_cv,\n",
    "            'medAE CV': medAE_cv,\n",
    "            'R2 CV': r2_scores.mean(),\n",
    "            'MAE Train (mean)': mae_scores.mean(),\n",
    "            'medAE Train (mean)': medae_scores.mean(),\n",
    "            'MAE Test': mae_test,\n",
    "            'medAE Test': medae_test,\n",
    "            'R2 Test': r2_test\n",
    "        })\n",
    "        \n",
    "\n",
    "    # Convert the results list to a pandas DataFrame\n",
    "    df_errors = pd.DataFrame(results).round(decimal_places)\n",
    "    \n",
    "    return y_pred_test, df_errors"
   ]
  },
  {
   "cell_type": "code",
   "execution_count": null,
   "id": "1469514c",
   "metadata": {},
   "outputs": [],
   "source": []
  }
 ],
 "metadata": {
  "kernelspec": {
   "display_name": "Python 3 (ipykernel)",
   "language": "python",
   "name": "python3"
  },
  "language_info": {
   "codemirror_mode": {
    "name": "ipython",
    "version": 3
   },
   "file_extension": ".py",
   "mimetype": "text/x-python",
   "name": "python",
   "nbconvert_exporter": "python",
   "pygments_lexer": "ipython3",
   "version": "3.10.12"
  }
 },
 "nbformat": 4,
 "nbformat_minor": 5
}
