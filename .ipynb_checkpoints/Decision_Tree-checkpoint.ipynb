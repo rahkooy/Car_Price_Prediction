{
 "cells": [
  {
   "cell_type": "markdown",
   "id": "07a61279",
   "metadata": {},
   "source": [
    "# Decision Tree for Car Price Prediction"
   ]
  },
  {
   "cell_type": "code",
   "execution_count": 8,
   "id": "021e3928",
   "metadata": {},
   "outputs": [],
   "source": [
    "from sklearn import tree\n",
    "from sklearn import metrics\n",
    "import matplotlib.pyplot as plt"
   ]
  },
  {
   "cell_type": "markdown",
   "id": "54a788d7",
   "metadata": {},
   "source": [
    "## Note. \n",
    "\"\"\" In a decision tree, all values must be numerical, \n",
    " so we change last two non-numerical columns.\n",
    " For this we define one dictionary per column: \"\"\"\n",
    "#d = {'UK':0, 'USA':1, 'N':2}\n",
    "#\"map method replaces a dictionary with a column:\"\n",
    "#df['Nationality'] = df['Nationality'].map(d)"
   ]
  },
  {
   "cell_type": "code",
   "execution_count": 10,
   "id": "2a90f0da",
   "metadata": {},
   "outputs": [],
   "source": [
    "\n",
    "def decision_tree(X_train, y_train, X_test,y_test):\n",
    "    dtree = tree.DecisionTreeClassifier()\n",
    "    # dtree = tree.DecisionTreeClassifier(criterion=\"entropy\", max_depth=7)\n",
    "    dtree = dtree.fit(X_train,y_train)\n",
    "    y_pred= dtree.predict(X_test)\n",
    "    accu = metrics.accuracy_score(y_test,y_pred)\n",
    "    return  accu"
   ]
  },
  {
   "cell_type": "code",
   "execution_count": 3,
   "id": "338df4c3",
   "metadata": {},
   "outputs": [],
   "source": [
    "# tree_plot = tree.plot_tree(dtree, feature_names=features)"
   ]
  },
  {
   "cell_type": "markdown",
   "id": "d976b1d6",
   "metadata": {},
   "source": [
    "### Visualising"
   ]
  },
  {
   "cell_type": "code",
   "execution_count": 13,
   "id": "d0213792",
   "metadata": {},
   "outputs": [
    {
     "data": {
      "text/plain": [
       "'\\n# graphviz converts the decision tree classifier into a dot file\\nfrom sklearn.tree import export_graphviz\\nfrom six import StringIO\\nfrom IPython.display import Image\\n# pydotplus converts this dot file to png or displayable form\\nimport pydotplus\\n'"
      ]
     },
     "execution_count": 13,
     "metadata": {},
     "output_type": "execute_result"
    }
   ],
   "source": [
    "\"\"\"\n",
    "# graphviz converts the decision tree classifier into a dot file\n",
    "from sklearn.tree import export_graphviz\n",
    "from six import StringIO\n",
    "from IPython.display import Image\n",
    "# pydotplus converts this dot file to png or displayable form\n",
    "import pydotplus\n",
    "\"\"\""
   ]
  },
  {
   "cell_type": "code",
   "execution_count": 14,
   "id": "3a53c545",
   "metadata": {},
   "outputs": [
    {
     "data": {
      "text/plain": [
       "\"\\nimport pandas as pd\\nfrom sklearn.model_selection import train_test_split\\n\\nselected_df = pd.read_csv('final_car_data.csv')\\nX = selected_df.drop(columns='price').values  # Assuming 'price' is the target variable\\ny = selected_df['price'].values\\nfeatures = ['year', 'power_kw', 'mileage_in_km', 'brand']\\nX_train, X_test, y_train, y_test = train_test_split(X,y)\\ndtree = tree.DecisionTreeClassifier()\\ndtree = dtree.fit(X_train,y_train)\\n#print(selected_df.drop(columns='price').columns)\\n\""
      ]
     },
     "execution_count": 14,
     "metadata": {},
     "output_type": "execute_result"
    }
   ],
   "source": [
    "\"\"\"\n",
    "import pandas as pd\n",
    "from sklearn.model_selection import train_test_split\n",
    "\n",
    "selected_df = pd.read_csv('final_car_data.csv')\n",
    "X = selected_df.drop(columns='price').values  # Assuming 'price' is the target variable\n",
    "y = selected_df['price'].values\n",
    "features = ['year', 'power_kw', 'mileage_in_km', 'brand']\n",
    "X_train, X_test, y_train, y_test = train_test_split(X,y)\n",
    "dtree = tree.DecisionTreeClassifier()\n",
    "dtree = dtree.fit(X_train,y_train)\n",
    "#print(selected_df.drop(columns='price').columns)\n",
    "\"\"\""
   ]
  },
  {
   "cell_type": "code",
   "execution_count": 15,
   "id": "41198372",
   "metadata": {},
   "outputs": [
    {
     "data": {
      "text/plain": [
       "\"\\ndot_data = StringIO()\\nexport_graphviz(dtree, out_file=dot_data,\\n               filled=True, rounded=True,\\n               special_characters=True,\\n               feature_names=X,\\n               class_names=['0','1'])\\ngraph = pydotplus.graph_from_dot_data(dot_data.getvalue())\\ngraph.write_png('test.png')\\nImage(graph.create_png())\\n\""
      ]
     },
     "execution_count": 15,
     "metadata": {},
     "output_type": "execute_result"
    }
   ],
   "source": [
    "\"\"\"\n",
    "dot_data = StringIO()\n",
    "export_graphviz(dtree, out_file=dot_data,\n",
    "               filled=True, rounded=True,\n",
    "               special_characters=True,\n",
    "               feature_names=X,\n",
    "               class_names=['0','1'])\n",
    "graph = pydotplus.graph_from_dot_data(dot_data.getvalue())\n",
    "graph.write_png('test.png')\n",
    "Image(graph.create_png())\n",
    "\"\"\""
   ]
  },
  {
   "cell_type": "code",
   "execution_count": null,
   "id": "e7026239",
   "metadata": {},
   "outputs": [],
   "source": []
  },
  {
   "cell_type": "code",
   "execution_count": null,
   "id": "71eaa7e4",
   "metadata": {},
   "outputs": [],
   "source": []
  }
 ],
 "metadata": {
  "kernelspec": {
   "display_name": "Python 3 (ipykernel)",
   "language": "python",
   "name": "python3"
  },
  "language_info": {
   "codemirror_mode": {
    "name": "ipython",
    "version": 3
   },
   "file_extension": ".py",
   "mimetype": "text/x-python",
   "name": "python",
   "nbconvert_exporter": "python",
   "pygments_lexer": "ipython3",
   "version": "3.8.18"
  }
 },
 "nbformat": 4,
 "nbformat_minor": 5
}
