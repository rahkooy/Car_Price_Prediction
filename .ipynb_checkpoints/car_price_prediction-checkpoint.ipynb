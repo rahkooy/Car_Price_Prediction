{
 "cells": [
  {
   "cell_type": "markdown",
   "id": "f399943f",
   "metadata": {},
   "source": [
    "# Price Prediction for second hand cars in Germany"
   ]
  },
  {
   "cell_type": "markdown",
   "id": "b947c6d5",
   "metadata": {},
   "source": [
    "## Contents\n",
    "\n",
    "#### TODO: clean below steps\n",
    "\n",
    "1-EDA (Exploratory Data Analysis)\n",
    "\n",
    "1-2-Feature Engineering\n",
    "\n",
    "2-Modeling \n",
    "\n",
    "  2-0-Model Selection\n",
    "  \n",
    "  2-1-Linear Regression\n",
    "  \n",
    "  2-2-Decision Tree\n",
    "  \n",
    "  2-3-Bagging\n",
    "  \n",
    "  2-4-K-Nearest Neighbourhood\n",
    "  \n",
    "  2-5-Random Forest\n",
    "  \n",
    "3-Model Comparison\n",
    "\n",
    "4- Visualisation\n",
    "\n",
    "5-Conclusion"
   ]
  },
  {
   "cell_type": "code",
   "execution_count": 4,
   "id": "6fbca6a3",
   "metadata": {},
   "outputs": [],
   "source": [
    "# Importing Libraries\n",
    "\n",
    "import pandas as pd\n",
    "import numpy as np\n",
    "import seaborn as sns\n",
    "import matplotlib.pyplot as plt\n",
    "import mpl_toolkits\n",
    "%matplotlib inline\n",
    "from sklearn.model_selection import train_test_split\n",
    "from sklearn.linear_model import LinearRegression\n",
    "from sklearn.metrics import mean_squared_error\n",
    "from sklearn.preprocessing import StandardScaler\n",
    "import time"
   ]
  },
  {
   "cell_type": "markdown",
   "id": "cb8c9531",
   "metadata": {},
   "source": [
    "## 1-EDA (Exploratory Data Analysis)\n",
    "\n",
    "The data set is cleaned in eda.ipynb and stored in final_car_data.csv. "
   ]
  },
  {
   "cell_type": "code",
   "execution_count": 5,
   "id": "b9d31ae4",
   "metadata": {},
   "outputs": [],
   "source": [
    "selected_df = pd.read_csv('final_car_data.csv')"
   ]
  },
  {
   "cell_type": "code",
   "execution_count": 6,
   "id": "f2dbe517",
   "metadata": {},
   "outputs": [
    {
     "data": {
      "text/html": [
       "<div>\n",
       "<style scoped>\n",
       "    .dataframe tbody tr th:only-of-type {\n",
       "        vertical-align: middle;\n",
       "    }\n",
       "\n",
       "    .dataframe tbody tr th {\n",
       "        vertical-align: top;\n",
       "    }\n",
       "\n",
       "    .dataframe thead th {\n",
       "        text-align: right;\n",
       "    }\n",
       "</style>\n",
       "<table border=\"1\" class=\"dataframe\">\n",
       "  <thead>\n",
       "    <tr style=\"text-align: right;\">\n",
       "      <th></th>\n",
       "      <th>year</th>\n",
       "      <th>price</th>\n",
       "      <th>power_kw</th>\n",
       "      <th>mileage_in_km</th>\n",
       "      <th>brand</th>\n",
       "    </tr>\n",
       "  </thead>\n",
       "  <tbody>\n",
       "    <tr>\n",
       "      <th>0</th>\n",
       "      <td>2011</td>\n",
       "      <td>9900</td>\n",
       "      <td>103.0</td>\n",
       "      <td>119000.0</td>\n",
       "      <td>2</td>\n",
       "    </tr>\n",
       "    <tr>\n",
       "      <th>1</th>\n",
       "      <td>2011</td>\n",
       "      <td>9290</td>\n",
       "      <td>118.0</td>\n",
       "      <td>184574.0</td>\n",
       "      <td>2</td>\n",
       "    </tr>\n",
       "    <tr>\n",
       "      <th>2</th>\n",
       "      <td>2011</td>\n",
       "      <td>9499</td>\n",
       "      <td>77.0</td>\n",
       "      <td>114860.0</td>\n",
       "      <td>2</td>\n",
       "    </tr>\n",
       "    <tr>\n",
       "      <th>3</th>\n",
       "      <td>2011</td>\n",
       "      <td>11990</td>\n",
       "      <td>103.0</td>\n",
       "      <td>205013.0</td>\n",
       "      <td>2</td>\n",
       "    </tr>\n",
       "    <tr>\n",
       "      <th>4</th>\n",
       "      <td>2011</td>\n",
       "      <td>10900</td>\n",
       "      <td>150.0</td>\n",
       "      <td>192350.0</td>\n",
       "      <td>2</td>\n",
       "    </tr>\n",
       "    <tr>\n",
       "      <th>...</th>\n",
       "      <td>...</td>\n",
       "      <td>...</td>\n",
       "      <td>...</td>\n",
       "      <td>...</td>\n",
       "      <td>...</td>\n",
       "    </tr>\n",
       "    <tr>\n",
       "      <th>120791</th>\n",
       "      <td>2023</td>\n",
       "      <td>28788</td>\n",
       "      <td>81.0</td>\n",
       "      <td>5.0</td>\n",
       "      <td>0</td>\n",
       "    </tr>\n",
       "    <tr>\n",
       "      <th>120792</th>\n",
       "      <td>2023</td>\n",
       "      <td>28420</td>\n",
       "      <td>81.0</td>\n",
       "      <td>4900.0</td>\n",
       "      <td>0</td>\n",
       "    </tr>\n",
       "    <tr>\n",
       "      <th>120793</th>\n",
       "      <td>2023</td>\n",
       "      <td>59990</td>\n",
       "      <td>110.0</td>\n",
       "      <td>10500.0</td>\n",
       "      <td>0</td>\n",
       "    </tr>\n",
       "    <tr>\n",
       "      <th>120794</th>\n",
       "      <td>2023</td>\n",
       "      <td>30370</td>\n",
       "      <td>152.0</td>\n",
       "      <td>10.0</td>\n",
       "      <td>0</td>\n",
       "    </tr>\n",
       "    <tr>\n",
       "      <th>120795</th>\n",
       "      <td>2023</td>\n",
       "      <td>69990</td>\n",
       "      <td>110.0</td>\n",
       "      <td>501.0</td>\n",
       "      <td>0</td>\n",
       "    </tr>\n",
       "  </tbody>\n",
       "</table>\n",
       "<p>120796 rows × 5 columns</p>\n",
       "</div>"
      ],
      "text/plain": [
       "        year  price  power_kw  mileage_in_km  brand\n",
       "0       2011   9900     103.0       119000.0      2\n",
       "1       2011   9290     118.0       184574.0      2\n",
       "2       2011   9499      77.0       114860.0      2\n",
       "3       2011  11990     103.0       205013.0      2\n",
       "4       2011  10900     150.0       192350.0      2\n",
       "...      ...    ...       ...            ...    ...\n",
       "120791  2023  28788      81.0            5.0      0\n",
       "120792  2023  28420      81.0         4900.0      0\n",
       "120793  2023  59990     110.0        10500.0      0\n",
       "120794  2023  30370     152.0           10.0      0\n",
       "120795  2023  69990     110.0          501.0      0\n",
       "\n",
       "[120796 rows x 5 columns]"
      ]
     },
     "execution_count": 6,
     "metadata": {},
     "output_type": "execute_result"
    }
   ],
   "source": [
    "selected_df"
   ]
  },
  {
   "cell_type": "code",
   "execution_count": 7,
   "id": "75b78829",
   "metadata": {},
   "outputs": [
    {
     "data": {
      "text/plain": [
       "<bound method NDFrame.describe of         year  price  power_kw  mileage_in_km  brand\n",
       "0       2011   9900     103.0       119000.0      2\n",
       "1       2011   9290     118.0       184574.0      2\n",
       "2       2011   9499      77.0       114860.0      2\n",
       "3       2011  11990     103.0       205013.0      2\n",
       "4       2011  10900     150.0       192350.0      2\n",
       "...      ...    ...       ...            ...    ...\n",
       "120791  2023  28788      81.0            5.0      0\n",
       "120792  2023  28420      81.0         4900.0      0\n",
       "120793  2023  59990     110.0        10500.0      0\n",
       "120794  2023  30370     152.0           10.0      0\n",
       "120795  2023  69990     110.0          501.0      0\n",
       "\n",
       "[120796 rows x 5 columns]>"
      ]
     },
     "execution_count": 7,
     "metadata": {},
     "output_type": "execute_result"
    }
   ],
   "source": [
    "selected_df.describe"
   ]
  },
  {
   "cell_type": "markdown",
   "id": "340ad500",
   "metadata": {},
   "source": [
    "## 2-Modeling "
   ]
  },
  {
   "cell_type": "markdown",
   "id": "27d8aac9",
   "metadata": {},
   "source": [
    "### 2-0-Splitting the Data Set"
   ]
  },
  {
   "cell_type": "code",
   "execution_count": 8,
   "id": "a3076daa",
   "metadata": {},
   "outputs": [
    {
     "name": "stdout",
     "output_type": "stream",
     "text": [
      "[[2.0180e+03 2.0000e+02 4.9485e+04 2.0000e+00]\n",
      " [2.0130e+03 1.2500e+02 2.0100e+05 1.0000e+00]\n",
      " [2.0180e+03 4.1000e+02 2.3000e+04 1.0000e+00]\n",
      " ...\n",
      " [2.0140e+03 8.1000e+01 2.6200e+04 0.0000e+00]\n",
      " [2.0110e+03 2.6000e+02 9.4000e+04 2.0000e+00]\n",
      " [2.0230e+03 1.1000e+02 1.0000e+01 2.0000e+00]]\n",
      "[[2.0180e+03 1.1000e+02 7.7374e+04 0.0000e+00]\n",
      " [2.0160e+03 1.3500e+02 7.0000e+04 4.0000e+00]\n",
      " [2.0190e+03 7.4000e+01 2.5601e+04 5.0000e+00]\n",
      " ...\n",
      " [2.0190e+03 2.1000e+02 1.0840e+05 2.0000e+00]\n",
      " [2.0190e+03 1.1000e+02 3.1317e+04 6.0000e+00]\n",
      " [2.0150e+03 1.5000e+02 1.3500e+05 0.0000e+00]]\n",
      "[ 34950  14985 126941 ...  14999  29900  46778]\n",
      "[18888 19500 19290 ... 60000 28950  8499]\n"
     ]
    }
   ],
   "source": [
    "# Splitting the data into training and testing datasets\n",
    "from sklearn.model_selection import train_test_split\n",
    "\n",
    "# Separate features (X) and target variable (y)\n",
    "X = selected_df.drop(columns='price').values  # Assuming 'price' is the target variable\n",
    "y = selected_df['price'].values\n",
    "\n",
    "# Split the data into training and testing sets (80% train, 20% test)\n",
    "X_train, X_test, y_train, y_test = train_test_split(X, y, test_size=0.2, random_state=42)\n",
    "print(X_train)\n",
    "print(X_test)\n",
    "print(y_train)\n",
    "print(y_test)"
   ]
  },
  {
   "cell_type": "markdown",
   "id": "67c391cd",
   "metadata": {},
   "source": [
    "### 2-1-Linear Regression"
   ]
  },
  {
   "cell_type": "code",
   "execution_count": 9,
   "id": "33410ea6-f426-45be-9418-3fde24ce363e",
   "metadata": {},
   "outputs": [
    {
     "name": "stdout",
     "output_type": "stream",
     "text": [
      "output=  (array([26470.73423249, 23712.23918066, 18429.83379991, ...,\n",
      "       44318.4471451 , 24147.55055158, 25914.10872634]), 6691.80460094551, 180910073.38468322, 4208.817569688894, 0.5991024698039342, 13450.281535517508, -3761964.0872467826, array([ 1.86848541e+03,  1.96336668e+02, -4.86696282e-02, -1.07220769e+03]), 56.42873482924584)\n"
     ]
    }
   ],
   "source": [
    "%run regression.ipynb\n",
    "out = linear_reg(X_train, X_test, y_train, y_test)\n",
    "print('output= ', out)\n",
    "y_pred = out[0]\n",
    "#print('predicted values= ', y_pred)"
   ]
  },
  {
   "cell_type": "code",
   "execution_count": 10,
   "id": "5643bb46",
   "metadata": {},
   "outputs": [
    {
     "data": {
      "text/plain": [
       "Text(0, 0.5, 'y_pred')"
      ]
     },
     "execution_count": 10,
     "metadata": {},
     "output_type": "execute_result"
    },
    {
     "data": {
      "image/png": "[encoded data removed]",
      "text/plain": [
       "<Figure size 432x288 with 1 Axes>"
      ]
     },
     "metadata": {
      "needs_background": "light"
     },
     "output_type": "display_data"
    }
   ],
   "source": [
    "# Plotting y_test and y_pred to understand the spread.\n",
    "fig = plt.figure()\n",
    "plt.scatter(y_test,y_pred)\n",
    "fig.suptitle('y_test vs y_pred', fontsize=20)              # Plot heading \n",
    "plt.xlabel('y_test', fontsize=18)                          # X-label\n",
    "plt.ylabel('y_pred', fontsize=16)  "
   ]
  },
  {
   "cell_type": "code",
   "execution_count": 11,
   "id": "d89e2d4e",
   "metadata": {},
   "outputs": [
    {
     "name": "stdout",
     "output_type": "stream",
     "text": [
      "output=  (array([ 0.0347142 , -0.09626056, -0.34707188, ...,  0.88213278,\n",
      "       -0.07559175,  0.00828533]), 0.3177303198512125, 0.40784352084561915, 0.19983682016411738, 0.5991024698039364, 33593.17049331759, -6.262740174746691e-15, array([ 0.30074345,  0.60792223, -0.15347111, -0.11734353]), 56.42873482924582)\n"
     ]
    }
   ],
   "source": [
    "# Linear Regression After Scaling\n",
    "out = linear_reg_scaled(X_train, X_test, y_train, y_test)\n",
    "print('output= ', out)\n",
    "y_pred = out[0]\n",
    "#print('predicted values= ', y_pred)"
   ]
  },
  {
   "cell_type": "code",
   "execution_count": 12,
   "id": "e6073058",
   "metadata": {},
   "outputs": [
    {
     "data": {
      "text/plain": [
       "Text(0, 0.5, 'y_pred')"
      ]
     },
     "execution_count": 12,
     "metadata": {},
     "output_type": "execute_result"
    },
    {
     "data": {
      "image/png": "[encoded data removed]",
      "text/plain": [
       "<Figure size 432x288 with 1 Axes>"
      ]
     },
     "metadata": {
      "needs_background": "light"
     },
     "output_type": "display_data"
    }
   ],
   "source": [
    "# Plotting scaled version of y_test and y_pred to understand the spread.\n",
    "fig = plt.figure()\n",
    "plt.scatter(y_test,y_pred)\n",
    "fig.suptitle('y_test vs y_pred', fontsize=20)              # Plot heading \n",
    "plt.xlabel('y_test', fontsize=18)                          # X-label\n",
    "plt.ylabel('y_pred', fontsize=16)  "
   ]
  },
  {
   "cell_type": "markdown",
   "id": "3cad3ed0",
   "metadata": {},
   "source": [
    "#### Conclusion\n",
    "\n",
    "The dataset was highly scrapped and also is very diverse and the features given do not competely describe the listings. Therefore, the result seems satisfactory, although not highly applicable"
   ]
  },
  {
   "cell_type": "markdown",
   "id": "a6ac7913",
   "metadata": {},
   "source": [
    " ###  2-2-Decision Tree"
   ]
  },
  {
   "cell_type": "code",
   "execution_count": 13,
   "id": "4607e94b",
   "metadata": {},
   "outputs": [
    {
     "name": "stdout",
     "output_type": "stream",
     "text": [
      "y_pred  [21945 26000 19490 ... 43800 26930 39000]\n",
      "Accuracy:  0.03634105960264901\n",
      "Exection Time:  40.93034076690674\n",
      "mae, mse, medae, r2:  5733.995529801325 298709468.3771523 2751.0 0.3380584846486552\n"
     ]
    }
   ],
   "source": [
    "%run Decision_Tree.ipynb\n",
    "\n",
    "#Measuring Execution Time\n",
    "start_time = time.time()\n",
    "\n",
    "#dc_tree = decision_tree(X_train, y_train, X_test,y_test)\n",
    "dc_tree = decision_tree(X_train, X_test, y_train, y_test)\n",
    "\n",
    "end_time = time.time()\n",
    "execution_time = end_time - start_time\n",
    "\n",
    "y_pred = dc_tree[0]\n",
    "print(\"y_pred \", y_pred)\n",
    "print(\"Accuracy: \", dc_tree[1])\n",
    "print('Exection Time: ', execution_time)\n",
    "print(\"mae, mse, medae, r2: \", dc_tree[2], dc_tree[3], dc_tree[4], dc_tree[5])"
   ]
  },
  {
   "cell_type": "markdown",
   "id": "fff6f4d1",
   "metadata": {},
   "source": [
    "#### Note.\n",
    "1-Decision tree took 45-60 sec (in several runs), while regression takes very short time. \n",
    "\n",
    "2-The accuracy is quite low; ~36% without parameters, ~11% with entropy and max_depth=3 (increasing max_depth slightly increases the accuracy). This is expected because of the diversity of the data as well as noise in the data."
   ]
  },
  {
   "cell_type": "code",
   "execution_count": 14,
   "id": "49445faf",
   "metadata": {},
   "outputs": [
    {
     "data": {
      "text/plain": [
       "Text(0, 0.5, 'y_pred')"
      ]
     },
     "execution_count": 14,
     "metadata": {},
     "output_type": "execute_result"
    },
    {
     "data": {
      "image/png": "[encoded data removed]",
      "text/plain": [
       "<Figure size 432x288 with 1 Axes>"
      ]
     },
     "metadata": {
      "needs_background": "light"
     },
     "output_type": "display_data"
    }
   ],
   "source": [
    "# Plotting y_test and y_pred to understand the spread.\n",
    "fig = plt.figure()\n",
    "plt.scatter(y_test,y_pred)\n",
    "fig.suptitle('y_test vs y_pred', fontsize=20)              # Plot heading \n",
    "plt.xlabel('y_test', fontsize=18)                          # X-label\n",
    "plt.ylabel('y_pred', fontsize=16) "
   ]
  },
  {
   "cell_type": "markdown",
   "id": "57631118",
   "metadata": {},
   "source": [
    "#### Note. \n",
    "Plotting Decision tree causes kernel fail and restart; This should be because of the large size of the decision tree."
   ]
  },
  {
   "cell_type": "markdown",
   "id": "1cb7b0f0",
   "metadata": {},
   "source": [
    "## 2-3- Bagging"
   ]
  },
  {
   "cell_type": "code",
   "execution_count": 16,
   "id": "9af491a1",
   "metadata": {},
   "outputs": [
    {
     "name": "stdout",
     "output_type": "stream",
     "text": [
      "accuracy score list:  [0.030049668874172184, 0.03464403973509934, 0.035554635761589404, 0.03704470198675497]\n",
      "predicted values:  [21945 24980 19490 ... 43800 26930 16999]\n",
      "Execution Time:  534.7928011417389\n"
     ]
    }
   ],
   "source": [
    "%run Bagging.ipynb\n",
    "start_time = time.time()\n",
    "\n",
    "estimator_range = [2,4,6, 8] #estimator range selection\n",
    "#estimator_range = [2] #estimator range selection\n",
    "out = bagging(X_train,X_test,y_train,y_test,estimator_range)\n",
    "\n",
    "end_time = time.time()\n",
    "execution_time = end_time - start_time\n",
    "\n",
    "print('accuracy score list: ',out[0])\n",
    "print('predicted values: ',out[1])\n",
    "print('Execution Time: ',execution_time)"
   ]
  },
  {
   "cell_type": "markdown",
   "id": "6b1101ec",
   "metadata": {},
   "source": [
    "#### Note. accuracy increases as estimator increases.\n",
    "For larger estimaters we run out of memory below."
   ]
  },
  {
   "cell_type": "code",
   "execution_count": 17,
   "id": "2089ea37",
   "metadata": {},
   "outputs": [
    {
     "data": {
      "text/plain": [
       "\"\\nstart_time = time.time()\\n\\nestimator_range = [10,12] #estimator range selection\\nout = bagging(X_train,X_test,y_train,y_test,estimator_range)\\n\\nend_time = time.time()\\nexecution_time = end_time - start_time\\n\\nprint('accuracy score list: ',out[0])\\nprint('Execution Time: ',execution_time)\\n\""
      ]
     },
     "execution_count": 17,
     "metadata": {},
     "output_type": "execute_result"
    }
   ],
   "source": [
    "\"\"\"\n",
    "start_time = time.time()\n",
    "\n",
    "estimator_range = [10,12] #estimator range selection\n",
    "out = bagging(X_train,X_test,y_train,y_test,estimator_range)\n",
    "\n",
    "end_time = time.time()\n",
    "execution_time = end_time - start_time\n",
    "\n",
    "print('accuracy score list: ',out[0])\n",
    "print('Execution Time: ',execution_time)\n",
    "\"\"\""
   ]
  },
  {
   "cell_type": "code",
   "execution_count": 18,
   "id": "aa4ba394",
   "metadata": {},
   "outputs": [
    {
     "data": {
      "text/plain": [
       "\"\\nstart_time = time.time()\\n\\nn_estimators = 12  \\nout_oob = baggin_w_oob(X_train,X_test,y_train,y_test,estimator_range)\\n\\nend_time = time.time()\\nexecution_time = end_time - start_time\\n\\nprint('accuracy score list: ',out[0])\\nprint('Execution Time: ',execution_time)\\n\""
      ]
     },
     "execution_count": 18,
     "metadata": {},
     "output_type": "execute_result"
    }
   ],
   "source": [
    "# Also trying bagging with out-of-bag option\n",
    "#setting estimator=12 based on the above computations\n",
    "# HOWEVER, KERNEL DIES WHEN WE RUN THIS\n",
    "\"\"\"\n",
    "start_time = time.time()\n",
    "\n",
    "n_estimators = 12  \n",
    "out_oob = baggin_w_oob(X_train,X_test,y_train,y_test,estimator_range)\n",
    "\n",
    "end_time = time.time()\n",
    "execution_time = end_time - start_time\n",
    "\n",
    "print('accuracy score list: ',out[0])\n",
    "print('Execution Time: ',execution_time)\n",
    "\"\"\""
   ]
  },
  {
   "cell_type": "code",
   "execution_count": 19,
   "id": "7ae8cffc",
   "metadata": {},
   "outputs": [
    {
     "name": "stdout",
     "output_type": "stream",
     "text": [
      "24160\n",
      "24160\n"
     ]
    },
    {
     "data": {
      "text/plain": [
       "Text(0, 0.5, 'y_pred')"
      ]
     },
     "execution_count": 19,
     "metadata": {},
     "output_type": "execute_result"
    },
    {
     "data": {
      "image/png": "[encoded data removed]",
      "text/plain": [
       "<Figure size 432x288 with 1 Axes>"
      ]
     },
     "metadata": {
      "needs_background": "light"
     },
     "output_type": "display_data"
    }
   ],
   "source": [
    "# Plotting y_test and y_pred to understand the spread.\n",
    "y_pred = out[1]\n",
    "print(len(y_pred))\n",
    "print(len(y_test))\n",
    "\n",
    "fig = plt.figure()\n",
    "plt.scatter(y_test,y_pred)\n",
    "fig.suptitle('y_test vs y_pred', fontsize=20)              # Plot heading \n",
    "plt.xlabel('y_test', fontsize=18)                          # X-label\n",
    "plt.ylabel('y_pred', fontsize=1)\n"
   ]
  },
  {
   "cell_type": "markdown",
   "id": "c1d98cb7-a2ea-4228-9c71-f66ede8121d8",
   "metadata": {},
   "source": [
    "Note. Visually, Bagging plot seems better than the previous ones."
   ]
  },
  {
   "cell_type": "markdown",
   "id": "2a64bf48",
   "metadata": {},
   "source": [
    "### 2-3-AdaBoost"
   ]
  },
  {
   "cell_type": "code",
   "execution_count": 20,
   "id": "98f09caa",
   "metadata": {},
   "outputs": [
    {
     "name": "stderr",
     "output_type": "stream",
     "text": [
      "/home/rahkooy/.local/lib/python3.10/site-packages/sklearn/model_selection/_split.py:776: UserWarning: The least populated class in y has only 1 members, which is less than n_splits=5.\n",
      "  warnings.warn(\n",
      "/home/rahkooy/.local/lib/python3.10/site-packages/sklearn/model_selection/_split.py:776: UserWarning: The least populated class in y has only 1 members, which is less than n_splits=5.\n",
      "  warnings.warn(\n",
      "/home/rahkooy/.local/lib/python3.10/site-packages/sklearn/model_selection/_split.py:776: UserWarning: The least populated class in y has only 1 members, which is less than n_splits=5.\n",
      "  warnings.warn(\n",
      "/home/rahkooy/.local/lib/python3.10/site-packages/sklearn/model_selection/_split.py:776: UserWarning: The least populated class in y has only 1 members, which is less than n_splits=5.\n",
      "  warnings.warn(\n"
     ]
    },
    {
     "name": "stdout",
     "output_type": "stream",
     "text": [
      "accuracy scores:  [0.008071192052980132, 0.008071192052980132, 0.008071192052980132, 0.008071192052980132]\n",
      "validation scores:  [0.008195364238410595, 0.008195364238410595, 0.008195364238410595, 0.008195364238410595]\n",
      "mae scores:  [11549.186341059603, 11549.186341059603, 11549.186341059603, 11549.186341059603]\n",
      "mse scores:  [505711462.97135764, 505711462.97135764, 505711462.97135764, 505711462.97135764]\n",
      "medae scores:  [6010.0, 6010.0, 6010.0, 6010.0]\n",
      "r2 scores:  [-0.12065885942104426, -0.12065885942104426, -0.12065885942104426, -0.12065885942104426]\n",
      "Execution Time:  177.4391052722931\n"
     ]
    }
   ],
   "source": [
    "%run adaboost.ipynb\n",
    "start_time = time.time()\n",
    "\n",
    "estimator_range = [2,4,6,8] #estimator range selection\n",
    "out = adaboost(X_train, X_test, y_train, y_test,estimator_range)\n",
    "\n",
    "end_time = time.time()\n",
    "execution_time = end_time - start_time\n",
    "\n",
    "#print('cross validation scores: ',out[1])\n",
    "print('accuracy scores: ',out[1])\n",
    "print('validation scores: ',out[2])\n",
    "print('mae scores: ',out[3])\n",
    "print('mse scores: ',out[4])\n",
    "print('medae scores: ',out[5])\n",
    "print('r2 scores: ',out[6])\n",
    "print('Execution Time: ',execution_time)"
   ]
  },
  {
   "cell_type": "code",
   "execution_count": 22,
   "id": "3f30da1d",
   "metadata": {},
   "outputs": [
    {
     "data": {
      "text/plain": [
       "Text(0, 0.5, 'y_pred')"
      ]
     },
     "execution_count": 22,
     "metadata": {},
     "output_type": "execute_result"
    },
    {
     "data": {
      "image/png": "[encoded data removed]",
      "text/plain": [
       "<Figure size 432x288 with 1 Axes>"
      ]
     },
     "metadata": {
      "needs_background": "light"
     },
     "output_type": "display_data"
    }
   ],
   "source": [
    "# Plotting y_test and y_pred to understand the spread.\n",
    "y_pred = out[0]\n",
    "fig = plt.figure()\n",
    "plt.scatter(y_test,y_pred)\n",
    "fig.suptitle('y_test vs y_pred', fontsize=20)              # Plot heading \n",
    "plt.xlabel('y_test', fontsize=18)                          # X-label\n",
    "plt.ylabel('y_pred', fontsize=1)"
   ]
  },
  {
   "cell_type": "markdown",
   "id": "f3985ec7",
   "metadata": {},
   "source": [
    "#### Conclusion. HUGE ERROR?"
   ]
  },
  {
   "cell_type": "markdown",
   "id": "caf9a88b",
   "metadata": {},
   "source": [
    "### 2-3-KNN"
   ]
  },
  {
   "cell_type": "markdown",
   "id": "33eeac3c",
   "metadata": {},
   "source": [
    "#### TODO (for E)\n",
    "\n",
    "1-execute the function here and check the errors, etc.\n",
    "\n",
    "2-do plotting here not in the knn.ipybn\n",
    "\n",
    "3-write a conclusion/explanation of the errors, plots, etc."
   ]
  },
  {
   "cell_type": "code",
   "execution_count": 23,
   "id": "6ff96075",
   "metadata": {},
   "outputs": [],
   "source": [
    "%run KNN.ipynb\n",
    "knn_out = knn_model(X_train, y_train, X_test, y_test)\n",
    "\n"
   ]
  },
  {
   "cell_type": "code",
   "execution_count": 24,
   "id": "09bf50cd",
   "metadata": {},
   "outputs": [
    {
     "data": {
      "text/plain": [
       "<Figure size 1008x504 with 0 Axes>"
      ]
     },
     "metadata": {},
     "output_type": "display_data"
    },
    {
     "data": {
      "image/png": "[encoded data removed]",
      "text/plain": [
       "<Figure size 720x432 with 1 Axes>"
      ]
     },
     "metadata": {
      "needs_background": "light"
     },
     "output_type": "display_data"
    }
   ],
   "source": [
    "# Plotting the results\n",
    "plt.figure(figsize=(14, 7))\n",
    "\n",
    "# Plotting actual vs. predicted prices\n",
    "plt.figure(figsize=(10, 6))\n",
    "plt.scatter(y_test, knn_out[0], alpha=0.5)\n",
    "plt.plot([y_test.min(), y_test.max()], [y_test.min(), y_test.max()], 'k--', lw=2)\n",
    "plt.xlabel('Actual Price')\n",
    "plt.ylabel('Predicted Price')\n",
    "plt.title('KNN: Actual vs. Predicted Prices')\n",
    "plt.show()"
   ]
  },
  {
   "cell_type": "markdown",
   "id": "f202cf5a",
   "metadata": {},
   "source": [
    "###  2-4-Random Forest\n",
    "  "
   ]
  },
  {
   "cell_type": "markdown",
   "id": "6257d0c4",
   "metadata": {},
   "source": [
    "#### TODO. Do the same cleaning as in KNN"
   ]
  },
  {
   "cell_type": "code",
   "execution_count": null,
   "id": "c2f35a2c",
   "metadata": {},
   "outputs": [],
   "source": [
    "%run Random_Forest.ipynb"
   ]
  },
  {
   "cell_type": "code",
   "execution_count": null,
   "id": "a3200723",
   "metadata": {},
   "outputs": [],
   "source": [
    "# Training the random forest model\n",
    "from sklearn.ensemble import RandomForestClassifier\n",
    "\n",
    "# Initialize the Random Forest classifier\n",
    "rf = RandomForestClassifier(n_estimators=100, random_state=42)  # You can adjust the number of estimators as needed\n",
    "\n",
    "# Train the model on the training data\n",
    "rf.fit(X_train, y_train)\n",
    "\n",
    "\n",
    "# Testing the Random Forest model\n",
    "# Predictions on the testing set\n",
    "rf_predictions = rf.predict(X_test)\n",
    "\n",
    "# Evaluating the Random Forest model\n",
    "# Accuracy score\n",
    "rf_accuracy = accuracy_score(y_test, rf_predictions)\n",
    "print(\"Random Forest Accuracy:\", rf_accuracy)\n",
    "\n",
    "# Classification report\n",
    "print(\"\\nClassification Report:\")\n",
    "print(classification_report(y_test, rf_predictions))\n",
    "\n",
    "# Confusion matrix\n",
    "print(\"\\nConfusion Matrix:\")\n",
    "print(confusion_matrix(y_test, rf_predictions))"
   ]
  },
  {
   "cell_type": "code",
   "execution_count": null,
   "id": "f400d4fc",
   "metadata": {},
   "outputs": [],
   "source": []
  },
  {
   "cell_type": "markdown",
   "id": "e53482e1",
   "metadata": {},
   "source": [
    "## Model Comparison"
   ]
  },
  {
   "cell_type": "code",
   "execution_count": null,
   "id": "d5daa867",
   "metadata": {},
   "outputs": [],
   "source": []
  },
  {
   "cell_type": "markdown",
   "id": "d97e0dbb",
   "metadata": {},
   "source": [
    "## Visualization "
   ]
  },
  {
   "cell_type": "code",
   "execution_count": null,
   "id": "d435c10d",
   "metadata": {},
   "outputs": [],
   "source": [
    "# Visualization with Folium\n",
    "import folium\n",
    "\n",
    "# Create a map centered around a specific location\n",
    "m = folium.Map(location=[37.7749, -122.4194], zoom_start=12)  # Coordinates for San Francisco\n",
    "\n",
    "# Add a marker to the map\n",
    "folium.Marker(location=[37.7749, -122.4194], popup=\"San Francisco\").add_to(m)\n",
    "\n",
    "# Save the map to an HTML file\n",
    "m.save(\"map.html\")"
   ]
  },
  {
   "cell_type": "markdown",
   "id": "e330f480",
   "metadata": {},
   "source": [
    "## Conclusion"
   ]
  },
  {
   "cell_type": "markdown",
   "id": "c5b79e59",
   "metadata": {},
   "source": [
    "In this project 6 different models are used to predict the price based on selected features: year, power_kw, mileage_in_kn, and brand. The following models are used "
   ]
  }
 ],
 "metadata": {
  "kernelspec": {
   "display_name": "Python 3 (ipykernel)",
   "language": "python",
   "name": "python3"
  },
  "language_info": {
   "codemirror_mode": {
    "name": "ipython",
    "version": 3
   },
   "file_extension": ".py",
   "mimetype": "text/x-python",
   "name": "python",
   "nbconvert_exporter": "python",
   "pygments_lexer": "ipython3",
   "version": "3.10.12"
  }
 },
 "nbformat": 4,
 "nbformat_minor": 5
}
