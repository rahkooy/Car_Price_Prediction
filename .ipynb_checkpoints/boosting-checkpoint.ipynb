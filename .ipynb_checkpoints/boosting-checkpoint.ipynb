{
 "cells": [
  {
   "cell_type": "markdown",
   "id": "049537e3",
   "metadata": {},
   "source": [
    "# Boosting"
   ]
  },
  {
   "cell_type": "code",
   "execution_count": 13,
   "id": "d990c334",
   "metadata": {},
   "outputs": [],
   "source": [
    "from sklearn.metrics import mean_squared_error\n",
    "import xgboost as xgb\n",
    "\n",
    "def boosting(X_train,X_test,y_train,y_test):    \n",
    "    print('test')\n",
    "    # Create regression matrices\n",
    "    dtrain_reg = xgb.DMatrix(X_train, y_train, enable_categorical=True)\n",
    "    dtest_reg = xgb.DMatrix(X_test, y_test, enable_categorical=True)\n",
    "    \n",
    "    # Define hyperparameters\n",
    "    params = {\"objective\": \"reg:squarederror\", \"tree_method\": \"hist\"}\n",
    "    \n",
    "    n = 100\n",
    "    model = xgb.train(\n",
    "        params=params,\n",
    "        dtrain=dtrain_reg,\n",
    "        num_boost_round=n,\n",
    "    )\n",
    "    \n",
    "    preds = model.predict(dtest_reg)\n",
    "    rmse = mean_squared_error(y_test, preds, squared=False)\n",
    "    print(rmse)\n",
    "    return   "
   ]
  },
  {
   "cell_type": "code",
   "execution_count": null,
   "id": "057dc60c",
   "metadata": {},
   "outputs": [],
   "source": []
  }
 ],
 "metadata": {
  "kernelspec": {
   "display_name": "Python 3 (ipykernel)",
   "language": "python",
   "name": "python3"
  },
  "language_info": {
   "codemirror_mode": {
    "name": "ipython",
    "version": 3
   },
   "file_extension": ".py",
   "mimetype": "text/x-python",
   "name": "python",
   "nbconvert_exporter": "python",
   "pygments_lexer": "ipython3",
   "version": "3.10.12"
  }
 },
 "nbformat": 4,
 "nbformat_minor": 5
}
