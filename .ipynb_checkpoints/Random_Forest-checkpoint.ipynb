{
 "cells": [
  {
   "cell_type": "markdown",
   "id": "aba5092e",
   "metadata": {},
   "source": [
    "# Random Forest"
   ]
  },
  {
   "cell_type": "code",
   "execution_count": 1,
   "id": "fbdc12e7",
   "metadata": {},
   "outputs": [],
   "source": [
    "import numpy as np\n",
    "from sklearn.model_selection import KFold, cross_val_score\n",
    "from sklearn.preprocessing import StandardScaler\n",
    "from sklearn.model_selection import cross_val_predict\n",
    "from sklearn.ensemble import RandomForestRegressor\n",
    "from sklearn.metrics import mean_squared_error\n",
    "import pandas as pd"
   ]
  },
  {
   "cell_type": "code",
   "execution_count": 4,
   "id": "1da24bdf",
   "metadata": {},
   "outputs": [],
   "source": [
    "def random_forest(X_train, X_test, y_train, y_test):\n",
    "    # Standardizing the features\n",
    "    scaler = StandardScaler()\n",
    "    X_train_scaled = scaler.fit_transform(X_train)\n",
    "    X_test_scaled = scaler.transform(X_test)\n",
    "    \n",
    "    # Defining the Random Forest model\n",
    "    rf_model = RandomForestRegressor(n_estimators=100, random_state=42)\n",
    "    \n",
    "    # Fit & predict\n",
    "    rf_model.fit(X_train_scaled, y_train)\n",
    "\n",
    "    # Setting up 5-fold cross-validation\n",
    "    kf = KFold(n_splits=5, shuffle=True, random_state=42)\n",
    "    \n",
    "    # Performing cross-validation and evaluating the model\n",
    "    cv_results = cross_val_score(rf_model, X_train_scaled, y_train, cv=kf, scoring='neg_mean_squared_error')\n",
    "    cv_results = round(-np.mean(cv_results), 2)  # round up and take mean of cv scores\n",
    "    \n",
    "    # Performing cross-validation predictions\n",
    "    y_pred = cross_val_predict(rf_model, X_train_scaled, y_train, cv=kf)\n",
    "    y_test_pred = rf_model.predict(X_test_scaled)\n",
    "\n",
    "    # Calculating regression metrics and rounding up\n",
    "    mae = round(mean_absolute_error(y_test, y_test_pred), 2)\n",
    "    medae = round(median_absolute_error(y_test, y_test_pred), 2)\n",
    "    r2 = round(r2_score(y_test, y_test_pred), 2)\n",
    "    \n",
    "    # Dictionary of errors then convert to dataframe\n",
    "    error_metrics = {\n",
    "        'Cross Validation Score': [cv_results],\n",
    "        'MAE': [mae],\n",
    "        'medAE': [medae],\n",
    "        'R2': [r2]\n",
    "    }\n",
    "        \n",
    "    # Convert the dictionary to a pandas DataFrame\n",
    "    df_errors = pd.DataFrame(error_metrics)\n",
    "    \n",
    "    return y_test_pred, df_errors\n"
   ]
  },
  {
   "cell_type": "code",
   "execution_count": null,
   "id": "06461a18",
   "metadata": {},
   "outputs": [],
   "source": []
  }
 ],
 "metadata": {
  "kernelspec": {
   "display_name": "Python 3 (ipykernel)",
   "language": "python",
   "name": "python3"
  },
  "language_info": {
   "codemirror_mode": {
    "name": "ipython",
    "version": 3
   },
   "file_extension": ".py",
   "mimetype": "text/x-python",
   "name": "python",
   "nbconvert_exporter": "python",
   "pygments_lexer": "ipython3",
   "version": "3.11.5"
  }
 },
 "nbformat": 4,
 "nbformat_minor": 5
}
