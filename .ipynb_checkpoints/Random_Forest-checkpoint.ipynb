{
 "cells": [
  {
   "cell_type": "markdown",
   "id": "aba5092e",
   "metadata": {},
   "source": [
    "# Random Forest"
   ]
  },
  {
   "cell_type": "code",
   "execution_count": null,
   "id": "fbdc12e7",
   "metadata": {},
   "outputs": [],
   "source": [
    "import numpy as np\n",
    "from sklearn.model_selection import KFold, cross_val_score\n",
    "from sklearn.preprocessing import StandardScaler\n",
    "from sklearn.model_selection import cross_val_predict\n",
    "from sklearn.ensemble import RandomForestRegressor\n",
    "from sklearn.metrics import mean_squared_error\n",
    "import pandas as pd"
   ]
  },
  {
   "cell_type": "code",
   "execution_count": null,
   "id": "1da24bdf",
   "metadata": {},
   "outputs": [],
   "source": [
    "def random_forest(X_train, X_test, y_train, y_test, cv_folds=5, decimal_places=2):\n",
    "    # Standardizing the features\n",
    "    scale_X = StandardScaler()\n",
    "    scale_y = StandardScaler()\n",
    "    X_train_scaled = scale_X.fit_transform(X_train)\n",
    "    X_test_scaled = scale_X.transform(X_test)\n",
    "    y_train_scaled = scale_y.fit_transform(y_train.reshape(-1, 1)).flatten()\n",
    "    y_test_scaled = scale_y.fit_transform(y_test.reshape(-1, 1)).flatten()\n",
    "    \n",
    "    # Defining the Random Forest model\n",
    "    rf_model = RandomForestRegressor(n_estimators=100, random_state=42)\n",
    "    \n",
    "    # Setting up 5-fold cross-validation\n",
    "    kf = KFold(n_splits=cv_folds, shuffle=True, random_state=42)\n",
    "    \n",
    "    # Performing cross-validation and evaluating the model\n",
    "    mae_scores_scaled = -cross_val_score(rf_model, X_train_scaled, y_train_scaled, cv=kf, scoring='neg_mean_absolute_error')\n",
    "    medae_scores_scaled = -cross_val_score(rf_model, X_train_scaled, y_train_scaled, cv=kf, scoring='neg_median_absolute_error')\n",
    "    r2_scores = cross_val_score(rf_model, X_train_scaled, y_train_scaled, cv=kf, scoring='r2')\n",
    "    \n",
    "    # Performing cross-validation predictions\n",
    "    y_pred_cv_scaled = cross_val_predict(rf_model, X_train_scaled, y_train_scaled, cv=kf)\n",
    "    y_pred_cv = scale_y.inverse_transform(y_pred_cv_scaled.reshape(-1, 1)).flatten()\n",
    "    \n",
    "    # Cross Validation errors on training set\n",
    "    mae_cv = mean_absolute_error(y_train, y_pred_cv)\n",
    "    medae_cv = median_absolute_error(y_train, y_pred_cv)\n",
    "    \n",
    "    # Fit the model on the entire training data\n",
    "    rf_model.fit(X_train_scaled, y_train_scaled)\n",
    "    y_pred_test_scaled = rf_model.predict(X_test_scaled)\n",
    "    y_pred_test = scale_y.inverse_transform(y_pred_test_scaled.reshape(-1, 1)).flatten()\n",
    "    \n",
    "    # Errors on the test set\n",
    "    mae_test = mean_absolute_error(y_test, y_pred_test)\n",
    "    medae_test = median_absolute_error(y_test, y_pred_test)\n",
    "    r2_test = r2_score(y_test, y_pred_test)\n",
    "    \n",
    "    # Transforming scaled MAE to original scale\n",
    "    y_train_std = np.std(y_train)\n",
    "    mae_scores = mae_scores_scaled * y_train_std\n",
    "    medae_scores = medae_scores_scaled * y_train_std\n",
    "    \n",
    "    # Dictionary of errors then convert to dataframe\n",
    "    error_metrics = {\n",
    "        'MAE CV': mae_cv,\n",
    "        'medAE CV': medae_cv,\n",
    "        'R2 CV': r2_scores.mean(),\n",
    "        'MAE CV (mean)': mae_scores.mean(),\n",
    "        'medAE Train (mean)': medae_scores.mean(),\n",
    "        'MAE Test': mae_test,\n",
    "        'medAE Test': medae_test,\n",
    "        'R2 Test': r2_test\n",
    "    }\n",
    "    \n",
    "    # Convert the dictionary to a pandas DataFrame and round the values\n",
    "    df_errors = pd.DataFrame([error_metrics]).round(decimal_places)\n",
    "    \n",
    "    return y_pred_test, df_errors, scale_X, scale_y"
   ]
  },
  {
   "cell_type": "code",
   "execution_count": null,
   "id": "06461a18",
   "metadata": {},
   "outputs": [],
   "source": []
  }
 ],
 "metadata": {
  "kernelspec": {
   "display_name": "Python 3 (ipykernel)",
   "language": "python",
   "name": "python3"
  },
  "language_info": {
   "codemirror_mode": {
    "name": "ipython",
    "version": 3
   },
   "file_extension": ".py",
   "mimetype": "text/x-python",
   "name": "python",
   "nbconvert_exporter": "python",
   "pygments_lexer": "ipython3",
   "version": "3.8.18"
  }
 },
 "nbformat": 4,
 "nbformat_minor": 5
}
