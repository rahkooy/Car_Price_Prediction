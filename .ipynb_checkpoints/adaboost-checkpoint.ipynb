{
 "cells": [
  {
   "cell_type": "markdown",
   "id": "049537e3",
   "metadata": {},
   "source": [
    "# AdaBoost"
   ]
  },
  {
   "cell_type": "code",
   "execution_count": 9,
   "id": "d990c334",
   "metadata": {},
   "outputs": [],
   "source": [
    "from sklearn.model_selection import cross_val_score\n",
    "from sklearn import metrics\n",
    "from sklearn.ensemble import AdaBoostClassifier"
   ]
  },
  {
   "cell_type": "code",
   "execution_count": 11,
   "id": "057dc60c",
   "metadata": {},
   "outputs": [],
   "source": [
    "def adaboost(X_train,X_test,y_train,y_test,estimater_range): \n",
    "    scores =[]\n",
    "    acc_scores = []\n",
    "    mae_scores = []\n",
    "    mse_scores =[]\n",
    "    medae_scores = []\n",
    "    r2_scores =[]\n",
    "    for n_estimators in estimator_range:\n",
    "        #create classifier\n",
    "        clf = AdaBoostClassifier(n_estimators=n_estimators, algorithm=\"SAMME\",)\n",
    "        #fit data and predict\n",
    "        clf.fit(X_train,y_train)\n",
    "        y_pred = clf.predict(X_test)\n",
    "        #errors\n",
    "        scores.append(cross_val_score(clf, X_test, y_test, cv=5).mean())\n",
    "        acc_scores.append(metrics.accuracy_score(y_test,y_pred))\n",
    "        # MAE\n",
    "        mae = metrics.mean_absolute_error(y_test, y_pred)\n",
    "        mae_scores.append(mae)\n",
    "        # MSE\n",
    "        mse = metrics.mean_squared_error(y_test, y_pred)\n",
    "        mse_scores.append(mse)\n",
    "        # mdAE\n",
    "        medae = metrics.median_absolute_error(y_test, y_pred)\n",
    "        medae_scores.append(medae)\n",
    "        # R2\n",
    "        r2 = metrics.r2_score(y_test, y_pred)\n",
    "        r2_scores.append(r2)\n",
    "    return y_pred, acc_scores, scores, mae_scores, mse_scores, medae_scores, r2_scores"
   ]
  },
  {
   "cell_type": "code",
   "execution_count": null,
   "id": "5211c04f",
   "metadata": {},
   "outputs": [],
   "source": []
  }
 ],
 "metadata": {
  "kernelspec": {
   "display_name": "Python 3 (ipykernel)",
   "language": "python",
   "name": "python3"
  },
  "language_info": {
   "codemirror_mode": {
    "name": "ipython",
    "version": 3
   },
   "file_extension": ".py",
   "mimetype": "text/x-python",
   "name": "python",
   "nbconvert_exporter": "python",
   "pygments_lexer": "ipython3",
   "version": "3.10.12"
  }
 },
 "nbformat": 4,
 "nbformat_minor": 5
}
