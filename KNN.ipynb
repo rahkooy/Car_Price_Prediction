{
 "cells": [
  {
   "cell_type": "markdown",
   "id": "a6e45ff2",
   "metadata": {},
   "source": [
    "#### TODO (E): Have a look at regression.ipynb and adapt that. "
   ]
  },
  {
   "cell_type": "code",
   "execution_count": 4,
   "id": "37316018",
   "metadata": {},
   "outputs": [],
   "source": [
    "# Importing necessary libraries\n",
    "import numpy as np\n",
    "from sklearn.model_selection import KFold, cross_val_score, cross_val_predict\n",
    "from sklearn.preprocessing import StandardScaler\n",
    "from sklearn.neighbors import KNeighborsRegressor\n",
    "from sklearn.metrics import mean_absolute_error, median_absolute_error, r2_score, accuracy_score, classification_report, confusion_matrix\n",
    "from sklearn.model_selection import cross_val_predict"
   ]
  },
  {
   "cell_type": "code",
   "execution_count": null,
   "id": "6da04d53",
   "metadata": {},
   "outputs": [],
   "source": []
  },
  {
   "cell_type": "code",
   "execution_count": 9,
   "id": "cdcb0e95",
   "metadata": {},
   "outputs": [],
   "source": [
    "from sklearn.preprocessing import StandardScaler\n",
    "from sklearn.neighbors import KNeighborsRegressor\n",
    "from sklearn.model_selection import KFold, cross_val_score, cross_val_predict\n",
    "from sklearn.metrics import mean_absolute_error, mean_squared_error, median_absolute_error, r2_score\n",
    "import numpy as np\n",
    "\n",
    "def knn_model(X_train, y_train, X_test, y_test):\n",
    "    # Standardizing the features\n",
    "    scaler = StandardScaler()\n",
    "    X_train_scaled = scaler.fit_transform(X_train)\n",
    "    X_test_scaled = scaler.transform(X_test)\n",
    "    \n",
    "    # Defining the KNN model\n",
    "    knn = KNeighborsRegressor(n_neighbors=5)\n",
    "    \n",
    "    # Setting up 5-fold cross-validation\n",
    "    kf = KFold(n_splits=5, shuffle=True, random_state=42)\n",
    "    \n",
    "    # Performing cross-validation on the training data and evaluating the model\n",
    "    cv_results = cross_val_score(knn, X_train_scaled, y_train, cv=kf, scoring='neg_mean_squared_error')\n",
    "    rmse_scores = np.sqrt(-cv_results)\n",
    "    rmse_mean = rmse_scores.mean()\n",
    "    \n",
    "    # Fitting the model on the entire training data\n",
    "    knn.fit(X_train_scaled, y_train)\n",
    "    \n",
    "    # Predicting on the test data\n",
    "    y_pred = knn.predict(X_test_scaled)\n",
    "    \n",
    "    # Calculating regression metrics\n",
    "    mae = mean_absolute_error(y_test, y_pred)\n",
    "    mse = mean_squared_error(y_test, y_pred)\n",
    "    medae = median_absolute_error(y_test, y_pred)\n",
    "    r2 = r2_score(y_test, y_pred)\n",
    "    \n",
    "    return y_pred, mae, mse, medae, r2, rmse_scores, rmse_mean, rmse_scores.std()\n",
    "\n",
    "# Example usage:\n",
    "# y_pred, mae, mse, medae, r2, rmse_scores, rmse_mean, rmse_std = knn_model(X_train, y_train, X_test, y_test)\n"
   ]
  },
  {
   "cell_type": "code",
   "execution_count": null,
   "id": "c61cd29e",
   "metadata": {},
   "outputs": [],
   "source": []
  }
 ],
 "metadata": {
  "kernelspec": {
   "display_name": "Python 3 (ipykernel)",
   "language": "python",
   "name": "python3"
  },
  "language_info": {
   "codemirror_mode": {
    "name": "ipython",
    "version": 3
   },
   "file_extension": ".py",
   "mimetype": "text/x-python",
   "name": "python",
   "nbconvert_exporter": "python",
   "pygments_lexer": "ipython3",
   "version": "3.11.5"
  }
 },
 "nbformat": 4,
 "nbformat_minor": 5
}
