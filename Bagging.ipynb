{
 "cells": [
  {
   "cell_type": "markdown",
   "id": "15111ea1",
   "metadata": {},
   "source": [
    "# Bagging for car price prediction"
   ]
  },
  {
   "cell_type": "code",
   "execution_count": 1,
   "id": "6b74f6bc",
   "metadata": {},
   "outputs": [
    {
     "name": "stderr",
     "output_type": "stream",
     "text": [
      "/usr/lib/python3/dist-packages/scipy/__init__.py:146: UserWarning: A NumPy version >=1.17.3 and <1.25.0 is required for this version of SciPy (detected version 1.26.4\n",
      "  warnings.warn(f\"A NumPy version >={np_minversion} and <{np_maxversion}\"\n"
     ]
    }
   ],
   "source": [
    "from sklearn.ensemble import BaggingClassifier\n",
    "from sklearn import metrics\n",
    "from sklearn.metrics import accuracy_score"
   ]
  },
  {
   "cell_type": "code",
   "execution_count": 2,
   "id": "752c1122",
   "metadata": {},
   "outputs": [],
   "source": [
    "#bagging classifier iterated over a list of estimators\n",
    "def bagging(X_train,X_test,y_train,y_test,estimator_range): #estimator_rang is a list of estimators\n",
    "    scores =[]\n",
    "    for n_estimators in estimator_range:\n",
    "        #create bagging classifier\n",
    "        clf = BaggingClassifier(n_estimators=n_estimators, \n",
    "                               random_state=22)\n",
    "        #fit data and predict\n",
    "        clf.fit(X_train,y_train)\n",
    "        y_pred = clf.predict(X_test)\n",
    "        \n",
    "        #Accuracy\n",
    "        acc = accuracy_score(y_test,y_pred)\n",
    "        scores.append(acc)\n",
    "        # MAE\n",
    "        mae = metrics.mean_absolute_error(y_test, y_pred)\n",
    "        # MSE\n",
    "        mse = metrics.mean_squared_error(y_test, y_pred)\n",
    "        # mdAE\n",
    "        medae = metrics.median_absolute_error(y_test, y_pred)\n",
    "        # R2\n",
    "        r2 = metrics.r2_score(y_test, y_pred)\n",
    "    return scores, y_pred, mae, mse, medae, r2"
   ]
  },
  {
   "cell_type": "code",
   "execution_count": 3,
   "id": "1b5bd74c",
   "metadata": {},
   "outputs": [],
   "source": [
    "# bagging classifier with oob and a given estimator\n",
    "def baggin_w_oob(X_train, X_test, y_train, y_test, n_estimators):\n",
    "    oob_model = BaggingClassifier(\n",
    "        n_estimators=n_estimators, \n",
    "        oob_score=True, \n",
    "        random_state=22\n",
    "    )\n",
    "    oob_model.fit(X_train, y_train)\n",
    "    y_pred = oob_model.predict(X_test)\n",
    "    score = oob_model.oob_score_\n",
    "    # MAE\n",
    "    mae = metrics.mean_absolute_error(y_test, y_pred)\n",
    "    # MSE\n",
    "    mse = metrics.mean_squared_error(y_test, y_pred)\n",
    "    # mdAE\n",
    "    medae = metrics.median_absolute_error(y_test, y_pred)\n",
    "    # R2\n",
    "    r2 = metrics.r2_score(y_test, y_pred)\n",
    "    return score, y_pred, mae, mse, medae, r2"
   ]
  },
  {
   "cell_type": "code",
   "execution_count": null,
   "id": "60b12996",
   "metadata": {},
   "outputs": [],
   "source": []
  }
 ],
 "metadata": {
  "kernelspec": {
   "display_name": "Python 3 (ipykernel)",
   "language": "python",
   "name": "python3"
  },
  "language_info": {
   "codemirror_mode": {
    "name": "ipython",
    "version": 3
   },
   "file_extension": ".py",
   "mimetype": "text/x-python",
   "name": "python",
   "nbconvert_exporter": "python",
   "pygments_lexer": "ipython3",
   "version": "3.10.12"
  }
 },
 "nbformat": 4,
 "nbformat_minor": 5
}
