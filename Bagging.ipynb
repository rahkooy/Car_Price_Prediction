{
 "cells": [
  {
   "cell_type": "markdown",
   "id": "15111ea1",
   "metadata": {},
   "source": [
    "# Bagging for car price prediction"
   ]
  },
  {
   "cell_type": "code",
   "execution_count": 9,
   "id": "6b74f6bc",
   "metadata": {},
   "outputs": [],
   "source": [
    "from sklearn.ensemble import BaggingRegressor\n",
    "from sklearn.metrics import mean_absolute_error, mean_squared_error, median_absolute_error, r2_score\n",
    "import pandas as pd"
   ]
  },
  {
   "cell_type": "code",
   "execution_count": 12,
   "id": "752c1122",
   "metadata": {},
   "outputs": [],
   "source": [
    "#bagging Regressor iterated over a list of n_estimators\n",
    "def bagging(X_train,X_test,y_train,y_test,estimator_range): #estimator_rang is a list of estimators\n",
    "\n",
    "    for n_estimators in estimator_range:\n",
    "        #create bagging classifier\n",
    "        clf = BaggingRegressor(n_estimators=n_estimators, \n",
    "                               random_state=22)\n",
    "        #fit data and predict\n",
    "        clf.fit(X_train,y_train)\n",
    "        y_pred = clf.predict(X_test)\n",
    "        \n",
    "        # MAE\n",
    "        mae = mean_absolute_error(y_test, y_pred)\n",
    "        # MSE\n",
    "        mse = mean_squared_error(y_test, y_pred)\n",
    "        # mdAE\n",
    "        medae = median_absolute_error(y_test, y_pred)\n",
    "        # R2\n",
    "        r2 = r2_score(y_test, y_pred)\n",
    "        \n",
    "        \n",
    "    # Dictionary of errors then convert to dataframe\n",
    "    error_metrics = {\n",
    "        'Final MAE': [mae],\n",
    "        'Final MSE': [mse],\n",
    "        'Final medAE': [medae],\n",
    "        'Final R2': [r2]\n",
    "    }\n",
    "        \n",
    "    # Convert the dictionary to a pandas DataFrame\n",
    "    df_errors = pd.DataFrame(error_metrics)\n",
    "    \n",
    "    return y_pred, df_errors"
   ]
  },
  {
   "cell_type": "code",
   "execution_count": 13,
   "id": "1b5bd74c",
   "metadata": {},
   "outputs": [],
   "source": [
    "# bagging classifier with oob and a given n_estimators\n",
    "def baggin_w_oob(X_train, X_test, y_train, y_test, n_estimators):\n",
    "    oob_model = BaggingRegressor(\n",
    "        n_estimators=n_estimators, \n",
    "        oob_score=True, \n",
    "        random_state=22\n",
    "    )\n",
    "    oob_model.fit(X_train, y_train)\n",
    "    y_pred = oob_model.predict(X_test)\n",
    "\n",
    "    # MAE\n",
    "    mae = metrics.mean_absolute_error(y_test, y_pred)\n",
    "    # MSE\n",
    "    mse = metrics.mean_squared_error(y_test, y_pred)\n",
    "    # mdAE\n",
    "    medae = metrics.median_absolute_error(y_test, y_pred)\n",
    "    # R2\n",
    "    r2 = metrics.r2_score(y_test, y_pred)\n",
    "    \n",
    "    # Dictionary of errors then convert to dataframe\n",
    "    error_metrics = {\n",
    "        'Final MAE': [mae],\n",
    "        'Final MSE': [mse],\n",
    "        'Final medAE': [medae],\n",
    "        'Final R2': [r2]\n",
    "    }\n",
    "        \n",
    "    # Convert the dictionary to a pandas DataFrame\n",
    "    df_errors = pd.DataFrame(error_metrics)\n",
    "    \n",
    "    return y_pred, df_errors"
   ]
  },
  {
   "cell_type": "code",
   "execution_count": null,
   "id": "60b12996",
   "metadata": {},
   "outputs": [],
   "source": []
  }
 ],
 "metadata": {
  "kernelspec": {
   "display_name": "Python 3 (ipykernel)",
   "language": "python",
   "name": "python3"
  },
  "language_info": {
   "codemirror_mode": {
    "name": "ipython",
    "version": 3
   },
   "file_extension": ".py",
   "mimetype": "text/x-python",
   "name": "python",
   "nbconvert_exporter": "python",
   "pygments_lexer": "ipython3",
   "version": "3.8.18"
  }
 },
 "nbformat": 4,
 "nbformat_minor": 5
}
