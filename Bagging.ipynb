{
 "cells": [
  {
   "cell_type": "markdown",
   "id": "15111ea1",
   "metadata": {},
   "source": [
    "# Bagging for car price prediction"
   ]
  },
  {
   "cell_type": "code",
   "execution_count": 9,
   "id": "6b74f6bc",
   "metadata": {},
   "outputs": [],
   "source": [
    "from sklearn.ensemble import BaggingRegressor\n",
    "from sklearn.metrics import mean_absolute_error, mean_squared_error, median_absolute_error, r2_score\n",
    "from sklearn.model_selection import KFold, cross_val_score\n",
    "import pandas as pd\n",
    "import numpy as np"
   ]
  },
  {
   "cell_type": "code",
   "execution_count": 1,
   "id": "752c1122",
   "metadata": {},
   "outputs": [],
   "source": [
    "def bagging(X_train, y_train, estimator_range, cv_folds=5, decimal_places=2):\n",
    "    results = []\n",
    "\n",
    "    for n_estimators in estimator_range:\n",
    "        # Create bagging regressor\n",
    "        clf = BaggingRegressor(n_estimators=n_estimators, random_state=22)\n",
    "\n",
    "        # Perform 5-fold cross-validation\n",
    "        kf = KFold(n_splits=cv_folds, shuffle=True, random_state=42)\n",
    "        \n",
    "        mae_scores = -cross_val_score(clf, X_train, y_train, cv=kf, scoring='neg_mean_absolute_error')\n",
    "        medae_scores = -cross_val_score(clf, X_train, y_train, cv=kf, scoring='neg_median_absolute_error')\n",
    "        r2_scores = cross_val_score(clf, X_train, y_train, cv=kf, scoring='r2')\n",
    "\n",
    "        # Predicting on the test data\n",
    "        clf.fit(X_train, y_train)  # Fit the model on the entire training data\n",
    "        y_pred = clf.predict(X_test)  # Predict on the test data\n",
    "        \n",
    "        # Round the values\n",
    "        mae_scores = np.round(mae_scores, decimal_places)\n",
    "        medae_scores = np.round(medae_scores, decimal_places)\n",
    "        r2_scores = np.round(r2_scores, decimal_places)\n",
    "        \n",
    "        # Store results for each fold\n",
    "        for fold_idx, (mae, medae, r2) in enumerate(zip(mae_scores, medae_scores, r2_scores)):\n",
    "            results.append({\n",
    "                'n_estimators': n_estimators,\n",
    "                'Fold': fold_idx + 1,\n",
    "                'MAE': mae,\n",
    "                'medAE': medae,\n",
    "                'R2': r2\n",
    "            })\n",
    "\n",
    "    # Convert the results list to a pandas DataFrame\n",
    "    df_errors = pd.DataFrame(results)\n",
    "    \n",
    "    return y_pred, df_errors"
   ]
  }
 ],
 "metadata": {
  "kernelspec": {
   "display_name": "Python 3 (ipykernel)",
   "language": "python",
   "name": "python3"
  },
  "language_info": {
   "codemirror_mode": {
    "name": "ipython",
    "version": 3
   },
   "file_extension": ".py",
   "mimetype": "text/x-python",
   "name": "python",
   "nbconvert_exporter": "python",
   "pygments_lexer": "ipython3",
   "version": "3.11.5"
  }
 },
 "nbformat": 4,
 "nbformat_minor": 5
}
