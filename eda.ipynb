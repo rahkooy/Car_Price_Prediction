{
 "cells": [
  {
   "cell_type": "markdown",
   "id": "cb8c9531",
   "metadata": {},
   "source": [
    "## 1-EDA (Exploratory Data Analysis)"
   ]
  },
  {
   "cell_type": "code",
   "execution_count": 50,
   "id": "6fbca6a3",
   "metadata": {},
   "outputs": [],
   "source": [
    "# Importing Libraries\n",
    "\n",
    "import pandas as pd\n",
    "import numpy as np\n",
    "import seaborn as sns\n",
    "import matplotlib.pyplot as plt\n",
    "import mpl_toolkits\n",
    "%matplotlib inline\n",
    "from sklearn.model_selection import train_test_split\n",
    "from sklearn.linear_model import LinearRegression\n",
    "from sklearn.metrics import mean_squared_error"
   ]
  },
  {
   "cell_type": "code",
   "execution_count": 51,
   "id": "b9d31ae4",
   "metadata": {},
   "outputs": [],
   "source": [
    "# Loading Dataset\n",
    "df = pd.read_csv('car_data.csv')\n",
    "orignal_df = df\n",
    "index = df.columns[0]"
   ]
  },
  {
   "cell_type": "code",
   "execution_count": 52,
   "id": "f2dbe517",
   "metadata": {},
   "outputs": [
    {
     "data": {
      "text/html": [
       "<div>\n",
       "<style scoped>\n",
       "    .dataframe tbody tr th:only-of-type {\n",
       "        vertical-align: middle;\n",
       "    }\n",
       "\n",
       "    .dataframe tbody tr th {\n",
       "        vertical-align: top;\n",
       "    }\n",
       "\n",
       "    .dataframe thead th {\n",
       "        text-align: right;\n",
       "    }\n",
       "</style>\n",
       "<table border=\"1\" class=\"dataframe\">\n",
       "  <thead>\n",
       "    <tr style=\"text-align: right;\">\n",
       "      <th></th>\n",
       "      <th>Unnamed: 0</th>\n",
       "      <th>brand</th>\n",
       "      <th>model</th>\n",
       "      <th>color</th>\n",
       "      <th>registration_date</th>\n",
       "      <th>year</th>\n",
       "      <th>price_in_euro</th>\n",
       "      <th>power_kw</th>\n",
       "      <th>power_ps</th>\n",
       "      <th>transmission_type</th>\n",
       "      <th>fuel_type</th>\n",
       "      <th>fuel_consumption_l_100km</th>\n",
       "      <th>fuel_consumption_g_km</th>\n",
       "      <th>mileage_in_km</th>\n",
       "      <th>offer_description</th>\n",
       "    </tr>\n",
       "  </thead>\n",
       "  <tbody>\n",
       "    <tr>\n",
       "      <th>0</th>\n",
       "      <td>0</td>\n",
       "      <td>alfa-romeo</td>\n",
       "      <td>Alfa Romeo GTV</td>\n",
       "      <td>red</td>\n",
       "      <td>10/1995</td>\n",
       "      <td>1995</td>\n",
       "      <td>1300</td>\n",
       "      <td>148</td>\n",
       "      <td>201</td>\n",
       "      <td>Manual</td>\n",
       "      <td>Petrol</td>\n",
       "      <td>10,9 l/100 km</td>\n",
       "      <td>260 g/km</td>\n",
       "      <td>160500.0</td>\n",
       "      <td>2.0 V6 TB</td>\n",
       "    </tr>\n",
       "    <tr>\n",
       "      <th>1</th>\n",
       "      <td>1</td>\n",
       "      <td>alfa-romeo</td>\n",
       "      <td>Alfa Romeo 164</td>\n",
       "      <td>black</td>\n",
       "      <td>02/1995</td>\n",
       "      <td>1995</td>\n",
       "      <td>24900</td>\n",
       "      <td>191</td>\n",
       "      <td>260</td>\n",
       "      <td>Manual</td>\n",
       "      <td>Petrol</td>\n",
       "      <td>NaN</td>\n",
       "      <td>- (g/km)</td>\n",
       "      <td>190000.0</td>\n",
       "      <td>Q4 Allrad, 3.2L GTA</td>\n",
       "    </tr>\n",
       "    <tr>\n",
       "      <th>2</th>\n",
       "      <td>2</td>\n",
       "      <td>alfa-romeo</td>\n",
       "      <td>Alfa Romeo Spider</td>\n",
       "      <td>black</td>\n",
       "      <td>02/1995</td>\n",
       "      <td>1995</td>\n",
       "      <td>5900</td>\n",
       "      <td>110</td>\n",
       "      <td>150</td>\n",
       "      <td>Unknown</td>\n",
       "      <td>Petrol</td>\n",
       "      <td>NaN</td>\n",
       "      <td>- (g/km)</td>\n",
       "      <td>129000.0</td>\n",
       "      <td>ALFA ROME 916</td>\n",
       "    </tr>\n",
       "    <tr>\n",
       "      <th>3</th>\n",
       "      <td>3</td>\n",
       "      <td>alfa-romeo</td>\n",
       "      <td>Alfa Romeo Spider</td>\n",
       "      <td>black</td>\n",
       "      <td>07/1995</td>\n",
       "      <td>1995</td>\n",
       "      <td>4900</td>\n",
       "      <td>110</td>\n",
       "      <td>150</td>\n",
       "      <td>Manual</td>\n",
       "      <td>Petrol</td>\n",
       "      <td>9,5 l/100 km</td>\n",
       "      <td>225 g/km</td>\n",
       "      <td>189500.0</td>\n",
       "      <td>2.0 16V Twin Spark L</td>\n",
       "    </tr>\n",
       "    <tr>\n",
       "      <th>4</th>\n",
       "      <td>4</td>\n",
       "      <td>alfa-romeo</td>\n",
       "      <td>Alfa Romeo 164</td>\n",
       "      <td>red</td>\n",
       "      <td>11/1996</td>\n",
       "      <td>1996</td>\n",
       "      <td>17950</td>\n",
       "      <td>132</td>\n",
       "      <td>179</td>\n",
       "      <td>Manual</td>\n",
       "      <td>Petrol</td>\n",
       "      <td>7,2 l/100 km</td>\n",
       "      <td>- (g/km)</td>\n",
       "      <td>96127.0</td>\n",
       "      <td>3.0i Super V6, absoluter Topzustand !</td>\n",
       "    </tr>\n",
       "    <tr>\n",
       "      <th>...</th>\n",
       "      <td>...</td>\n",
       "      <td>...</td>\n",
       "      <td>...</td>\n",
       "      <td>...</td>\n",
       "      <td>...</td>\n",
       "      <td>...</td>\n",
       "      <td>...</td>\n",
       "      <td>...</td>\n",
       "      <td>...</td>\n",
       "      <td>...</td>\n",
       "      <td>...</td>\n",
       "      <td>...</td>\n",
       "      <td>...</td>\n",
       "      <td>...</td>\n",
       "      <td>...</td>\n",
       "    </tr>\n",
       "    <tr>\n",
       "      <th>251074</th>\n",
       "      <td>251074</td>\n",
       "      <td>volvo</td>\n",
       "      <td>Volvo XC40</td>\n",
       "      <td>white</td>\n",
       "      <td>04/2023</td>\n",
       "      <td>2023</td>\n",
       "      <td>57990</td>\n",
       "      <td>192</td>\n",
       "      <td>261</td>\n",
       "      <td>Automatic</td>\n",
       "      <td>Hybrid</td>\n",
       "      <td>NaN</td>\n",
       "      <td>43 km Reichweite</td>\n",
       "      <td>1229.0</td>\n",
       "      <td>Plus Bright T5 Recharge Intellisafe*Surround+P...</td>\n",
       "    </tr>\n",
       "    <tr>\n",
       "      <th>251075</th>\n",
       "      <td>251075</td>\n",
       "      <td>volvo</td>\n",
       "      <td>Volvo XC90</td>\n",
       "      <td>white</td>\n",
       "      <td>03/2023</td>\n",
       "      <td>2023</td>\n",
       "      <td>89690</td>\n",
       "      <td>173</td>\n",
       "      <td>235</td>\n",
       "      <td>Automatic</td>\n",
       "      <td>Diesel</td>\n",
       "      <td>7,6 l/100 km</td>\n",
       "      <td>202 g/km</td>\n",
       "      <td>4900.0</td>\n",
       "      <td>B5 AWD Diesel Ultimate Dark 7-Sitzer Massage F...</td>\n",
       "    </tr>\n",
       "    <tr>\n",
       "      <th>251076</th>\n",
       "      <td>251076</td>\n",
       "      <td>volvo</td>\n",
       "      <td>Volvo V60</td>\n",
       "      <td>white</td>\n",
       "      <td>05/2023</td>\n",
       "      <td>2023</td>\n",
       "      <td>61521</td>\n",
       "      <td>145</td>\n",
       "      <td>197</td>\n",
       "      <td>Automatic</td>\n",
       "      <td>Diesel</td>\n",
       "      <td>4,7 l/100 km</td>\n",
       "      <td>125 g/km</td>\n",
       "      <td>1531.0</td>\n",
       "      <td>B4 D Plus Dark 145 kW, 5-türig (Diesel)</td>\n",
       "    </tr>\n",
       "    <tr>\n",
       "      <th>251077</th>\n",
       "      <td>251077</td>\n",
       "      <td>volvo</td>\n",
       "      <td>Volvo XC40</td>\n",
       "      <td>white</td>\n",
       "      <td>05/2023</td>\n",
       "      <td>2023</td>\n",
       "      <td>57890</td>\n",
       "      <td>132</td>\n",
       "      <td>179</td>\n",
       "      <td>Automatic</td>\n",
       "      <td>Hybrid</td>\n",
       "      <td>NaN</td>\n",
       "      <td>45 km Reichweite</td>\n",
       "      <td>1500.0</td>\n",
       "      <td>T5 Recharge Plus Dark *Standh*360°*beh.Lenk</td>\n",
       "    </tr>\n",
       "    <tr>\n",
       "      <th>251078</th>\n",
       "      <td>251078</td>\n",
       "      <td>volvo</td>\n",
       "      <td>Volvo XC40</td>\n",
       "      <td>gold</td>\n",
       "      <td>03/2023</td>\n",
       "      <td>2023</td>\n",
       "      <td>52900</td>\n",
       "      <td>160</td>\n",
       "      <td>218</td>\n",
       "      <td>Automatic</td>\n",
       "      <td>Electric</td>\n",
       "      <td>NaN</td>\n",
       "      <td>438 km Reichweite</td>\n",
       "      <td>50.0</td>\n",
       "      <td>Ultimate Recharge Twin Motor AHK GJR</td>\n",
       "    </tr>\n",
       "  </tbody>\n",
       "</table>\n",
       "<p>251079 rows × 15 columns</p>\n",
       "</div>"
      ],
      "text/plain": [
       "        Unnamed: 0       brand              model  color registration_date  \\\n",
       "0                0  alfa-romeo     Alfa Romeo GTV    red           10/1995   \n",
       "1                1  alfa-romeo     Alfa Romeo 164  black           02/1995   \n",
       "2                2  alfa-romeo  Alfa Romeo Spider  black           02/1995   \n",
       "3                3  alfa-romeo  Alfa Romeo Spider  black           07/1995   \n",
       "4                4  alfa-romeo     Alfa Romeo 164    red           11/1996   \n",
       "...            ...         ...                ...    ...               ...   \n",
       "251074      251074       volvo         Volvo XC40  white           04/2023   \n",
       "251075      251075       volvo         Volvo XC90  white           03/2023   \n",
       "251076      251076       volvo          Volvo V60  white           05/2023   \n",
       "251077      251077       volvo         Volvo XC40  white           05/2023   \n",
       "251078      251078       volvo         Volvo XC40   gold           03/2023   \n",
       "\n",
       "        year price_in_euro power_kw power_ps transmission_type fuel_type  \\\n",
       "0       1995          1300      148      201            Manual    Petrol   \n",
       "1       1995         24900      191      260            Manual    Petrol   \n",
       "2       1995          5900      110      150           Unknown    Petrol   \n",
       "3       1995          4900      110      150            Manual    Petrol   \n",
       "4       1996         17950      132      179            Manual    Petrol   \n",
       "...      ...           ...      ...      ...               ...       ...   \n",
       "251074  2023         57990      192      261         Automatic    Hybrid   \n",
       "251075  2023         89690      173      235         Automatic    Diesel   \n",
       "251076  2023         61521      145      197         Automatic    Diesel   \n",
       "251077  2023         57890      132      179         Automatic    Hybrid   \n",
       "251078  2023         52900      160      218         Automatic  Electric   \n",
       "\n",
       "       fuel_consumption_l_100km fuel_consumption_g_km  mileage_in_km  \\\n",
       "0                 10,9 l/100 km              260 g/km       160500.0   \n",
       "1                           NaN              - (g/km)       190000.0   \n",
       "2                           NaN              - (g/km)       129000.0   \n",
       "3                  9,5 l/100 km              225 g/km       189500.0   \n",
       "4                  7,2 l/100 km              - (g/km)        96127.0   \n",
       "...                         ...                   ...            ...   \n",
       "251074                      NaN      43 km Reichweite         1229.0   \n",
       "251075             7,6 l/100 km              202 g/km         4900.0   \n",
       "251076             4,7 l/100 km              125 g/km         1531.0   \n",
       "251077                      NaN      45 km Reichweite         1500.0   \n",
       "251078                      NaN     438 km Reichweite           50.0   \n",
       "\n",
       "                                        offer_description  \n",
       "0                                               2.0 V6 TB  \n",
       "1                                     Q4 Allrad, 3.2L GTA  \n",
       "2                                           ALFA ROME 916  \n",
       "3                                    2.0 16V Twin Spark L  \n",
       "4                   3.0i Super V6, absoluter Topzustand !  \n",
       "...                                                   ...  \n",
       "251074  Plus Bright T5 Recharge Intellisafe*Surround+P...  \n",
       "251075  B5 AWD Diesel Ultimate Dark 7-Sitzer Massage F...  \n",
       "251076            B4 D Plus Dark 145 kW, 5-türig (Diesel)  \n",
       "251077        T5 Recharge Plus Dark *Standh*360°*beh.Lenk  \n",
       "251078               Ultimate Recharge Twin Motor AHK GJR  \n",
       "\n",
       "[251079 rows x 15 columns]"
      ]
     },
     "execution_count": 52,
     "metadata": {},
     "output_type": "execute_result"
    }
   ],
   "source": [
    "df"
   ]
  },
  {
   "cell_type": "code",
   "execution_count": 53,
   "id": "8416de6d",
   "metadata": {},
   "outputs": [
    {
     "data": {
      "text/plain": [
       "<bound method DataFrame.info of         Unnamed: 0       brand              model  color registration_date  \\\n",
       "0                0  alfa-romeo     Alfa Romeo GTV    red           10/1995   \n",
       "1                1  alfa-romeo     Alfa Romeo 164  black           02/1995   \n",
       "2                2  alfa-romeo  Alfa Romeo Spider  black           02/1995   \n",
       "3                3  alfa-romeo  Alfa Romeo Spider  black           07/1995   \n",
       "4                4  alfa-romeo     Alfa Romeo 164    red           11/1996   \n",
       "...            ...         ...                ...    ...               ...   \n",
       "251074      251074       volvo         Volvo XC40  white           04/2023   \n",
       "251075      251075       volvo         Volvo XC90  white           03/2023   \n",
       "251076      251076       volvo          Volvo V60  white           05/2023   \n",
       "251077      251077       volvo         Volvo XC40  white           05/2023   \n",
       "251078      251078       volvo         Volvo XC40   gold           03/2023   \n",
       "\n",
       "        year price_in_euro power_kw power_ps transmission_type fuel_type  \\\n",
       "0       1995          1300      148      201            Manual    Petrol   \n",
       "1       1995         24900      191      260            Manual    Petrol   \n",
       "2       1995          5900      110      150           Unknown    Petrol   \n",
       "3       1995          4900      110      150            Manual    Petrol   \n",
       "4       1996         17950      132      179            Manual    Petrol   \n",
       "...      ...           ...      ...      ...               ...       ...   \n",
       "251074  2023         57990      192      261         Automatic    Hybrid   \n",
       "251075  2023         89690      173      235         Automatic    Diesel   \n",
       "251076  2023         61521      145      197         Automatic    Diesel   \n",
       "251077  2023         57890      132      179         Automatic    Hybrid   \n",
       "251078  2023         52900      160      218         Automatic  Electric   \n",
       "\n",
       "       fuel_consumption_l_100km fuel_consumption_g_km  mileage_in_km  \\\n",
       "0                 10,9 l/100 km              260 g/km       160500.0   \n",
       "1                           NaN              - (g/km)       190000.0   \n",
       "2                           NaN              - (g/km)       129000.0   \n",
       "3                  9,5 l/100 km              225 g/km       189500.0   \n",
       "4                  7,2 l/100 km              - (g/km)        96127.0   \n",
       "...                         ...                   ...            ...   \n",
       "251074                      NaN      43 km Reichweite         1229.0   \n",
       "251075             7,6 l/100 km              202 g/km         4900.0   \n",
       "251076             4,7 l/100 km              125 g/km         1531.0   \n",
       "251077                      NaN      45 km Reichweite         1500.0   \n",
       "251078                      NaN     438 km Reichweite           50.0   \n",
       "\n",
       "                                        offer_description  \n",
       "0                                               2.0 V6 TB  \n",
       "1                                     Q4 Allrad, 3.2L GTA  \n",
       "2                                           ALFA ROME 916  \n",
       "3                                    2.0 16V Twin Spark L  \n",
       "4                   3.0i Super V6, absoluter Topzustand !  \n",
       "...                                                   ...  \n",
       "251074  Plus Bright T5 Recharge Intellisafe*Surround+P...  \n",
       "251075  B5 AWD Diesel Ultimate Dark 7-Sitzer Massage F...  \n",
       "251076            B4 D Plus Dark 145 kW, 5-türig (Diesel)  \n",
       "251077        T5 Recharge Plus Dark *Standh*360°*beh.Lenk  \n",
       "251078               Ultimate Recharge Twin Motor AHK GJR  \n",
       "\n",
       "[251079 rows x 15 columns]>"
      ]
     },
     "execution_count": 53,
     "metadata": {},
     "output_type": "execute_result"
    }
   ],
   "source": [
    "df.info"
   ]
  },
  {
   "cell_type": "code",
   "execution_count": 54,
   "id": "75b78829",
   "metadata": {},
   "outputs": [
    {
     "data": {
      "text/plain": [
       "<bound method NDFrame.describe of         Unnamed: 0       brand              model  color registration_date  \\\n",
       "0                0  alfa-romeo     Alfa Romeo GTV    red           10/1995   \n",
       "1                1  alfa-romeo     Alfa Romeo 164  black           02/1995   \n",
       "2                2  alfa-romeo  Alfa Romeo Spider  black           02/1995   \n",
       "3                3  alfa-romeo  Alfa Romeo Spider  black           07/1995   \n",
       "4                4  alfa-romeo     Alfa Romeo 164    red           11/1996   \n",
       "...            ...         ...                ...    ...               ...   \n",
       "251074      251074       volvo         Volvo XC40  white           04/2023   \n",
       "251075      251075       volvo         Volvo XC90  white           03/2023   \n",
       "251076      251076       volvo          Volvo V60  white           05/2023   \n",
       "251077      251077       volvo         Volvo XC40  white           05/2023   \n",
       "251078      251078       volvo         Volvo XC40   gold           03/2023   \n",
       "\n",
       "        year price_in_euro power_kw power_ps transmission_type fuel_type  \\\n",
       "0       1995          1300      148      201            Manual    Petrol   \n",
       "1       1995         24900      191      260            Manual    Petrol   \n",
       "2       1995          5900      110      150           Unknown    Petrol   \n",
       "3       1995          4900      110      150            Manual    Petrol   \n",
       "4       1996         17950      132      179            Manual    Petrol   \n",
       "...      ...           ...      ...      ...               ...       ...   \n",
       "251074  2023         57990      192      261         Automatic    Hybrid   \n",
       "251075  2023         89690      173      235         Automatic    Diesel   \n",
       "251076  2023         61521      145      197         Automatic    Diesel   \n",
       "251077  2023         57890      132      179         Automatic    Hybrid   \n",
       "251078  2023         52900      160      218         Automatic  Electric   \n",
       "\n",
       "       fuel_consumption_l_100km fuel_consumption_g_km  mileage_in_km  \\\n",
       "0                 10,9 l/100 km              260 g/km       160500.0   \n",
       "1                           NaN              - (g/km)       190000.0   \n",
       "2                           NaN              - (g/km)       129000.0   \n",
       "3                  9,5 l/100 km              225 g/km       189500.0   \n",
       "4                  7,2 l/100 km              - (g/km)        96127.0   \n",
       "...                         ...                   ...            ...   \n",
       "251074                      NaN      43 km Reichweite         1229.0   \n",
       "251075             7,6 l/100 km              202 g/km         4900.0   \n",
       "251076             4,7 l/100 km              125 g/km         1531.0   \n",
       "251077                      NaN      45 km Reichweite         1500.0   \n",
       "251078                      NaN     438 km Reichweite           50.0   \n",
       "\n",
       "                                        offer_description  \n",
       "0                                               2.0 V6 TB  \n",
       "1                                     Q4 Allrad, 3.2L GTA  \n",
       "2                                           ALFA ROME 916  \n",
       "3                                    2.0 16V Twin Spark L  \n",
       "4                   3.0i Super V6, absoluter Topzustand !  \n",
       "...                                                   ...  \n",
       "251074  Plus Bright T5 Recharge Intellisafe*Surround+P...  \n",
       "251075  B5 AWD Diesel Ultimate Dark 7-Sitzer Massage F...  \n",
       "251076            B4 D Plus Dark 145 kW, 5-türig (Diesel)  \n",
       "251077        T5 Recharge Plus Dark *Standh*360°*beh.Lenk  \n",
       "251078               Ultimate Recharge Twin Motor AHK GJR  \n",
       "\n",
       "[251079 rows x 15 columns]>"
      ]
     },
     "execution_count": 54,
     "metadata": {},
     "output_type": "execute_result"
    }
   ],
   "source": [
    "df.describe"
   ]
  },
  {
   "cell_type": "code",
   "execution_count": 55,
   "id": "ce73601a",
   "metadata": {},
   "outputs": [
    {
     "name": "stdout",
     "output_type": "stream",
     "text": [
      "there are 47 unique brands in the dataset.\n",
      "the brands are: \n",
      "alfa-romeo\n",
      "aston-martin\n",
      "audi\n",
      "bentley\n",
      "bmw\n",
      "cadillac\n",
      "chevrolet\n",
      "chrysler\n",
      "citroen\n",
      "dacia\n",
      "daewoo\n",
      "daihatsu\n",
      "dodge\n",
      "ferrari\n",
      "fiat\n",
      "ford\n",
      "honda\n",
      "hyundai\n",
      "infiniti\n",
      "isuzu\n",
      "jaguar\n",
      "jeep\n",
      "kia\n",
      "lada\n",
      "lamborghini\n",
      "lancia\n",
      "land-rover\n",
      "maserati\n",
      "mazda\n",
      "mercedes-benz\n",
      "mini\n",
      "mitsubishi\n",
      "nissan\n",
      "opel\n",
      "peugeot\n",
      "porsche\n",
      "proton\n",
      "renault\n",
      "rover\n",
      "saab\n",
      "seat\n",
      "skoda\n",
      "smart\n",
      "ssangyong\n",
      "toyota\n",
      "volkswagen\n",
      "volvo\n",
      "\n",
      "Number of rows for each brand:\n",
      "brand\n",
      "volkswagen       33281\n",
      "mercedes-benz    27226\n",
      "audi             21161\n",
      "opel             20388\n",
      "bmw              19810\n",
      "ford             18790\n",
      "skoda            14039\n",
      "seat             11949\n",
      "renault           8694\n",
      "toyota            8228\n",
      "hyundai           6989\n",
      "peugeot           5848\n",
      "kia               5734\n",
      "fiat              5039\n",
      "mini              4295\n",
      "mazda             4211\n",
      "volvo             4164\n",
      "citroen           4083\n",
      "porsche           3958\n",
      "nissan            3784\n",
      "dacia             3367\n",
      "land-rover        3073\n",
      "jeep              1749\n",
      "smart             1643\n",
      "alfa-romeo        1437\n",
      "jaguar            1398\n",
      "mitsubishi         934\n",
      "honda              785\n",
      "maserati           698\n",
      "dodge              669\n",
      "ferrari            590\n",
      "bentley            541\n",
      "lamborghini        361\n",
      "ssangyong          342\n",
      "aston-martin       277\n",
      "saab               233\n",
      "isuzu              206\n",
      "daihatsu           204\n",
      "chevrolet          191\n",
      "lada               191\n",
      "cadillac           157\n",
      "infiniti           112\n",
      "lancia             105\n",
      "daewoo              61\n",
      "rover               51\n",
      "chrysler            32\n",
      "proton               1\n",
      "Name: count, dtype: int64\n"
     ]
    }
   ],
   "source": [
    "# As an example, we extract the unique values from brand column and counting rows for each brand\n",
    "unique_brands = df['brand'].unique()\n",
    "num_unique_brands = len(unique_brands)\n",
    "print(f'there are {num_unique_brands} unique brands in the dataset.')\n",
    "print('the brands are: ')\n",
    "for brand in unique_brands:\n",
    "    print(brand)\n",
    "print('\\nNumber of rows for each brand:')\n",
    "brand_counts = df['brand'].value_counts()\n",
    "print(brand_counts)"
   ]
  },
  {
   "cell_type": "code",
   "execution_count": 56,
   "id": "ea963e1d",
   "metadata": {},
   "outputs": [
    {
     "data": {
      "text/plain": [
       "Index(['Unnamed: 0', 'brand', 'model', 'color', 'registration_date', 'year',\n",
       "       'price_in_euro', 'power_kw', 'power_ps', 'transmission_type',\n",
       "       'fuel_type', 'fuel_consumption_l_100km', 'fuel_consumption_g_km',\n",
       "       'mileage_in_km', 'offer_description'],\n",
       "      dtype='object')"
      ]
     },
     "execution_count": 56,
     "metadata": {},
     "output_type": "execute_result"
    }
   ],
   "source": [
    "# listing features\n",
    "df.columns"
   ]
  },
  {
   "cell_type": "code",
   "execution_count": 57,
   "id": "7c5948f1",
   "metadata": {},
   "outputs": [
    {
     "data": {
      "text/plain": [
       "Index(['brand', 'model', 'color', 'registration_date', 'year', 'price',\n",
       "       'power_kw', 'power_ps', 'transmission_type', 'fuel_type',\n",
       "       'fuel_consumption_l_100km', 'fuel_consumption_g_km', 'mileage_in_km',\n",
       "       'offer_description'],\n",
       "      dtype='object')"
      ]
     },
     "execution_count": 57,
     "metadata": {},
     "output_type": "execute_result"
    }
   ],
   "source": [
    "# renaming and dropping some columns \n",
    "df.rename(columns={\"price_in_euro\": \"price\"}, inplace=True)\n",
    "df.drop(columns=['Unnamed: 0'], inplace=True)\n",
    "df.columns"
   ]
  },
  {
   "cell_type": "code",
   "execution_count": 58,
   "id": "6a46f907",
   "metadata": {
    "scrolled": true
   },
   "outputs": [
    {
     "name": "stdout",
     "output_type": "stream",
     "text": [
      "['year', 'price', 'power_kw', 'fuel_consumption_g_km', 'mileage_in_km'] <class 'list'>\n"
     ]
    }
   ],
   "source": [
    "\"\"\"we select the following features w numerical values\n",
    "to be considered against the price\"\"\"\n",
    "numerical_cols = ['year','price','power_kw', 'fuel_consumption_g_km',\n",
    "       'mileage_in_km'] \n",
    "print(numerical_cols, type(numerical_cols))"
   ]
  },
  {
   "cell_type": "code",
   "execution_count": 59,
   "id": "6b95d39c",
   "metadata": {},
   "outputs": [],
   "source": [
    "\"\"\"Defining list of categorical features\"\"\"\n",
    "categorical_cols = ['brand', 'model']"
   ]
  },
  {
   "cell_type": "code",
   "execution_count": 60,
   "id": "d29ce692",
   "metadata": {},
   "outputs": [
    {
     "name": "stdout",
     "output_type": "stream",
     "text": [
      "['year', 'price', 'power_kw', 'fuel_consumption_g_km', 'mileage_in_km', 'brand', 'model'] <class 'list'>\n"
     ]
    }
   ],
   "source": [
    "selected_cols = numerical_cols + categorical_cols\n",
    "print(selected_cols, type(selected_cols))"
   ]
  },
  {
   "cell_type": "code",
   "execution_count": 61,
   "id": "dec99eb6",
   "metadata": {},
   "outputs": [
    {
     "name": "stdout",
     "output_type": "stream",
     "text": [
      "\n",
      "Missing values:\n",
      "year 0 object 0.0\n",
      "price 0 object 0.0\n",
      "power_kw 134 object 0.0005336965656227721\n",
      "fuel_consumption_g_km 0 object 0.0\n",
      "mileage_in_km 152 float64 0.000605387149064637\n",
      "brand 0 object 0.0\n",
      "model 0 object 0.0\n"
     ]
    }
   ],
   "source": [
    "# Check for missing values in selected features and their ratio to total number of cars\n",
    "def check_missing(df):\n",
    "    print(\"\\nMissing values:\")\n",
    "    for x in selected_cols:\n",
    "        miss_count = df[x].isnull().sum()\n",
    "        print(x, miss_count, df[x].dtype, miss_count/len(df[x]))\n",
    "        \n",
    "check_missing(df)"
   ]
  },
  {
   "cell_type": "code",
   "execution_count": 62,
   "id": "cf8b2117",
   "metadata": {},
   "outputs": [
    {
     "name": "stdout",
     "output_type": "stream",
     "text": [
      "total number of listed cars after droppping missing values:  251079\n",
      "\n",
      "Missing values:\n",
      "year 0 object 0.0\n",
      "price 0 object 0.0\n",
      "power_kw 0 object 0.0\n",
      "fuel_consumption_g_km 0 object 0.0\n",
      "mileage_in_km 0 float64 0.0\n",
      "brand 0 object 0.0\n",
      "model 0 object 0.0\n",
      "total number of listed cars after droppping missing values:  223836\n"
     ]
    }
   ],
   "source": [
    "# since there are only very few missing values, we just drop them\n",
    "print('total number of listed cars after droppping missing values: ', len(df))\n",
    "\n",
    "df.dropna(inplace=True)\n",
    "check_missing(df)\n",
    "\n",
    "print('total number of listed cars after droppping missing values: ', len(df))"
   ]
  },
  {
   "cell_type": "code",
   "execution_count": 63,
   "id": "cfc92ee3",
   "metadata": {},
   "outputs": [
    {
     "name": "stdout",
     "output_type": "stream",
     "text": [
      "Year column values:\n",
      "['1995' '1996' '1997' '1998' '1999' '2000' '2001' '2002' '2003' '2004'\n",
      " '2005' '2006' '2007' '2008' '2009' '2010' '2011' '2012' '2013' '2014'\n",
      " '2015' '2016' '2017' '2018' '2019' '2020' '2021' '2022' '2023' 'Petrol'\n",
      " 'Diesel' 'Manual' '04/2006' 'LPG' 'Hybrid' '03/2015' '39.900 km'\n",
      " '18.990 km' '05/2021' 'Automatic' '11/2013' 'CNG']\n"
     ]
    }
   ],
   "source": [
    "# cleaning column year as it has irrelated values\n",
    "print('Year column values:')\n",
    "print(df['year'].unique())"
   ]
  },
  {
   "cell_type": "code",
   "execution_count": 64,
   "id": "9a3d2b8c",
   "metadata": {},
   "outputs": [
    {
     "name": "stdout",
     "output_type": "stream",
     "text": [
      "['1995' '1996' '1997' '1998' '1999' '2000' '2001' '2002' '2003' '2004'\n",
      " '2005' '2006' '2007' '2008' '2009' '2010' '2011' '2012' '2013' '2014'\n",
      " '2015' '2016' '2017' '2018' '2019' '2020' '2021' '2022' '2023']\n"
     ]
    }
   ],
   "source": [
    "\"\"\"Based on above, one has to filter years out of the first 29 \n",
    "enetries coveriing 1995-2023:\n",
    "\"\"\"\n",
    "tobefiltered = df['year'].unique()[:29]\n",
    "newfilter = []\n",
    "for i in range(df.shape[0]):\n",
    "    newfilter.append(df['year'].iloc[i] in tobefiltered)\n",
    "    \n",
    "df = df[newfilter]\n",
    "print(df['year'].unique())"
   ]
  },
  {
   "cell_type": "code",
   "execution_count": 65,
   "id": "59b75605",
   "metadata": {},
   "outputs": [
    {
     "name": "stdout",
     "output_type": "stream",
     "text": [
      "223733\n",
      "29\n",
      "ratio of remaining cars after dropping redundant year value:  0.9995398416697939\n"
     ]
    }
   ],
   "source": [
    "print(len(df['year']))\n",
    "print(len(df['year'].unique()))\n",
    "print('ratio of remaining cars after dropping redundant year value: ', len(df)/len(orignal_df))"
   ]
  },
  {
   "cell_type": "markdown",
   "id": "d8ebdd96",
   "metadata": {},
   "source": [
    "The above ratio shows that there were few cars with redundant year value, so dropping them has minor affect on the number of the database. "
   ]
  },
  {
   "cell_type": "code",
   "execution_count": 66,
   "id": "14f3890d",
   "metadata": {
    "scrolled": true
   },
   "outputs": [
    {
     "name": "stderr",
     "output_type": "stream",
     "text": [
      "/var/folders/px/qy02cbjn2_s1svhmg7_fwh340000gq/T/ipykernel_3471/97314634.py:2: SettingWithCopyWarning: \n",
      "A value is trying to be set on a copy of a slice from a DataFrame.\n",
      "Try using .loc[row_indexer,col_indexer] = value instead\n",
      "\n",
      "See the caveats in the documentation: https://pandas.pydata.org/pandas-docs/stable/user_guide/indexing.html#returning-a-view-versus-a-copy\n",
      "  df['price'] = df['price'].astype(int)\n",
      "/var/folders/px/qy02cbjn2_s1svhmg7_fwh340000gq/T/ipykernel_3471/97314634.py:3: SettingWithCopyWarning: \n",
      "A value is trying to be set on a copy of a slice from a DataFrame.\n",
      "Try using .loc[row_indexer,col_indexer] = value instead\n",
      "\n",
      "See the caveats in the documentation: https://pandas.pydata.org/pandas-docs/stable/user_guide/indexing.html#returning-a-view-versus-a-copy\n",
      "  df['power_kw'] = df['power_kw'].astype(float)\n",
      "/var/folders/px/qy02cbjn2_s1svhmg7_fwh340000gq/T/ipykernel_3471/97314634.py:4: SettingWithCopyWarning: \n",
      "A value is trying to be set on a copy of a slice from a DataFrame.\n",
      "Try using .loc[row_indexer,col_indexer] = value instead\n",
      "\n",
      "See the caveats in the documentation: https://pandas.pydata.org/pandas-docs/stable/user_guide/indexing.html#returning-a-view-versus-a-copy\n",
      "  df['mileage_in_km'] = df['mileage_in_km'].astype(float)\n",
      "/var/folders/px/qy02cbjn2_s1svhmg7_fwh340000gq/T/ipykernel_3471/97314634.py:5: SettingWithCopyWarning: \n",
      "A value is trying to be set on a copy of a slice from a DataFrame.\n",
      "Try using .loc[row_indexer,col_indexer] = value instead\n",
      "\n",
      "See the caveats in the documentation: https://pandas.pydata.org/pandas-docs/stable/user_guide/indexing.html#returning-a-view-versus-a-copy\n",
      "  df['year'] = df['year'].astype(int)\n"
     ]
    }
   ],
   "source": [
    "# converting types of several columns into numerical\n",
    "df['price'] = df['price'].astype(int)\n",
    "df['power_kw'] = df['power_kw'].astype(float)\n",
    "df['mileage_in_km'] = df['mileage_in_km'].astype(float)\n",
    "df['year'] = df['year'].astype(int)"
   ]
  },
  {
   "cell_type": "code",
   "execution_count": 67,
   "id": "009b16ea",
   "metadata": {},
   "outputs": [
    {
     "name": "stdout",
     "output_type": "stream",
     "text": [
      "0         1995\n",
      "3         1995\n",
      "4         1996\n",
      "5         1996\n",
      "6         1996\n",
      "          ... \n",
      "251071    2023\n",
      "251072    2023\n",
      "251073    2023\n",
      "251075    2023\n",
      "251076    2023\n",
      "Name: year, Length: 223733, dtype: int64 int64\n",
      "0          1300\n",
      "3          4900\n",
      "4         17950\n",
      "5          7900\n",
      "6          3500\n",
      "          ...  \n",
      "251071    81350\n",
      "251072    55400\n",
      "251073    54500\n",
      "251075    89690\n",
      "251076    61521\n",
      "Name: price, Length: 223733, dtype: int64 int64\n",
      "0         148.0\n",
      "3         110.0\n",
      "4         132.0\n",
      "5         110.0\n",
      "6         110.0\n",
      "          ...  \n",
      "251071    228.0\n",
      "251072    145.0\n",
      "251073    145.0\n",
      "251075    173.0\n",
      "251076    145.0\n",
      "Name: power_kw, Length: 223733, dtype: float64 float64\n",
      "0         260 g/km\n",
      "3         225 g/km\n",
      "4         - (g/km)\n",
      "5         225 g/km\n",
      "6         210 g/km\n",
      "            ...   \n",
      "251071    167 g/km\n",
      "251072    142 g/km\n",
      "251073    142 g/km\n",
      "251075    202 g/km\n",
      "251076    125 g/km\n",
      "Name: fuel_consumption_g_km, Length: 223733, dtype: object object\n",
      "0         160500.0\n",
      "3         189500.0\n",
      "4          96127.0\n",
      "5          47307.0\n",
      "6         230000.0\n",
      "            ...   \n",
      "251071        60.0\n",
      "251072      5000.0\n",
      "251073      5900.0\n",
      "251075      4900.0\n",
      "251076      1531.0\n",
      "Name: mileage_in_km, Length: 223733, dtype: float64 float64\n",
      "0         alfa-romeo\n",
      "3         alfa-romeo\n",
      "4         alfa-romeo\n",
      "5         alfa-romeo\n",
      "6         alfa-romeo\n",
      "             ...    \n",
      "251071         volvo\n",
      "251072         volvo\n",
      "251073         volvo\n",
      "251075         volvo\n",
      "251076         volvo\n",
      "Name: brand, Length: 223733, dtype: object object\n",
      "0            Alfa Romeo GTV\n",
      "3         Alfa Romeo Spider\n",
      "4            Alfa Romeo 164\n",
      "5         Alfa Romeo Spider\n",
      "6            Alfa Romeo 145\n",
      "                ...        \n",
      "251071           Volvo XC60\n",
      "251072           Volvo XC60\n",
      "251073           Volvo XC60\n",
      "251075           Volvo XC90\n",
      "251076            Volvo V60\n",
      "Name: model, Length: 223733, dtype: object object\n"
     ]
    }
   ],
   "source": [
    "for i in selected_cols:\n",
    "    print(df[i],df[i].dtype)"
   ]
  },
  {
   "cell_type": "code",
   "execution_count": 68,
   "id": "1da653b8",
   "metadata": {},
   "outputs": [
    {
     "ename": "ValueError",
     "evalue": "could not convert string to float: '260 g/km'",
     "output_type": "error",
     "traceback": [
      "\u001b[0;31m---------------------------------------------------------------------------\u001b[0m",
      "\u001b[0;31mValueError\u001b[0m                                Traceback (most recent call last)",
      "Cell \u001b[0;32mIn[68], line 1\u001b[0m\n\u001b[0;32m----> 1\u001b[0m df[\u001b[38;5;124m'\u001b[39m\u001b[38;5;124mfuel_consumption_g_km\u001b[39m\u001b[38;5;124m'\u001b[39m] \u001b[38;5;241m=\u001b[39m \u001b[43mdf\u001b[49m\u001b[43m[\u001b[49m\u001b[38;5;124;43m'\u001b[39;49m\u001b[38;5;124;43mfuel_consumption_g_km\u001b[39;49m\u001b[38;5;124;43m'\u001b[39;49m\u001b[43m]\u001b[49m\u001b[38;5;241;43m.\u001b[39;49m\u001b[43mastype\u001b[49m\u001b[43m(\u001b[49m\u001b[38;5;28;43mfloat\u001b[39;49m\u001b[43m)\u001b[49m\n",
      "File \u001b[0;32m~/opt/anaconda3/lib/python3.8/site-packages/pandas/core/generic.py:6324\u001b[0m, in \u001b[0;36mNDFrame.astype\u001b[0;34m(self, dtype, copy, errors)\u001b[0m\n\u001b[1;32m   6317\u001b[0m     results \u001b[38;5;241m=\u001b[39m [\n\u001b[1;32m   6318\u001b[0m         \u001b[38;5;28mself\u001b[39m\u001b[38;5;241m.\u001b[39miloc[:, i]\u001b[38;5;241m.\u001b[39mastype(dtype, copy\u001b[38;5;241m=\u001b[39mcopy)\n\u001b[1;32m   6319\u001b[0m         \u001b[38;5;28;01mfor\u001b[39;00m i \u001b[38;5;129;01min\u001b[39;00m \u001b[38;5;28mrange\u001b[39m(\u001b[38;5;28mlen\u001b[39m(\u001b[38;5;28mself\u001b[39m\u001b[38;5;241m.\u001b[39mcolumns))\n\u001b[1;32m   6320\u001b[0m     ]\n\u001b[1;32m   6322\u001b[0m \u001b[38;5;28;01melse\u001b[39;00m:\n\u001b[1;32m   6323\u001b[0m     \u001b[38;5;66;03m# else, only a single dtype is given\u001b[39;00m\n\u001b[0;32m-> 6324\u001b[0m     new_data \u001b[38;5;241m=\u001b[39m \u001b[38;5;28;43mself\u001b[39;49m\u001b[38;5;241;43m.\u001b[39;49m\u001b[43m_mgr\u001b[49m\u001b[38;5;241;43m.\u001b[39;49m\u001b[43mastype\u001b[49m\u001b[43m(\u001b[49m\u001b[43mdtype\u001b[49m\u001b[38;5;241;43m=\u001b[39;49m\u001b[43mdtype\u001b[49m\u001b[43m,\u001b[49m\u001b[43m \u001b[49m\u001b[43mcopy\u001b[49m\u001b[38;5;241;43m=\u001b[39;49m\u001b[43mcopy\u001b[49m\u001b[43m,\u001b[49m\u001b[43m \u001b[49m\u001b[43merrors\u001b[49m\u001b[38;5;241;43m=\u001b[39;49m\u001b[43merrors\u001b[49m\u001b[43m)\u001b[49m\n\u001b[1;32m   6325\u001b[0m     \u001b[38;5;28;01mreturn\u001b[39;00m \u001b[38;5;28mself\u001b[39m\u001b[38;5;241m.\u001b[39m_constructor(new_data)\u001b[38;5;241m.\u001b[39m__finalize__(\u001b[38;5;28mself\u001b[39m, method\u001b[38;5;241m=\u001b[39m\u001b[38;5;124m\"\u001b[39m\u001b[38;5;124mastype\u001b[39m\u001b[38;5;124m\"\u001b[39m)\n\u001b[1;32m   6327\u001b[0m \u001b[38;5;66;03m# GH 33113: handle empty frame or series\u001b[39;00m\n",
      "File \u001b[0;32m~/opt/anaconda3/lib/python3.8/site-packages/pandas/core/internals/managers.py:451\u001b[0m, in \u001b[0;36mBaseBlockManager.astype\u001b[0;34m(self, dtype, copy, errors)\u001b[0m\n\u001b[1;32m    448\u001b[0m \u001b[38;5;28;01melif\u001b[39;00m using_copy_on_write():\n\u001b[1;32m    449\u001b[0m     copy \u001b[38;5;241m=\u001b[39m \u001b[38;5;28;01mFalse\u001b[39;00m\n\u001b[0;32m--> 451\u001b[0m \u001b[38;5;28;01mreturn\u001b[39;00m \u001b[38;5;28;43mself\u001b[39;49m\u001b[38;5;241;43m.\u001b[39;49m\u001b[43mapply\u001b[49m\u001b[43m(\u001b[49m\n\u001b[1;32m    452\u001b[0m \u001b[43m    \u001b[49m\u001b[38;5;124;43m\"\u001b[39;49m\u001b[38;5;124;43mastype\u001b[39;49m\u001b[38;5;124;43m\"\u001b[39;49m\u001b[43m,\u001b[49m\n\u001b[1;32m    453\u001b[0m \u001b[43m    \u001b[49m\u001b[43mdtype\u001b[49m\u001b[38;5;241;43m=\u001b[39;49m\u001b[43mdtype\u001b[49m\u001b[43m,\u001b[49m\n\u001b[1;32m    454\u001b[0m \u001b[43m    \u001b[49m\u001b[43mcopy\u001b[49m\u001b[38;5;241;43m=\u001b[39;49m\u001b[43mcopy\u001b[49m\u001b[43m,\u001b[49m\n\u001b[1;32m    455\u001b[0m \u001b[43m    \u001b[49m\u001b[43merrors\u001b[49m\u001b[38;5;241;43m=\u001b[39;49m\u001b[43merrors\u001b[49m\u001b[43m,\u001b[49m\n\u001b[1;32m    456\u001b[0m \u001b[43m    \u001b[49m\u001b[43musing_cow\u001b[49m\u001b[38;5;241;43m=\u001b[39;49m\u001b[43musing_copy_on_write\u001b[49m\u001b[43m(\u001b[49m\u001b[43m)\u001b[49m\u001b[43m,\u001b[49m\n\u001b[1;32m    457\u001b[0m \u001b[43m\u001b[49m\u001b[43m)\u001b[49m\n",
      "File \u001b[0;32m~/opt/anaconda3/lib/python3.8/site-packages/pandas/core/internals/managers.py:352\u001b[0m, in \u001b[0;36mBaseBlockManager.apply\u001b[0;34m(self, f, align_keys, **kwargs)\u001b[0m\n\u001b[1;32m    350\u001b[0m         applied \u001b[38;5;241m=\u001b[39m b\u001b[38;5;241m.\u001b[39mapply(f, \u001b[38;5;241m*\u001b[39m\u001b[38;5;241m*\u001b[39mkwargs)\n\u001b[1;32m    351\u001b[0m     \u001b[38;5;28;01melse\u001b[39;00m:\n\u001b[0;32m--> 352\u001b[0m         applied \u001b[38;5;241m=\u001b[39m \u001b[38;5;28;43mgetattr\u001b[39;49m\u001b[43m(\u001b[49m\u001b[43mb\u001b[49m\u001b[43m,\u001b[49m\u001b[43m \u001b[49m\u001b[43mf\u001b[49m\u001b[43m)\u001b[49m\u001b[43m(\u001b[49m\u001b[38;5;241;43m*\u001b[39;49m\u001b[38;5;241;43m*\u001b[39;49m\u001b[43mkwargs\u001b[49m\u001b[43m)\u001b[49m\n\u001b[1;32m    353\u001b[0m     result_blocks \u001b[38;5;241m=\u001b[39m extend_blocks(applied, result_blocks)\n\u001b[1;32m    355\u001b[0m out \u001b[38;5;241m=\u001b[39m \u001b[38;5;28mtype\u001b[39m(\u001b[38;5;28mself\u001b[39m)\u001b[38;5;241m.\u001b[39mfrom_blocks(result_blocks, \u001b[38;5;28mself\u001b[39m\u001b[38;5;241m.\u001b[39maxes)\n",
      "File \u001b[0;32m~/opt/anaconda3/lib/python3.8/site-packages/pandas/core/internals/blocks.py:511\u001b[0m, in \u001b[0;36mBlock.astype\u001b[0;34m(self, dtype, copy, errors, using_cow)\u001b[0m\n\u001b[1;32m    491\u001b[0m \u001b[38;5;250m\u001b[39m\u001b[38;5;124;03m\"\"\"\u001b[39;00m\n\u001b[1;32m    492\u001b[0m \u001b[38;5;124;03mCoerce to the new dtype.\u001b[39;00m\n\u001b[1;32m    493\u001b[0m \n\u001b[0;32m   (...)\u001b[0m\n\u001b[1;32m    507\u001b[0m \u001b[38;5;124;03mBlock\u001b[39;00m\n\u001b[1;32m    508\u001b[0m \u001b[38;5;124;03m\"\"\"\u001b[39;00m\n\u001b[1;32m    509\u001b[0m values \u001b[38;5;241m=\u001b[39m \u001b[38;5;28mself\u001b[39m\u001b[38;5;241m.\u001b[39mvalues\n\u001b[0;32m--> 511\u001b[0m new_values \u001b[38;5;241m=\u001b[39m \u001b[43mastype_array_safe\u001b[49m\u001b[43m(\u001b[49m\u001b[43mvalues\u001b[49m\u001b[43m,\u001b[49m\u001b[43m \u001b[49m\u001b[43mdtype\u001b[49m\u001b[43m,\u001b[49m\u001b[43m \u001b[49m\u001b[43mcopy\u001b[49m\u001b[38;5;241;43m=\u001b[39;49m\u001b[43mcopy\u001b[49m\u001b[43m,\u001b[49m\u001b[43m \u001b[49m\u001b[43merrors\u001b[49m\u001b[38;5;241;43m=\u001b[39;49m\u001b[43merrors\u001b[49m\u001b[43m)\u001b[49m\n\u001b[1;32m    513\u001b[0m new_values \u001b[38;5;241m=\u001b[39m maybe_coerce_values(new_values)\n\u001b[1;32m    515\u001b[0m refs \u001b[38;5;241m=\u001b[39m \u001b[38;5;28;01mNone\u001b[39;00m\n",
      "File \u001b[0;32m~/opt/anaconda3/lib/python3.8/site-packages/pandas/core/dtypes/astype.py:242\u001b[0m, in \u001b[0;36mastype_array_safe\u001b[0;34m(values, dtype, copy, errors)\u001b[0m\n\u001b[1;32m    239\u001b[0m     dtype \u001b[38;5;241m=\u001b[39m dtype\u001b[38;5;241m.\u001b[39mnumpy_dtype\n\u001b[1;32m    241\u001b[0m \u001b[38;5;28;01mtry\u001b[39;00m:\n\u001b[0;32m--> 242\u001b[0m     new_values \u001b[38;5;241m=\u001b[39m \u001b[43mastype_array\u001b[49m\u001b[43m(\u001b[49m\u001b[43mvalues\u001b[49m\u001b[43m,\u001b[49m\u001b[43m \u001b[49m\u001b[43mdtype\u001b[49m\u001b[43m,\u001b[49m\u001b[43m \u001b[49m\u001b[43mcopy\u001b[49m\u001b[38;5;241;43m=\u001b[39;49m\u001b[43mcopy\u001b[49m\u001b[43m)\u001b[49m\n\u001b[1;32m    243\u001b[0m \u001b[38;5;28;01mexcept\u001b[39;00m (\u001b[38;5;167;01mValueError\u001b[39;00m, \u001b[38;5;167;01mTypeError\u001b[39;00m):\n\u001b[1;32m    244\u001b[0m     \u001b[38;5;66;03m# e.g. _astype_nansafe can fail on object-dtype of strings\u001b[39;00m\n\u001b[1;32m    245\u001b[0m     \u001b[38;5;66;03m#  trying to convert to float\u001b[39;00m\n\u001b[1;32m    246\u001b[0m     \u001b[38;5;28;01mif\u001b[39;00m errors \u001b[38;5;241m==\u001b[39m \u001b[38;5;124m\"\u001b[39m\u001b[38;5;124mignore\u001b[39m\u001b[38;5;124m\"\u001b[39m:\n",
      "File \u001b[0;32m~/opt/anaconda3/lib/python3.8/site-packages/pandas/core/dtypes/astype.py:187\u001b[0m, in \u001b[0;36mastype_array\u001b[0;34m(values, dtype, copy)\u001b[0m\n\u001b[1;32m    184\u001b[0m     values \u001b[38;5;241m=\u001b[39m values\u001b[38;5;241m.\u001b[39mastype(dtype, copy\u001b[38;5;241m=\u001b[39mcopy)\n\u001b[1;32m    186\u001b[0m \u001b[38;5;28;01melse\u001b[39;00m:\n\u001b[0;32m--> 187\u001b[0m     values \u001b[38;5;241m=\u001b[39m \u001b[43m_astype_nansafe\u001b[49m\u001b[43m(\u001b[49m\u001b[43mvalues\u001b[49m\u001b[43m,\u001b[49m\u001b[43m \u001b[49m\u001b[43mdtype\u001b[49m\u001b[43m,\u001b[49m\u001b[43m \u001b[49m\u001b[43mcopy\u001b[49m\u001b[38;5;241;43m=\u001b[39;49m\u001b[43mcopy\u001b[49m\u001b[43m)\u001b[49m\n\u001b[1;32m    189\u001b[0m \u001b[38;5;66;03m# in pandas we don't store numpy str dtypes, so convert to object\u001b[39;00m\n\u001b[1;32m    190\u001b[0m \u001b[38;5;28;01mif\u001b[39;00m \u001b[38;5;28misinstance\u001b[39m(dtype, np\u001b[38;5;241m.\u001b[39mdtype) \u001b[38;5;129;01mand\u001b[39;00m \u001b[38;5;28missubclass\u001b[39m(values\u001b[38;5;241m.\u001b[39mdtype\u001b[38;5;241m.\u001b[39mtype, \u001b[38;5;28mstr\u001b[39m):\n",
      "File \u001b[0;32m~/opt/anaconda3/lib/python3.8/site-packages/pandas/core/dtypes/astype.py:138\u001b[0m, in \u001b[0;36m_astype_nansafe\u001b[0;34m(arr, dtype, copy, skipna)\u001b[0m\n\u001b[1;32m    134\u001b[0m     \u001b[38;5;28;01mraise\u001b[39;00m \u001b[38;5;167;01mValueError\u001b[39;00m(msg)\n\u001b[1;32m    136\u001b[0m \u001b[38;5;28;01mif\u001b[39;00m copy \u001b[38;5;129;01mor\u001b[39;00m is_object_dtype(arr\u001b[38;5;241m.\u001b[39mdtype) \u001b[38;5;129;01mor\u001b[39;00m is_object_dtype(dtype):\n\u001b[1;32m    137\u001b[0m     \u001b[38;5;66;03m# Explicit copy, or required since NumPy can't view from / to object.\u001b[39;00m\n\u001b[0;32m--> 138\u001b[0m     \u001b[38;5;28;01mreturn\u001b[39;00m \u001b[43marr\u001b[49m\u001b[38;5;241;43m.\u001b[39;49m\u001b[43mastype\u001b[49m\u001b[43m(\u001b[49m\u001b[43mdtype\u001b[49m\u001b[43m,\u001b[49m\u001b[43m \u001b[49m\u001b[43mcopy\u001b[49m\u001b[38;5;241;43m=\u001b[39;49m\u001b[38;5;28;43;01mTrue\u001b[39;49;00m\u001b[43m)\u001b[49m\n\u001b[1;32m    140\u001b[0m \u001b[38;5;28;01mreturn\u001b[39;00m arr\u001b[38;5;241m.\u001b[39mastype(dtype, copy\u001b[38;5;241m=\u001b[39mcopy)\n",
      "\u001b[0;31mValueError\u001b[0m: could not convert string to float: '260 g/km'"
     ]
    }
   ],
   "source": [
    "df['fuel_consumption_g_km'] = df['fuel_consumption_g_km'].astype(float)"
   ]
  },
  {
   "cell_type": "code",
   "execution_count": 69,
   "id": "e9cadd36",
   "metadata": {},
   "outputs": [
    {
     "name": "stdout",
     "output_type": "stream",
     "text": [
      "['260 g/km' '225 g/km' '- (g/km)' ... '410 km Reichweite'\n",
      " '424 km Reichweite' '77 km Reichweite']\n",
      "223733\n",
      "1180\n"
     ]
    }
   ],
   "source": [
    "# Let's try to check fuel_consumption_g_km column to convert it to numerical:\n",
    "print(df['fuel_consumption_g_km'].unique())\n",
    "print(len(df['fuel_consumption_g_km']))\n",
    "print(len(df['fuel_consumption_g_km'].unique()))"
   ]
  },
  {
   "cell_type": "markdown",
   "id": "e5b48e31",
   "metadata": {},
   "source": [
    "So fuel_consumption_g_km has redundant values that must be cleaned and the following type convert won't work\n",
    "df['fuel_consumption_g_km'] = df['fuel_consumption_g_km'].astype(float)\n",
    "\n",
    "So let's try to clean it."
   ]
  },
  {
   "cell_type": "code",
   "execution_count": 70,
   "id": "4b12f9b1",
   "metadata": {},
   "outputs": [
    {
     "name": "stdout",
     "output_type": "stream",
     "text": [
      "Original unique values in 'fuel_consumption_g_km':\n",
      "['260 g/km' '225 g/km' '- (g/km)' ... '410 km Reichweite'\n",
      " '424 km Reichweite' '77 km Reichweite']\n",
      "Cleaned unique values in 'fuel_consumption_g_km':\n",
      "[391.0 46.0 327.0 484.0 100.0 247.0 304.0 303.0 279.0 306.0 280.0 283.0\n",
      " 282.0 288.0 307.0 300.0 281.0 284.0 308.0 51.0 289.0 359.0 453.0 570.0\n",
      " 458.0 56.0 499.0 574.0 502.0 592.0 545.0 399.0 417.0 398.0 533.0 91.0\n",
      " 598.0 425.0 547.0 433.0 406.0 348.0 346.0 354.0 63.0 230.0 321.0 312.0\n",
      " 260.0 298.0 245.0 190.0 320.0 60.0 40.0 400.0 50.0 540.0 42.0 500.0 57.0\n",
      " 440.0 610.0 490.0 210.0 460.0 240.0 305.0 310.0 451.0 74.0 62.0 55.0 52.0\n",
      " 519.0 454.0 44.0 49.0 47.0 48.0 58.0 464.0 450.0 504.0 394.0 59.0 506.0\n",
      " 68.0 200.0 409.0 615.0 411.0 480.0 467.0 524.0 465.0 32.0 233.0 231.0\n",
      " 226.0 229.0 228.0 270.0 234.0 242.0 203.0 232.0 227.0 54.0 61.0 45.0\n",
      " 120.0 389.0 250.0 385.0 285.0 396.0 531.0 301.0 337.0 330.0 67.0 338.0\n",
      " 66.0 64.0 65.0 350.0 331.0 341.0 362.0 443.0 405.0 110.0 352.0 429.0\n",
      " 254.0 35.0 514.0 492.0 375.0 145.0 130.0 123.0 127.0 126.0 150.0 155.0\n",
      " 135.0 339.0 315.0 75.0 415.0 442.0 436.0 513.0 215.0 302.0 256.0 258.0\n",
      " 535.0 340.0 470.0 33.0 41.0 412.0 410.0 424.0 77.0]\n",
      "counts after dropping redundant fuel consumtion values\n",
      "489\n",
      "168\n",
      "count before dropping redundant fuel consumtion values\n",
      "223733\n",
      "169\n",
      "ration of irredundant fuel consumption data:  0.0021856409202039933\n"
     ]
    }
   ],
   "source": [
    "# Displaying original unique values in 'fuel_consumption_g_km' column\n",
    "print(\"Original unique values in 'fuel_consumption_g_km':\")\n",
    "print(df['fuel_consumption_g_km'].unique())\n",
    "\n",
    "# Defining a function to clean the 'fuel_consumption_g_km' column\n",
    "def clean_fuel_consumption(value):\n",
    "    try:\n",
    "        if isinstance(value, str) and 'Reichweite' in value and 'k' not in value[:3]:\n",
    "            return float(value[:3])\n",
    "        return float(value)\n",
    "    except ValueError:\n",
    "        return None\n",
    "\n",
    "# Applying the cleaning function to the column using .loc to avoid SettingWithCopyWarning\n",
    "df.loc[:, 'fuel_consumption_g_km'] = df['fuel_consumption_g_km'].apply(clean_fuel_consumption)\n",
    "\n",
    "# Dropping rows where 'fuel_consumption_g_km' could not be converted (optional)\n",
    "df_no_fuel = df.dropna(subset=['fuel_consumption_g_km'])\n",
    "\n",
    "# Displaying cleaned unique values in 'fuel_consumption_g_km' column\n",
    "print(\"Cleaned unique values in 'fuel_consumption_g_km':\")\n",
    "print(df_no_fuel['fuel_consumption_g_km'].unique())\n",
    "\n",
    "print('counts after dropping redundant fuel consumtion values')\n",
    "print(len(df_no_fuel['fuel_consumption_g_km']))\n",
    "print(len(df_no_fuel['fuel_consumption_g_km'].unique()))\n",
    "print('count before dropping redundant fuel consumtion values')\n",
    "print(len(df['fuel_consumption_g_km']))\n",
    "print(len(df['fuel_consumption_g_km'].unique()))\n",
    "print('ration of irredundant fuel consumption data: ', len(df_no_fuel['fuel_consumption_g_km'])/len(df['fuel_consumption_g_km']))"
   ]
  },
  {
   "cell_type": "markdown",
   "id": "82956fab",
   "metadata": {},
   "source": [
    "#### NOTE.\n",
    "Since more than 99% of the entries for fuel_consumption_g_km has been redundant, we conclude not to consider this feature for our investigations. So we update our selected features:"
   ]
  },
  {
   "cell_type": "code",
   "execution_count": 71,
   "id": "04e1561f",
   "metadata": {},
   "outputs": [
    {
     "name": "stdout",
     "output_type": "stream",
     "text": [
      "['year', 'price', 'power_kw', 'mileage_in_km']\n",
      "['year', 'price', 'power_kw', 'mileage_in_km', 'brand', 'model']\n"
     ]
    }
   ],
   "source": [
    "numerical_cols.remove('fuel_consumption_g_km')\n",
    "print(numerical_cols)\n",
    "selected_cols = numerical_cols + categorical_cols\n",
    "print(selected_cols)"
   ]
  },
  {
   "cell_type": "code",
   "execution_count": 72,
   "id": "52cc32e7",
   "metadata": {
    "scrolled": true
   },
   "outputs": [
    {
     "name": "stdout",
     "output_type": "stream",
     "text": [
      "year 0 int64\n",
      "price 0 int64\n",
      "power_kw 0 float64\n",
      "mileage_in_km 0 float64\n",
      "brand 0 object\n",
      "model 0 object\n"
     ]
    }
   ],
   "source": [
    "for x in selected_cols:\n",
    "    print(x, df[x].isna().sum(), df[x].dtype)"
   ]
  },
  {
   "cell_type": "code",
   "execution_count": 73,
   "id": "39d58506",
   "metadata": {},
   "outputs": [
    {
     "name": "stdout",
     "output_type": "stream",
     "text": [
      "['year', 'price', 'power_kw', 'mileage_in_km', 'brand', 'model']\n"
     ]
    }
   ],
   "source": [
    "#optionally one could write the cleaned data with relevant cols\n",
    "#into a new file\n",
    "print(selected_cols)\n",
    "major_df = df[selected_cols]\n",
    "major_df.to_csv('clean_car_data.csv', index = False)"
   ]
  },
  {
   "cell_type": "markdown",
   "id": "9b82b0bd",
   "metadata": {},
   "source": [
    "### Anomolies and Outliars detection via matplotlib visualization\n",
    "For visual inspections, we plot digrams for the selected features"
   ]
  },
  {
   "cell_type": "code",
   "execution_count": 74,
   "id": "10fcd16a",
   "metadata": {},
   "outputs": [
    {
     "data": {
      "text/plain": [
       "Text(0.5, 1.0, 'Number Per Brand')"
      ]
     },
     "execution_count": 74,
     "metadata": {},
     "output_type": "execute_result"
    },
    {
     "data": {
      "image/png": "[encoded data removed]",
      "text/plain": [
       "<Figure size 1500x1500 with 1 Axes>"
      ]
     },
     "metadata": {},
     "output_type": "display_data"
    }
   ],
   "source": [
    "import matplotlib.pyplot as plt\n",
    "import seaborn as sns \n",
    "\n",
    "sns.set_style('ticks')\n",
    "#colors = sns.color_palette('pastel')\n",
    "plt.figure(figsize=(15,15))\n",
    "\n",
    "plt.barh(df['brand'].value_counts().index, df['brand'].value_counts().values)\n",
    "plt.xlabel('Number of Cars')\n",
    "plt.ylabel('brand')\n",
    "plt.title('Number Per Brand')"
   ]
  },
  {
   "cell_type": "code",
   "execution_count": 75,
   "id": "6ccda36d",
   "metadata": {},
   "outputs": [
    {
     "name": "stdout",
     "output_type": "stream",
     "text": [
      "brand\n",
      "volkswagen       30258\n",
      "mercedes-benz    24521\n",
      "audi             19475\n",
      "opel             18350\n",
      "bmw              17850\n",
      "ford             16774\n",
      "skoda            12734\n",
      "seat             10986\n",
      "toyota            7405\n",
      "renault           7193\n",
      "hyundai           5859\n",
      "peugeot           5166\n",
      "kia               5074\n",
      "fiat              4362\n",
      "mazda             3897\n",
      "mini              3758\n",
      "volvo             3685\n",
      "porsche           3502\n",
      "citroen           3454\n",
      "nissan            3308\n",
      "dacia             3022\n",
      "land-rover        2759\n",
      "jeep              1579\n",
      "alfa-romeo        1341\n",
      "jaguar            1205\n",
      "smart             1175\n",
      "mitsubishi         763\n",
      "honda              675\n",
      "maserati           581\n",
      "bentley            400\n",
      "ferrari            326\n",
      "ssangyong          296\n",
      "dodge              282\n",
      "lamborghini        278\n",
      "aston-martin       221\n",
      "saab               199\n",
      "daihatsu           180\n",
      "lada               163\n",
      "isuzu              156\n",
      "cadillac           119\n",
      "chevrolet          113\n",
      "lancia              96\n",
      "infiniti            86\n",
      "daewoo              52\n",
      "rover               36\n",
      "chrysler            18\n",
      "proton               1\n",
      "Name: count, dtype: int64\n",
      "0         alfa-romeo\n",
      "3         alfa-romeo\n",
      "4         alfa-romeo\n",
      "5         alfa-romeo\n",
      "6         alfa-romeo\n",
      "             ...    \n",
      "251071         volvo\n",
      "251072         volvo\n",
      "251073         volvo\n",
      "251075         volvo\n",
      "251076         volvo\n",
      "Name: brand, Length: 223733, dtype: object\n"
     ]
    }
   ],
   "source": [
    "print(df['brand'].value_counts())\n",
    "print(df['brand'])"
   ]
  },
  {
   "cell_type": "markdown",
   "id": "00300a3c",
   "metadata": {},
   "source": [
    "#### Note.\n",
    "From the above diagram we would like to consider brands whose count is more than 10000"
   ]
  },
  {
   "cell_type": "code",
   "execution_count": 76,
   "id": "d768e910",
   "metadata": {},
   "outputs": [
    {
     "name": "stdout",
     "output_type": "stream",
     "text": [
      "<class 'pandas.core.series.Series'>\n",
      "brand\n",
      "volkswagen       30258\n",
      "mercedes-benz    24521\n",
      "audi             19475\n",
      "opel             18350\n",
      "bmw              17850\n",
      "ford             16774\n",
      "skoda            12734\n",
      "seat             10986\n",
      "Name: count, dtype: int64\n",
      "150948\n",
      "223733\n",
      "0.67467919350297\n"
     ]
    }
   ],
   "source": [
    "bcount = df['brand'].value_counts()\n",
    "print(type(bcount))\n",
    "main_brands = bcount[bcount > 10000]\n",
    "new_df = df[df['brand'].isin(main_brands.index)]\n",
    "print(main_brands)\n",
    "print(len(new_df))\n",
    "print(len(df['brand']))\n",
    "print(len(new_df['brand'])/len(df['brand']))"
   ]
  },
  {
   "cell_type": "code",
   "execution_count": 77,
   "id": "e396180e",
   "metadata": {},
   "outputs": [
    {
     "name": "stderr",
     "output_type": "stream",
     "text": [
      "/var/folders/px/qy02cbjn2_s1svhmg7_fwh340000gq/T/ipykernel_3471/2218050945.py:2: SettingWithCopyWarning: \n",
      "A value is trying to be set on a copy of a slice from a DataFrame.\n",
      "Try using .loc[row_indexer,col_indexer] = value instead\n",
      "\n",
      "See the caveats in the documentation: https://pandas.pydata.org/pandas-docs/stable/user_guide/indexing.html#returning-a-view-versus-a-copy\n",
      "  new_df['brand'] = new_df['brand'].map({'volkswagen':0, 'mercedes-benz':1, 'audi':2, 'opel':3,\n"
     ]
    }
   ],
   "source": [
    "# Convert brand values from string into numerical\n",
    "new_df['brand'] = new_df['brand'].map({'volkswagen':0, 'mercedes-benz':1, 'audi':2, 'opel':3, \n",
    "                               'bmw':4, 'ford':5, 'skoda':6, 'seat':7 })"
   ]
  },
  {
   "cell_type": "code",
   "execution_count": 78,
   "id": "58b2c0bc",
   "metadata": {},
   "outputs": [
    {
     "data": {
      "text/plain": [
       "1714      2\n",
       "1715      2\n",
       "1716      2\n",
       "1717      2\n",
       "1718      2\n",
       "         ..\n",
       "246905    0\n",
       "246907    0\n",
       "246908    0\n",
       "246911    0\n",
       "246912    0\n",
       "Name: brand, Length: 150948, dtype: int64"
      ]
     },
     "execution_count": 78,
     "metadata": {},
     "output_type": "execute_result"
    }
   ],
   "source": [
    "new_df['brand']"
   ]
  },
  {
   "cell_type": "code",
   "execution_count": 79,
   "id": "d46aa72a",
   "metadata": {},
   "outputs": [
    {
     "name": "stdout",
     "output_type": "stream",
     "text": [
      "year int64\n",
      "price int64\n",
      "power_kw float64\n",
      "mileage_in_km float64\n",
      "brand int64\n",
      "model object\n"
     ]
    }
   ],
   "source": [
    "for x in selected_cols:\n",
    "    print(x, new_df[x].dtype)"
   ]
  },
  {
   "cell_type": "markdown",
   "id": "5fd55fa1",
   "metadata": {},
   "source": [
    "So our new data frame covers more than 67% of the cars listed."
   ]
  },
  {
   "cell_type": "code",
   "execution_count": 80,
   "id": "1802c4f4",
   "metadata": {},
   "outputs": [
    {
     "data": {
      "text/plain": [
       "Text(0.5, 1.0, 'Number Per Year')"
      ]
     },
     "execution_count": 80,
     "metadata": {},
     "output_type": "execute_result"
    },
    {
     "data": {
      "image/png": "[encoded data removed]",
      "text/plain": [
       "<Figure size 1500x1500 with 1 Axes>"
      ]
     },
     "metadata": {},
     "output_type": "display_data"
    }
   ],
   "source": [
    "import matplotlib.pyplot as plt\n",
    "import seaborn as sns \n",
    "\n",
    "sns.set_style('ticks')\n",
    "plt.figure(figsize=(15,15))\n",
    "\n",
    "year_counts = new_df['year'].value_counts().sort_index()\n",
    "plt.barh(year_counts.index, year_counts.values, color='skyblue')\n",
    "plt.xlabel('Number of Cars')\n",
    "plt.ylabel('year')\n",
    "plt.title('Number Per Year')\n",
    "\n"
   ]
  },
  {
   "cell_type": "code",
   "execution_count": 81,
   "id": "02b248ca",
   "metadata": {},
   "outputs": [
    {
     "name": "stdout",
     "output_type": "stream",
     "text": [
      "year\n",
      "2019    14984\n",
      "2018    13813\n",
      "2017    11540\n",
      "2016     9863\n",
      "2023     9645\n",
      "2020     9581\n",
      "2015     9066\n",
      "2022     8216\n",
      "2014     7776\n",
      "2021     7584\n",
      "2013     7091\n",
      "2012     6107\n",
      "2011     5530\n",
      "Name: count, dtype: int64\n",
      "150948\n",
      "120796\n",
      "0.8002490924026817\n"
     ]
    }
   ],
   "source": [
    "# the digram suggets that there are not enough listings for old cars. \n",
    "# So we update our listing to years with more than 5000 listings\n",
    "ycount = new_df['year'].value_counts()\n",
    "#print(ycount)\n",
    "\n",
    "main_years = ycount[ycount > 5000]\n",
    "print(main_years)\n",
    "new_ydf = new_df[new_df['year'].isin(main_years.index)]\n",
    "#print(new_ydf)\n",
    "\n",
    "print(len(new_df['year']))\n",
    "print(len(new_ydf['year']))\n",
    "print(len(new_ydf['year'])/len(new_df['year']))"
   ]
  },
  {
   "cell_type": "markdown",
   "id": "9d0f19ec",
   "metadata": {},
   "source": [
    "So a big majority of the previous data (80%) is extracted  "
   ]
  },
  {
   "cell_type": "code",
   "execution_count": 82,
   "id": "d3f56564",
   "metadata": {},
   "outputs": [
    {
     "data": {
      "text/plain": [
       "Text(0.5, 1.0, 'Average Price Per Year')"
      ]
     },
     "execution_count": 82,
     "metadata": {},
     "output_type": "execute_result"
    },
    {
     "data": {
      "image/png": "[encoded data removed]",
      "text/plain": [
       "<Figure size 1500x500 with 1 Axes>"
      ]
     },
     "metadata": {},
     "output_type": "display_data"
    }
   ],
   "source": [
    "#plotting a diagram for price per brands\n",
    "YearPrice = new_ydf[['year', 'price']].groupby('year').mean().sort_index()\n",
    "\n",
    "plt.figure(figsize=(15,5))\n",
    "plt.barh(YearPrice.index, YearPrice['price'], color='skyblue')\n",
    "plt.xlabel('Average Price (EUR)')\n",
    "plt.ylabel('Year')\n",
    "plt.title('Average Price Per Year')"
   ]
  },
  {
   "cell_type": "code",
   "execution_count": 83,
   "id": "5ec57716",
   "metadata": {},
   "outputs": [
    {
     "data": {
      "text/plain": [
       "Text(0.5, 1.0, 'Average Price Per Brand')"
      ]
     },
     "execution_count": 83,
     "metadata": {},
     "output_type": "execute_result"
    },
    {
     "data": {
      "image/png": "[encoded data removed]",
      "text/plain": [
       "<Figure size 1000x2000 with 1 Axes>"
      ]
     },
     "metadata": {},
     "output_type": "display_data"
    }
   ],
   "source": [
    "# Digram for price per brand\n",
    "brand_price = new_ydf[['brand', 'price']].groupby('brand').mean()\n",
    "\n",
    "plt.figure(figsize=(10,20))\n",
    "plt.barh(brand_price.index, brand_price['price'], color = 'skyblue')\n",
    "plt.xlabel('Average Price (EUR)')\n",
    "plt.ylabel('Brand')\n",
    "plt.title('Average Price Per Brand')"
   ]
  },
  {
   "cell_type": "code",
   "execution_count": 84,
   "id": "6d2021d1",
   "metadata": {},
   "outputs": [
    {
     "name": "stderr",
     "output_type": "stream",
     "text": [
      "/var/folders/px/qy02cbjn2_s1svhmg7_fwh340000gq/T/ipykernel_3471/1687176560.py:25: SettingWithCopyWarning: \n",
      "A value is trying to be set on a copy of a slice from a DataFrame.\n",
      "Try using .loc[row_indexer,col_indexer] = value instead\n",
      "\n",
      "See the caveats in the documentation: https://pandas.pydata.org/pandas-docs/stable/user_guide/indexing.html#returning-a-view-versus-a-copy\n",
      "  new_ydf['price_range'] = pd.cut(new_ydf['price'], bins=bins, labels=labels, right=False)\n"
     ]
    },
    {
     "data": {
      "image/png": "[encoded data removed]",
      "text/plain": [
       "<Figure size 1000x600 with 1 Axes>"
      ]
     },
     "metadata": {},
     "output_type": "display_data"
    }
   ],
   "source": [
    "# Plot number of cars per price range\n",
    "\n",
    "# Range of price\n",
    "min_price = 0\n",
    "max_price = 100000\n",
    "steps = 5000\n",
    "\n",
    "# Bins and labels\n",
    "bins = []\n",
    "labels = []\n",
    "current_price = min_price\n",
    "\n",
    "while current_price < max_price:\n",
    "    bins.append(current_price)\n",
    "    if current_price + steps >= max_price:\n",
    "        labels.append(f'{current_price}+')\n",
    "    else:\n",
    "        labels.append(f'{current_price}-{current_price + steps}')\n",
    "    current_price += steps\n",
    "\n",
    "# One last bin covering everything above max_price\n",
    "bins.append(float('inf'))\n",
    "\n",
    "# Categorize prices into bins\n",
    "new_ydf['price_range'] = pd.cut(new_ydf['price'], bins=bins, labels=labels, right=False)\n",
    "\n",
    "# Count the number of cars in each price range\n",
    "price_range_counts = new_ydf['price_range'].value_counts().sort_index()\n",
    "\n",
    "# Plot the data\n",
    "plt.figure(figsize=(10, 6))\n",
    "price_range_counts.plot(kind='bar', color='skyblue')\n",
    "plt.title('Number of Cars per Price Range')\n",
    "plt.xlabel('Price Range')\n",
    "plt.ylabel('Number of Cars')\n",
    "plt.xticks(rotation=45)\n",
    "plt.grid(axis='y')\n",
    "\n",
    "# Show the plot\n",
    "plt.show()"
   ]
  },
  {
   "cell_type": "code",
   "execution_count": 86,
   "id": "286da83b",
   "metadata": {},
   "outputs": [
    {
     "data": {
      "text/html": [
       "<div>\n",
       "<style scoped>\n",
       "    .dataframe tbody tr th:only-of-type {\n",
       "        vertical-align: middle;\n",
       "    }\n",
       "\n",
       "    .dataframe tbody tr th {\n",
       "        vertical-align: top;\n",
       "    }\n",
       "\n",
       "    .dataframe thead th {\n",
       "        text-align: right;\n",
       "    }\n",
       "</style>\n",
       "<table border=\"1\" class=\"dataframe\">\n",
       "  <thead>\n",
       "    <tr style=\"text-align: right;\">\n",
       "      <th></th>\n",
       "      <th>brand</th>\n",
       "      <th>model</th>\n",
       "      <th>color</th>\n",
       "      <th>registration_date</th>\n",
       "      <th>year</th>\n",
       "      <th>price</th>\n",
       "      <th>power_kw</th>\n",
       "      <th>power_ps</th>\n",
       "      <th>transmission_type</th>\n",
       "      <th>fuel_type</th>\n",
       "      <th>fuel_consumption_l_100km</th>\n",
       "      <th>fuel_consumption_g_km</th>\n",
       "      <th>mileage_in_km</th>\n",
       "      <th>offer_description</th>\n",
       "      <th>price_range</th>\n",
       "    </tr>\n",
       "  </thead>\n",
       "  <tbody>\n",
       "    <tr>\n",
       "      <th>5296</th>\n",
       "      <td>2</td>\n",
       "      <td>Audi A3</td>\n",
       "      <td>blue</td>\n",
       "      <td>10/2011</td>\n",
       "      <td>2011</td>\n",
       "      <td>9900</td>\n",
       "      <td>103.0</td>\n",
       "      <td>140</td>\n",
       "      <td>Manual</td>\n",
       "      <td>Diesel</td>\n",
       "      <td>5,1 l/100 km</td>\n",
       "      <td>NaN</td>\n",
       "      <td>119000.0</td>\n",
       "      <td>2.0 TDI Ambition (103kW) (8P1)</td>\n",
       "      <td>5000-10000</td>\n",
       "    </tr>\n",
       "    <tr>\n",
       "      <th>5298</th>\n",
       "      <td>2</td>\n",
       "      <td>Audi TT</td>\n",
       "      <td>blue</td>\n",
       "      <td>05/2011</td>\n",
       "      <td>2011</td>\n",
       "      <td>9290</td>\n",
       "      <td>118.0</td>\n",
       "      <td>160</td>\n",
       "      <td>Manual</td>\n",
       "      <td>Petrol</td>\n",
       "      <td>6,4 l/100 km</td>\n",
       "      <td>NaN</td>\n",
       "      <td>184574.0</td>\n",
       "      <td>1.8 TFSI Coupe*Xenon*Leder*Alus*Top</td>\n",
       "      <td>5000-10000</td>\n",
       "    </tr>\n",
       "    <tr>\n",
       "      <th>5299</th>\n",
       "      <td>2</td>\n",
       "      <td>Audi A3</td>\n",
       "      <td>blue</td>\n",
       "      <td>02/2011</td>\n",
       "      <td>2011</td>\n",
       "      <td>9499</td>\n",
       "      <td>77.0</td>\n",
       "      <td>105</td>\n",
       "      <td>Manual</td>\n",
       "      <td>Diesel</td>\n",
       "      <td>4,2 l/100 km</td>\n",
       "      <td>NaN</td>\n",
       "      <td>114860.0</td>\n",
       "      <td>1.6 TDI Ambition/2.Hd/SportF/TSGS/PDC/BT/SHZ/</td>\n",
       "      <td>5000-10000</td>\n",
       "    </tr>\n",
       "    <tr>\n",
       "      <th>5300</th>\n",
       "      <td>2</td>\n",
       "      <td>Audi A3</td>\n",
       "      <td>blue</td>\n",
       "      <td>05/2011</td>\n",
       "      <td>2011</td>\n",
       "      <td>11990</td>\n",
       "      <td>103.0</td>\n",
       "      <td>140</td>\n",
       "      <td>Automatic</td>\n",
       "      <td>Diesel</td>\n",
       "      <td>5,6 l/100 km</td>\n",
       "      <td>NaN</td>\n",
       "      <td>205013.0</td>\n",
       "      <td>2.0 TDI *Leder*Automatik*Tempomat*Shz*PDC*</td>\n",
       "      <td>10000-15000</td>\n",
       "    </tr>\n",
       "    <tr>\n",
       "      <th>5301</th>\n",
       "      <td>2</td>\n",
       "      <td>Audi A6</td>\n",
       "      <td>blue</td>\n",
       "      <td>11/2011</td>\n",
       "      <td>2011</td>\n",
       "      <td>10900</td>\n",
       "      <td>150.0</td>\n",
       "      <td>204</td>\n",
       "      <td>Manual</td>\n",
       "      <td>Diesel</td>\n",
       "      <td>5,3 l/100 km</td>\n",
       "      <td>NaN</td>\n",
       "      <td>192350.0</td>\n",
       "      <td>Avant 3.0 V6 *Alcantara*MMI*Xenon*Rollo*</td>\n",
       "      <td>10000-15000</td>\n",
       "    </tr>\n",
       "    <tr>\n",
       "      <th>...</th>\n",
       "      <td>...</td>\n",
       "      <td>...</td>\n",
       "      <td>...</td>\n",
       "      <td>...</td>\n",
       "      <td>...</td>\n",
       "      <td>...</td>\n",
       "      <td>...</td>\n",
       "      <td>...</td>\n",
       "      <td>...</td>\n",
       "      <td>...</td>\n",
       "      <td>...</td>\n",
       "      <td>...</td>\n",
       "      <td>...</td>\n",
       "      <td>...</td>\n",
       "      <td>...</td>\n",
       "    </tr>\n",
       "    <tr>\n",
       "      <th>246898</th>\n",
       "      <td>0</td>\n",
       "      <td>Volkswagen Caddy</td>\n",
       "      <td>orange</td>\n",
       "      <td>05/2023</td>\n",
       "      <td>2023</td>\n",
       "      <td>28988</td>\n",
       "      <td>75.0</td>\n",
       "      <td>102</td>\n",
       "      <td>Manual</td>\n",
       "      <td>Diesel</td>\n",
       "      <td>4,6 l/100 km</td>\n",
       "      <td>NaN</td>\n",
       "      <td>10.0</td>\n",
       "      <td>Maxi 2.0 TDI 102 Klima CompA HFT</td>\n",
       "      <td>25000-30000</td>\n",
       "    </tr>\n",
       "    <tr>\n",
       "      <th>246899</th>\n",
       "      <td>0</td>\n",
       "      <td>Volkswagen T-Cross</td>\n",
       "      <td>orange</td>\n",
       "      <td>01/2023</td>\n",
       "      <td>2023</td>\n",
       "      <td>29077</td>\n",
       "      <td>81.0</td>\n",
       "      <td>110</td>\n",
       "      <td>Manual</td>\n",
       "      <td>Petrol</td>\n",
       "      <td>4,8 l/100 km</td>\n",
       "      <td>NaN</td>\n",
       "      <td>1869.0</td>\n",
       "      <td>1.0 TSI R-Line | NAVI | ACC | LED | PDC</td>\n",
       "      <td>25000-30000</td>\n",
       "    </tr>\n",
       "    <tr>\n",
       "      <th>246900</th>\n",
       "      <td>0</td>\n",
       "      <td>Volkswagen Caddy</td>\n",
       "      <td>orange</td>\n",
       "      <td>05/2023</td>\n",
       "      <td>2023</td>\n",
       "      <td>28780</td>\n",
       "      <td>75.0</td>\n",
       "      <td>102</td>\n",
       "      <td>Manual</td>\n",
       "      <td>Diesel</td>\n",
       "      <td>4,6 l/100 km</td>\n",
       "      <td>NaN</td>\n",
       "      <td>10.0</td>\n",
       "      <td>Cargo Maxi 2.0 TDI 102 Klima CompA HFT 75 kW (...</td>\n",
       "      <td>25000-30000</td>\n",
       "    </tr>\n",
       "    <tr>\n",
       "      <th>246905</th>\n",
       "      <td>0</td>\n",
       "      <td>Volkswagen Transporter</td>\n",
       "      <td>orange</td>\n",
       "      <td>02/2023</td>\n",
       "      <td>2023</td>\n",
       "      <td>28788</td>\n",
       "      <td>81.0</td>\n",
       "      <td>110</td>\n",
       "      <td>Manual</td>\n",
       "      <td>Diesel</td>\n",
       "      <td>7,7 l/100 km</td>\n",
       "      <td>NaN</td>\n",
       "      <td>5.0</td>\n",
       "      <td>T6.1 2.0 TDI Pritsche Doppelkabine lang</td>\n",
       "      <td>25000-30000</td>\n",
       "    </tr>\n",
       "    <tr>\n",
       "      <th>246907</th>\n",
       "      <td>0</td>\n",
       "      <td>Volkswagen T-Cross</td>\n",
       "      <td>orange</td>\n",
       "      <td>04/2023</td>\n",
       "      <td>2023</td>\n",
       "      <td>28420</td>\n",
       "      <td>81.0</td>\n",
       "      <td>110</td>\n",
       "      <td>Manual</td>\n",
       "      <td>Petrol</td>\n",
       "      <td>5,8 l/100 km</td>\n",
       "      <td>NaN</td>\n",
       "      <td>4900.0</td>\n",
       "      <td>ACTIVE 1.0 TSI 6-G. *LED*Cam*ACC*PDC* FLA KAM</td>\n",
       "      <td>25000-30000</td>\n",
       "    </tr>\n",
       "  </tbody>\n",
       "</table>\n",
       "<p>89728 rows × 15 columns</p>\n",
       "</div>"
      ],
      "text/plain": [
       "        brand                   model   color registration_date  year  price  \\\n",
       "5296        2                 Audi A3    blue           10/2011  2011   9900   \n",
       "5298        2                 Audi TT    blue           05/2011  2011   9290   \n",
       "5299        2                 Audi A3    blue           02/2011  2011   9499   \n",
       "5300        2                 Audi A3    blue           05/2011  2011  11990   \n",
       "5301        2                 Audi A6    blue           11/2011  2011  10900   \n",
       "...       ...                     ...     ...               ...   ...    ...   \n",
       "246898      0        Volkswagen Caddy  orange           05/2023  2023  28988   \n",
       "246899      0      Volkswagen T-Cross  orange           01/2023  2023  29077   \n",
       "246900      0        Volkswagen Caddy  orange           05/2023  2023  28780   \n",
       "246905      0  Volkswagen Transporter  orange           02/2023  2023  28788   \n",
       "246907      0      Volkswagen T-Cross  orange           04/2023  2023  28420   \n",
       "\n",
       "        power_kw power_ps transmission_type fuel_type  \\\n",
       "5296       103.0      140            Manual    Diesel   \n",
       "5298       118.0      160            Manual    Petrol   \n",
       "5299        77.0      105            Manual    Diesel   \n",
       "5300       103.0      140         Automatic    Diesel   \n",
       "5301       150.0      204            Manual    Diesel   \n",
       "...          ...      ...               ...       ...   \n",
       "246898      75.0      102            Manual    Diesel   \n",
       "246899      81.0      110            Manual    Petrol   \n",
       "246900      75.0      102            Manual    Diesel   \n",
       "246905      81.0      110            Manual    Diesel   \n",
       "246907      81.0      110            Manual    Petrol   \n",
       "\n",
       "       fuel_consumption_l_100km fuel_consumption_g_km  mileage_in_km  \\\n",
       "5296               5,1 l/100 km                   NaN       119000.0   \n",
       "5298               6,4 l/100 km                   NaN       184574.0   \n",
       "5299               4,2 l/100 km                   NaN       114860.0   \n",
       "5300               5,6 l/100 km                   NaN       205013.0   \n",
       "5301               5,3 l/100 km                   NaN       192350.0   \n",
       "...                         ...                   ...            ...   \n",
       "246898             4,6 l/100 km                   NaN           10.0   \n",
       "246899             4,8 l/100 km                   NaN         1869.0   \n",
       "246900             4,6 l/100 km                   NaN           10.0   \n",
       "246905             7,7 l/100 km                   NaN            5.0   \n",
       "246907             5,8 l/100 km                   NaN         4900.0   \n",
       "\n",
       "                                        offer_description  price_range  \n",
       "5296                       2.0 TDI Ambition (103kW) (8P1)   5000-10000  \n",
       "5298                  1.8 TFSI Coupe*Xenon*Leder*Alus*Top   5000-10000  \n",
       "5299        1.6 TDI Ambition/2.Hd/SportF/TSGS/PDC/BT/SHZ/   5000-10000  \n",
       "5300           2.0 TDI *Leder*Automatik*Tempomat*Shz*PDC*  10000-15000  \n",
       "5301             Avant 3.0 V6 *Alcantara*MMI*Xenon*Rollo*  10000-15000  \n",
       "...                                                   ...          ...  \n",
       "246898                   Maxi 2.0 TDI 102 Klima CompA HFT  25000-30000  \n",
       "246899            1.0 TSI R-Line | NAVI | ACC | LED | PDC  25000-30000  \n",
       "246900  Cargo Maxi 2.0 TDI 102 Klima CompA HFT 75 kW (...  25000-30000  \n",
       "246905            T6.1 2.0 TDI Pritsche Doppelkabine lang  25000-30000  \n",
       "246907      ACTIVE 1.0 TSI 6-G. *LED*Cam*ACC*PDC* FLA KAM  25000-30000  \n",
       "\n",
       "[89728 rows x 15 columns]"
      ]
     },
     "execution_count": 86,
     "metadata": {},
     "output_type": "execute_result"
    }
   ],
   "source": [
    "# So we only consider the price range 5000-30000\n",
    "filterd_df = new_ydf.query('5000 <= price <=30000')\n",
    "filterd_df"
   ]
  },
  {
   "cell_type": "markdown",
   "id": "195da790",
   "metadata": {},
   "source": [
    "### 1-2-Featuer Engineering"
   ]
  },
  {
   "cell_type": "code",
   "execution_count": 87,
   "id": "6776d970",
   "metadata": {},
   "outputs": [
    {
     "name": "stdout",
     "output_type": "stream",
     "text": [
      "['year', 'price', 'power_kw', 'mileage_in_km']\n",
      "['brand', 'model']\n"
     ]
    }
   ],
   "source": [
    "print(numerical_cols)\n",
    "print(categorical_cols)"
   ]
  },
  {
   "cell_type": "code",
   "execution_count": 89,
   "id": "90468eaf",
   "metadata": {},
   "outputs": [
    {
     "name": "stdout",
     "output_type": "stream",
     "text": [
      "389\n",
      "21\n"
     ]
    }
   ],
   "source": [
    "# we check how the data is distributed per model:\n",
    "model_count = filterd_df['model'].value_counts()\n",
    "print(len(model_count))\n",
    "major_models = model_count[model_count > 1000]\n",
    "print(len(major_models))"
   ]
  },
  {
   "cell_type": "markdown",
   "id": "0f170edc",
   "metadata": {},
   "source": [
    "Since only 29 out of 484 models have more than 1000 listing. \n",
    "Therefore we drop model from our feature list"
   ]
  },
  {
   "cell_type": "code",
   "execution_count": 90,
   "id": "1728ee13",
   "metadata": {
    "scrolled": true
   },
   "outputs": [
    {
     "name": "stdout",
     "output_type": "stream",
     "text": [
      "['year', 'price', 'power_kw', 'mileage_in_km', 'brand']\n"
     ]
    }
   ],
   "source": [
    "categorical_cols = ['brand']\n",
    "selected_cols = numerical_cols + categorical_cols\n",
    "print(selected_cols)"
   ]
  },
  {
   "cell_type": "code",
   "execution_count": 91,
   "id": "3f0275ee",
   "metadata": {},
   "outputs": [
    {
     "name": "stdout",
     "output_type": "stream",
     "text": [
      "        year  price  power_kw  mileage_in_km  brand\n",
      "5296    2011   9900     103.0       119000.0      2\n",
      "5298    2011   9290     118.0       184574.0      2\n",
      "5299    2011   9499      77.0       114860.0      2\n",
      "5300    2011  11990     103.0       205013.0      2\n",
      "5301    2011  10900     150.0       192350.0      2\n",
      "...      ...    ...       ...            ...    ...\n",
      "246898  2023  28988      75.0           10.0      0\n",
      "246899  2023  29077      81.0         1869.0      0\n",
      "246900  2023  28780      75.0           10.0      0\n",
      "246905  2023  28788      81.0            5.0      0\n",
      "246907  2023  28420      81.0         4900.0      0\n",
      "\n",
      "[89728 rows x 5 columns]\n"
     ]
    }
   ],
   "source": [
    "# Finally we extract our new data frame out of the selected features\n",
    "selected_df = filterd_df[selected_cols]\n",
    "print(selected_df)"
   ]
  },
  {
   "cell_type": "code",
   "execution_count": 92,
   "id": "a45e8d15",
   "metadata": {},
   "outputs": [
    {
     "name": "stderr",
     "output_type": "stream",
     "text": [
      "/var/folders/px/qy02cbjn2_s1svhmg7_fwh340000gq/T/ipykernel_3471/4197392231.py:2: SettingWithCopyWarning: \n",
      "A value is trying to be set on a copy of a slice from a DataFrame.\n",
      "Try using .loc[row_indexer,col_indexer] = value instead\n",
      "\n",
      "See the caveats in the documentation: https://pandas.pydata.org/pandas-docs/stable/user_guide/indexing.html#returning-a-view-versus-a-copy\n",
      "  selected_df['price'] = pd.to_numeric(selected_df['price'], errors='coerce')\n"
     ]
    }
   ],
   "source": [
    "# Convert 'price' column to numeric\n",
    "selected_df['price'] = pd.to_numeric(selected_df['price'], errors='coerce')"
   ]
  },
  {
   "cell_type": "code",
   "execution_count": 93,
   "id": "ce435c30",
   "metadata": {},
   "outputs": [],
   "source": [
    "# writing down the final data into a new csv file\n",
    "selected_df.to_csv('final_car_data.csv', index = False)"
   ]
  },
  {
   "cell_type": "code",
   "execution_count": null,
   "id": "bc218053",
   "metadata": {},
   "outputs": [],
   "source": []
  }
 ],
 "metadata": {
  "kernelspec": {
   "display_name": "Python 3 (ipykernel)",
   "language": "python",
   "name": "python3"
  },
  "language_info": {
   "codemirror_mode": {
    "name": "ipython",
    "version": 3
   },
   "file_extension": ".py",
   "mimetype": "text/x-python",
   "name": "python",
   "nbconvert_exporter": "python",
   "pygments_lexer": "ipython3",
   "version": "3.8.18"
  }
 },
 "nbformat": 4,
 "nbformat_minor": 5
}
